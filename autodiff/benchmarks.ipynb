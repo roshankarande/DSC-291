{
 "cells": [
  {
   "cell_type": "code",
   "execution_count": null,
   "metadata": {},
   "outputs": [],
   "source": [
    "import jax.numpy as jnp\n",
    "from jax import grad, jit, vmap\n",
    "from jax import random,jacfwd,jacrev\n",
    "import torch \n",
    "import numpy as np\n",
    "import jax"
   ]
  },
  {
   "cell_type": "code",
   "execution_count": null,
   "metadata": {},
   "outputs": [],
   "source": [
    "X = torch.randn((1024,))"
   ]
  },
  {
   "cell_type": "code",
   "execution_count": null,
   "metadata": {},
   "outputs": [],
   "source": [
    "def torch_fn(x):\n",
    "    return torch.log(torch.sum(torch.exp(x)))\n",
    "\n",
    "%timeit -n 100 -r 10 torch.autograd.functional.jacobian(torch_fn, X, vectorize=False)\n",
    "%timeit -n 100 -r 10 torch.autograd.functional.jacobian(torch_fn, X, vectorize=True)  \n",
    "\n",
    "torch_fn(X)"
   ]
  },
  {
   "cell_type": "code",
   "execution_count": null,
   "metadata": {},
   "outputs": [],
   "source": [
    "def jax_fn(x):\n",
    "    return jnp.log(jnp.sum(jnp.exp(x)))\n",
    "x_jnp = jnp.array(X)\n",
    "\n",
    "f = jax.jacrev(jax_fn)\n",
    "f_jit = jit(jax.jacrev(jax_fn))\n",
    "\n",
    "# jnp.sum(f(x_jnp) - jax.grad(jax_fn)(x_jnp))\n",
    "\n",
    "%timeit -n 100 -r 10 jax.grad(jax_fn)(x_jnp))\n",
    "%timeit -n 100 -r 10 f(x_jnp)\n",
    "%timeit -n 100 -r 10 f_jit(x_jnp)"
   ]
  },
  {
   "cell_type": "code",
   "execution_count": null,
   "metadata": {},
   "outputs": [],
   "source": [
    "def torch_fn1(X):\n",
    "  return torch.sum(torch.mul(X,X))\n",
    "  \n",
    "X = torch.randn((1000,))\n",
    "%timeit -n 100 -r 10 torch.autograd.functional.hessian(torch_fn1, X, vectorize=False)\n",
    "%timeit -n 100 -r 10 torch.autograd.functional.hessian(torch_fn1, X, vectorize=True)"
   ]
  },
  {
   "cell_type": "code",
   "execution_count": null,
   "metadata": {},
   "outputs": [],
   "source": [
    "def jax_fn1(X):\n",
    "  return jnp.sum(jnp.square(X))\n",
    "\n",
    "jit_jax_fn1 = jit(jacfwd(jacrev(jax_fn1)))\n",
    "\n",
    "jnp_x = jnp.array(X)\n",
    "%timeit jit_jax_fn(jnp_x).block_until_ready()"
   ]
  }
 ],
 "metadata": {
  "language_info": {
   "name": "python"
  },
  "orig_nbformat": 4
 },
 "nbformat": 4,
 "nbformat_minor": 2
}
