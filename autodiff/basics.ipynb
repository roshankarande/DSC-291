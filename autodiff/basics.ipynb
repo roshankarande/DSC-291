{
 "cells": [
  {
   "cell_type": "markdown",
   "metadata": {},
   "source": [
    "## Floating point arithmetic\n",
    "\n",
    "* Cannot represent arbitrary real numbers\n",
    "* Relatively scaled (more dense around 0)\n",
    "* Generally, you have 16 digits of accuracy in (64-bit) floating point operations. To measure this, we define machine epsilon as the value by which 1 + E = 1"
   ]
  },
  {
   "cell_type": "code",
   "execution_count": null,
   "metadata": {},
   "outputs": [],
   "source": [
    "eps(Float64)\n",
    "eps(0.0)\n",
    "eps(1.0)"
   ]
  },
  {
   "cell_type": "code",
   "execution_count": 2,
   "metadata": {},
   "outputs": [
    {
     "name": "stdout",
     "output_type": "stream",
     "text": [
      "ϵ = 4.719460218515291e-11\n",
      "1 + ϵ = 1.0000000000471947\n"
     ]
    },
    {
     "data": {
      "text/plain": [
       "1.0000000000471947"
      ]
     },
     "metadata": {},
     "output_type": "display_data"
    }
   ],
   "source": [
    "ϵ = 1e-10rand()\n",
    "@show ϵ\n",
    "@show (1+ϵ)"
   ]
  }
 ],
 "metadata": {
  "kernelspec": {
   "display_name": "Julia 1.7.2",
   "language": "julia",
   "name": "julia-1.7"
  },
  "language_info": {
   "file_extension": ".jl",
   "mimetype": "application/julia",
   "name": "julia",
   "version": "1.7.2"
  },
  "orig_nbformat": 4
 },
 "nbformat": 4,
 "nbformat_minor": 2
}
