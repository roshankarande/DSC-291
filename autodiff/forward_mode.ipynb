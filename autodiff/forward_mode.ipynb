{
 "cells": [
  {
   "cell_type": "markdown",
   "metadata": {},
   "source": [
    "# Forwad Diff Implementation"
   ]
  },
  {
   "cell_type": "code",
   "execution_count": 2,
   "metadata": {},
   "outputs": [],
   "source": [
    "# Initialization\n",
    "using LinearAlgebra, StaticArrays\n",
    "import Base: +, -, *, /"
   ]
  },
  {
   "cell_type": "markdown",
   "metadata": {},
   "source": [
    "Let us define a struct that tracks the value along with its derivative"
   ]
  },
  {
   "cell_type": "code",
   "execution_count": 7,
   "metadata": {},
   "outputs": [],
   "source": [
    "struct Dual{T<:Real} <: Real\n",
    "    x::T\n",
    "    ϵ::T\n",
    "end\n",
    "\n",
    "# Constructors for our struct Dual\n",
    "Dual(x::S, d::T) where {S<:Real, T<:Real} = Dual{promote_type(S, T)}(x, d)\n",
    "Dual(x::Real) = Dual(x, zero(x))\n",
    "Dual{T}(x::Real) where {T} = Dual(T(x), zero(T))\n",
    "\n",
    "# To make the output beautiful\n",
    "function Base.show(io::IO, d::Dual)\n",
    "    if signbit(d.ϵ)\n",
    "        print(io, d.x, \" - \", -d.ϵ, \"ϵ\")\n",
    "    else\n",
    "        print(io, d.x, \" + \", d.ϵ, \"ϵ\")\n",
    "    end\n",
    "end"
   ]
  },
  {
   "cell_type": "code",
   "execution_count": 5,
   "metadata": {},
   "outputs": [
    {
     "data": {
      "text/plain": [
       "/ (generic function with 112 methods)"
      ]
     },
     "metadata": {},
     "output_type": "display_data"
    }
   ],
   "source": [
    "# Elementary algebraic operations on dual numbers\n",
    "\n",
    "a::Dual + b::Dual = Dual(a.x + b.x, a.ϵ + b.ϵ)\n",
    "a::Dual - b::Dual = Dual(a.x - b.x, a.ϵ - b.ϵ)\n",
    "a::Dual * b::Dual = Dual(a.x * b.x, b.x * a.ϵ + a.x * b.ϵ)\n",
    "a::Dual / b::Dual = Dual(a.x / b.x, (a.ϵ*b.x - a.x*b.ϵ) / b.x^2)\n"
   ]
  },
  {
   "cell_type": "code",
   "execution_count": 6,
   "metadata": {},
   "outputs": [],
   "source": [
    "# Let us define a few primitives\n",
    "Base.sin(d::Dual) = Dual(sin(d.x), d.ϵ * cos(d.x))\n",
    "Base.cos(d::Dual) = Dual(cos(d.x), - d.ϵ * sin(d.x))"
   ]
  },
  {
   "cell_type": "code",
   "execution_count": 8,
   "metadata": {},
   "outputs": [],
   "source": [
    "# To ensure compatibility between duals of different types, and between duals and reals\n",
    "\n",
    "Base.convert(::Type{Dual{T}}, d::Dual) where T = Dual(convert(T, d.x), convert(T, d.ϵ))\n",
    "Base.convert(::Type{Dual{T}}, d::Real) where T = Dual(convert(T, d), zero(T))\n",
    "Base.promote_rule(::Type{Dual{T}}, ::Type{R}) where {T,R} = Dual{promote_type(T,R)}\n",
    "Base.promote_rule(::Type{Dual{T}}, ::Type{Dual{R}}) where {T<:Real, R<:Real} = Dual{promote_type(T,R)}"
   ]
  },
  {
   "cell_type": "markdown",
   "metadata": {},
   "source": [
    "Now let us define an arbitrary function in Julia and see what happens when we call it with some argument and pass duals to it"
   ]
  },
  {
   "cell_type": "code",
   "execution_count": 11,
   "metadata": {},
   "outputs": [
    {
     "data": {
      "text/plain": [
       "25.0 + 20.0ϵ"
      ]
     },
     "metadata": {},
     "output_type": "display_data"
    }
   ],
   "source": [
    "f(x) = 5x^2 + 10x + 10\n",
    "f(1.0)\n",
    "f(Dual(1., 1.))"
   ]
  },
  {
   "cell_type": "code",
   "execution_count": 30,
   "metadata": {},
   "outputs": [
    {
     "data": {
      "text/plain": [
       "20.0"
      ]
     },
     "metadata": {},
     "output_type": "display_data"
    }
   ],
   "source": [
    "# Let us define a function that\n",
    "D(f, x) = f(Dual(x, one(x))).ϵ\n",
    "E(f, x) = f(Dual(x, one(x)))\n",
    "D(f,1.)"
   ]
  },
  {
   "cell_type": "code",
   "execution_count": 15,
   "metadata": {},
   "outputs": [
    {
     "data": {
      "text/plain": [
       "CodeInfo(\n",
       "\u001b[90m1 ─\u001b[39m %1  = Base.mul_float(x, x)\u001b[36m::Float64\u001b[39m\n",
       "\u001b[90m│  \u001b[39m %2  = Base.mul_float(x, 1.0)\u001b[36m::Float64\u001b[39m\n",
       "\u001b[90m│  \u001b[39m %3  = Base.mul_float(x, 1.0)\u001b[36m::Float64\u001b[39m\n",
       "\u001b[90m│  \u001b[39m %4  = Base.add_float(%2, %3)\u001b[36m::Float64\u001b[39m\n",
       "\u001b[90m│  \u001b[39m %5  = Base.mul_float(%1, 0.0)\u001b[36m::Float64\u001b[39m\n",
       "\u001b[90m│  \u001b[39m %6  = Base.mul_float(5.0, %4)\u001b[36m::Float64\u001b[39m\n",
       "\u001b[90m│  \u001b[39m %7  = Base.add_float(%5, %6)\u001b[36m::Float64\u001b[39m\n",
       "\u001b[90m│  \u001b[39m %8  = Base.mul_float(x, 0.0)\u001b[36m::Float64\u001b[39m\n",
       "\u001b[90m│  \u001b[39m %9  = Base.add_float(%8, 10.0)\u001b[36m::Float64\u001b[39m\n",
       "\u001b[90m│  \u001b[39m %10 = Base.add_float(%7, %9)\u001b[36m::Float64\u001b[39m\n",
       "\u001b[90m│  \u001b[39m %11 = Base.add_float(%10, 0.0)\u001b[36m::Float64\u001b[39m\n",
       "\u001b[90m└──\u001b[39m       return %11\n",
       ") => Float64"
      ]
     },
     "metadata": {},
     "output_type": "display_data"
    }
   ],
   "source": [
    "@code_typed f(1.0)\n",
    "@code_typed D(f, 1.0)"
   ]
  },
  {
   "cell_type": "code",
   "execution_count": 16,
   "metadata": {},
   "outputs": [
    {
     "data": {
      "text/plain": [
       "g (generic function with 1 method)"
      ]
     },
     "metadata": {},
     "output_type": "display_data"
    }
   ],
   "source": [
    "function g(x)\n",
    "    if x < 5\n",
    "        return x\n",
    "    else\n",
    "        return 2x\n",
    "    end\n",
    "end"
   ]
  },
  {
   "cell_type": "code",
   "execution_count": null,
   "metadata": {},
   "outputs": [],
   "source": [
    "g(Dual(1.,1.))"
   ]
  },
  {
   "cell_type": "code",
   "execution_count": 21,
   "metadata": {},
   "outputs": [
    {
     "data": {
      "text/plain": [
       "2"
      ]
     },
     "metadata": {},
     "output_type": "display_data"
    }
   ],
   "source": [
    "D(x -> x*D(y -> x+y, 1), 1) # == 1"
   ]
  },
  {
   "cell_type": "code",
   "execution_count": 28,
   "metadata": {},
   "outputs": [
    {
     "name": "stdout",
     "output_type": "stream",
     "text": [
      "2 + 1ϵ\n",
      "x * (f(Dual(1))).ϵ = 1 + 1ϵ\n"
     ]
    },
    {
     "data": {
      "text/plain": [
       "1"
      ]
     },
     "metadata": {},
     "output_type": "display_data"
    }
   ],
   "source": [
    "D(x -> x*D(y -> x+y, 1), 1) # == 1\n",
    "\n",
    "g(x) = x -> x*(y -> x+y)\n",
    "\n",
    "function h(x)\n",
    "    f(y) = x + y\n",
    "    println(f(Dual(1)))\n",
    "    @show x*f(Dual(1)).ϵ\n",
    "end\n",
    "\n",
    "D(h,1)"
   ]
  },
  {
   "cell_type": "code",
   "execution_count": 38,
   "metadata": {},
   "outputs": [
    {
     "data": {
      "text/plain": [
       "5"
      ]
     },
     "metadata": {},
     "output_type": "display_data"
    }
   ],
   "source": [
    "D(x -> x*D(y -> x*y, 1), 4)\n",
    "# @code_lowered D(x -> x*D(y -> x*y, 1), 4)\n",
    "# E(x -> x*E(y -> x*y, 1), 4)"
   ]
  },
  {
   "cell_type": "code",
   "execution_count": null,
   "metadata": {},
   "outputs": [],
   "source": [
    "D(x -> x*D(y -> x+y, 1), 1) # == 1 # but we get 2\n",
    "D(x -> x*D(y -> x*y, 1), 4) # == 8 # but we get 5"
   ]
  },
  {
   "cell_type": "markdown",
   "metadata": {},
   "source": [
    "###  For functions with multiple parameters"
   ]
  },
  {
   "cell_type": "code",
   "execution_count": 42,
   "metadata": {},
   "outputs": [
    {
     "data": {
      "text/plain": [
       "2 + 1ϵ"
      ]
     },
     "metadata": {},
     "output_type": "display_data"
    }
   ],
   "source": [
    "f1(x, y) = x^2 + x*y"
   ]
  },
  {
   "cell_type": "markdown",
   "metadata": {},
   "source": [
    "We will have to take partial with respect to each of the parameters"
   ]
  },
  {
   "cell_type": "code",
   "execution_count": null,
   "metadata": {},
   "outputs": [],
   "source": [
    "x,y = 1,1\n",
    "f1(Dual(x,1),Dual(y,0))\n",
    "f1(Dual(x,0),Dual(y,1))"
   ]
  },
  {
   "cell_type": "markdown",
   "metadata": {},
   "source": [
    "Let's use StaticArrays and Multi Duals to do this"
   ]
  },
  {
   "cell_type": "code",
   "execution_count": null,
   "metadata": {},
   "outputs": [],
   "source": []
  }
 ],
 "metadata": {
  "kernelspec": {
   "display_name": "Julia 1.7.3",
   "language": "julia",
   "name": "julia-1.7"
  },
  "language_info": {
   "file_extension": ".jl",
   "mimetype": "application/julia",
   "name": "julia",
   "version": "1.7.3"
  },
  "orig_nbformat": 4
 },
 "nbformat": 4,
 "nbformat_minor": 2
}
