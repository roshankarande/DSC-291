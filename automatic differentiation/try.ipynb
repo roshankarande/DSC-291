{
 "cells": [
  {
   "cell_type": "markdown",
   "metadata": {},
   "source": [
    "```julia\n",
    "ϵ = 1e-10rand()\n",
    "@show ϵ\n",
    "@show (1+ϵ)\n",
    "# ϵ = 8.22018698287886e-11\n",
    "# 1 + ϵ = 1.0000000000822018\n",
    "\n",
    "ϵ = eps(Float64)\n",
    "@show ϵ\n",
    "@show (1+ϵ)\n",
    "# ϵ = 2.220446049250313e-16\n",
    "# 1 + ϵ = 1.0000000000000002\n",
    "```"
   ]
  },
  {
   "cell_type": "markdown",
   "metadata": {},
   "source": [
    "## Finite Differences"
   ]
  },
  {
   "cell_type": "markdown",
   "metadata": {},
   "source": [
    "$$f'(x) = \\lim_{\\epsilon \\rightarrow 0} \\frac{f(x+\\epsilon)-f(x)}{\\epsilon}$$\n",
    "\n"
   ]
  },
  {
   "cell_type": "markdown",
   "metadata": {},
   "source": [
    "Finite differencing directly follows from this definition by choosing a small\n",
    "$\\epsilon$. However, choosing a good $\\epsilon$ is very difficult. If $\\epsilon$\n",
    "is too large than there is error since this definition is asymtopic. However,\n",
    "if $\\epsilon$ is too small, you receive roundoff error."
   ]
  },
  {
   "cell_type": "markdown",
   "metadata": {},
   "source": [
    "## Differencing in a Different Dimension: Complex Step Differentiation\n",
    "\n",
    "$$f(x+ih) = f(x) + f'(x)ih + \\mathcal{O}(h^2)$$\n",
    "$$if'(x) = \\frac{f(x+ih) - f(x)}{h} + \\mathcal{O}(h)$$\n",
    "$$f'(x) = \\frac{Im(f(x+ih))}{h} + \\mathcal{O}(h)$$\n",
    "since $Im(f(x)) = 0$ (since it's real valued!)\n",
    "\n"
   ]
  },
  {
   "cell_type": "markdown",
   "metadata": {},
   "source": [
    "But to understand the computational advantage, \n",
    "    recall that x is pure real, and thus x+ih is a complex number where the h never directly interacts with x since a complex number is a two dimensional number where you keep the two pieces separate. \n",
    "\n",
    "Thus there is no numerical cancellation by using a small value of h, and thus, due to the relative precision of floating point numbers, both the real and imaginary parts will be computed to (approximately) 16 digits of accuracy for any choice of h."
   ]
  },
  {
   "cell_type": "markdown",
   "metadata": {},
   "source": [
    "### Derivatives measures sensitivity"
   ]
  },
  {
   "cell_type": "markdown",
   "metadata": {},
   "source": [
    "$$f(x + \\epsilon) = f(x) + f'(x) \\epsilon + o(\\epsilon).$$\n",
    "we will ignore higher-order terms; formally we set $\\epsilon^2 = 0$"
   ]
  },
  {
   "cell_type": "markdown",
   "metadata": {},
   "source": [
    "$$f(x + \\epsilon) \\rightsquigarrow f(x) + \\epsilon f'(x)$$\n",
    "$$f(x + \\mathbf{\\beta} \\epsilon) \\rightsquigarrow f(x) + \\epsilon \\beta f'(x)$$\n",
    "\n",
    "note: 1 is the derivate of x"
   ]
  },
  {
   "cell_type": "markdown",
   "metadata": {},
   "source": [
    "## Dual Numbers"
   ]
  },
  {
   "cell_type": "markdown",
   "metadata": {},
   "source": [
    "Thus, to extend the idea of complex step differentiation beyond complex analytic\n",
    "functions, we define a new number type, the *dual number*. \n",
    "\n",
    "A dual number is a multidimensional number where the sensitivity of the function is propagated\n",
    "along the dual portion."
   ]
  },
  {
   "cell_type": "markdown",
   "metadata": {},
   "source": [
    "Here we will now start to use $\\epsilon$ as a dimensional signifier"
   ]
  },
  {
   "cell_type": "markdown",
   "metadata": {},
   "source": [
    "$$f(x + \\epsilon) \\rightsquigarrow f(x) + \\epsilon f'(x)$$\n",
    "$$f(x + \\epsilon) \\rightsquigarrow g(x) + \\epsilon g'(x)$$"
   ]
  },
  {
   "cell_type": "markdown",
   "metadata": {},
   "source": [
    "$$f(x + \\epsilon) \\plusmn g(x + \\epsilon) = [f(x) \\plusmn g(x)] + \\epsilon[f'(x) \\plusmn g'(x)]$$\n",
    "\n",
    "$$f(x + \\epsilon) \\cdot g(x + \\epsilon) = [f(x) \\cdot g(x)] + \\epsilon[f(x) \\cdot g'(x) + g(x) \\cdot f'(x) ]$$\n",
    "$$f(x + \\epsilon) / g(x + \\epsilon) = [f(x) \\cdot g(x)] + \\epsilon[\\frac{g(x) \\cdot f'(x) - f(x) \\cdot g'(x)}{g(x)^2}  ]$$\n",
    "\n",
    "## Chain rule\n",
    "\n",
    "$$f(g(x + \\epsilon)) = f(g(x) + \\epsilon g'(x)) = f(g(x)) + \\epsilon f'(g(x)) g'(x) $$\n",
    "\n",
    "Note that the chain rule has been explicitly encoded in the derivative part."
   ]
  },
  {
   "cell_type": "markdown",
   "metadata": {},
   "source": [
    "Now we are in the position to differentiate arbitrary code that is composed of these operations. \n",
    "\n",
    "Are we ready to differentiate arbitrary code ? Not quite yet !!"
   ]
  },
  {
   "cell_type": "markdown",
   "metadata": {},
   "source": [
    "If you encode rules for higher order primitives,  and also for conditionals then you can differentiate arbitrary code."
   ]
  },
  {
   "cell_type": "code",
   "execution_count": 3,
   "metadata": {},
   "outputs": [],
   "source": [
    "## Here comes the coding part"
   ]
  },
  {
   "cell_type": "markdown",
   "metadata": {},
   "source": [
    "### Higher dimensions\n",
    "\n",
    "$$f: \\mathbb{R}^n \\to \\mathbb{R}$$"
   ]
  },
  {
   "cell_type": "markdown",
   "metadata": {},
   "source": [
    "$$f(x + \\epsilon) = f(x) + \\nabla f(x) \\cdot \\epsilon + o(\\epsilon)$$\n",
    "\n",
    "where $x \\in \\mathbb{R}^n$ and $\\nabla f(x)$ is the **gradient** of $f$ at $x$, \n",
    "i.e. the vector of partial derivatives in each direction.\n",
    "\n",
    "\n",
    "We can think of these as $\\epsilon$ perturbations in different directions, which satisfy $\\epsilon_i^2 = \\epsilon_i \\epsilon_j = 0$, and we will call $\\epsilon$ the vector of all perturbations"
   ]
  },
  {
   "cell_type": "markdown",
   "metadata": {},
   "source": [
    "## Finite Differences"
   ]
  },
  {
   "cell_type": "markdown",
   "metadata": {},
   "source": []
  },
  {
   "cell_type": "markdown",
   "metadata": {},
   "source": []
  }
 ],
 "metadata": {
  "kernelspec": {
   "display_name": "Julia 1.7.3",
   "language": "julia",
   "name": "julia-1.7"
  },
  "language_info": {
   "file_extension": ".jl",
   "mimetype": "application/julia",
   "name": "julia",
   "version": "1.7.3"
  },
  "orig_nbformat": 4
 },
 "nbformat": 4,
 "nbformat_minor": 2
}
