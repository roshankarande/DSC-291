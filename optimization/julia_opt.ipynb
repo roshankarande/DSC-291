{
 "cells": [
  {
   "cell_type": "code",
   "execution_count": 2,
   "metadata": {},
   "outputs": [
    {
     "data": {
      "text/plain": [
       "is_solved (generic function with 1 method)"
      ]
     },
     "metadata": {},
     "output_type": "display_data"
    }
   ],
   "source": [
    "using JuMP, GLPK, Ipopt\n",
    "using Convex, SCS, ECOS\n",
    "\n",
    "function is_solved(model)\n",
    "    if termination_status(model) ∈ [OPTIMAL, LOCALLY_SOLVED, ALMOST_OPTIMAL, ALMOST_LOCALLY_SOLVED]\n",
    "        println(\"\\nSolved !!\")\n",
    "    end\n",
    "end"
   ]
  },
  {
   "cell_type": "markdown",
   "metadata": {},
   "source": [
    "\\begin{aligned}\n",
    "\\min_{x,y} \\quad & 12x + 20y \\\\\n",
    "\\textrm{s.t.} \\quad & x \\geq 0\\\\\n",
    "\n",
    "  & 0 \\leq y \\leq 3  \\\\\n",
    "  & 6x + 8y \\geq 100 \\\\\n",
    "  & 7x + 12y \\geq 120 \\\\\n",
    "\n",
    "\\end{aligned}"
   ]
  },
  {
   "cell_type": "code",
   "execution_count": 8,
   "metadata": {},
   "outputs": [
    {
     "name": "stdout",
     "output_type": "stream",
     "text": [
      "Min 12 x + 20 y\n",
      "Subject to\n",
      " c1 : 6 x + 8 y >= 100.0\n",
      " c2 : 7 x + 12 y >= 120.0\n",
      " x >= 0.0\n",
      " y >= 0.0\n",
      " y <= 3.0\n",
      "objective_value(model) = 204.99999999999997\n",
      "(value(x), value(y)) = (15.000000000000005, 1.249999999999996)\n",
      "\n",
      "Solved !!\n"
     ]
    }
   ],
   "source": [
    "\n",
    "model = Model(GLPK.Optimizer)\n",
    "\n",
    "@variable(model, x >= 0)  \n",
    "@variable(model, 0 <= y <= 3)\n",
    "\n",
    "@objective(model, Min, 12x + 20y)\n",
    "\n",
    "@constraint(model, c1, 6x + 8y >= 100)\n",
    "@constraint(model, c2, 7x + 12y >= 120)\n",
    "\n",
    "optimize!(model)\n",
    "\n",
    "print(model)\n",
    "@show objective_value(model)\n",
    "@show value(x), value(y)\n",
    "\n",
    "# @show termination_status(model)\n",
    "# @show primal_status(model)\n",
    "# @show dual_status(model)\n",
    "\n",
    "if termination_status(model) ∈ [OPTIMAL, LOCALLY_SOLVED, ALMOST_OPTIMAL, ALMOST_LOCALLY_SOLVED]\n",
    "    println(\"\\nSolved !!\")\n",
    "end\n",
    "# # If you wanted to evaluate the objective at particular value\n",
    "# f = objective_function(model)\n",
    "# point = Dict(x => 2.0, y => 1.0);\n",
    "# value(z -> point[z], f)"
   ]
  },
  {
   "cell_type": "markdown",
   "metadata": {},
   "source": [
    "\\begin{aligned}\n",
    "\\min_{x} \\quad & x/8 + \\sqrt{(6-x)^2 + 10x^3 } \\\\\n",
    "\\textrm{s.t.} \\quad & 0 \\leq x \\leq 6  \\\\\n",
    "\n",
    "\\end{aligned}"
   ]
  },
  {
   "cell_type": "code",
   "execution_count": 11,
   "metadata": {},
   "outputs": [
    {
     "name": "stdout",
     "output_type": "stream",
     "text": [
      "termination_status(model) = MathOptInterface.LOCALLY_SOLVED\n",
      "objective_value(model) = 5.669079097833224\n",
      "value(x) = 0.5620272564355073\n",
      "\n",
      "Solved !!\n"
     ]
    }
   ],
   "source": [
    "model = Model(Ipopt.Optimizer)\n",
    "set_silent(model) # to hide unnecessary outputs\n",
    "# set_time_limit_sec(model, 60.0) # to set time limits\n",
    "@variable(model, 0 <= x <= 6, start = 0)\n",
    "\n",
    "@NLobjective(model, Min, x / 8 + sqrt((6 - x)^2 + 10x^3))\n",
    "\n",
    "optimize!(model)\n",
    "\n",
    "@show termination_status(model)\n",
    "@show objective_value(model)\n",
    "@show value(x)\n",
    "\n",
    "is_solved(model)"
   ]
  },
  {
   "cell_type": "markdown",
   "metadata": {},
   "source": [
    "\\begin{aligned}\n",
    "\\min_{x} \\quad & x^\\top Q x \\\\\n",
    "\\textrm{s.t.} \\quad & x \\geq 0\\\\\n",
    "\n",
    "  & \\sum_{i=1}^{n} x_i \\leq 1000\\\\\n",
    "  & r^\\top x \\geq 50 \\\\\n",
    "\\end{aligned}"
   ]
  },
  {
   "cell_type": "code",
   "execution_count": 6,
   "metadata": {},
   "outputs": [
    {
     "name": "stdout",
     "output_type": "stream",
     "text": [
      "termination_status(model) = MathOptInterface.LOCALLY_SOLVED\n",
      "objective_value(model) = 22634.395961242586\n",
      "value.(x) = [497.04594776274223, -9.670582796478739e-9, 502.95406224660263]\n",
      "\n",
      "Solved !!\n",
      "  0.066383 seconds (71.19 k allocations: 3.844 MiB, 83.81% compilation time)\n"
     ]
    }
   ],
   "source": [
    "r = [0.0260022, 0.00810132, 0.0737159]\n",
    "Q = [ 0.018641    0.00359853  0.00130976;\n",
    "      0.00359853  0.00643694  0.00488727;\n",
    "      0.00130976  0.00488727  0.0686828]\n",
    "\n",
    "model = Model(Ipopt.Optimizer)\n",
    "set_silent(model)\n",
    "@variable(model, x[1:3] >= 0)\n",
    "@objective(model, Min, x' * Q * x)\n",
    "@constraint(model, sum(x) <= 1000)\n",
    "@constraint(model, sum(r[i] * x[i] for i in 1:3) >= 50)\n",
    "optimize!(model)\n",
    "\n",
    "@show termination_status(model)\n",
    "@show objective_value(model)\n",
    "@show value.(x)\n",
    "\n",
    "is_solved(model)\n"
   ]
  },
  {
   "cell_type": "code",
   "execution_count": 5,
   "metadata": {},
   "outputs": [
    {
     "name": "stdout",
     "output_type": "stream",
     "text": [
      "termination_status(model) = MathOptInterface.LOCALLY_SOLVED\n",
      "objective_value(model) = 22634.395961242586\n",
      "value.(x) = [497.04594776274223, -9.670582796478739e-9, 502.95406224660263]\n",
      "\n",
      "Solved !!\n"
     ]
    }
   ],
   "source": [
    "model = Model(Ipopt.Optimizer)\n",
    "set_silent(model)\n",
    "@variable(model, x[1:3] >= 0)\n",
    "@objective(model, Min, x' * Q * x)\n",
    "@constraint(model, sum(x) <= 1000)\n",
    "@constraint(model, sum(r[i] * x[i] for i in 1:3) >= 50)\n",
    "optimize!(model)\n",
    "\n",
    "@show termination_status(model)\n",
    "@show objective_value(model)\n",
    "@show value.(x)\n",
    "\n",
    "is_solved(model)"
   ]
  },
  {
   "cell_type": "markdown",
   "metadata": {},
   "source": [
    "\\begin{aligned}\n",
    "\\min_{x} \\quad & ||Ax-b||^2 \\\\\n",
    "\\textrm{s.t.} \\quad & x \\geq 0\\\\\n",
    "\\end{aligned}"
   ]
  },
  {
   "cell_type": "code",
   "execution_count": 16,
   "metadata": {},
   "outputs": [
    {
     "name": "stdout",
     "output_type": "stream",
     "text": [
      "termination_status(model) = MathOptInterface.LOCALLY_SOLVED\n",
      "objective_value(model) = 8.888445535149003e-13\n",
      "value.(x) = [0.0035549006781810033, 0.003936195419952764, 0.3843811667892313, 0.7203583631485512, 0.7716643397815349]\n",
      "Done!!"
     ]
    }
   ],
   "source": [
    "# A = [1 0; 1 1; 1 2]\n",
    "# b =  [6, 0, 0]\n",
    "\n",
    "m = 4;  n = 5\n",
    "A = randn(m, n); b = randn(m, 1)\n",
    "\n",
    "model = Model(Ipopt.Optimizer)\n",
    "\n",
    "@variable(model, x[1:n]);\n",
    "@objective(model, Min, sum((A*x-b).^2))\n",
    "@constraint(model, x .>= 0)\n",
    "optimize!(model)\n",
    "\n",
    "@show termination_status(model)\n",
    "@show objective_value(model)\n",
    "@show value.(x)\n",
    "\n",
    "set_silent(model)\n",
    "print(\"Done!!\")\n",
    "# @constraint(model, sum((A*x-b).^2) <= t^2)\n",
    "\n",
    "# A\\b"
   ]
  },
  {
   "cell_type": "markdown",
   "metadata": {
    "collapsed": false
   },
   "source": [
    "\\begin{aligned}\n",
    "\\min_{x} \\quad & ||Ax-b||^2 \\\\\n",
    "\\textrm{s.t.} \\quad & x \\geq 0\\\\\n",
    "\\end{aligned}"
   ]
  },
  {
   "cell_type": "code",
   "execution_count": null,
   "metadata": {},
   "outputs": [],
   "source": [
    "m = 4;  n = 5\n",
    "A = randn(m, n); b = randn(m, 1)\n",
    "\n",
    "x = Variable(n)\n",
    "\n",
    "problem = minimize(sumsquares(A * x - b), [x >= 0])\n",
    "\n",
    "solve!(problem, SCS.Optimizer; silent_solver = true)\n",
    "\n",
    "problem.optval, evaluate(x)"
   ]
  },
  {
   "cell_type": "code",
   "execution_count": 10,
   "metadata": {},
   "outputs": [
    {
     "data": {
      "text/plain": [
       "(-3.555071854263863e-8, [0.15256797578666698, 1.2919829554184543, 0.13512997139880137, 1.0797910488417393, 0.5870519291766558])"
      ]
     },
     "metadata": {},
     "output_type": "display_data"
    }
   ],
   "source": [
    "\n",
    "\n",
    "# Generate random problem data\n",
    "# m = 4;  n = 5\n",
    "# A = randn(m, n); b = randn(m, 1)\n",
    "\n",
    "# Create a (column vector) variable of size n x 1.\n",
    "x = Variable(n)\n",
    "\n",
    "# The problem is to minimize ||Ax - b||^2 subject to x >= 0\n",
    "# This can be done by: minimize(objective, constraints)\n",
    "problem = minimize(sumsquares(A * x - b), [x >= 0])\n",
    "\n",
    "# Solve the problem by calling solve!\n",
    "solve!(problem, SCS.Optimizer; silent_solver = true)\n",
    "\n",
    "# Check the status of the problem\n",
    "problem.status # :Optimal, :Infeasible, :Unbounded etc.\n",
    "\n",
    "# Get the optimum value\n",
    "problem.optval, evaluate(x)"
   ]
  },
  {
   "cell_type": "code",
   "execution_count": 8,
   "metadata": {},
   "outputs": [
    {
     "name": "stdout",
     "output_type": "stream",
     "text": [
      "Matrix constraint example"
     ]
    },
    {
     "name": "stdout",
     "output_type": "stream",
     "text": [
      "\n",
      "  0.336278 seconds (728.86 k allocations: 36.197 MiB, 9.30% gc time, 99.94% compilation time)\n"
     ]
    },
    {
     "name": "stdout",
     "output_type": "stream",
     "text": [
      "  5.887292 seconds (6.86 M allocations: 529.162 MiB, 3.26% gc time, 70.40% compilation time)\n"
     ]
    }
   ],
   "source": [
    "println(\"Matrix constraint example\")\n",
    "n, m, p = 100, 100, 100\n",
    "X = Variable(m, n);\n",
    "A = randn(p, m);\n",
    "b = randn(p, n);\n",
    "@time begin\n",
    "    p = minimize(norm(vec(X)), A * X == b)\n",
    "end\n",
    "@time solve!(p, ECOS.Optimizer; silent_solver = true)"
   ]
  },
  {
   "cell_type": "markdown",
   "metadata": {},
   "source": [
    "Useful links\n",
    "*   [Termination Status](https://https://jump.dev/JuMP.jl/stable/moi/reference/models/#MathOptInterface.TerminationStatus)\n",
    "*   [Supported Solvers](https://jump.dev/JuMP.jl/stable/installation/#Supported-solvers)"
   ]
  }
 ],
 "metadata": {
  "kernelspec": {
   "display_name": "Julia 1.7.3",
   "language": "julia",
   "name": "julia-1.7"
  },
  "language_info": {
   "file_extension": ".jl",
   "mimetype": "application/julia",
   "name": "julia",
   "version": "1.7.3"
  },
  "orig_nbformat": 4
 },
 "nbformat": 4,
 "nbformat_minor": 2
}
