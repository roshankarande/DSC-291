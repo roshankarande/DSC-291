{
 "cells": [
  {
   "cell_type": "code",
   "execution_count": null,
   "outputs": [],
   "source": [
    "# conda install -c conda-forge pyomo\n",
    "# conda install -c conda-forge pyomo.extras\n",
    "# conda install -c conda-forge glpk\n",
    "# conda install -c conda-forge ipopt\n",
    "#\n",
    "# Optionally, you may also wish to install the COIN-OR cbc solvers.\n",
    "#\n",
    "# conda install -c conda-forge coincbc\n",
    "# conda install -c conda-forge cvxpy\n",
    "\n",
    "# https://www.coin-or.org/download/binary/Ipopt/   # iptopt can be found here .. copy the executable and extract it at appropriate location\n",
    "\n",
    "# have to download trial license key for mosek ## not needed"
   ],
   "metadata": {
    "collapsed": false,
    "pycharm": {
     "name": "#%%\n"
    }
   }
  },
  {
   "cell_type": "code",
   "execution_count": 56,
   "metadata": {},
   "outputs": [],
   "source": [
    "import math\n",
    "\n",
    "import pyomo.core\n",
    "import pyomo.environ as pyo\n",
    "from pyomo.environ import *\n",
    "import cvxpy as cp\n",
    "import numpy as np\n"
   ]
  },
  {
   "cell_type": "markdown",
   "metadata": {},
   "source": [
    "\\begin{aligned}\n",
    "\\min_{x,y} \\quad & 12x + 20y \\\\\n",
    "\\textrm{s.t.} \\quad & x \\geq 0\\\\\n",
    "\n",
    "  & 0 \\leq y \\leq 3  \\\\\n",
    "  & 6x + 8y \\geq 100 \\\\\n",
    "  & 7x + 12y \\geq 120 \\\\\n",
    "\n",
    "\\end{aligned}"
   ]
  },
  {
   "cell_type": "code",
   "execution_count": 77,
   "outputs": [],
   "source": [
    "# cp.installed_solvers()"
   ],
   "metadata": {
    "collapsed": false,
    "pycharm": {
     "name": "#%%\n"
    }
   }
  },
  {
   "cell_type": "code",
   "execution_count": 68,
   "outputs": [
    {
     "name": "stdout",
     "output_type": "stream",
     "text": [
      "Optimal solution ::  x = 204.9999999934052\n",
      "Optimal value :: [15.00000011  1.24999993]\n"
     ]
    }
   ],
   "source": [
    "\n",
    "c = np.array([12,20])\n",
    "A = np.array([ [-1, 0], [0, -1], [0, 1], [-6, -8], [-7, -12]])\n",
    "b = np.array([0, 0, 3, -100, -120])\n",
    "\n",
    "x = cp.Variable(len(c))\n",
    "prob = cp.Problem(cp.Minimize(c.T@x), [A @ x <= b])\n",
    "prob.solve(solver=\"ECOS\")\n",
    "\n",
    "print(f\"Optimal solution ::  x = {prob.value}\")\n",
    "print(f\"Optimal value :: {x.value}\")\n",
    "\n",
    "# print(\"A dual solution is\")\n",
    "# print(prob.constraints[0].dual_value)"
   ],
   "metadata": {
    "collapsed": false,
    "pycharm": {
     "name": "#%%\n"
    }
   }
  },
  {
   "cell_type": "code",
   "execution_count": 61,
   "outputs": [
    {
     "name": "stdout",
     "output_type": "stream",
     "text": [
      "Termination condition :: optimal\n",
      "Optimal solution ::  x = 15.0, y = 1.25\n",
      "Optimal value :: 205.0\n",
      "Solved!!\n"
     ]
    }
   ],
   "source": [
    "# Using Pyomo\n",
    "\n",
    "model = ConcreteModel()\n",
    "\n",
    "model.x = Var(domain=pyo.NonNegativeReals)\n",
    "model.y = Var(bounds=(0,3))\n",
    "\n",
    "\n",
    "model.objective = Objective(expr = 12*model.x + 20*model.y)\n",
    "\n",
    "model.constraints = ConstraintList()\n",
    "model.constraints.add(expr = 6*model.x + 8*model.y >= 100)\n",
    "model.constraints.add(expr = 7*model.x + 12*model.y >= 120)\n",
    "\n",
    "\n",
    "results = SolverFactory('glpk').solve(model)\n",
    "# results.write()\n",
    "# if results.solver.status:\n",
    "#     model.pprint()\n",
    "\n",
    "if results.solver.status:\n",
    "    condition = results.solver[0][\"Termination condition\"]\n",
    "    print(f\"Termination condition :: {condition}\")\n",
    "    print(f\"Optimal solution ::  x = {model.x()}, y = {model.y()}\")\n",
    "    print(f\"Optimal value :: {model.objective()}\")\n",
    "    print(\"Solved!!\")\n",
    "else:\n",
    "    print(\"Not solved!\")\n"
   ],
   "metadata": {
    "collapsed": false,
    "pycharm": {
     "name": "#%%\n"
    }
   }
  },
  {
   "cell_type": "markdown",
   "source": [
    "\\begin{aligned}\n",
    "\\min_{x} \\quad & x/8 + \\sqrt{(6-x)^2 + 10x^3 } \\\\\n",
    "\\textrm{s.t.} \\quad & 0 \\leq x \\leq 6  \\\\\n",
    "\n",
    "\\end{aligned}"
   ],
   "metadata": {
    "collapsed": false
   }
  },
  {
   "cell_type": "code",
   "execution_count": 51,
   "outputs": [
    {
     "name": "stdout",
     "output_type": "stream",
     "text": [
      "Termination condition :: optimal\n",
      "Optimal solution ::  x = 8.974906424446161e-09\n",
      "Optimal value :: 2.4494897439050414\n",
      "Solved!!\n"
     ]
    }
   ],
   "source": [
    "model = pyo.ConcreteModel()\n",
    "\n",
    "# declare decision variables\n",
    "model.x = pyo.Var(initialize=0.0, bounds=(0,6))\n",
    "# declare objective\n",
    "model.objective = pyo.Objective(\n",
    "    expr = model.x/8 + pyomo.core.sqrt((6.0-model.x**2) + 10.0*model.x**3),\n",
    "    sense = pyo.minimize)\n",
    "\n",
    "# solve\n",
    "results = pyo.SolverFactory('ipopt',executable=\"D:\\\\cli\\\\ipopt.exe\").solve(model)\n",
    "\n",
    "# results.write()\n",
    "# if results.solver.status == 'ok':\n",
    "#     model.pprint()\n",
    "\n",
    "if results.solver.status:\n",
    "    condition = results.solver[0][\"Termination condition\"]\n",
    "    print(f\"Termination condition :: {condition}\")\n",
    "    print(f\"Optimal solution ::  x = {model.x()}\")\n",
    "    print(f\"Optimal value :: {model.objective()}\")\n",
    "    print(\"Solved!!\")\n",
    "else:\n",
    "    print(\"Not solved!\")"
   ],
   "metadata": {
    "collapsed": false,
    "pycharm": {
     "name": "#%%\n"
    }
   }
  },
  {
   "cell_type": "markdown",
   "source": [
    "\\begin{aligned}\n",
    "\\min_{x} \\quad & x^\\top Q x \\\\\n",
    "\\textrm{s.t.} \\quad & x \\geq 0\\\\\n",
    "\n",
    "  & \\sum_{i=1}^{n} x_i \\leq 1000\\\\\n",
    "  & r^\\top x \\geq 50 \\\\\n",
    "\\end{aligned}"
   ],
   "metadata": {
    "collapsed": false
   }
  },
  {
   "cell_type": "code",
   "execution_count": 76,
   "outputs": [
    {
     "name": "stdout",
     "output_type": "stream",
     "text": [
      "Optimal solution ::  x = 22635.102877893845\n",
      "Optimal value :: [4.96935835e+02 3.52796825e-02 5.02990893e+02]\n"
     ]
    }
   ],
   "source": [
    "# Generate data.\n",
    "\n",
    "r = np.array([0.0260022, 0.00810132, 0.0737159])\n",
    "Q = np.array([[ 0.018641, 0.00359853, 0.00130976],\n",
    "              [0.00359853, 0.00643694,0.00488727],\n",
    "              [0.00130976, 0.00488727, 0.0686828]])\n",
    "\n",
    "# Define and solve the CVXPY problem.\n",
    "x = cp.Variable(Q.shape[0])\n",
    "prob = cp.Problem(cp.Minimize(cp.quad_form(x,Q)), [x >= 0, sum(x) <= 1000, r.T @ x >= 50] )\n",
    "\n",
    "prob.solve(solver=\"ECOS\")\n",
    "\n",
    "print(f\"Optimal solution ::  x = {prob.value}\")\n",
    "print(f\"Optimal value :: {x.value}\")"
   ],
   "metadata": {
    "collapsed": false,
    "pycharm": {
     "name": "#%%\n"
    }
   }
  },
  {
   "cell_type": "markdown",
   "source": [
    "\\begin{aligned}\n",
    "\\min_{x} \\quad & ||Ax-b||^2 \\\\\n",
    "\\textrm{s.t.} \\quad & x \\geq 0\\\\\n",
    "\\end{aligned}"
   ],
   "metadata": {
    "collapsed": false
   }
  },
  {
   "cell_type": "markdown",
   "source": [],
   "metadata": {
    "collapsed": false
   }
  },
  {
   "cell_type": "code",
   "execution_count": 57,
   "metadata": {
    "pycharm": {
     "name": "#%%\n"
    }
   },
   "outputs": [
    {
     "name": "stdout",
     "output_type": "stream",
     "text": [
      "\n",
      "The optimal value is 7.005909828287486\n",
      "The optimal x is\n",
      "[ 0.17492418 -0.38102551  0.34732251  0.0173098  -0.0845784  -0.08134019\n",
      "  0.293119    0.27019762  0.17493179 -0.23953449  0.64097935 -0.41633637\n",
      "  0.12799688  0.1063942  -0.32158411]\n",
      "The norm of the residual is  2.6468679280023557\n"
     ]
    }
   ],
   "source": [
    "\n",
    "# Generate data.\n",
    "m = 20\n",
    "n = 15\n",
    "np.random.seed(1)\n",
    "A = np.random.randn(m, n)\n",
    "b = np.random.randn(m)\n",
    "\n",
    "# Define and solve the CVXPY problem.\n",
    "x = cp.Variable(n)\n",
    "cost = cp.sum_squares(A @ x - b)\n",
    "prob = cp.Problem(cp.Minimize(cost))\n",
    "prob.solve()\n",
    "\n",
    "# Print result.\n",
    "print(\"\\nThe optimal value is\", prob.value)\n",
    "print(\"The optimal x is\")\n",
    "print(x.value)\n",
    "print(\"The norm of the residual is \", cp.norm(A @ x - b, p=2).value)"
   ]
  }
 ],
 "metadata": {
  "interpreter": {
   "hash": "0d146b57fee91990d15ae8fc1751d37d08a02ef7f56ec35b0f16c4f321b407cd"
  },
  "kernelspec": {
   "display_name": "Python 3.9.7",
   "language": "python",
   "name": "python3"
  },
  "language_info": {
   "codemirror_mode": {
    "name": "ipython",
    "version": 3
   },
   "file_extension": ".py",
   "mimetype": "text/x-python",
   "name": "python",
   "nbconvert_exporter": "python",
   "pygments_lexer": "ipython3",
   "version": "3.9.7"
  }
 },
 "nbformat": 4,
 "nbformat_minor": 2
}