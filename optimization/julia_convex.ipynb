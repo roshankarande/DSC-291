{
 "cells": [
  {
   "cell_type": "code",
   "execution_count": 14,
   "metadata": {},
   "outputs": [],
   "source": [
    "using LinearAlgebra, BenchmarkTools\n",
    "using Convex, ECOS"
   ]
  },
  {
   "cell_type": "code",
   "execution_count": 16,
   "metadata": {},
   "outputs": [
    {
     "name": "stdout",
     "output_type": "stream",
     "text": [
      "  1.083032 seconds (779.89 k allocations: 1.386 GiB, 11.92% gc time)\n",
      "\n",
      "ECOS 2.0.8 - (C) embotech GmbH, Zurich Switzerland, 2012-15. Web: www.embotech.com/ECOS\n",
      "\n",
      "It     pcost       dcost      gap   pres   dres    k/t    mu     step   sigma     IR    |   BT\n",
      " 0  +0.000e+000  -0.000e+000  +1e+002  6e-001  3e-003  1e+000  3e+001    ---    ---    1  1  - |  -  - \n",
      " 1  -6.443e-003  -3.089e-003  +1e+000  2e-002  3e-005  1e-002  4e-001  0.9890  1e-004   2  2  2 |  0  0\n",
      " 2  -1.950e-003  -1.897e-003  +1e-002  2e-004  4e-007  2e-004  5e-003  0.9879  1e-004   3  2  2 |  0  0\n",
      " 3  -2.460e-005  -2.356e-005  +2e-004  2e-006  4e-009  3e-006  5e-005  0.9890  1e-004   7  4  5 |  0  0\n",
      " 4  -2.807e-007  -2.643e-007  +2e-006  2e-008  5e-011  3e-008  6e-007  0.9890  1e-004   1  2  2 |  0  0\n",
      " 5  -3.196e-009  -2.961e-009  +2e-008  2e-010  6e-013  4e-010  7e-009  0.9890  1e-004   1  1  1 |  0  0\n",
      " 6  -3.636e-011  -3.317e-011  +2e-010  3e-012  6e-015  5e-012  7e-011  0.9890  1e-004   2  1  1 |  0  0\n",
      "\n",
      "OPTIMAL (within feastol=2.7e-012, reltol=5.8e+000, abstol=2.1e-010).\n",
      "Runtime: 0.000146 seconds.\n",
      "\n"
     ]
    }
   ],
   "source": [
    "n = 10000\n",
    "@time begin\n",
    "x = Variable();\n",
    "e = 0;\n",
    "for i = 1:n\n",
    "e = e + x;\n",
    "end\n",
    "p = minimize(norm2(e-1), x >= 0);\n",
    "solve!(p, ECOS.Optimizer, silent_solver = true)\n",
    "end"
   ]
  },
  {
   "cell_type": "code",
   "execution_count": 19,
   "metadata": {},
   "outputs": [
    {
     "name": "stdout",
     "output_type": "stream",
     "text": [
      " 30.986442 seconds (1.70 M allocations: 6.656 GiB, 28.80% gc time)\n",
      "\n",
      "ECOS 2.0.8 - (C) embotech GmbH, Zurich Switzerland, 2012-15. Web: www.embotech.com/ECOS\n",
      "\n",
      "It     pcost       dcost      gap   pres   dres    k/t    mu     step   sigma     IR    |   BT\n",
      " 0  +0.000e+000  -0.000e+000  +1e+004  1e+000  1e+000  1e+000  1e+000    ---    ---    1  1  - |  -  - \n",
      " 1  -1.610e-001  -2.894e-001  +4e+003  4e-001  2e-001  4e-002  4e-001  0.6963  8e-002   2  2  2 |  0  0\n",
      " 2  -3.710e-002  -5.234e-002  +3e+003  7e-002  2e-002  6e-003  3e-001  0.3901  5e-001   2  2  2 |  0  0\n",
      " 3  -5.025e-004  -7.095e-004  +2e+003  9e-004  2e-005  1e-004  2e-001  0.6778  7e-001   2  2  2 |  0  0\n",
      " 4  -2.790e-006  +2.416e-005  +3e+002  5e-005  4e-007  5e-005  7e-002  0.9311  2e-001   6  6  5 |  0  0\n",
      " 5  -9.055e-008  +1.442e-007  +4e+000  6e-007  4e-009  5e-007  8e-004  0.9889  1e-004   8  7  7 |  0  0\n",
      " 6  -1.029e-009  +1.504e-009  +5e-002  6e-009  5e-011  6e-009  9e-006  0.9890  1e-004   1  2  2 |  0  0\n",
      " 7  -1.192e-011  +1.559e-011  +5e-004  7e-011  5e-013  6e-011  1e-007  0.9890  1e-004   1  1  1 |  0  0\n",
      " 8  -1.377e-013  +1.609e-013  +6e-006  8e-013  6e-015  7e-013  1e-009  0.9890  1e-004   2  1  1 |  0  0\n",
      " 9  -1.588e-015  +1.653e-015  +7e-008  9e-015  6e-017  8e-015  1e-011  0.9890  1e-004   2  1  1 |  0  0\n",
      "10  -1.828e-017  +1.689e-017  +7e-010  3e-016  7e-019  9e-017  1e-013  0.9890  1e-004   1  1  0 |  0  0\n",
      "\n",
      "OPTIMAL (within feastol=3.4e-016, reltol=4.0e+007, abstol=7.4e-010).\n",
      "Runtime: 0.074972 seconds.\n",
      "\n"
     ]
    }
   ],
   "source": [
    "n = 10000\n",
    "@time begin\n",
    "x = Variable(n);\n",
    "e = 0;\n",
    "for i = 1:n\n",
    "e = e + x[i];\n",
    "end\n",
    "p = minimize(norm2(e-1), x >= 0);\n",
    "solve!(p, ECOS.Optimizer, silent_solver = true)\n",
    "end"
   ]
  },
  {
   "cell_type": "code",
   "execution_count": 23,
   "metadata": {},
   "outputs": [
    {
     "name": "stdout",
     "output_type": "stream",
     "text": [
      " 25.652242 seconds (2.50 M allocations: 230.782 MiB)\n"
     ]
    },
    {
     "name": "stderr",
     "output_type": "stream",
     "text": [
      "┌ Warning: Problem status ALMOST_OPTIMAL; solution may be inaccurate.\n",
      "└ @ Convex C:\\Users\\heyia\\.julia\\packages\\Convex\\o98db\\src\\solution.jl:342\n"
     ]
    }
   ],
   "source": [
    "# Transpose\n",
    "\n",
    "n = 500\n",
    "A = randn(n, n);\n",
    "@time begin\n",
    "X = Variable(n, n);\n",
    "p = minimize(norm(vec(X' - A)), X[1,1] == 1);\n",
    "solve!(p, ECOS.Optimizer, silent_solver = true)\n",
    "end"
   ]
  },
  {
   "cell_type": "code",
   "execution_count": 36,
   "metadata": {},
   "outputs": [
    {
     "name": "stdout",
     "output_type": "stream",
     "text": [
      "  9.648193 seconds (5.00 M allocations: 310.857 MiB, 2.90% gc time)\n"
     ]
    }
   ],
   "source": [
    "# Matrix Constraint\n",
    "\n",
    "n = 500;\n",
    "A = randn(n, n);\n",
    "B = randn(n, n);\n",
    "@time begin\n",
    "X = Variable(n, n);\n",
    "p = minimize(norm(vec(X - A)), X == B)\n",
    "solve!(p, ECOS.Optimizer, silent_solver = true)\n",
    "end"
   ]
  },
  {
   "cell_type": "code",
   "execution_count": null,
   "metadata": {},
   "outputs": [],
   "source": []
  }
 ],
 "metadata": {
  "kernelspec": {
   "display_name": "Julia 1.7.3",
   "language": "julia",
   "name": "julia-1.7"
  },
  "language_info": {
   "file_extension": ".jl",
   "mimetype": "application/julia",
   "name": "julia",
   "version": "1.7.3"
  },
  "orig_nbformat": 4
 },
 "nbformat": 4,
 "nbformat_minor": 2
}
