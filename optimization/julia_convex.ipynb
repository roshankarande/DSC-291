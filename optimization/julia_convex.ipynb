{
 "cells": [
  {
   "cell_type": "code",
   "execution_count": 1,
   "metadata": {},
   "outputs": [],
   "source": [
    "using LinearAlgebra, BenchmarkTools\n",
    "using Convex, ECOS"
   ]
  },
  {
   "cell_type": "code",
   "execution_count": 2,
   "metadata": {},
   "outputs": [
    {
     "name": "stdout",
     "output_type": "stream",
     "text": [
      " 24.725940 seconds (37.63 M allocations: 3.528 GiB, 5.74% gc time, 94.73% compilation time)\n"
     ]
    }
   ],
   "source": [
    "n = 10000\n",
    "@time begin\n",
    "x = Variable();\n",
    "e = 0;\n",
    "for i = 1:n\n",
    "e = e + x;\n",
    "end\n",
    "p = minimize(norm2(e-1), x >= 0);\n",
    "solve!(p, ECOS.Optimizer, silent_solver = true)\n",
    "end"
   ]
  },
  {
   "cell_type": "code",
   "execution_count": null,
   "metadata": {},
   "outputs": [
    {
     "name": "stdout",
     "output_type": "stream",
     "text": [
      " 30.986442 seconds (1.70 M allocations: 6.656 GiB, 28.80% gc time)\n",
      "\n",
      "ECOS 2.0.8 - (C) embotech GmbH, Zurich Switzerland, 2012-15. Web: www.embotech.com/ECOS\n",
      "\n",
      "It     pcost       dcost      gap   pres   dres    k/t    mu     step   sigma     IR    |   BT\n",
      " 0  +0.000e+000  -0.000e+000  +1e+004  1e+000  1e+000  1e+000  1e+000    ---    ---    1  1  - |  -  - \n",
      " 1  -1.610e-001  -2.894e-001  +4e+003  4e-001  2e-001  4e-002  4e-001  0.6963  8e-002   2  2  2 |  0  0\n",
      " 2  -3.710e-002  -5.234e-002  +3e+003  7e-002  2e-002  6e-003  3e-001  0.3901  5e-001   2  2  2 |  0  0\n",
      " 3  -5.025e-004  -7.095e-004  +2e+003  9e-004  2e-005  1e-004  2e-001  0.6778  7e-001   2  2  2 |  0  0\n",
      " 4  -2.790e-006  +2.416e-005  +3e+002  5e-005  4e-007  5e-005  7e-002  0.9311  2e-001   6  6  5 |  0  0\n",
      " 5  -9.055e-008  +1.442e-007  +4e+000  6e-007  4e-009  5e-007  8e-004  0.9889  1e-004   8  7  7 |  0  0\n",
      " 6  -1.029e-009  +1.504e-009  +5e-002  6e-009  5e-011  6e-009  9e-006  0.9890  1e-004   1  2  2 |  0  0\n",
      " 7  -1.192e-011  +1.559e-011  +5e-004  7e-011  5e-013  6e-011  1e-007  0.9890  1e-004   1  1  1 |  0  0\n",
      " 8  -1.377e-013  +1.609e-013  +6e-006  8e-013  6e-015  7e-013  1e-009  0.9890  1e-004   2  1  1 |  0  0\n",
      " 9  -1.588e-015  +1.653e-015  +7e-008  9e-015  6e-017  8e-015  1e-011  0.9890  1e-004   2  1  1 |  0  0\n",
      "10  -1.828e-017  +1.689e-017  +7e-010  3e-016  7e-019  9e-017  1e-013  0.9890  1e-004   1  1  0 |  0  0\n",
      "\n",
      "OPTIMAL (within feastol=3.4e-016, reltol=4.0e+007, abstol=7.4e-010).\n",
      "Runtime: 0.074972 seconds.\n",
      "\n"
     ]
    }
   ],
   "source": [
    "n = 10000\n",
    "@time begin\n",
    "x = Variable(n);\n",
    "e = 0;\n",
    "for i = 1:n\n",
    "e = e + x[i];\n",
    "end\n",
    "p = minimize(norm2(e-1), x >= 0);\n",
    "solve!(p, ECOS.Optimizer, silent_solver = true)\n",
    "end"
   ]
  },
  {
   "cell_type": "code",
   "execution_count": 3,
   "metadata": {},
   "outputs": [
    {
     "name": "stdout",
     "output_type": "stream",
     "text": [
      " 36.811380 seconds (6.84 M allocations: 462.234 MiB, 0.37% gc time, 9.73% compilation time)\n"
     ]
    },
    {
     "name": "stderr",
     "output_type": "stream",
     "text": [
      "┌ Warning: Problem status ALMOST_OPTIMAL; solution may be inaccurate.\n",
      "└ @ Convex C:\\Users\\heyia\\.julia\\packages\\Convex\\FQF1R\\src\\solution.jl:342\n"
     ]
    }
   ],
   "source": [
    "# Transpose\n",
    "\n",
    "n = 500\n",
    "A = randn(n, n);\n",
    "@time begin\n",
    "X = Variable(n, n);\n",
    "p = minimize(norm(vec(X' - A)), X[1,1] == 1);\n",
    "solve!(p, ECOS.Optimizer, silent_solver = true)\n",
    "end"
   ]
  },
  {
   "cell_type": "code",
   "execution_count": 4,
   "metadata": {},
   "outputs": [
    {
     "name": "stdout",
     "output_type": "stream",
     "text": [
      "  7.423054 seconds (5.48 M allocations: 335.868 MiB, 6.31% gc time, 4.81% compilation time)\n"
     ]
    }
   ],
   "source": [
    "# Matrix Constraint\n",
    "\n",
    "n = 500;\n",
    "A = randn(n, n);\n",
    "B = randn(n, n);\n",
    "@time begin\n",
    "X = Variable(n, n);\n",
    "p = minimize(norm(vec(X - A)), X == B)\n",
    "solve!(p, ECOS.Optimizer, silent_solver = true)\n",
    "end"
   ]
  }
 ],
 "metadata": {
  "kernelspec": {
   "display_name": "Julia 1.7.3",
   "language": "julia",
   "name": "julia-1.7"
  },
  "language_info": {
   "file_extension": ".jl",
   "mimetype": "application/julia",
   "name": "julia",
   "version": "1.7.3"
  },
  "orig_nbformat": 4
 },
 "nbformat": 4,
 "nbformat_minor": 2
}
