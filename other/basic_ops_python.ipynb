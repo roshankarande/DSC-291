{
 "cells": [
  {
   "cell_type": "code",
   "execution_count": 1,
   "metadata": {},
   "outputs": [],
   "source": [
    "import random, math, timeit, numba\n",
    "import numpy as np"
   ]
  },
  {
   "cell_type": "code",
   "execution_count": 2,
   "metadata": {},
   "outputs": [],
   "source": [
    "n = 1000000"
   ]
  },
  {
   "cell_type": "code",
   "execution_count": 3,
   "metadata": {},
   "outputs": [],
   "source": [
    "def estimate_pi(n):\n",
    "    n_circle = 0\n",
    "    for i in range(n):\n",
    "        x = 2*random.random() - 1\n",
    "        y = 2*random.random() - 1\n",
    "        if math.sqrt(x**2 + y**2) <= 1:\n",
    "            n_circle += 1\n",
    "    return 4*n_circle/n\n",
    "# 794 ms ± 45.6 ms per loop"
   ]
  },
  {
   "cell_type": "code",
   "execution_count": null,
   "metadata": {},
   "outputs": [],
   "source": [
    "def estimate_pi_np(n):\n",
    "    n_circle = 0\n",
    "    for i in range(n):\n",
    "        x = 2*np.random.random() - 1\n",
    "        y = 2*np.random.random() - 1\n",
    "        if np.sqrt(x**2 + y**2) <= 1:\n",
    "            n_circle += 1\n",
    "    return 4*n_circle/n\n",
    "# 2.38 s ± 118 ms per loop "
   ]
  },
  {
   "cell_type": "code",
   "execution_count": null,
   "metadata": {},
   "outputs": [],
   "source": [
    "def estimate_pi_np_vec(n):\n",
    "    xy = 2*np.random.random((n, 2)) - 1\n",
    "    n_circle = (np.sqrt((xy**2).sum(axis = 1)) <= 1).sum()\n",
    "    return 4*n_circle/n\n",
    "# 49.2 ms ± 3.85 ms per loop"
   ]
  },
  {
   "cell_type": "code",
   "execution_count": null,
   "metadata": {},
   "outputs": [],
   "source": [
    "@numba.jit()\n",
    "def estimate_pi_numba(n):\n",
    "    n_circle = 0\n",
    "    for i in range(n):\n",
    "        x = 2*np.random.random() - 1\n",
    "        y = 2*np.random.random() - 1\n",
    "        if np.sqrt(x**2 + y**2) <= 1:\n",
    "            n_circle += 1\n",
    "    return 4*n_circle/n\n",
    "# 13.7 ms ± 396 µs per loop"
   ]
  },
  {
   "cell_type": "code",
   "execution_count": null,
   "metadata": {},
   "outputs": [],
   "source": [
    "@numba.jit(nopython=True)\n",
    "def estimate_pi_numba_v2(n):\n",
    "    n_circle = 0\n",
    "    for i in range(n):\n",
    "        x = 2*np.random.random() - 1\n",
    "        y = 2*np.random.random() - 1\n",
    "        if np.sqrt(x**2 + y**2) <= 1:\n",
    "            n_circle += 1\n",
    "    return 4*n_circle/n\n",
    "# 13.1 ms ± 502 µs per loop"
   ]
  },
  {
   "cell_type": "code",
   "execution_count": null,
   "metadata": {},
   "outputs": [],
   "source": [
    "@numba.jit()\n",
    "def estimate_pi_numba_vec(n):\n",
    "    xy = 2*np.random.random((n, 2)) - 1\n",
    "    n_circle = (np.sqrt((xy**2).sum(axis = 1)) <= 1).sum()\n",
    "    return 4*n_circle/n\n",
    "# 37.5 ms ± 3.04"
   ]
  }
 ],
 "metadata": {
  "interpreter": {
   "hash": "61bfb44cfd412e2288739ff2619a0fdec21867f2fb3758d4c15ad282cc991644"
  },
  "kernelspec": {
   "display_name": "Python 3.10.4 64-bit",
   "language": "python",
   "name": "python3"
  },
  "language_info": {
   "codemirror_mode": {
    "name": "ipython",
    "version": 3
   },
   "file_extension": ".py",
   "mimetype": "text/x-python",
   "name": "python",
   "nbconvert_exporter": "python",
   "pygments_lexer": "ipython3",
   "version": "3.10.4"
  },
  "orig_nbformat": 4
 },
 "nbformat": 4,
 "nbformat_minor": 2
}
