{
 "cells": [
  {
   "cell_type": "code",
   "execution_count": null,
   "metadata": {},
   "outputs": [],
   "source": [
    "function estimate_pi(n)\n",
    "    n_circle = 0.0\n",
    "    for i in 1:n\n",
    "        x = 2 * rand() - 1\n",
    "        y = 2 * rand() - 1\n",
    "        if sqrt(x^2 + y^2) <= 1\n",
    "            n_circle += 1\n",
    "        end\n",
    "    end\n",
    "    return 4.0 * n_circle / n\n",
    "end\n",
    "# 4.599 ms ± 300.307 μs"
   ]
  }
 ],
 "metadata": {
  "kernelspec": {
   "display_name": "Julia 1.7.3",
   "language": "julia",
   "name": "julia-1.7"
  },
  "language_info": {
   "name": "julia"
  },
  "orig_nbformat": 4
 },
 "nbformat": 4,
 "nbformat_minor": 2
}
