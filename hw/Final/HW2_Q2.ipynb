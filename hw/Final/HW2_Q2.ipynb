{
 "cells": [
  {
   "cell_type": "markdown",
   "metadata": {
    "id": "hjRM13EAuL3g"
   },
   "source": [
    "# HW2 - Q2: MNIST (35 points)\n",
    "\n",
    "**Keywords**: Multiclass Classification, Least Squares Regression, PyTorch\n",
    "\n",
    "**About the dataset**: \\\n",
    "*   The [MNIST](https://en.wikipedia.org/wiki/MNIST_database) database (Modified National Institute of Standards and Technology database) is a large database of handwritten digits that is commonly used for training various image processing systems.\n",
    "*   The MNIST database contains 70,000 labeled images. Each datapoint is a $28\\times 28$ pixels grayscale image.\n",
    "*   However because of compute limitations, we will use a much smaller dataset with size $8\\times 8$ images. These images are loaded from `sklearn.datasets`.\n",
    "\n",
    "**Agenda**:\n",
    "* In this programming challenge, you will be performing multiclass classification on the simplified MNIST dataset.\n",
    "* You will be applying Multiclass Logistic Regression from scratch. You will work with both Mean Square Error (L2) loss and Cross Entropy (CE) loss with gradient descent (GD) as well as stochastic/mini-batch gradient descent (SGD). \n",
    "* You will also see how using PyTorch does much of the heavylifting for modeling and training.\n",
    "* Finally, you will train a 2-hidden-layer Neural Network model on the image dataset.\n",
    "* All the predictions will be evaluated on a test set.\n",
    "\n",
    "**Note:**\n",
    "* Hardware accelaration is not needed but is recommended!\n",
    "* A note on working with GPU:\n",
    "  * Take care that whenever declaring new tensors, set `device=device` in parameters. \n",
    "  * You can also move a declared torch tensor/model to device using `.to(device)`. \n",
    "  * To move a torch model/tensor to cpu, use `.to('cpu')`\n",
    "  * Keep in mind that all the tensors/model involved in a computation have to be on the same device (CPU/GPU).\n",
    "* Run all the cells in order.\n",
    "* **Do not edit** the cells marked with !!DO NOT EDIT!!\n",
    "* Only **add your code** to cells marked with !!!! YOUR CODE HERE !!!!\n",
    "* Do not change variable names, and use the names which are suggested."
   ]
  },
  {
   "cell_type": "markdown",
   "metadata": {
    "id": "ZUJgYttwjmpK"
   },
   "source": [
    "\n",
    "\n",
    "---\n",
    "\n"
   ]
  },
  {
   "cell_type": "code",
   "execution_count": 1,
   "metadata": {
    "colab": {
     "base_uri": "https://localhost:8080/"
    },
    "id": "qNtGmOhl1I_m",
    "outputId": "72763742-84e4-4d59-ec5e-48ff4a31023d"
   },
   "outputs": [
    {
     "name": "stdout",
     "output_type": "stream",
     "text": [
      "Number of images: 1797\n",
      "Number of features per image: 64\n"
     ]
    }
   ],
   "source": [
    "# !!DO NOT EDIT!!\n",
    "# imports\n",
    "import torch\n",
    "from torch.autograd import Variable\n",
    "import numpy as np\n",
    "import math\n",
    "from tqdm.notebook import tqdm\n",
    "import matplotlib.pyplot as plt\n",
    "from sklearn.datasets import load_digits\n",
    "from sklearn.model_selection import train_test_split\n",
    "from sklearn.metrics import accuracy_score\n",
    "import time\n",
    "\n",
    "# loading the dataset directly from the scikit-learn library\n",
    "dataset = load_digits()\n",
    "X = dataset.data\n",
    "y = dataset.target\n",
    "print('Number of images:', X.shape[0])\n",
    "print('Number of features per image:', X.shape[1])"
   ]
  },
  {
   "cell_type": "code",
   "execution_count": 2,
   "metadata": {
    "colab": {
     "base_uri": "https://localhost:8080/",
     "height": 395
    },
    "id": "qDy8xSdXyJI3",
    "outputId": "48f0b0bf-2d00-4c46-e290-09da04e06c53"
   },
   "outputs": [
    {
     "data": {
      "image/png": "[encoded data removed]",
      "text/plain": [
       "<Figure size 720x432 with 10 Axes>"
      ]
     },
     "metadata": {},
     "output_type": "display_data"
    }
   ],
   "source": [
    "# !!DO NOT EDIT!!\n",
    "# utility function to plot gallery of images\n",
    "def plot_gallery(images, titles, height, width, n_row=2, n_col=4):\n",
    "    plt.figure(figsize=(2* n_col, 3 * n_row))\n",
    "    plt.subplots_adjust(bottom=0, left=0.01, right=0.99, top=0.90, hspace=0.35)\n",
    "    for i in range(n_row * n_col):\n",
    "        plt.subplot(n_row, n_col, i + 1)\n",
    "        plt.imshow(images[i].reshape((height, width)), cmap=plt.cm.gray)\n",
    "        plt.title(titles[i], size=12)\n",
    "        plt.xticks(())\n",
    "        plt.yticks(())\n",
    "\n",
    "# visualize some of the images of the MNIST dataset\n",
    "plot_gallery(X, y, 8, 8, 2, 5)"
   ]
  },
  {
   "cell_type": "code",
   "execution_count": 3,
   "metadata": {
    "colab": {
     "base_uri": "https://localhost:8080/"
    },
    "id": "lLRlr0wNOKI1",
    "outputId": "cd7ade0c-7af4-4f3c-dce9-449d8919509f"
   },
   "outputs": [
    {
     "name": "stdout",
     "output_type": "stream",
     "text": [
      "Shape of train dataset: (1437, 64)\n",
      "Shape of evaluation dataset: (360, 64)\n"
     ]
    }
   ],
   "source": [
    "# !!DO NOT EDIT!!\n",
    "# Let us split the dataset into training and test sets in a stratified manner.\n",
    "# Note that we are not creating evaluation datset as we will not be tuning hyper-parameters\n",
    "# The split ratio is 4:1\n",
    "X_train, X_test, y_train, y_test = train_test_split(X, y, test_size=0.2, random_state=42, stratify=y)\n",
    "print('Shape of train dataset:', X_train.shape)\n",
    "print('Shape of evaluation dataset:', X_test.shape)"
   ]
  },
  {
   "cell_type": "code",
   "execution_count": 4,
   "metadata": {
    "id": "T6Jam6RdFeIm"
   },
   "outputs": [],
   "source": [
    "# !!DO NOT EDIT!!\n",
    "# define some constants - useful for later\n",
    "num_classes = len(np.unique(y)) # number of target classes = 10 -- (0,1,2,3,4,5,6,7,8,9)\n",
    "num_features = X.shape[1]       # number of features = 64\n",
    "max_epochs = 100000             # max number of epochs for training\n",
    "lr = 1e-2                       # learning rate\n",
    "tolerance = 1e-6                # tolerance for early stopping during training"
   ]
  },
  {
   "cell_type": "code",
   "execution_count": 5,
   "metadata": {
    "id": "hgMgGeeUUFb-"
   },
   "outputs": [],
   "source": [
    "# !!DO NOT EDIT!!\n",
    "# Hardware Accelaration: to set device if using GPU.\n",
    "# You can change runtime in colab by naviagting to (Runtime->Change runtime type), and selecting GPU in hardware accelarator.\n",
    "# NOTE that you can run this homework without GPU.\n",
    "device = 'cuda' if torch.cuda.is_available() else 'cpu'\n",
    "# device"
   ]
  },
  {
   "cell_type": "markdown",
   "metadata": {
    "id": "nhpUZN-ES_e0"
   },
   "source": [
    "### **(a)** In this section, we will apply multiclass logistic regression from scratch with one-vs-all strategy using gradient descent (GD) as well as stochastic gradient descent (SGD) with Mean Squared Error (MSE) loss. (8 points)\n",
    "### We will be using a linear model $y^{(i)} = W \\mathbf{x}^{(i)},$ where \n",
    "$ W_{p\\times n}= \\begin{bmatrix}\n",
    "\\leftarrow & \\mathbf{w}_1^\\top & \\rightarrow \\\\\n",
    "\\leftarrow & \\mathbf{w}_2^\\top & \\rightarrow\\\\\n",
    " & \\vdots &  \\\\\n",
    "\\leftarrow & \\mathbf{w}_p^\\top & \\rightarrow \\\\\n",
    "\\end{bmatrix}$, and $p$ is the number of target classes. Also, $\\mathbf{x}^{(i)}\\in \\mathbb{R}^n, y^{(i)}\\in \\mathbb{R}$, and\n",
    "### \n",
    "\n",
    "$X = \\begin{bmatrix}\n",
    "\\uparrow &  \\uparrow & \\dotsm &  \\uparrow\\\\\n",
    "\\mathbf{x}^{(1)} & \\mathbf{x}^{(2)} & \\dotsm & \\mathbf{x}^{(m)} \\\\\n",
    "\\downarrow & \\downarrow  & \\dotsm & \\downarrow  \\\\\n",
    "\\end{bmatrix}, Y = \\begin{bmatrix}\n",
    "y^{(1)}\\\\\n",
    "y^{(2)} \\\\\n",
    "\\vdots \\\\\n",
    "y^{(m)} \\\\\n",
    "\\end{bmatrix}$, where $m$ is the number of datapoints.\n",
    "\n",
    "\n",
    "### **#1.** Follow the steps outlined below:"
   ]
  },
  {
   "cell_type": "code",
   "execution_count": 6,
   "metadata": {
    "id": "SF5Ih9yKUwUL"
   },
   "outputs": [],
   "source": [
    "from sklearn.preprocessing import MinMaxScaler, OneHotEncoder\n",
    "from collections import defaultdict\n",
    "plt.rcParams[\"figure.figsize\"] = (8,6)"
   ]
  },
  {
   "cell_type": "code",
   "execution_count": 7,
   "metadata": {
    "id": "cQGB7Y9cUO2V"
   },
   "outputs": [],
   "source": [
    "# 1. Scale the features between 0 and 1 \n",
    "# To scale, you can directly use the MinMaxScaler from sklearn.\n",
    "#######\n",
    "# !!!! YOUR CODE HERE !!!!\n",
    "\n",
    "scalar = MinMaxScaler()\n",
    "scalar.fit(X_train)\n",
    "\n",
    "X_train = scalar.transform(X_train)\n",
    "X_test = scalar.transform(X_test)\n",
    "\n",
    "accuracy_tracker = defaultdict(lambda: defaultdict(dict))\n",
    "\n",
    "# output variable names -  X_train, X_test\n",
    "#######"
   ]
  },
  {
   "cell_type": "code",
   "execution_count": 8,
   "metadata": {
    "colab": {
     "base_uri": "https://localhost:8080/"
    },
    "id": "LVZzsDVJUwUM",
    "outputId": "bd3a0f7a-60b2-4b14-b086-d3b654b50be3"
   },
   "outputs": [
    {
     "data": {
      "text/plain": [
       "(1437, 64)"
      ]
     },
     "execution_count": 8,
     "metadata": {},
     "output_type": "execute_result"
    }
   ],
   "source": [
    "X_train.shape\n",
    "# y_train\n",
    "# y_train.shape"
   ]
  },
  {
   "cell_type": "code",
   "execution_count": 9,
   "metadata": {
    "colab": {
     "base_uri": "https://localhost:8080/"
    },
    "id": "iZRF8HumUlen",
    "outputId": "4ef8e7f2-8dfd-4e8e-fa48-f6d16c95bc94"
   },
   "outputs": [
    {
     "name": "stdout",
     "output_type": "stream",
     "text": [
      "Shape of y_train_one: (1437, 10)\n",
      "Shape of y_test_one: (360, 10)\n"
     ]
    }
   ],
   "source": [
    "# 2. One-Hot encode the target labels\n",
    "# To one-hot encode, you can use the OneHotEncoder from sklearn\n",
    "#######\n",
    "# !!!! YOUR CODE HERE !!!!\n",
    "\n",
    "encoder = OneHotEncoder()\n",
    "\n",
    "y_train_one =  encoder.fit_transform(y_train.reshape(-1,1)).toarray()\n",
    "y_test_one =  encoder.fit_transform(y_test.reshape(-1,1)).toarray()\n",
    "\n",
    "# output variable names -  y_train_one, y_test_one\n",
    "#######\n",
    "print('Shape of y_train_one:',y_train_one.shape)\n",
    "print('Shape of y_test_one:',y_test_one.shape)\n",
    "\n",
    "# y_test_one[3].toarray()"
   ]
  },
  {
   "cell_type": "markdown",
   "metadata": {
    "id": "lJN3wY7CXe10"
   },
   "source": [
    "**Note:** Here we need to define the model prediction. The input matrix is $X_{n\\times m}$ where $m$ is the number of examples, and $n$ is the number of features. The linear predictions can be given by: $Y = WX + b$ where $W$ is a $p\\times n$ weight matrix and $\\mathbf{b}$ is a $p$ size bias vector. $p$ is the number of target labels."
   ]
  },
  {
   "cell_type": "markdown",
   "metadata": {
    "id": "AztFFkzUuHW1"
   },
   "source": [
    "### **#2.** Define a function `linear_model` that takes as input a weight matrix (`W`), bias vector (`b`), and input data matrix of size $m\\times n$ (`XT`). This function should return the predictions $\\hat{y}$. "
   ]
  },
  {
   "cell_type": "code",
   "execution_count": 10,
   "metadata": {
    "id": "75DOhP-EVsRs"
   },
   "outputs": [],
   "source": [
    "#######\n",
    "# !!!! YOUR CODE HERE !!!!\n",
    "\n",
    "def linear_model(W, b, XT):\n",
    "    return  XT @ W.T + b\n",
    "#######"
   ]
  },
  {
   "cell_type": "markdown",
   "metadata": {
    "id": "ejbSxyl2du2L"
   },
   "source": [
    "**Note:** The loss function that we would be using is the Mean Square Error (L2) Loss:\\\n",
    "$\\displaystyle MSE = \\frac{1}{m}\\sum_{i=1}^m(\\hat{y}^{(i)}-y^{(i)})^2$, where $m$ is the number of examples, $\\hat{y}^{(i)}$ is the \n",
    "predicted value and $y^{(i)}$ is the ground truth."
   ]
  },
  {
   "cell_type": "markdown",
   "metadata": {
    "id": "8snSDdp4u49o"
   },
   "source": [
    "### **#3.**Define a function `mse_loss` that takes as input prediction (`y_pred`) and actual labels (`y`), and returns the MSE loss."
   ]
  },
  {
   "cell_type": "code",
   "execution_count": 11,
   "metadata": {
    "id": "MGjd_pYPduV0"
   },
   "outputs": [],
   "source": [
    "#######\n",
    "# !!!! YOUR CODE HERE !!!!\n",
    "\n",
    "def mse_loss(y_pred, y):\n",
    "    diff = y - y_pred\n",
    "    return torch.sum(diff*diff) / len(diff)\n",
    "\n",
    "#######"
   ]
  },
  {
   "cell_type": "markdown",
   "metadata": {
    "id": "d27EoDd1vIA7"
   },
   "source": [
    "In the following part, we will do some setup required for training such as initializing weights and biases moving everything to torch tensors.\n",
    "\n",
    "### **#4.** Define a function: `initializeWeightsAndBiases` that returns tuple `(W, b)`, where `W` is a randomly generated torch tensor of size `num_classes x num_features`, and `b` is a randomly generated torch vector of size `num_classes`. For both the tensors, set `requires_grad=True` in parameters."
   ]
  },
  {
   "cell_type": "markdown",
   "metadata": {
    "id": "Rqj4Xy_QwRBs"
   },
   "source": [
    "Move all training and testing data to torch tensors with `dtype=float32`. Remember to set `device=device` in parameters."
   ]
  },
  {
   "cell_type": "code",
   "execution_count": 12,
   "metadata": {
    "id": "B8YiUt1ewQYz"
   },
   "outputs": [],
   "source": [
    "#######\n",
    "# !!!! YOUR CODE HERE !!!!\n",
    "\n",
    "def initializeWeightAndBiases():\n",
    "    W = torch.rand((num_classes, num_features), requires_grad=True, dtype = torch.float32, device=device )\n",
    "    b = torch.rand(num_classes, requires_grad=True, dtype = torch.float32,  device = device)\n",
    "    return W, b\n",
    "\n",
    "\n",
    "X_train_torch = torch.tensor(X_train, dtype = torch.float32, device = device)\n",
    "y_train_one_torch = torch.tensor(y_train_one, dtype = torch.float32, device = device)\n",
    "X_test_torch = torch.tensor(X_test, dtype = torch.float32, device = device)\n",
    "y_test_one_torch = torch.tensor(y_test_one, dtype = torch.float32, device = device)\n",
    "\n",
    "\n",
    "# output variable names -  X_train_torch, X_test_torch, y_train_one_torch, y_test_one_torch\n",
    "#######"
   ]
  },
  {
   "cell_type": "markdown",
   "metadata": {
    "id": "wpiEdcLYg6Vb"
   },
   "source": [
    "### **#5.** In this part we will implement the code for training. Given below is a function: `train_linear_regression_model` that takes as input max number of epochs (`max_epochs`), batch size (`batch_size`), Weights (`W`), Biases (`b`), training data (`X_train, y_train`), learning rate (`lr`), tolerance for stopping (`tolerance`). It return a tuple `(W,b,losses)` where `W,b` are the trained weigths and biases respectively, and `losses` is a list of tuples of loss logged every $100^{th}$  epoch.\n",
    "\n",
    "Complete each of the steps outlines below. You can go through [this](https://towardsdatascience.com/understanding-pytorch-with-an-example-a-step-by-step-tutorial-81fc5f8c4e8e#ea0d) article for reference."
   ]
  },
  {
   "cell_type": "code",
   "execution_count": 13,
   "metadata": {
    "id": "xZrxj7NEJhiw"
   },
   "outputs": [],
   "source": [
    "# Define a function train_linear_regression_model\n",
    "def train_linear_regression_model(max_epochs, batch_size, W, b, X_train, y_train, lr, tolerance):\n",
    "  losses = []\n",
    "  prev_loss = float('inf')\n",
    "  number_of_batches = math.ceil(len(X_train)/batch_size)\n",
    "\n",
    "  # optimizer = torch.optim.SGD(params = [W,b], lr=lr)\n",
    "\n",
    "  for epoch in tqdm(range(max_epochs)):\n",
    "    for i in range(number_of_batches):\n",
    "      X_train_batch = X_train[i*batch_size: (i+1)*batch_size]\n",
    "      y_train_batch = y_train[i*batch_size: (i+1)*batch_size]\n",
    "     \n",
    "      #######\n",
    "      # !!!! YOUR CODE HERE !!!!\n",
    "      # 7. do prediction\n",
    "      y_pred = linear_model(W,b, X_train_batch)\n",
    "\n",
    "      # 8. get the loss\n",
    "      loss = mse_loss(y_pred= y_pred, y = y_train_batch)\n",
    "\n",
    "      # 9. backpropagate loss\n",
    "      loss.backward()\n",
    "\n",
    "      # 10. update the weights and biasees\n",
    "      with torch.no_grad():\n",
    "        W -= lr*W.grad\n",
    "        b -= lr*b.grad\n",
    "\n",
    "        # 11. set the gradients to zero\n",
    "        W.grad.zero_()\n",
    "        b.grad.zero_()\n",
    "      \n",
    "      #######\n",
    "\n",
    "    # log loss every 100th epoch and print every 5000th epoch:\n",
    "    if epoch%100==0:\n",
    "      losses.append((epoch, loss.item()))\n",
    "      if epoch%5000==0:\n",
    "        print('Epoch: {}, Loss: {}'.format(epoch, loss.item()))\n",
    "\n",
    "    # break if decrease in loss is less than threshold\n",
    "    if abs(prev_loss-loss)<=tolerance:\n",
    "      break\n",
    "    else:\n",
    "      prev_loss=loss  \n",
    "\n",
    "  # return updated weights, biases, and logged losses\n",
    "  return W, b, losses"
   ]
  },
  {
   "cell_type": "markdown",
   "metadata": {
    "id": "QFJ-tBGgeOdw"
   },
   "source": [
    "### **#6.** Initialize weights and biases using the `initializeWeightsAndBiases` function that you defined earlier, and train your model using function `train_linear_regression_model` defined above. Use full batch (set `batch_size=len(X_train)` for training (Gradient Descent). Also plot the graph of loss vs number of epochs (Recall that values for learning rate (`lr`) and tolerance (`tolerance`) are already defined above)."
   ]
  },
  {
   "cell_type": "code",
   "execution_count": 14,
   "metadata": {
    "colab": {
     "base_uri": "https://localhost:8080/"
    },
    "id": "_T5uEa3LUwUQ",
    "outputId": "3037b574-5797-44ad-f325-69e57ab158aa"
   },
   "outputs": [
    {
     "data": {
      "text/plain": [
       "(torch.Size([10, 64]), torch.Size([10]))"
      ]
     },
     "execution_count": 14,
     "metadata": {},
     "output_type": "execute_result"
    }
   ],
   "source": [
    "W, b = initializeWeightAndBiases()\n",
    "W.shape, b.shape"
   ]
  },
  {
   "cell_type": "code",
   "execution_count": 15,
   "metadata": {
    "colab": {
     "base_uri": "https://localhost:8080/",
     "height": 136,
     "referenced_widgets": [
      "9858883bccca47629537707fc7ba8ee0",
      "aa1a8bfd98ea46e0bf31a2fdbd2e495f",
      "5d71a6d348b149dca4c48dbff540f47f",
      "5229163b9b424b4c9bbfc872ff0ab69b",
      "715dbadf170447698f027ecb5e50ad0f",
      "115221b2647248eb92309aa0b362718b",
      "f13f3621b6f04982af3b76cc3dd67e5f",
      "3526ea6a44e945629f799fd19e2957b8",
      "45d73c4521294005b7fe8aa797d433ea",
      "27f9658d547047cea32df4880167e1bd",
      "d770147977e143de82373f7fd5a7dbb8"
     ]
    },
    "id": "zHfBioX0K294",
    "outputId": "c3bfc97f-86de-4f2b-ff9b-e90b3669f8be"
   },
   "outputs": [
    {
     "data": {
      "application/vnd.jupyter.widget-view+json": {
       "model_id": "9858883bccca47629537707fc7ba8ee0",
       "version_major": 2,
       "version_minor": 0
      },
      "text/plain": [
       "  0%|          | 0/100000 [00:00<?, ?it/s]"
      ]
     },
     "metadata": {},
     "output_type": "display_data"
    },
    {
     "name": "stdout",
     "output_type": "stream",
     "text": [
      "Epoch: 0, Loss: 1054.0625\n",
      "Epoch: 5000, Loss: 0.3990848660469055\n",
      "Epoch: 10000, Loss: 0.3412594497203827\n",
      "Epoch: 15000, Loss: 0.32514601945877075\n",
      "Time taken for full gradient descent 14.340976238250732\n"
     ]
    }
   ],
   "source": [
    "#######\n",
    "# !!!! YOUR CODE HERE !!!!\n",
    "\n",
    "start = time.time()\n",
    "W, b = initializeWeightAndBiases()\n",
    "W, b, losses = train_linear_regression_model(max_epochs=max_epochs,batch_size=len(X_train),W = W, b = b, X_train = X_train_torch, y_train = y_train_one_torch, lr = lr, tolerance=tolerance );\n",
    "end = time.time()\n",
    "print(f\"Time taken for full gradient descent {end-start}\",)\n",
    "#######"
   ]
  },
  {
   "cell_type": "code",
   "execution_count": 16,
   "metadata": {
    "colab": {
     "base_uri": "https://localhost:8080/",
     "height": 421
    },
    "id": "hYMhFPddUwUR",
    "outputId": "aeaaa3c1-6b9e-4aed-f382-3fa2c9de0798"
   },
   "outputs": [
    {
     "data": {
      "text/plain": [
       "[<matplotlib.lines.Line2D at 0x7ffa7a317050>]"
      ]
     },
     "execution_count": 16,
     "metadata": {},
     "output_type": "execute_result"
    },
    {
     "data": {
      "image/png": "[encoded data removed]",
      "text/plain": [
       "<Figure size 576x432 with 1 Axes>"
      ]
     },
     "metadata": {
      "needs_background": "light"
     },
     "output_type": "display_data"
    }
   ],
   "source": [
    "# Plot loss vs epochs\n",
    "\n",
    "plt.title(\"Loss vs epochs (gradient descent)\")\n",
    "plt.ylabel(\"loss\")\n",
    "plt.xlabel(\"epochs\")\n",
    "\n",
    "x, y = zip(*losses)\n",
    "plt.plot(x,y)\n",
    "# losses"
   ]
  },
  {
   "cell_type": "code",
   "execution_count": 17,
   "metadata": {
    "colab": {
     "base_uri": "https://localhost:8080/"
    },
    "id": "Dl0bD7JUWnIC",
    "outputId": "c4b50483-341c-40c2-cf80-8f1cb595e85e"
   },
   "outputs": [
    {
     "data": {
      "text/plain": [
       "defaultdict(dict, {})"
      ]
     },
     "execution_count": 17,
     "metadata": {},
     "output_type": "execute_result"
    }
   ],
   "source": [
    "accuracy_tracker[\"lm_scratch_full_gd\"]"
   ]
  },
  {
   "cell_type": "code",
   "execution_count": 18,
   "metadata": {
    "colab": {
     "base_uri": "https://localhost:8080/"
    },
    "id": "QIDhQXpTYX9T",
    "outputId": "80c24c76-9ed0-408d-eda1-97e79788b176"
   },
   "outputs": [
    {
     "name": "stdout",
     "output_type": "stream",
     "text": [
      "Train accuracy: 0.9478079331941545\n",
      "Test accuracy: 0.9361111111111111\n"
     ]
    }
   ],
   "source": [
    "# !!DO NOT EDIT!!\n",
    "# print accuracies of model\n",
    "predictions_train = linear_model(W,b,X_train_torch).to('cpu')\n",
    "predictions_test = linear_model(W,b,X_test_torch).to('cpu')\n",
    "y_train_pred = torch.argmax(predictions_train, dim=1).numpy()\n",
    "\n",
    "y_test_pred = torch.argmax(predictions_test, dim=1).numpy()\n",
    "print(\"Train accuracy:\",accuracy_score(y_train_pred, np.asarray(y_train, dtype=np.float32)))\n",
    "print(\"Test accuracy:\",accuracy_score(y_test_pred, np.asarray(y_test, dtype=np.float32)))\n",
    "\n",
    "\n",
    "accuracy_tracker[\"lm_scratch_full_gd\"][\"train\"] = accuracy_score(y_train_pred, np.asarray(y_train, dtype=np.float32))\n",
    "accuracy_tracker[\"lm_scratch_full_gd\"][\"test\"] = accuracy_score(y_test_pred, np.asarray(y_test, dtype=np.float32))\n"
   ]
  },
  {
   "cell_type": "markdown",
   "metadata": {
    "id": "RZprgWslioL7"
   },
   "source": [
    "### **#7.** Now, retrain the above model with `batch_size=64` (Stochastic/Mini-batch Gradient Descent) keeping else everything same. Like before, plot the graph between loss and number of epochs."
   ]
  },
  {
   "cell_type": "code",
   "execution_count": 19,
   "metadata": {
    "colab": {
     "base_uri": "https://localhost:8080/",
     "height": 84,
     "referenced_widgets": [
      "ad8637dd1fe2463f9d38fe9690f495d9",
      "8bb3e21ce2504526aae89b49ffa03a86",
      "c421b3f5c19c444ebed929d58a834fb7",
      "d6eac01f50774eeab2545d88669acaaa",
      "1d83f3763f5742a68781f38b71bbc755",
      "0a63642a228d4b019435a99c304145bf",
      "5aafc886f8cd4eda904251a9abcf5078",
      "79c91ce65c07499eac66c1e6beb0d4e4",
      "3a68c23c214749b99b0b7495d699a928",
      "e1682208e3e349738e25ea79b4857576",
      "81f415dba261467aa0183dd6c852dafa"
     ]
    },
    "id": "jvmpFZcvUwUS",
    "outputId": "8ad387a7-2025-4fb7-9124-e2941b9ea09d"
   },
   "outputs": [
    {
     "data": {
      "application/vnd.jupyter.widget-view+json": {
       "model_id": "ad8637dd1fe2463f9d38fe9690f495d9",
       "version_major": 2,
       "version_minor": 0
      },
      "text/plain": [
       "  0%|          | 0/100000 [00:00<?, ?it/s]"
      ]
     },
     "metadata": {},
     "output_type": "display_data"
    },
    {
     "name": "stdout",
     "output_type": "stream",
     "text": [
      "Epoch: 0, Loss: 4.815925121307373\n",
      "Time taken for mini-batch gradient descent 30.465348482131958\n"
     ]
    }
   ],
   "source": [
    "W, b = initializeWeightAndBiases()\n",
    "\n",
    "start = time.time()\n",
    "W, b, losses = train_linear_regression_model(max_epochs=max_epochs,batch_size=64,W = W, b = b, X_train = X_train_torch, y_train = y_train_one_torch, lr = lr, tolerance=tolerance );\n",
    "end = time.time()\n",
    "print(f\"Time taken for mini-batch gradient descent {end-start}\",)\n"
   ]
  },
  {
   "cell_type": "code",
   "execution_count": 20,
   "metadata": {
    "colab": {
     "base_uri": "https://localhost:8080/",
     "height": 421
    },
    "id": "Qk628EBsUwUS",
    "outputId": "ad4cae3f-8c65-4750-d801-73b4d73e48fe"
   },
   "outputs": [
    {
     "data": {
      "text/plain": [
       "[<matplotlib.lines.Line2D at 0x7ffa71b79e50>]"
      ]
     },
     "execution_count": 20,
     "metadata": {},
     "output_type": "execute_result"
    },
    {
     "data": {
      "image/png": "[encoded data removed]",
      "text/plain": [
       "<Figure size 576x432 with 1 Axes>"
      ]
     },
     "metadata": {
      "needs_background": "light"
     },
     "output_type": "display_data"
    }
   ],
   "source": [
    "# Plot loss vs epochs\n",
    "\n",
    "plt.title(\"Loss vs epochs | SGD (batch-64)\")\n",
    "plt.ylabel(\"loss\")\n",
    "plt.xlabel(\"epochs\")\n",
    "\n",
    "x, y = zip(*losses)\n",
    "plt.plot(x,y)\n",
    "# losses"
   ]
  },
  {
   "cell_type": "code",
   "execution_count": 21,
   "metadata": {
    "colab": {
     "base_uri": "https://localhost:8080/"
    },
    "id": "y5O3T2zkjy2S",
    "outputId": "262ae735-25e5-4a4b-fb63-c492bc88fc91"
   },
   "outputs": [
    {
     "name": "stdout",
     "output_type": "stream",
     "text": [
      "Train accuracy: 0.9464161447459986\n",
      "Test accuracy: 0.9388888888888889\n"
     ]
    }
   ],
   "source": [
    "# !!DO NOT EDIT!!\n",
    "# print accuracies of model\n",
    "predictions_train = linear_model(W,b,X_train_torch).to('cpu')\n",
    "predictions_test = linear_model(W,b,X_test_torch).to('cpu')\n",
    "y_train_pred = torch.argmax(predictions_train, dim=1).numpy()\n",
    "\n",
    "y_test_pred = torch.argmax(predictions_test, dim=1).numpy()\n",
    "print(\"Train accuracy:\",accuracy_score(y_train_pred, np.asarray(y_train, dtype=np.float32)))\n",
    "print(\"Test accuracy:\",accuracy_score(y_test_pred, np.asarray(y_test, dtype=np.float32)))\n",
    "\n",
    "accuracy_tracker[\"lm_scratch_sgd\"][\"train\"] = accuracy_score(y_train_pred, np.asarray(y_train, dtype=np.float32))\n",
    "accuracy_tracker[\"lm_scratch_sgd\"][\"test\"] = accuracy_score(y_test_pred, np.asarray(y_test, dtype=np.float32))"
   ]
  },
  {
   "cell_type": "markdown",
   "metadata": {
    "id": "QHPAmI5BmHkv"
   },
   "source": [
    "\n",
    "\n",
    "---\n",
    "\n"
   ]
  },
  {
   "cell_type": "markdown",
   "metadata": {
    "id": "iz8cNUXR5DOu"
   },
   "source": [
    "### **(b)** In the previous question, we defined the model, loss, and even the gradient update step. We also had to manully set the grad to zero. In this question, we will re-implement the linear model and see how we can directly use Pytorch to do all this for us in a few simple steps. (6 points)"
   ]
  },
  {
   "cell_type": "code",
   "execution_count": 22,
   "metadata": {
    "id": "Lwm9t0K0lbvl"
   },
   "outputs": [],
   "source": [
    "# !! DO NOT EDIT !!\n",
    "# common utility function to print accuracies\n",
    "def print_accuracies_torch(model, X_train_torch, X_test_torch, y_train, y_test):\n",
    "  predictions_train = model(X_train_torch).to('cpu')\n",
    "  predictions_test = model(X_test_torch).to('cpu')\n",
    "  y_train_pred = torch.argmax(predictions_train, dim=1).numpy()\n",
    "  y_test_pred = torch.argmax(predictions_test, dim=1).numpy()\n",
    "\n",
    "  train_acc = accuracy_score(y_train_pred, np.asarray(y_train, dtype=np.float32))\n",
    "  test_acc = accuracy_score(y_test_pred, np.asarray(y_test, dtype=np.float32))\n",
    "\n",
    "  print(\"Train accuracy:\", train_acc)\n",
    "  print(\"Test accuracy:\",test_acc)\n",
    "\n",
    "  return train_acc, test_acc\n"
   ]
  },
  {
   "cell_type": "code",
   "execution_count": 23,
   "metadata": {
    "id": "VBxSvD1iUwUT"
   },
   "outputs": [],
   "source": [
    "W, b = initializeWeightAndBiases()"
   ]
  },
  {
   "cell_type": "markdown",
   "metadata": {
    "id": "MSjn0TlT0_X5"
   },
   "source": [
    "### **#1.** Define the linear model using PyTorch"
   ]
  },
  {
   "cell_type": "code",
   "execution_count": 24,
   "metadata": {
    "id": "tAVqYskI4ohI"
   },
   "outputs": [],
   "source": [
    "#######\n",
    "# !!!! YOUR CODE HERE !!!!\n",
    "# Define a model class using torch.nn\n",
    "class Linear_Model(torch.nn.Module):\n",
    "  def __init__(self):\n",
    "    super(Linear_Model, self).__init__()\n",
    "    # Initalize various layers of model as instructed below\n",
    "    # 1. initialze one linear layer: num_features -> num_targets\n",
    "    self.linear = torch.nn.Linear(num_features, num_classes, bias=True)\n",
    "\n",
    "\n",
    "  def forward(self, X):\n",
    "    # 2. define the feedforward algorithm of the model and return the final output\n",
    "    output =  self.linear(X)\n",
    "    return output\n",
    "\n",
    "#######"
   ]
  },
  {
   "cell_type": "markdown",
   "metadata": {
    "id": "9zyx8lVTFq8q"
   },
   "source": [
    "### **#2.** In this part we will implement a general function for training a PyTorch model. Define a general training function: `train_torch_model` that takes as input an initialized torch model (`model`), batch size (`batch_size`), initialized loss (`criterion`), max number of epochs (`max_epochs`), training data (`X_train, y_train`), learning rate (`lr`), tolerance for stopping (`tolerance`). This function will return a tuple `(model, losses)`, where `model` is the trained model, and `losses` is a list of tuples of loss logged every $100^{th}$ epoch. Complete each of the steps outlines below. You can go through [this](https://towardsdatascience.com/understanding-pytorch-with-an-example-a-step-by-step-tutorial-81fc5f8c4e8e#ea0d) article for reference.  You can also refer Q3-(d) from HW1."
   ]
  },
  {
   "cell_type": "code",
   "execution_count": 25,
   "metadata": {
    "id": "4T04zQPE53rS"
   },
   "outputs": [],
   "source": [
    "# Define a function train_torch_model\n",
    "def train_torch_model(model, batch_size, criterion, max_epochs, X_train, y_train, lr, tolerance):\n",
    "  losses = []\n",
    "  prev_loss = float('inf')\n",
    "  number_of_batches = math.ceil(len(X_train)/batch_size)\n",
    "  \n",
    "  #######\n",
    "  # !!!! YOUR CODE HERE !!!!\n",
    "  # 3. move model to device\n",
    "  model = model.to(device)\n",
    "\n",
    "  # 4. define optimizer (use torch.optim.SGD (Stochastic Gradient Descent))\n",
    "  # Set learning rate to lr and also set model parameters\n",
    "  optimizer = torch.optim.SGD(params = model.parameters(), lr=lr)\n",
    "\n",
    "  for epoch in tqdm(range(max_epochs)):\n",
    "    for i in range(number_of_batches):\n",
    "      X_train_batch = X_train[i*batch_size: (i+1)*batch_size]\n",
    "      y_train_batch = y_train[i*batch_size: (i+1)*batch_size]\n",
    "\n",
    "      # 5. reset gradients\n",
    "      optimizer.zero_grad()\n",
    "\n",
    "      # 6. prediction\n",
    "      y_pred = model(X_train_batch)\n",
    "\n",
    "      # 7. calculate loss\n",
    "      loss = criterion(y_pred,y_train_batch)\n",
    "\n",
    "      # 8. backpropagate loss\n",
    "      loss.backward()\n",
    "\n",
    "      # 9. perform a single gradient update step\n",
    "      optimizer.step()\n",
    "\n",
    "  #######\n",
    "\n",
    "    # log loss every 100th epoch and print every 5000th epoch:\n",
    "    if epoch%100==0:\n",
    "      losses.append((epoch, loss.item()))\n",
    "      if epoch%5000==0:\n",
    "        print('Epoch: {}, Loss: {}'.format(epoch, loss.item()))\n",
    "    \n",
    "    # break if decrease in loss is less than threshold\n",
    "    if abs(prev_loss-loss)<=tolerance:\n",
    "      break\n",
    "    else:\n",
    "      prev_loss=loss\n",
    "\n",
    "  # return updated model and logged losses\n",
    "  return model, losses"
   ]
  },
  {
   "cell_type": "markdown",
   "metadata": {
    "id": "Y7RzDMajj8sc"
   },
   "source": [
    "### **#3.** Initialize your model and loss function. Use `nn.MSELoss`. Use full batch for training (Gradient Descent). Also plot the graph of loss vs number of epochs."
   ]
  },
  {
   "cell_type": "code",
   "execution_count": 26,
   "metadata": {
    "colab": {
     "base_uri": "https://localhost:8080/",
     "height": 101,
     "referenced_widgets": [
      "3a4905f1fd284071a5e1f32bbf499e15",
      "20301b5bd7814181951332a0411aa302",
      "c19c79e36690405d9b7dcacae5669cb9",
      "7a3b81bb919145bd80f46c3d9ba6306f",
      "328a5e539f9f4ecfb525f2a12307ab0e",
      "44437a88e1c54766a1069e13fab8ff9d",
      "31ae3a227960450d85fb46d9f75c4128",
      "6a37b32086ee4570941edb2b4dd84fd0",
      "da47c945619a4f34b49e25df247c67f7",
      "aaacf896c5f44f9eae8ea82b4ca1c769",
      "7b09e9250447454b830f5393431c61cd"
     ]
    },
    "id": "LDm0__pE6edF",
    "outputId": "7d213c48-dcb0-44db-9779-5a27e559c971"
   },
   "outputs": [
    {
     "data": {
      "application/vnd.jupyter.widget-view+json": {
       "model_id": "3a4905f1fd284071a5e1f32bbf499e15",
       "version_major": 2,
       "version_minor": 0
      },
      "text/plain": [
       "  0%|          | 0/100000 [00:00<?, ?it/s]"
      ]
     },
     "metadata": {},
     "output_type": "display_data"
    },
    {
     "name": "stdout",
     "output_type": "stream",
     "text": [
      "Epoch: 0, Loss: 0.22564804553985596\n",
      "Epoch: 5000, Loss: 0.0392778255045414\n",
      "Time taken for full gradient descent (MSE Loss) - 4.749436616897583 s\n"
     ]
    }
   ],
   "source": [
    "#######\n",
    "# !!!! YOUR CODE HERE !!!!\n",
    "model = Linear_Model()\n",
    "criterion = torch.nn.MSELoss()\n",
    "\n",
    "start=time.time()\n",
    "model, losses = train_torch_model(model, batch_size=len(X_train), criterion = criterion, max_epochs= max_epochs, X_train = X_train_torch, y_train = y_train_one_torch, lr = lr, tolerance=tolerance )\n",
    "end=time.time()\n",
    "print(f\"Time taken for full gradient descent (MSE Loss) - {end-start} s\")\n",
    "\n",
    "# losses\n",
    "#######"
   ]
  },
  {
   "cell_type": "code",
   "execution_count": 27,
   "metadata": {
    "colab": {
     "base_uri": "https://localhost:8080/",
     "height": 421
    },
    "id": "YOZ4vbUEUwUU",
    "outputId": "3911c39d-37c5-4b6d-9f8b-1357237dc534"
   },
   "outputs": [
    {
     "data": {
      "text/plain": [
       "[<matplotlib.lines.Line2D at 0x7ffa71b0d390>]"
      ]
     },
     "execution_count": 27,
     "metadata": {},
     "output_type": "execute_result"
    },
    {
     "data": {
      "image/png": "[encoded data removed]",
      "text/plain": [
       "<Figure size 576x432 with 1 Axes>"
      ]
     },
     "metadata": {
      "needs_background": "light"
     },
     "output_type": "display_data"
    }
   ],
   "source": [
    "plt.title(\"Loss vs epochs | Gradient Descent Linear Model | MSE Loss\")\n",
    "plt.ylabel(\"loss\")\n",
    "plt.xlabel(\"epochs\")\n",
    "\n",
    "x, y = zip(*losses)\n",
    "plt.plot(x,y)"
   ]
  },
  {
   "cell_type": "code",
   "execution_count": 28,
   "metadata": {
    "colab": {
     "base_uri": "https://localhost:8080/"
    },
    "id": "TIMHwStJ8zzl",
    "outputId": "9641b5ab-24a8-4895-d886-8e317e3766b8"
   },
   "outputs": [
    {
     "name": "stdout",
     "output_type": "stream",
     "text": [
      "Train accuracy: 0.9262352122477383\n",
      "Test accuracy: 0.9083333333333333\n"
     ]
    }
   ],
   "source": [
    "# !!DO NOT EDIT!!\n",
    "# print accuracies of model\n",
    "train_acc, test_acc = print_accuracies_torch(model, X_train_torch, X_test_torch, y_train, y_test)\n",
    "\n",
    "accuracy_tracker[\"lm_torch_full_gd_mse\"][\"train\"] = train_acc\n",
    "accuracy_tracker[\"lm_torch_full_gd_mse\"][\"test\"] = test_acc"
   ]
  },
  {
   "cell_type": "markdown",
   "metadata": {
    "id": "eMXOadCpkufn"
   },
   "source": [
    "### **#4.** Now, retrain the above model with `batch_size=64` (Stochastic/Mini-batch Gradient Descent) keeping else everything same. Like before, plot the graph between loss and number of epochs."
   ]
  },
  {
   "cell_type": "code",
   "execution_count": 29,
   "metadata": {
    "colab": {
     "base_uri": "https://localhost:8080/",
     "height": 84,
     "referenced_widgets": [
      "ed713d4cd4c04e288070510c8097a0e5",
      "0c675f29a5d24d5b819a90e0597671d8",
      "c9f6c3a71ec74e22b15acce5aa8689a8",
      "2127107dea1a40b9a531b55044365fbf",
      "9282a7521c864e9ea58e62b1e16854c1",
      "7e3ec9b222894f86a244d4acc04fb2ab",
      "ce83ad25c2094781b9324489ad4f7d10",
      "54263dca0ab44774aa6d318c5093d17a",
      "4c2100851bd645dcacf00f385760acd3",
      "e93f0c5a2f26494596a4adb9e78f31f7",
      "3633998c39bc47f2960552e208c396c1"
     ]
    },
    "id": "xsj_apLOkt17",
    "outputId": "881e19ff-4d5a-44d6-8bb2-991d55e63104"
   },
   "outputs": [
    {
     "data": {
      "application/vnd.jupyter.widget-view+json": {
       "model_id": "ed713d4cd4c04e288070510c8097a0e5",
       "version_major": 2,
       "version_minor": 0
      },
      "text/plain": [
       "  0%|          | 0/100000 [00:00<?, ?it/s]"
      ]
     },
     "metadata": {},
     "output_type": "display_data"
    },
    {
     "name": "stdout",
     "output_type": "stream",
     "text": [
      "Epoch: 0, Loss: 0.1609172224998474\n",
      "Time taken for SGD-64 (MSE Loss) - 14.869995355606079 s\n"
     ]
    }
   ],
   "source": [
    "#######\n",
    "# !!!! YOUR CODE HERE !!!!\n",
    "\n",
    "model = Linear_Model()\n",
    "criterion = torch.nn.MSELoss()\n",
    "\n",
    "start = time.time()\n",
    "model, losses = train_torch_model(model, batch_size=64, criterion = criterion, max_epochs= max_epochs, X_train = X_train_torch, y_train = y_train_one_torch, lr = lr, tolerance=tolerance )\n",
    "end=time.time()\n",
    "print(f\"Time taken for SGD-64 (MSE Loss) - {end-start} s\")\n",
    "\n",
    "#######"
   ]
  },
  {
   "cell_type": "code",
   "execution_count": 30,
   "metadata": {
    "colab": {
     "base_uri": "https://localhost:8080/",
     "height": 421
    },
    "id": "xCOo5ZbiUwUV",
    "outputId": "d555b758-b8a7-4159-d451-1024e8a00d4f"
   },
   "outputs": [
    {
     "data": {
      "text/plain": [
       "[<matplotlib.lines.Line2D at 0x7ffa71a8bf50>]"
      ]
     },
     "execution_count": 30,
     "metadata": {},
     "output_type": "execute_result"
    },
    {
     "data": {
      "image/png": "[encoded data removed]",
      "text/plain": [
       "<Figure size 576x432 with 1 Axes>"
      ]
     },
     "metadata": {
      "needs_background": "light"
     },
     "output_type": "display_data"
    }
   ],
   "source": [
    "plt.title(\"Loss vs epochs | SGD (batch-64)\")\n",
    "plt.ylabel(\"loss\")\n",
    "plt.xlabel(\"epochs\")\n",
    "\n",
    "x, y = zip(*losses)\n",
    "plt.plot(x,y)"
   ]
  },
  {
   "cell_type": "code",
   "execution_count": 31,
   "metadata": {
    "colab": {
     "base_uri": "https://localhost:8080/"
    },
    "id": "cJHvwtH6k0F6",
    "outputId": "c11afa6a-9fb8-457e-eebd-559ff5ff7b33"
   },
   "outputs": [
    {
     "name": "stdout",
     "output_type": "stream",
     "text": [
      "Train accuracy: 0.941544885177453\n",
      "Test accuracy: 0.9416666666666667\n"
     ]
    }
   ],
   "source": [
    "# !!DO NOT EDIT!!\n",
    "# print accuracies of model\n",
    "train_acc, test_acc = print_accuracies_torch(model, X_train_torch, X_test_torch, y_train, y_test)\n",
    "\n",
    "accuracy_tracker[\"lm_torch_full_sgd_mse\"][\"train\"] = train_acc\n",
    "accuracy_tracker[\"lm_torch_full_sgd_mse\"][\"test\"] = test_acc"
   ]
  },
  {
   "cell_type": "markdown",
   "metadata": {
    "id": "nYiv8O3emFgn"
   },
   "source": [
    "\n",
    "\n",
    "---\n",
    "\n"
   ]
  },
  {
   "cell_type": "markdown",
   "metadata": {
    "id": "QMXvLv81HPCM"
   },
   "source": [
    "### **(c)** Now, instead of using MSELoss, we will use a much more natural loss function for logistic regression task which is the Cross Entropy Loss. (8 points)\n",
    "**Note:**\n",
    "The [Cross Entropy Loss](https://ebookreading.net/view/book/EB9781789130331_73.html) for multiclass calssification is the mean of the negative log likelihood of the output logits after softmax:\\\n",
    "$L = \\underbrace{\\frac{1}{m} \\sum_{i=1}^m \\underbrace{-y^{(i)} \\underbrace{log \\underbrace{\\frac{e^{\\hat{y}^{(i)}}}{\\sum_{j=1}^p e^{\\hat{y}^{(j)}}}}_{\\text{Softmax}}}_{\\text{LogSoftmax}}}_{\\text{Negative Log Likelihood (NLL)}}}_{\\text{Cross Entropy (CE) Loss }}$,\n",
    "\n",
    "\n",
    "where $y^{(i)}$ is the ground truth, and $\\hat{y}^{(k)}$ (also called as *logits*) represent the outputs of the last linear layer of the model. "
   ]
  },
  {
   "cell_type": "markdown",
   "metadata": {
    "id": "WQw1h-A3lCPp"
   },
   "source": [
    "### **#1.** Instead of `nn.MSELoss`, train the above model with `nn.CrossEntropyLoss`. Use full-batch. Also plot the graph between loss and number of epochs."
   ]
  },
  {
   "cell_type": "code",
   "execution_count": 32,
   "metadata": {
    "colab": {
     "base_uri": "https://localhost:8080/",
     "height": 275,
     "referenced_widgets": [
      "f3c5883317e74bf1b5a4b866d09914d3",
      "4f4261b6a2c946e880c8292192460faa",
      "aa21f91bbe51479a84a97aa1c549b105",
      "49cd549d5d5543edb00b51b213e4c04c",
      "fe50d785a8ee40aca1216603f1b1af5e",
      "ea820614370a4e9c9b9061dbd512c0d9",
      "cc43915f672a4e6e886a65d1bba5dcb7",
      "9dc59a45f37540c4ae65af6997a841b4",
      "db9ed3a6c38848d9ace0899960d63685",
      "affc05792f9d4e81aaea46d4b8556c72",
      "90941d30bb344518bb89410315d1193e"
     ]
    },
    "id": "VXmF1XD_9Irh",
    "outputId": "46479f6c-5631-4e77-f416-427819e96789"
   },
   "outputs": [
    {
     "data": {
      "application/vnd.jupyter.widget-view+json": {
       "model_id": "f3c5883317e74bf1b5a4b866d09914d3",
       "version_major": 2,
       "version_minor": 0
      },
      "text/plain": [
       "  0%|          | 0/100000 [00:00<?, ?it/s]"
      ]
     },
     "metadata": {},
     "output_type": "display_data"
    },
    {
     "name": "stdout",
     "output_type": "stream",
     "text": [
      "Epoch: 0, Loss: 2.388305902481079\n",
      "Epoch: 5000, Loss: 0.4048900008201599\n",
      "Epoch: 10000, Loss: 0.27198126912117004\n",
      "Epoch: 15000, Loss: 0.21928532421588898\n",
      "Epoch: 20000, Loss: 0.18934257328510284\n",
      "Epoch: 25000, Loss: 0.16937997937202454\n",
      "Epoch: 30000, Loss: 0.15479661524295807\n",
      "Epoch: 35000, Loss: 0.14349493384361267\n",
      "Epoch: 40000, Loss: 0.13436894118785858\n",
      "Epoch: 45000, Loss: 0.12677443027496338\n",
      "Epoch: 50000, Loss: 0.1203075498342514\n",
      "Epoch: 55000, Loss: 0.1147010400891304\n",
      "Time taken for Full-GD (Cross Entropy Loss) - 46.67390465736389 s\n"
     ]
    }
   ],
   "source": [
    "#######\n",
    "# !!!! YOUR CODE HERE !!!!\n",
    "model = Linear_Model()\n",
    "criterion = torch.nn.CrossEntropyLoss()\n",
    "\n",
    "start = time.time()\n",
    "model, losses = train_torch_model(model, batch_size=len(X_train), criterion = criterion, max_epochs= max_epochs, X_train = X_train_torch, y_train = y_train_one_torch, lr = lr, tolerance=tolerance )\n",
    "end=time.time()\n",
    "print(f\"Time taken for Full-GD (Cross Entropy Loss) - {end-start} s\")\n",
    "#######"
   ]
  },
  {
   "cell_type": "code",
   "execution_count": 33,
   "metadata": {
    "colab": {
     "base_uri": "https://localhost:8080/",
     "height": 421
    },
    "id": "3SPokpDaUwUW",
    "outputId": "92f201db-35e3-4a3c-e897-7cd8da4a9fc4"
   },
   "outputs": [
    {
     "data": {
      "text/plain": [
       "[<matplotlib.lines.Line2D at 0x7ffa71a1ffd0>]"
      ]
     },
     "execution_count": 33,
     "metadata": {},
     "output_type": "execute_result"
    },
    {
     "data": {
      "image/png": "[encoded data removed]",
      "text/plain": [
       "<Figure size 576x432 with 1 Axes>"
      ]
     },
     "metadata": {
      "needs_background": "light"
     },
     "output_type": "display_data"
    }
   ],
   "source": [
    "plt.title(\"Loss vs epochs | GD Linear - Cross Entropy\")\n",
    "plt.ylabel(\"loss\")\n",
    "plt.xlabel(\"epochs\")\n",
    "\n",
    "x, y = zip(*losses)\n",
    "plt.plot(x,y)"
   ]
  },
  {
   "cell_type": "code",
   "execution_count": 34,
   "metadata": {
    "colab": {
     "base_uri": "https://localhost:8080/"
    },
    "id": "gOvC4HdUINQt",
    "outputId": "6c0bfd12-ef8d-4421-ed23-6970c0d79d6d"
   },
   "outputs": [
    {
     "name": "stdout",
     "output_type": "stream",
     "text": [
      "Train accuracy: 0.9798190675017397\n",
      "Test accuracy: 0.9611111111111111\n"
     ]
    }
   ],
   "source": [
    "# !!DO NOT EDIT!!\n",
    "# print accuracies of model\n",
    "train_acc, test_acc = print_accuracies_torch(model, X_train_torch, X_test_torch, y_train, y_test)\n",
    "accuracy_tracker[\"lm_torch_full_gd_ce\"][\"train\"] = train_acc\n",
    "accuracy_tracker[\"lm_torch_full_gd_ce\"][\"test\"] = test_acc"
   ]
  },
  {
   "cell_type": "markdown",
   "metadata": {
    "id": "KGQ_G6tHl8XP"
   },
   "source": [
    "### **#2.** Perform the same task above with `batch_size=64`. Also plot the graph of loss vs epochs."
   ]
  },
  {
   "cell_type": "code",
   "execution_count": 35,
   "metadata": {
    "colab": {
     "base_uri": "https://localhost:8080/",
     "height": 153,
     "referenced_widgets": [
      "806e5e92b0c643a9b4348455e613ab2d",
      "5638df8473dc489587ee3ed5b5d25816",
      "5807c067d3194e66b6fcafa0ba76515b",
      "52938269ddd246eab55cd4f5f446405f",
      "c78da8188bf94701a86f6812c3b6a748",
      "d0d2c6b821184073be14d6b27eab2cf3",
      "c68554e585f84b71bb039d41be5dd832",
      "8163c9d784a74bf68e2d268dc9982319",
      "6e06a805889e493096dd8eb071985382",
      "53a8a7c1e248402fb98583d4cf19876b",
      "a81c3584f8bd42afb15b0d65501d15dc"
     ]
    },
    "id": "6fNrbHH6IOiz",
    "outputId": "0dd31c7b-0f24-49c8-e8f9-c8f2aaee81e3"
   },
   "outputs": [
    {
     "data": {
      "application/vnd.jupyter.widget-view+json": {
       "model_id": "806e5e92b0c643a9b4348455e613ab2d",
       "version_major": 2,
       "version_minor": 0
      },
      "text/plain": [
       "  0%|          | 0/100000 [00:00<?, ?it/s]"
      ]
     },
     "metadata": {},
     "output_type": "display_data"
    },
    {
     "name": "stdout",
     "output_type": "stream",
     "text": [
      "Epoch: 0, Loss: 2.261371374130249\n",
      "Epoch: 5000, Loss: 0.08763083070516586\n",
      "Epoch: 10000, Loss: 0.06120011582970619\n",
      "Epoch: 15000, Loss: 0.04839373379945755\n",
      "Epoch: 20000, Loss: 0.040525201708078384\n",
      "Time taken for SGD-64 (Cross Entropy Loss) - 376.76169872283936 s\n"
     ]
    }
   ],
   "source": [
    "#######\n",
    "# !!!! YOUR CODE HERE !!!!\n",
    "model = Linear_Model()\n",
    "criterion = torch.nn.CrossEntropyLoss()\n",
    "\n",
    "start = time.time()\n",
    "model, losses = train_torch_model(model, batch_size=64, criterion = criterion, max_epochs= max_epochs, X_train = X_train_torch, y_train = y_train_one_torch, lr = lr, tolerance=tolerance )\n",
    "end=time.time()\n",
    "print(f\"Time taken for SGD-64 (Cross Entropy Loss) - {end-start} s\")\n",
    "#######"
   ]
  },
  {
   "cell_type": "code",
   "execution_count": 36,
   "metadata": {
    "colab": {
     "base_uri": "https://localhost:8080/",
     "height": 421
    },
    "id": "MBQZnYWVUwUW",
    "outputId": "58b7f342-9941-4fc0-f049-54076989e3af"
   },
   "outputs": [
    {
     "data": {
      "text/plain": [
       "[<matplotlib.lines.Line2D at 0x7ffa719374d0>]"
      ]
     },
     "execution_count": 36,
     "metadata": {},
     "output_type": "execute_result"
    },
    {
     "data": {
      "image/png": "[encoded data removed]",
      "text/plain": [
       "<Figure size 576x432 with 1 Axes>"
      ]
     },
     "metadata": {
      "needs_background": "light"
     },
     "output_type": "display_data"
    }
   ],
   "source": [
    "plt.title(\"Loss vs epochs | SGD-64 Linear - Cross Entropy\")\n",
    "plt.ylabel(\"loss\")\n",
    "plt.xlabel(\"epochs\")\n",
    "\n",
    "x, y = zip(*losses)\n",
    "plt.plot(x,y)"
   ]
  },
  {
   "cell_type": "code",
   "execution_count": 37,
   "metadata": {
    "colab": {
     "base_uri": "https://localhost:8080/"
    },
    "id": "0o04L-LNmCkp",
    "outputId": "49f6b92f-b6d2-4f26-c5f4-39be183900fe"
   },
   "outputs": [
    {
     "name": "stdout",
     "output_type": "stream",
     "text": [
      "Train accuracy: 0.9979123173277662\n",
      "Test accuracy: 0.9694444444444444\n"
     ]
    }
   ],
   "source": [
    "# !!DO NOT EDIT!!\n",
    "# print accuracies of model\n",
    "train_acc, test_acc = print_accuracies_torch(model, X_train_torch, X_test_torch, y_train, y_test)\n",
    "accuracy_tracker[\"lm_torch_full_sgd_ce\"][\"train\"] = train_acc\n",
    "accuracy_tracker[\"lm_torch_full_sgd_ce\"][\"test\"] = test_acc"
   ]
  },
  {
   "cell_type": "markdown",
   "metadata": {
    "id": "2HgoKWSV73xk"
   },
   "source": [
    "\n",
    "\n",
    "---\n",
    "\n"
   ]
  },
  {
   "cell_type": "markdown",
   "metadata": {
    "id": "flKPhgoccRcL"
   },
   "source": [
    "### **(d)** Now, we will train a neural network in pytorch with two hidden layers of sizes 32 and 16 neurons. We will use non-linear ReLU activations thus effectively making this a non-linear model. We will use this neural network model for multi-class classification with Cross Entropy Loss. (6 points)\n",
    "\n",
    "**Note:** The neural network model output can be represented mathematically as below:\\\n",
    "$\\hat{y}^{(i)}_{10\\times1} = W^{(3)}_{10\\times 16}\\sigma(W^{(2)}_{16\\times 32}\\sigma(W^{(1)}_{32\\times 64}\\mathbf{x}^{(i)}_{64\\times1}+\\mathbf{b}^{(1)}_{32\\times1})+\\mathbf{b}^{(2)}_{16\\times1})+\\mathbf{b}^{(3)}_{10\\times1}$, \\\n",
    "where $\\sigma$ represents ReLU activation, $W^{(i)}$ is the weight of the $i^{th}$ linear layer, and $\\mathbf{b}^{(i)}$ is the layer's bias. We use the subscript to denote the dimension for clarity. "
   ]
  },
  {
   "cell_type": "markdown",
   "metadata": {
    "id": "qXYnz6-eI8MG"
   },
   "source": [
    "### **#1.** Define the 2-hidden layer neural network model below."
   ]
  },
  {
   "cell_type": "code",
   "execution_count": 38,
   "metadata": {
    "id": "d3PSTz2jcQ0j"
   },
   "outputs": [],
   "source": [
    "#######\n",
    "# !!!! YOUR CODE HERE !!!!\n",
    "# Define a neural network model class using torch.nn\n",
    "class NN_Model(torch.nn.Module):\n",
    "  def __init__(self):\n",
    "    super(NN_Model, self).__init__()\n",
    "    # Initalize various layers of model as instructed below\n",
    "    # 1. initialize three linear layers: num_features -> 32, 32 -> 16, 16 -> num_targets\n",
    "    self.linear1 = torch.nn.Linear(num_features, 32, bias=True)\n",
    "    self.linear2 = torch.nn.Linear(32, 16, bias=True)\n",
    "    self.linear3 = torch.nn.Linear(16, num_classes, bias=True)\n",
    "    self.relu = torch.nn.ReLU()\n",
    "\n",
    "    # 2. initialize RELU\n",
    "\n",
    "  def forward(self, X):\n",
    "    # 3. define the feedforward algorithm of the model and return the final output\n",
    "    # Apply non-linear ReLU activation between subsequent layers\n",
    "    out1 = self.relu(self.linear1(X))\n",
    "    out2 = self.relu(self.linear2(out1))\n",
    "    out3 = self.linear3(out2)\n",
    "    return out3\n",
    "\n",
    "\n",
    "#######  "
   ]
  },
  {
   "cell_type": "markdown",
   "metadata": {
    "id": "mERRi4Eamze0"
   },
   "source": [
    "### **#2.** Train the newly defined Neural Network two hidden layer model with Cross Entropy Loss. Use full-batch and plot the graph of loss vs number of epochs. Note that you can re-use the training function `train_torch_model` (from part (b))."
   ]
  },
  {
   "cell_type": "code",
   "execution_count": 39,
   "metadata": {
    "colab": {
     "base_uri": "https://localhost:8080/",
     "height": 170,
     "referenced_widgets": [
      "d852da44006743f8ab234b9fcf999686",
      "aa5d9495b9dc4a07817b62c5aabd3b60",
      "cc5db3ae4e5e4621b8d7020cfab8646d",
      "3490584e5d14428d81438c5afb9b436a",
      "9fabd0bdd8cb4fb5ba9a94465bb63b73",
      "1428ee6a01d7420cabe16eb4c4e5a365",
      "af956ed0bc6a4a2dafb3651efa27feea",
      "09b5d1b70688409b8fb81a4f962e819d",
      "1e16d090cdf343958eb4702a07dc9dd1",
      "63684c42041a4d529d058ef699a772eb",
      "557878b7fa8149fbab3e908553366540"
     ]
    },
    "id": "pliWaICdmzEB",
    "outputId": "342694f7-3609-437c-b942-30be38cda6e2"
   },
   "outputs": [
    {
     "data": {
      "application/vnd.jupyter.widget-view+json": {
       "model_id": "d852da44006743f8ab234b9fcf999686",
       "version_major": 2,
       "version_minor": 0
      },
      "text/plain": [
       "  0%|          | 0/100000 [00:00<?, ?it/s]"
      ]
     },
     "metadata": {},
     "output_type": "display_data"
    },
    {
     "name": "stdout",
     "output_type": "stream",
     "text": [
      "Epoch: 0, Loss: 2.316016435623169\n",
      "Epoch: 5000, Loss: 0.2013154774904251\n",
      "Epoch: 10000, Loss: 0.09385070949792862\n",
      "Epoch: 15000, Loss: 0.05498850345611572\n",
      "Epoch: 20000, Loss: 0.0345892459154129\n",
      "Epoch: 25000, Loss: 0.023184722289443016\n",
      "Time taken for NN-Full GD (Cross Entropy Loss) - 42.95395517349243 s\n"
     ]
    }
   ],
   "source": [
    "#######\n",
    "# !!!! YOUR CODE HERE !!!!\n",
    "model = NN_Model()\n",
    "criterion = torch.nn.CrossEntropyLoss()\n",
    "\n",
    "start = time.time()\n",
    "model, losses = train_torch_model(model, batch_size=len(X_train), criterion = criterion, max_epochs= max_epochs, X_train = X_train_torch, y_train = y_train_one_torch, lr = lr, tolerance=tolerance )\n",
    "end = time.time()\n",
    "print(f\"Time taken for NN-Full GD (Cross Entropy Loss) - {end-start} s\")\n",
    "\n",
    "#######"
   ]
  },
  {
   "cell_type": "code",
   "execution_count": 40,
   "metadata": {
    "colab": {
     "base_uri": "https://localhost:8080/",
     "height": 421
    },
    "id": "0DPT-OPrUwUY",
    "outputId": "9c4b9d1e-6cd3-4f3f-cb27-f191f74383cb"
   },
   "outputs": [
    {
     "data": {
      "text/plain": [
       "[<matplotlib.lines.Line2D at 0x7ffa7192f4d0>]"
      ]
     },
     "execution_count": 40,
     "metadata": {},
     "output_type": "execute_result"
    },
    {
     "data": {
      "image/png": "[encoded data removed]",
      "text/plain": [
       "<Figure size 576x432 with 1 Axes>"
      ]
     },
     "metadata": {
      "needs_background": "light"
     },
     "output_type": "display_data"
    }
   ],
   "source": [
    "plt.title(\"Loss vs epochs | GD-Full-Neural Network - Cross Entropy\")\n",
    "plt.ylabel(\"loss\")\n",
    "plt.xlabel(\"epochs\")\n",
    "\n",
    "x, y = zip(*losses)\n",
    "plt.plot(x,y)"
   ]
  },
  {
   "cell_type": "code",
   "execution_count": 41,
   "metadata": {
    "colab": {
     "base_uri": "https://localhost:8080/"
    },
    "id": "EoRJpn8QnZrX",
    "outputId": "608fd095-1209-465c-b7bd-b1c337e73b2a"
   },
   "outputs": [
    {
     "name": "stdout",
     "output_type": "stream",
     "text": [
      "Train accuracy: 0.9986082115518441\n",
      "Test accuracy: 0.9638888888888889\n"
     ]
    }
   ],
   "source": [
    "# !!DO NOT EDIT!!\n",
    "# print accuracies of model\n",
    "train_acc, test_acc = print_accuracies_torch(model, X_train_torch, X_test_torch, y_train, y_test)\n",
    "accuracy_tracker[\"nn_torch_full_gd_ce\"][\"train\"] = train_acc\n",
    "accuracy_tracker[\"nn_torch_full_gd_ce\"][\"test\"] = test_acc"
   ]
  },
  {
   "cell_type": "markdown",
   "metadata": {
    "id": "TP-JX4IznLQL"
   },
   "source": [
    "### **#3.** Re-train the above model with `batch_size=64`. Also plot the graph of loss vs epochs."
   ]
  },
  {
   "cell_type": "code",
   "execution_count": 42,
   "metadata": {
    "colab": {
     "base_uri": "https://localhost:8080/",
     "height": 84,
     "referenced_widgets": [
      "d2b49149641b4fc6b3a030bad865a483",
      "2a6cf9b52dae404aa336609ecf75855a",
      "d134b99363c64e9898cb0d90920badb7",
      "7ccc435609d14ebaa79336c167a603f4",
      "034adf2df61d49d1a405c2284a2bcafd",
      "a273030f4cc749c0a8d02af013bd3e5f",
      "e9dbe523fe7b44d5b6816f94c4c7ea2b",
      "f4a1fcd06ca34c1c8858aadf380756ab",
      "031872194f0e4d3b8aa1becc953b9e0e",
      "a08350128bb84859993aeb2f171953bb",
      "4ca2573032ca4d43a0b8cf25c6150f44"
     ]
    },
    "id": "Sx8e5dvJnK1n",
    "outputId": "57773f98-053c-472b-aada-a7caf8272c57"
   },
   "outputs": [
    {
     "data": {
      "application/vnd.jupyter.widget-view+json": {
       "model_id": "d2b49149641b4fc6b3a030bad865a483",
       "version_major": 2,
       "version_minor": 0
      },
      "text/plain": [
       "  0%|          | 0/100000 [00:00<?, ?it/s]"
      ]
     },
     "metadata": {},
     "output_type": "display_data"
    },
    {
     "name": "stdout",
     "output_type": "stream",
     "text": [
      "Epoch: 0, Loss: 2.2808258533477783\n",
      "Time taken for NN-SGD-64 (Cross Entropy Loss) - 15.643309831619263 s\n"
     ]
    }
   ],
   "source": [
    "#######\n",
    "# !!!! YOUR CODE HERE !!!!\n",
    "model = NN_Model()\n",
    "criterion = torch.nn.CrossEntropyLoss()\n",
    "\n",
    "start = time.time()\n",
    "model, losses = train_torch_model(model, batch_size=64, criterion = criterion, max_epochs= max_epochs, X_train = X_train_torch, y_train = y_train_one_torch, lr = lr, tolerance=tolerance )\n",
    "end = time.time()\n",
    "print(f\"Time taken for NN-SGD-64 (Cross Entropy Loss) - {end-start} s\")\n",
    "#######"
   ]
  },
  {
   "cell_type": "code",
   "execution_count": 43,
   "metadata": {
    "colab": {
     "base_uri": "https://localhost:8080/",
     "height": 421
    },
    "id": "uUvGRn2eUwUY",
    "outputId": "22c4fbe8-325e-453c-a282-4b03d6bf6f27"
   },
   "outputs": [
    {
     "data": {
      "text/plain": [
       "[<matplotlib.lines.Line2D at 0x7ffa718a7690>]"
      ]
     },
     "execution_count": 43,
     "metadata": {},
     "output_type": "execute_result"
    },
    {
     "data": {
      "image/png": "[encoded data removed]",
      "text/plain": [
       "<Figure size 576x432 with 1 Axes>"
      ]
     },
     "metadata": {
      "needs_background": "light"
     },
     "output_type": "display_data"
    }
   ],
   "source": [
    "plt.title(\"Loss vs epochs | SGD-64-Neural Network - Cross Entropy\")\n",
    "plt.ylabel(\"loss\")\n",
    "plt.xlabel(\"epochs\")\n",
    "\n",
    "x, y = zip(*losses)\n",
    "plt.plot(x,y)"
   ]
  },
  {
   "cell_type": "code",
   "execution_count": 44,
   "metadata": {
    "colab": {
     "base_uri": "https://localhost:8080/"
    },
    "id": "mr7M3xyknaLp",
    "outputId": "51e4240a-bf33-4cfd-c980-6d9bfafdbbe3"
   },
   "outputs": [
    {
     "name": "stdout",
     "output_type": "stream",
     "text": [
      "Train accuracy: 0.9860821155184412\n",
      "Test accuracy: 0.9555555555555556\n"
     ]
    }
   ],
   "source": [
    "# !!DO NOT EDIT!!\n",
    "# print accuracies of model\n",
    "train_acc, test_acc = print_accuracies_torch(model, X_train_torch, X_test_torch, y_train, y_test)\n",
    "accuracy_tracker[\"nn_torch_full_sgd_ce\"][\"train\"] = train_acc\n",
    "accuracy_tracker[\"nn_torch_full_sgd_ce\"][\"test\"] = test_acc"
   ]
  },
  {
   "cell_type": "markdown",
   "metadata": {
    "id": "RJ1HXvh_ovQ_"
   },
   "source": [
    "### **(e)**  In the above few problems, you performed several experiments with different batch size and loss functions. Write down an analysis of your observations from the results. (5 points)\n",
    "Some points that you could cover are:\n",
    "* Effect of using full vs. batch gradient descent.\n",
    "* Effect of different loss strategy on performance.\n",
    "* Effect of using linear vs. non-linear models.\n",
    "* Training time per epoch in different cases.\n",
    "\n",
    "Also, plot a line graph of accuracy vs. model for both train and test sets. Recall that you trained the following models in this question:\n",
    "\n",
    "1.   Linear Model - Scratch + MSE Loss + Full Batch \n",
    "2.   Linear Model - Scratch + MSE Loss + Mini Batch \n",
    "3.   Linear Model - PyTorch + MSE Loss + Full Batch \n",
    "4.   Linear Model - PyTorch + MSE Loss + Mini Batch \n",
    "5.   Linear Model - PyTorch + CE Loss + Full Batch \n",
    "6.   Linear Model - PyTorch + CE Loss + Mini Batch \n",
    "7.   NN Model - PyTorch + CE Loss + Full Batch \n",
    "8.   NN Model - PyTorch + CE Loss + Mini Batch \n"
   ]
  },
  {
   "cell_type": "markdown",
   "metadata": {
    "id": "k6e4sulhvLp5"
   },
   "source": [
    "#### <font color=\"red\">Your answer here:</font>"
   ]
  },
  {
   "cell_type": "markdown",
   "metadata": {
    "id": "obE47rGOvMo-"
   },
   "source": [
    "## Effect of using Full gradient descent vs Batch Gradient Descent\n",
    "\n",
    "* We see that batch gradient descent takes more time for converging. However, the accuracy is much higher. \n",
    "* However the time to compute one gradient is much higher in full gradient descent as compared to stochastic/batch gradient descent.\n",
    "* The reason for longer convergence is that once the parameters reach in the confusion region, the stochasticity is much higher.\n",
    "\n",
    "\n",
    "## Effect of different loss strategy on performance.\n",
    "\n",
    "* We see that time taken while using Cross Entropy loss is much higher as compared to MSE Loss\n",
    "* However, the accuracy is much higher with Cross Entropy loss as compared to MSE Loss.\n",
    "\n",
    "\n",
    "## Effect of using linear vs. non-linear models.\n",
    "* We see non-linear models have higher accuracy as compared to linear models.\n",
    "* The time taken by non-linear models considerably lower as compared to their linear counterparts.\n",
    "\n",
    "## Training time per epoch in different cases.\n",
    "* Training time per update for full GD is higher as compared to SGD as the number of gradients to be computed are less. Training time per epoch however would be roughly around the same.\n",
    "* Training time per epoch is much higher when using cross entropy loss as compared to MSE loss.\n",
    "* Trainig time per epoch in non-linear models is comparatively lower as compared to their linear counterparts.\n"
   ]
  },
  {
   "cell_type": "code",
   "execution_count": 45,
   "metadata": {
    "id": "-AGO0difbIXV"
   },
   "outputs": [],
   "source": [
    "\n",
    "train_acc = []\n",
    "test_acc = []\n",
    "labels= []\n",
    "for k,v in accuracy_tracker.items():\n",
    "  labels.append(k)\n",
    "  train_acc.append(v[\"train\"])\n",
    "  test_acc.append(v[\"test\"])\n",
    "\n"
   ]
  },
  {
   "cell_type": "code",
   "execution_count": 46,
   "metadata": {
    "colab": {
     "base_uri": "https://localhost:8080/",
     "height": 727
    },
    "id": "0UKx3hsSbnyc",
    "outputId": "4d0a46d0-c796-4a86-b822-487dd9dda901"
   },
   "outputs": [
    {
     "data": {
      "text/plain": [
       "([0, 1, 2, 3, 4, 5, 6, 7], <a list of 8 Text major ticklabel objects>)"
      ]
     },
     "execution_count": 46,
     "metadata": {},
     "output_type": "execute_result"
    },
    {
     "data": {
      "image/png": "[encoded data removed]",
      "text/plain": [
       "<Figure size 1080x720 with 1 Axes>"
      ]
     },
     "metadata": {
      "needs_background": "light"
     },
     "output_type": "display_data"
    }
   ],
   "source": [
    "plt.rcParams[\"figure.figsize\"] = (15,10)\n",
    "plt.title(\"accuracy vs methods | blue = train, yellow = test\")\n",
    "plt.plot(labels, train_acc, label = \"train\")\n",
    "plt.plot(labels, test_acc, label = \"test\")\n",
    "plt.xticks(rotation=90)\n"
   ]
  }
 ],
 "metadata": {
  "accelerator": "GPU",
  "colab": {
   "collapsed_sections": [],
   "name": "HW2_Q2.ipynb",
   "provenance": []
  },
  "interpreter": {
   "hash": "0d146b57fee91990d15ae8fc1751d37d08a02ef7f56ec35b0f16c4f321b407cd"
  },
  "kernelspec": {
   "display_name": "Python 3 (ipykernel)",
   "language": "python",
   "name": "python3"
  },
  "language_info": {
   "codemirror_mode": {
    "name": "ipython",
    "version": 3
   },
   "file_extension": ".py",
   "mimetype": "text/x-python",
   "name": "python",
   "nbconvert_exporter": "python",
   "pygments_lexer": "ipython3",
   "version": "3.9.7"
  },
  "widgets": {
   "application/vnd.jupyter.widget-state+json": {
    "031872194f0e4d3b8aa1becc953b9e0e": {
     "model_module": "@jupyter-widgets/controls",
     "model_module_version": "1.5.0",
     "model_name": "ProgressStyleModel",
     "state": {
      "_model_module": "@jupyter-widgets/controls",
      "_model_module_version": "1.5.0",
      "_model_name": "ProgressStyleModel",
      "_view_count": null,
      "_view_module": "@jupyter-widgets/base",
      "_view_module_version": "1.2.0",
      "_view_name": "StyleView",
      "bar_color": null,
      "description_width": ""
     }
    },
    "034adf2df61d49d1a405c2284a2bcafd": {
     "model_module": "@jupyter-widgets/base",
     "model_module_version": "1.2.0",
     "model_name": "LayoutModel",
     "state": {
      "_model_module": "@jupyter-widgets/base",
      "_model_module_version": "1.2.0",
      "_model_name": "LayoutModel",
      "_view_count": null,
      "_view_module": "@jupyter-widgets/base",
      "_view_module_version": "1.2.0",
      "_view_name": "LayoutView",
      "align_content": null,
      "align_items": null,
      "align_self": null,
      "border": null,
      "bottom": null,
      "display": null,
      "flex": null,
      "flex_flow": null,
      "grid_area": null,
      "grid_auto_columns": null,
      "grid_auto_flow": null,
      "grid_auto_rows": null,
      "grid_column": null,
      "grid_gap": null,
      "grid_row": null,
      "grid_template_areas": null,
      "grid_template_columns": null,
      "grid_template_rows": null,
      "height": null,
      "justify_content": null,
      "justify_items": null,
      "left": null,
      "margin": null,
      "max_height": null,
      "max_width": null,
      "min_height": null,
      "min_width": null,
      "object_fit": null,
      "object_position": null,
      "order": null,
      "overflow": null,
      "overflow_x": null,
      "overflow_y": null,
      "padding": null,
      "right": null,
      "top": null,
      "visibility": null,
      "width": null
     }
    },
    "09b5d1b70688409b8fb81a4f962e819d": {
     "model_module": "@jupyter-widgets/base",
     "model_module_version": "1.2.0",
     "model_name": "LayoutModel",
     "state": {
      "_model_module": "@jupyter-widgets/base",
      "_model_module_version": "1.2.0",
      "_model_name": "LayoutModel",
      "_view_count": null,
      "_view_module": "@jupyter-widgets/base",
      "_view_module_version": "1.2.0",
      "_view_name": "LayoutView",
      "align_content": null,
      "align_items": null,
      "align_self": null,
      "border": null,
      "bottom": null,
      "display": null,
      "flex": null,
      "flex_flow": null,
      "grid_area": null,
      "grid_auto_columns": null,
      "grid_auto_flow": null,
      "grid_auto_rows": null,
      "grid_column": null,
      "grid_gap": null,
      "grid_row": null,
      "grid_template_areas": null,
      "grid_template_columns": null,
      "grid_template_rows": null,
      "height": null,
      "justify_content": null,
      "justify_items": null,
      "left": null,
      "margin": null,
      "max_height": null,
      "max_width": null,
      "min_height": null,
      "min_width": null,
      "object_fit": null,
      "object_position": null,
      "order": null,
      "overflow": null,
      "overflow_x": null,
      "overflow_y": null,
      "padding": null,
      "right": null,
      "top": null,
      "visibility": null,
      "width": null
     }
    },
    "0a63642a228d4b019435a99c304145bf": {
     "model_module": "@jupyter-widgets/base",
     "model_module_version": "1.2.0",
     "model_name": "LayoutModel",
     "state": {
      "_model_module": "@jupyter-widgets/base",
      "_model_module_version": "1.2.0",
      "_model_name": "LayoutModel",
      "_view_count": null,
      "_view_module": "@jupyter-widgets/base",
      "_view_module_version": "1.2.0",
      "_view_name": "LayoutView",
      "align_content": null,
      "align_items": null,
      "align_self": null,
      "border": null,
      "bottom": null,
      "display": null,
      "flex": null,
      "flex_flow": null,
      "grid_area": null,
      "grid_auto_columns": null,
      "grid_auto_flow": null,
      "grid_auto_rows": null,
      "grid_column": null,
      "grid_gap": null,
      "grid_row": null,
      "grid_template_areas": null,
      "grid_template_columns": null,
      "grid_template_rows": null,
      "height": null,
      "justify_content": null,
      "justify_items": null,
      "left": null,
      "margin": null,
      "max_height": null,
      "max_width": null,
      "min_height": null,
      "min_width": null,
      "object_fit": null,
      "object_position": null,
      "order": null,
      "overflow": null,
      "overflow_x": null,
      "overflow_y": null,
      "padding": null,
      "right": null,
      "top": null,
      "visibility": null,
      "width": null
     }
    },
    "0c675f29a5d24d5b819a90e0597671d8": {
     "model_module": "@jupyter-widgets/controls",
     "model_module_version": "1.5.0",
     "model_name": "HTMLModel",
     "state": {
      "_dom_classes": [],
      "_model_module": "@jupyter-widgets/controls",
      "_model_module_version": "1.5.0",
      "_model_name": "HTMLModel",
      "_view_count": null,
      "_view_module": "@jupyter-widgets/controls",
      "_view_module_version": "1.5.0",
      "_view_name": "HTMLView",
      "description": "",
      "description_tooltip": null,
      "layout": "IPY_MODEL_7e3ec9b222894f86a244d4acc04fb2ab",
      "placeholder": "​",
      "style": "IPY_MODEL_ce83ad25c2094781b9324489ad4f7d10",
      "value": "  1%"
     }
    },
    "115221b2647248eb92309aa0b362718b": {
     "model_module": "@jupyter-widgets/base",
     "model_module_version": "1.2.0",
     "model_name": "LayoutModel",
     "state": {
      "_model_module": "@jupyter-widgets/base",
      "_model_module_version": "1.2.0",
      "_model_name": "LayoutModel",
      "_view_count": null,
      "_view_module": "@jupyter-widgets/base",
      "_view_module_version": "1.2.0",
      "_view_name": "LayoutView",
      "align_content": null,
      "align_items": null,
      "align_self": null,
      "border": null,
      "bottom": null,
      "display": null,
      "flex": null,
      "flex_flow": null,
      "grid_area": null,
      "grid_auto_columns": null,
      "grid_auto_flow": null,
      "grid_auto_rows": null,
      "grid_column": null,
      "grid_gap": null,
      "grid_row": null,
      "grid_template_areas": null,
      "grid_template_columns": null,
      "grid_template_rows": null,
      "height": null,
      "justify_content": null,
      "justify_items": null,
      "left": null,
      "margin": null,
      "max_height": null,
      "max_width": null,
      "min_height": null,
      "min_width": null,
      "object_fit": null,
      "object_position": null,
      "order": null,
      "overflow": null,
      "overflow_x": null,
      "overflow_y": null,
      "padding": null,
      "right": null,
      "top": null,
      "visibility": null,
      "width": null
     }
    },
    "1428ee6a01d7420cabe16eb4c4e5a365": {
     "model_module": "@jupyter-widgets/base",
     "model_module_version": "1.2.0",
     "model_name": "LayoutModel",
     "state": {
      "_model_module": "@jupyter-widgets/base",
      "_model_module_version": "1.2.0",
      "_model_name": "LayoutModel",
      "_view_count": null,
      "_view_module": "@jupyter-widgets/base",
      "_view_module_version": "1.2.0",
      "_view_name": "LayoutView",
      "align_content": null,
      "align_items": null,
      "align_self": null,
      "border": null,
      "bottom": null,
      "display": null,
      "flex": null,
      "flex_flow": null,
      "grid_area": null,
      "grid_auto_columns": null,
      "grid_auto_flow": null,
      "grid_auto_rows": null,
      "grid_column": null,
      "grid_gap": null,
      "grid_row": null,
      "grid_template_areas": null,
      "grid_template_columns": null,
      "grid_template_rows": null,
      "height": null,
      "justify_content": null,
      "justify_items": null,
      "left": null,
      "margin": null,
      "max_height": null,
      "max_width": null,
      "min_height": null,
      "min_width": null,
      "object_fit": null,
      "object_position": null,
      "order": null,
      "overflow": null,
      "overflow_x": null,
      "overflow_y": null,
      "padding": null,
      "right": null,
      "top": null,
      "visibility": null,
      "width": null
     }
    },
    "1d83f3763f5742a68781f38b71bbc755": {
     "model_module": "@jupyter-widgets/base",
     "model_module_version": "1.2.0",
     "model_name": "LayoutModel",
     "state": {
      "_model_module": "@jupyter-widgets/base",
      "_model_module_version": "1.2.0",
      "_model_name": "LayoutModel",
      "_view_count": null,
      "_view_module": "@jupyter-widgets/base",
      "_view_module_version": "1.2.0",
      "_view_name": "LayoutView",
      "align_content": null,
      "align_items": null,
      "align_self": null,
      "border": null,
      "bottom": null,
      "display": null,
      "flex": null,
      "flex_flow": null,
      "grid_area": null,
      "grid_auto_columns": null,
      "grid_auto_flow": null,
      "grid_auto_rows": null,
      "grid_column": null,
      "grid_gap": null,
      "grid_row": null,
      "grid_template_areas": null,
      "grid_template_columns": null,
      "grid_template_rows": null,
      "height": null,
      "justify_content": null,
      "justify_items": null,
      "left": null,
      "margin": null,
      "max_height": null,
      "max_width": null,
      "min_height": null,
      "min_width": null,
      "object_fit": null,
      "object_position": null,
      "order": null,
      "overflow": null,
      "overflow_x": null,
      "overflow_y": null,
      "padding": null,
      "right": null,
      "top": null,
      "visibility": null,
      "width": null
     }
    },
    "1e16d090cdf343958eb4702a07dc9dd1": {
     "model_module": "@jupyter-widgets/controls",
     "model_module_version": "1.5.0",
     "model_name": "ProgressStyleModel",
     "state": {
      "_model_module": "@jupyter-widgets/controls",
      "_model_module_version": "1.5.0",
      "_model_name": "ProgressStyleModel",
      "_view_count": null,
      "_view_module": "@jupyter-widgets/base",
      "_view_module_version": "1.2.0",
      "_view_name": "StyleView",
      "bar_color": null,
      "description_width": ""
     }
    },
    "20301b5bd7814181951332a0411aa302": {
     "model_module": "@jupyter-widgets/controls",
     "model_module_version": "1.5.0",
     "model_name": "HTMLModel",
     "state": {
      "_dom_classes": [],
      "_model_module": "@jupyter-widgets/controls",
      "_model_module_version": "1.5.0",
      "_model_name": "HTMLModel",
      "_view_count": null,
      "_view_module": "@jupyter-widgets/controls",
      "_view_module_version": "1.5.0",
      "_view_name": "HTMLView",
      "description": "",
      "description_tooltip": null,
      "layout": "IPY_MODEL_44437a88e1c54766a1069e13fab8ff9d",
      "placeholder": "​",
      "style": "IPY_MODEL_31ae3a227960450d85fb46d9f75c4128",
      "value": "  6%"
     }
    },
    "2127107dea1a40b9a531b55044365fbf": {
     "model_module": "@jupyter-widgets/controls",
     "model_module_version": "1.5.0",
     "model_name": "HTMLModel",
     "state": {
      "_dom_classes": [],
      "_model_module": "@jupyter-widgets/controls",
      "_model_module_version": "1.5.0",
      "_model_name": "HTMLModel",
      "_view_count": null,
      "_view_module": "@jupyter-widgets/controls",
      "_view_module_version": "1.5.0",
      "_view_name": "HTMLView",
      "description": "",
      "description_tooltip": null,
      "layout": "IPY_MODEL_e93f0c5a2f26494596a4adb9e78f31f7",
      "placeholder": "​",
      "style": "IPY_MODEL_3633998c39bc47f2960552e208c396c1",
      "value": " 1052/100000 [00:14&lt;23:18, 70.78it/s]"
     }
    },
    "27f9658d547047cea32df4880167e1bd": {
     "model_module": "@jupyter-widgets/base",
     "model_module_version": "1.2.0",
     "model_name": "LayoutModel",
     "state": {
      "_model_module": "@jupyter-widgets/base",
      "_model_module_version": "1.2.0",
      "_model_name": "LayoutModel",
      "_view_count": null,
      "_view_module": "@jupyter-widgets/base",
      "_view_module_version": "1.2.0",
      "_view_name": "LayoutView",
      "align_content": null,
      "align_items": null,
      "align_self": null,
      "border": null,
      "bottom": null,
      "display": null,
      "flex": null,
      "flex_flow": null,
      "grid_area": null,
      "grid_auto_columns": null,
      "grid_auto_flow": null,
      "grid_auto_rows": null,
      "grid_column": null,
      "grid_gap": null,
      "grid_row": null,
      "grid_template_areas": null,
      "grid_template_columns": null,
      "grid_template_rows": null,
      "height": null,
      "justify_content": null,
      "justify_items": null,
      "left": null,
      "margin": null,
      "max_height": null,
      "max_width": null,
      "min_height": null,
      "min_width": null,
      "object_fit": null,
      "object_position": null,
      "order": null,
      "overflow": null,
      "overflow_x": null,
      "overflow_y": null,
      "padding": null,
      "right": null,
      "top": null,
      "visibility": null,
      "width": null
     }
    },
    "2a6cf9b52dae404aa336609ecf75855a": {
     "model_module": "@jupyter-widgets/controls",
     "model_module_version": "1.5.0",
     "model_name": "HTMLModel",
     "state": {
      "_dom_classes": [],
      "_model_module": "@jupyter-widgets/controls",
      "_model_module_version": "1.5.0",
      "_model_name": "HTMLModel",
      "_view_count": null,
      "_view_module": "@jupyter-widgets/controls",
      "_view_module_version": "1.5.0",
      "_view_name": "HTMLView",
      "description": "",
      "description_tooltip": null,
      "layout": "IPY_MODEL_a273030f4cc749c0a8d02af013bd3e5f",
      "placeholder": "​",
      "style": "IPY_MODEL_e9dbe523fe7b44d5b6816f94c4c7ea2b",
      "value": "  1%"
     }
    },
    "31ae3a227960450d85fb46d9f75c4128": {
     "model_module": "@jupyter-widgets/controls",
     "model_module_version": "1.5.0",
     "model_name": "DescriptionStyleModel",
     "state": {
      "_model_module": "@jupyter-widgets/controls",
      "_model_module_version": "1.5.0",
      "_model_name": "DescriptionStyleModel",
      "_view_count": null,
      "_view_module": "@jupyter-widgets/base",
      "_view_module_version": "1.2.0",
      "_view_name": "StyleView",
      "description_width": ""
     }
    },
    "328a5e539f9f4ecfb525f2a12307ab0e": {
     "model_module": "@jupyter-widgets/base",
     "model_module_version": "1.2.0",
     "model_name": "LayoutModel",
     "state": {
      "_model_module": "@jupyter-widgets/base",
      "_model_module_version": "1.2.0",
      "_model_name": "LayoutModel",
      "_view_count": null,
      "_view_module": "@jupyter-widgets/base",
      "_view_module_version": "1.2.0",
      "_view_name": "LayoutView",
      "align_content": null,
      "align_items": null,
      "align_self": null,
      "border": null,
      "bottom": null,
      "display": null,
      "flex": null,
      "flex_flow": null,
      "grid_area": null,
      "grid_auto_columns": null,
      "grid_auto_flow": null,
      "grid_auto_rows": null,
      "grid_column": null,
      "grid_gap": null,
      "grid_row": null,
      "grid_template_areas": null,
      "grid_template_columns": null,
      "grid_template_rows": null,
      "height": null,
      "justify_content": null,
      "justify_items": null,
      "left": null,
      "margin": null,
      "max_height": null,
      "max_width": null,
      "min_height": null,
      "min_width": null,
      "object_fit": null,
      "object_position": null,
      "order": null,
      "overflow": null,
      "overflow_x": null,
      "overflow_y": null,
      "padding": null,
      "right": null,
      "top": null,
      "visibility": null,
      "width": null
     }
    },
    "3490584e5d14428d81438c5afb9b436a": {
     "model_module": "@jupyter-widgets/controls",
     "model_module_version": "1.5.0",
     "model_name": "HTMLModel",
     "state": {
      "_dom_classes": [],
      "_model_module": "@jupyter-widgets/controls",
      "_model_module_version": "1.5.0",
      "_model_name": "HTMLModel",
      "_view_count": null,
      "_view_module": "@jupyter-widgets/controls",
      "_view_module_version": "1.5.0",
      "_view_name": "HTMLView",
      "description": "",
      "description_tooltip": null,
      "layout": "IPY_MODEL_63684c42041a4d529d058ef699a772eb",
      "placeholder": "​",
      "style": "IPY_MODEL_557878b7fa8149fbab3e908553366540",
      "value": " 29767/100000 [00:42&lt;01:35, 737.27it/s]"
     }
    },
    "3526ea6a44e945629f799fd19e2957b8": {
     "model_module": "@jupyter-widgets/base",
     "model_module_version": "1.2.0",
     "model_name": "LayoutModel",
     "state": {
      "_model_module": "@jupyter-widgets/base",
      "_model_module_version": "1.2.0",
      "_model_name": "LayoutModel",
      "_view_count": null,
      "_view_module": "@jupyter-widgets/base",
      "_view_module_version": "1.2.0",
      "_view_name": "LayoutView",
      "align_content": null,
      "align_items": null,
      "align_self": null,
      "border": null,
      "bottom": null,
      "display": null,
      "flex": null,
      "flex_flow": null,
      "grid_area": null,
      "grid_auto_columns": null,
      "grid_auto_flow": null,
      "grid_auto_rows": null,
      "grid_column": null,
      "grid_gap": null,
      "grid_row": null,
      "grid_template_areas": null,
      "grid_template_columns": null,
      "grid_template_rows": null,
      "height": null,
      "justify_content": null,
      "justify_items": null,
      "left": null,
      "margin": null,
      "max_height": null,
      "max_width": null,
      "min_height": null,
      "min_width": null,
      "object_fit": null,
      "object_position": null,
      "order": null,
      "overflow": null,
      "overflow_x": null,
      "overflow_y": null,
      "padding": null,
      "right": null,
      "top": null,
      "visibility": null,
      "width": null
     }
    },
    "3633998c39bc47f2960552e208c396c1": {
     "model_module": "@jupyter-widgets/controls",
     "model_module_version": "1.5.0",
     "model_name": "DescriptionStyleModel",
     "state": {
      "_model_module": "@jupyter-widgets/controls",
      "_model_module_version": "1.5.0",
      "_model_name": "DescriptionStyleModel",
      "_view_count": null,
      "_view_module": "@jupyter-widgets/base",
      "_view_module_version": "1.2.0",
      "_view_name": "StyleView",
      "description_width": ""
     }
    },
    "3a4905f1fd284071a5e1f32bbf499e15": {
     "model_module": "@jupyter-widgets/controls",
     "model_module_version": "1.5.0",
     "model_name": "HBoxModel",
     "state": {
      "_dom_classes": [],
      "_model_module": "@jupyter-widgets/controls",
      "_model_module_version": "1.5.0",
      "_model_name": "HBoxModel",
      "_view_count": null,
      "_view_module": "@jupyter-widgets/controls",
      "_view_module_version": "1.5.0",
      "_view_name": "HBoxView",
      "box_style": "",
      "children": [
       "IPY_MODEL_20301b5bd7814181951332a0411aa302",
       "IPY_MODEL_c19c79e36690405d9b7dcacae5669cb9",
       "IPY_MODEL_7a3b81bb919145bd80f46c3d9ba6306f"
      ],
      "layout": "IPY_MODEL_328a5e539f9f4ecfb525f2a12307ab0e"
     }
    },
    "3a68c23c214749b99b0b7495d699a928": {
     "model_module": "@jupyter-widgets/controls",
     "model_module_version": "1.5.0",
     "model_name": "ProgressStyleModel",
     "state": {
      "_model_module": "@jupyter-widgets/controls",
      "_model_module_version": "1.5.0",
      "_model_name": "ProgressStyleModel",
      "_view_count": null,
      "_view_module": "@jupyter-widgets/base",
      "_view_module_version": "1.2.0",
      "_view_name": "StyleView",
      "bar_color": null,
      "description_width": ""
     }
    },
    "44437a88e1c54766a1069e13fab8ff9d": {
     "model_module": "@jupyter-widgets/base",
     "model_module_version": "1.2.0",
     "model_name": "LayoutModel",
     "state": {
      "_model_module": "@jupyter-widgets/base",
      "_model_module_version": "1.2.0",
      "_model_name": "LayoutModel",
      "_view_count": null,
      "_view_module": "@jupyter-widgets/base",
      "_view_module_version": "1.2.0",
      "_view_name": "LayoutView",
      "align_content": null,
      "align_items": null,
      "align_self": null,
      "border": null,
      "bottom": null,
      "display": null,
      "flex": null,
      "flex_flow": null,
      "grid_area": null,
      "grid_auto_columns": null,
      "grid_auto_flow": null,
      "grid_auto_rows": null,
      "grid_column": null,
      "grid_gap": null,
      "grid_row": null,
      "grid_template_areas": null,
      "grid_template_columns": null,
      "grid_template_rows": null,
      "height": null,
      "justify_content": null,
      "justify_items": null,
      "left": null,
      "margin": null,
      "max_height": null,
      "max_width": null,
      "min_height": null,
      "min_width": null,
      "object_fit": null,
      "object_position": null,
      "order": null,
      "overflow": null,
      "overflow_x": null,
      "overflow_y": null,
      "padding": null,
      "right": null,
      "top": null,
      "visibility": null,
      "width": null
     }
    },
    "45d73c4521294005b7fe8aa797d433ea": {
     "model_module": "@jupyter-widgets/controls",
     "model_module_version": "1.5.0",
     "model_name": "ProgressStyleModel",
     "state": {
      "_model_module": "@jupyter-widgets/controls",
      "_model_module_version": "1.5.0",
      "_model_name": "ProgressStyleModel",
      "_view_count": null,
      "_view_module": "@jupyter-widgets/base",
      "_view_module_version": "1.2.0",
      "_view_name": "StyleView",
      "bar_color": null,
      "description_width": ""
     }
    },
    "49cd549d5d5543edb00b51b213e4c04c": {
     "model_module": "@jupyter-widgets/controls",
     "model_module_version": "1.5.0",
     "model_name": "HTMLModel",
     "state": {
      "_dom_classes": [],
      "_model_module": "@jupyter-widgets/controls",
      "_model_module_version": "1.5.0",
      "_model_name": "HTMLModel",
      "_view_count": null,
      "_view_module": "@jupyter-widgets/controls",
      "_view_module_version": "1.5.0",
      "_view_name": "HTMLView",
      "description": "",
      "description_tooltip": null,
      "layout": "IPY_MODEL_affc05792f9d4e81aaea46d4b8556c72",
      "placeholder": "​",
      "style": "IPY_MODEL_90941d30bb344518bb89410315d1193e",
      "value": " 56065/100000 [00:46&lt;00:35, 1226.16it/s]"
     }
    },
    "4c2100851bd645dcacf00f385760acd3": {
     "model_module": "@jupyter-widgets/controls",
     "model_module_version": "1.5.0",
     "model_name": "ProgressStyleModel",
     "state": {
      "_model_module": "@jupyter-widgets/controls",
      "_model_module_version": "1.5.0",
      "_model_name": "ProgressStyleModel",
      "_view_count": null,
      "_view_module": "@jupyter-widgets/base",
      "_view_module_version": "1.2.0",
      "_view_name": "StyleView",
      "bar_color": null,
      "description_width": ""
     }
    },
    "4ca2573032ca4d43a0b8cf25c6150f44": {
     "model_module": "@jupyter-widgets/controls",
     "model_module_version": "1.5.0",
     "model_name": "DescriptionStyleModel",
     "state": {
      "_model_module": "@jupyter-widgets/controls",
      "_model_module_version": "1.5.0",
      "_model_name": "DescriptionStyleModel",
      "_view_count": null,
      "_view_module": "@jupyter-widgets/base",
      "_view_module_version": "1.2.0",
      "_view_name": "StyleView",
      "description_width": ""
     }
    },
    "4f4261b6a2c946e880c8292192460faa": {
     "model_module": "@jupyter-widgets/controls",
     "model_module_version": "1.5.0",
     "model_name": "HTMLModel",
     "state": {
      "_dom_classes": [],
      "_model_module": "@jupyter-widgets/controls",
      "_model_module_version": "1.5.0",
      "_model_name": "HTMLModel",
      "_view_count": null,
      "_view_module": "@jupyter-widgets/controls",
      "_view_module_version": "1.5.0",
      "_view_name": "HTMLView",
      "description": "",
      "description_tooltip": null,
      "layout": "IPY_MODEL_ea820614370a4e9c9b9061dbd512c0d9",
      "placeholder": "​",
      "style": "IPY_MODEL_cc43915f672a4e6e886a65d1bba5dcb7",
      "value": " 56%"
     }
    },
    "5229163b9b424b4c9bbfc872ff0ab69b": {
     "model_module": "@jupyter-widgets/controls",
     "model_module_version": "1.5.0",
     "model_name": "HTMLModel",
     "state": {
      "_dom_classes": [],
      "_model_module": "@jupyter-widgets/controls",
      "_model_module_version": "1.5.0",
      "_model_name": "HTMLModel",
      "_view_count": null,
      "_view_module": "@jupyter-widgets/controls",
      "_view_module_version": "1.5.0",
      "_view_name": "HTMLView",
      "description": "",
      "description_tooltip": null,
      "layout": "IPY_MODEL_27f9658d547047cea32df4880167e1bd",
      "placeholder": "​",
      "style": "IPY_MODEL_d770147977e143de82373f7fd5a7dbb8",
      "value": " 18827/100000 [00:14&lt;00:59, 1363.94it/s]"
     }
    },
    "52938269ddd246eab55cd4f5f446405f": {
     "model_module": "@jupyter-widgets/controls",
     "model_module_version": "1.5.0",
     "model_name": "HTMLModel",
     "state": {
      "_dom_classes": [],
      "_model_module": "@jupyter-widgets/controls",
      "_model_module_version": "1.5.0",
      "_model_name": "HTMLModel",
      "_view_count": null,
      "_view_module": "@jupyter-widgets/controls",
      "_view_module_version": "1.5.0",
      "_view_name": "HTMLView",
      "description": "",
      "description_tooltip": null,
      "layout": "IPY_MODEL_53a8a7c1e248402fb98583d4cf19876b",
      "placeholder": "​",
      "style": "IPY_MODEL_a81c3584f8bd42afb15b0d65501d15dc",
      "value": " 22858/100000 [06:16&lt;20:40, 62.17it/s]"
     }
    },
    "53a8a7c1e248402fb98583d4cf19876b": {
     "model_module": "@jupyter-widgets/base",
     "model_module_version": "1.2.0",
     "model_name": "LayoutModel",
     "state": {
      "_model_module": "@jupyter-widgets/base",
      "_model_module_version": "1.2.0",
      "_model_name": "LayoutModel",
      "_view_count": null,
      "_view_module": "@jupyter-widgets/base",
      "_view_module_version": "1.2.0",
      "_view_name": "LayoutView",
      "align_content": null,
      "align_items": null,
      "align_self": null,
      "border": null,
      "bottom": null,
      "display": null,
      "flex": null,
      "flex_flow": null,
      "grid_area": null,
      "grid_auto_columns": null,
      "grid_auto_flow": null,
      "grid_auto_rows": null,
      "grid_column": null,
      "grid_gap": null,
      "grid_row": null,
      "grid_template_areas": null,
      "grid_template_columns": null,
      "grid_template_rows": null,
      "height": null,
      "justify_content": null,
      "justify_items": null,
      "left": null,
      "margin": null,
      "max_height": null,
      "max_width": null,
      "min_height": null,
      "min_width": null,
      "object_fit": null,
      "object_position": null,
      "order": null,
      "overflow": null,
      "overflow_x": null,
      "overflow_y": null,
      "padding": null,
      "right": null,
      "top": null,
      "visibility": null,
      "width": null
     }
    },
    "54263dca0ab44774aa6d318c5093d17a": {
     "model_module": "@jupyter-widgets/base",
     "model_module_version": "1.2.0",
     "model_name": "LayoutModel",
     "state": {
      "_model_module": "@jupyter-widgets/base",
      "_model_module_version": "1.2.0",
      "_model_name": "LayoutModel",
      "_view_count": null,
      "_view_module": "@jupyter-widgets/base",
      "_view_module_version": "1.2.0",
      "_view_name": "LayoutView",
      "align_content": null,
      "align_items": null,
      "align_self": null,
      "border": null,
      "bottom": null,
      "display": null,
      "flex": null,
      "flex_flow": null,
      "grid_area": null,
      "grid_auto_columns": null,
      "grid_auto_flow": null,
      "grid_auto_rows": null,
      "grid_column": null,
      "grid_gap": null,
      "grid_row": null,
      "grid_template_areas": null,
      "grid_template_columns": null,
      "grid_template_rows": null,
      "height": null,
      "justify_content": null,
      "justify_items": null,
      "left": null,
      "margin": null,
      "max_height": null,
      "max_width": null,
      "min_height": null,
      "min_width": null,
      "object_fit": null,
      "object_position": null,
      "order": null,
      "overflow": null,
      "overflow_x": null,
      "overflow_y": null,
      "padding": null,
      "right": null,
      "top": null,
      "visibility": null,
      "width": null
     }
    },
    "557878b7fa8149fbab3e908553366540": {
     "model_module": "@jupyter-widgets/controls",
     "model_module_version": "1.5.0",
     "model_name": "DescriptionStyleModel",
     "state": {
      "_model_module": "@jupyter-widgets/controls",
      "_model_module_version": "1.5.0",
      "_model_name": "DescriptionStyleModel",
      "_view_count": null,
      "_view_module": "@jupyter-widgets/base",
      "_view_module_version": "1.2.0",
      "_view_name": "StyleView",
      "description_width": ""
     }
    },
    "5638df8473dc489587ee3ed5b5d25816": {
     "model_module": "@jupyter-widgets/controls",
     "model_module_version": "1.5.0",
     "model_name": "HTMLModel",
     "state": {
      "_dom_classes": [],
      "_model_module": "@jupyter-widgets/controls",
      "_model_module_version": "1.5.0",
      "_model_name": "HTMLModel",
      "_view_count": null,
      "_view_module": "@jupyter-widgets/controls",
      "_view_module_version": "1.5.0",
      "_view_name": "HTMLView",
      "description": "",
      "description_tooltip": null,
      "layout": "IPY_MODEL_d0d2c6b821184073be14d6b27eab2cf3",
      "placeholder": "​",
      "style": "IPY_MODEL_c68554e585f84b71bb039d41be5dd832",
      "value": " 23%"
     }
    },
    "5807c067d3194e66b6fcafa0ba76515b": {
     "model_module": "@jupyter-widgets/controls",
     "model_module_version": "1.5.0",
     "model_name": "FloatProgressModel",
     "state": {
      "_dom_classes": [],
      "_model_module": "@jupyter-widgets/controls",
      "_model_module_version": "1.5.0",
      "_model_name": "FloatProgressModel",
      "_view_count": null,
      "_view_module": "@jupyter-widgets/controls",
      "_view_module_version": "1.5.0",
      "_view_name": "ProgressView",
      "bar_style": "danger",
      "description": "",
      "description_tooltip": null,
      "layout": "IPY_MODEL_8163c9d784a74bf68e2d268dc9982319",
      "max": 100000,
      "min": 0,
      "orientation": "horizontal",
      "style": "IPY_MODEL_6e06a805889e493096dd8eb071985382",
      "value": 22858
     }
    },
    "5aafc886f8cd4eda904251a9abcf5078": {
     "model_module": "@jupyter-widgets/controls",
     "model_module_version": "1.5.0",
     "model_name": "DescriptionStyleModel",
     "state": {
      "_model_module": "@jupyter-widgets/controls",
      "_model_module_version": "1.5.0",
      "_model_name": "DescriptionStyleModel",
      "_view_count": null,
      "_view_module": "@jupyter-widgets/base",
      "_view_module_version": "1.2.0",
      "_view_name": "StyleView",
      "description_width": ""
     }
    },
    "5d71a6d348b149dca4c48dbff540f47f": {
     "model_module": "@jupyter-widgets/controls",
     "model_module_version": "1.5.0",
     "model_name": "FloatProgressModel",
     "state": {
      "_dom_classes": [],
      "_model_module": "@jupyter-widgets/controls",
      "_model_module_version": "1.5.0",
      "_model_name": "FloatProgressModel",
      "_view_count": null,
      "_view_module": "@jupyter-widgets/controls",
      "_view_module_version": "1.5.0",
      "_view_name": "ProgressView",
      "bar_style": "danger",
      "description": "",
      "description_tooltip": null,
      "layout": "IPY_MODEL_3526ea6a44e945629f799fd19e2957b8",
      "max": 100000,
      "min": 0,
      "orientation": "horizontal",
      "style": "IPY_MODEL_45d73c4521294005b7fe8aa797d433ea",
      "value": 18827
     }
    },
    "63684c42041a4d529d058ef699a772eb": {
     "model_module": "@jupyter-widgets/base",
     "model_module_version": "1.2.0",
     "model_name": "LayoutModel",
     "state": {
      "_model_module": "@jupyter-widgets/base",
      "_model_module_version": "1.2.0",
      "_model_name": "LayoutModel",
      "_view_count": null,
      "_view_module": "@jupyter-widgets/base",
      "_view_module_version": "1.2.0",
      "_view_name": "LayoutView",
      "align_content": null,
      "align_items": null,
      "align_self": null,
      "border": null,
      "bottom": null,
      "display": null,
      "flex": null,
      "flex_flow": null,
      "grid_area": null,
      "grid_auto_columns": null,
      "grid_auto_flow": null,
      "grid_auto_rows": null,
      "grid_column": null,
      "grid_gap": null,
      "grid_row": null,
      "grid_template_areas": null,
      "grid_template_columns": null,
      "grid_template_rows": null,
      "height": null,
      "justify_content": null,
      "justify_items": null,
      "left": null,
      "margin": null,
      "max_height": null,
      "max_width": null,
      "min_height": null,
      "min_width": null,
      "object_fit": null,
      "object_position": null,
      "order": null,
      "overflow": null,
      "overflow_x": null,
      "overflow_y": null,
      "padding": null,
      "right": null,
      "top": null,
      "visibility": null,
      "width": null
     }
    },
    "6a37b32086ee4570941edb2b4dd84fd0": {
     "model_module": "@jupyter-widgets/base",
     "model_module_version": "1.2.0",
     "model_name": "LayoutModel",
     "state": {
      "_model_module": "@jupyter-widgets/base",
      "_model_module_version": "1.2.0",
      "_model_name": "LayoutModel",
      "_view_count": null,
      "_view_module": "@jupyter-widgets/base",
      "_view_module_version": "1.2.0",
      "_view_name": "LayoutView",
      "align_content": null,
      "align_items": null,
      "align_self": null,
      "border": null,
      "bottom": null,
      "display": null,
      "flex": null,
      "flex_flow": null,
      "grid_area": null,
      "grid_auto_columns": null,
      "grid_auto_flow": null,
      "grid_auto_rows": null,
      "grid_column": null,
      "grid_gap": null,
      "grid_row": null,
      "grid_template_areas": null,
      "grid_template_columns": null,
      "grid_template_rows": null,
      "height": null,
      "justify_content": null,
      "justify_items": null,
      "left": null,
      "margin": null,
      "max_height": null,
      "max_width": null,
      "min_height": null,
      "min_width": null,
      "object_fit": null,
      "object_position": null,
      "order": null,
      "overflow": null,
      "overflow_x": null,
      "overflow_y": null,
      "padding": null,
      "right": null,
      "top": null,
      "visibility": null,
      "width": null
     }
    },
    "6e06a805889e493096dd8eb071985382": {
     "model_module": "@jupyter-widgets/controls",
     "model_module_version": "1.5.0",
     "model_name": "ProgressStyleModel",
     "state": {
      "_model_module": "@jupyter-widgets/controls",
      "_model_module_version": "1.5.0",
      "_model_name": "ProgressStyleModel",
      "_view_count": null,
      "_view_module": "@jupyter-widgets/base",
      "_view_module_version": "1.2.0",
      "_view_name": "StyleView",
      "bar_color": null,
      "description_width": ""
     }
    },
    "715dbadf170447698f027ecb5e50ad0f": {
     "model_module": "@jupyter-widgets/base",
     "model_module_version": "1.2.0",
     "model_name": "LayoutModel",
     "state": {
      "_model_module": "@jupyter-widgets/base",
      "_model_module_version": "1.2.0",
      "_model_name": "LayoutModel",
      "_view_count": null,
      "_view_module": "@jupyter-widgets/base",
      "_view_module_version": "1.2.0",
      "_view_name": "LayoutView",
      "align_content": null,
      "align_items": null,
      "align_self": null,
      "border": null,
      "bottom": null,
      "display": null,
      "flex": null,
      "flex_flow": null,
      "grid_area": null,
      "grid_auto_columns": null,
      "grid_auto_flow": null,
      "grid_auto_rows": null,
      "grid_column": null,
      "grid_gap": null,
      "grid_row": null,
      "grid_template_areas": null,
      "grid_template_columns": null,
      "grid_template_rows": null,
      "height": null,
      "justify_content": null,
      "justify_items": null,
      "left": null,
      "margin": null,
      "max_height": null,
      "max_width": null,
      "min_height": null,
      "min_width": null,
      "object_fit": null,
      "object_position": null,
      "order": null,
      "overflow": null,
      "overflow_x": null,
      "overflow_y": null,
      "padding": null,
      "right": null,
      "top": null,
      "visibility": null,
      "width": null
     }
    },
    "79c91ce65c07499eac66c1e6beb0d4e4": {
     "model_module": "@jupyter-widgets/base",
     "model_module_version": "1.2.0",
     "model_name": "LayoutModel",
     "state": {
      "_model_module": "@jupyter-widgets/base",
      "_model_module_version": "1.2.0",
      "_model_name": "LayoutModel",
      "_view_count": null,
      "_view_module": "@jupyter-widgets/base",
      "_view_module_version": "1.2.0",
      "_view_name": "LayoutView",
      "align_content": null,
      "align_items": null,
      "align_self": null,
      "border": null,
      "bottom": null,
      "display": null,
      "flex": null,
      "flex_flow": null,
      "grid_area": null,
      "grid_auto_columns": null,
      "grid_auto_flow": null,
      "grid_auto_rows": null,
      "grid_column": null,
      "grid_gap": null,
      "grid_row": null,
      "grid_template_areas": null,
      "grid_template_columns": null,
      "grid_template_rows": null,
      "height": null,
      "justify_content": null,
      "justify_items": null,
      "left": null,
      "margin": null,
      "max_height": null,
      "max_width": null,
      "min_height": null,
      "min_width": null,
      "object_fit": null,
      "object_position": null,
      "order": null,
      "overflow": null,
      "overflow_x": null,
      "overflow_y": null,
      "padding": null,
      "right": null,
      "top": null,
      "visibility": null,
      "width": null
     }
    },
    "7a3b81bb919145bd80f46c3d9ba6306f": {
     "model_module": "@jupyter-widgets/controls",
     "model_module_version": "1.5.0",
     "model_name": "HTMLModel",
     "state": {
      "_dom_classes": [],
      "_model_module": "@jupyter-widgets/controls",
      "_model_module_version": "1.5.0",
      "_model_name": "HTMLModel",
      "_view_count": null,
      "_view_module": "@jupyter-widgets/controls",
      "_view_module_version": "1.5.0",
      "_view_name": "HTMLView",
      "description": "",
      "description_tooltip": null,
      "layout": "IPY_MODEL_aaacf896c5f44f9eae8ea82b4ca1c769",
      "placeholder": "​",
      "style": "IPY_MODEL_7b09e9250447454b830f5393431c61cd",
      "value": " 6255/100000 [00:04&lt;01:09, 1348.54it/s]"
     }
    },
    "7b09e9250447454b830f5393431c61cd": {
     "model_module": "@jupyter-widgets/controls",
     "model_module_version": "1.5.0",
     "model_name": "DescriptionStyleModel",
     "state": {
      "_model_module": "@jupyter-widgets/controls",
      "_model_module_version": "1.5.0",
      "_model_name": "DescriptionStyleModel",
      "_view_count": null,
      "_view_module": "@jupyter-widgets/base",
      "_view_module_version": "1.2.0",
      "_view_name": "StyleView",
      "description_width": ""
     }
    },
    "7ccc435609d14ebaa79336c167a603f4": {
     "model_module": "@jupyter-widgets/controls",
     "model_module_version": "1.5.0",
     "model_name": "HTMLModel",
     "state": {
      "_dom_classes": [],
      "_model_module": "@jupyter-widgets/controls",
      "_model_module_version": "1.5.0",
      "_model_name": "HTMLModel",
      "_view_count": null,
      "_view_module": "@jupyter-widgets/controls",
      "_view_module_version": "1.5.0",
      "_view_name": "HTMLView",
      "description": "",
      "description_tooltip": null,
      "layout": "IPY_MODEL_a08350128bb84859993aeb2f171953bb",
      "placeholder": "​",
      "style": "IPY_MODEL_4ca2573032ca4d43a0b8cf25c6150f44",
      "value": " 603/100000 [00:15&lt;42:18, 39.16it/s]"
     }
    },
    "7e3ec9b222894f86a244d4acc04fb2ab": {
     "model_module": "@jupyter-widgets/base",
     "model_module_version": "1.2.0",
     "model_name": "LayoutModel",
     "state": {
      "_model_module": "@jupyter-widgets/base",
      "_model_module_version": "1.2.0",
      "_model_name": "LayoutModel",
      "_view_count": null,
      "_view_module": "@jupyter-widgets/base",
      "_view_module_version": "1.2.0",
      "_view_name": "LayoutView",
      "align_content": null,
      "align_items": null,
      "align_self": null,
      "border": null,
      "bottom": null,
      "display": null,
      "flex": null,
      "flex_flow": null,
      "grid_area": null,
      "grid_auto_columns": null,
      "grid_auto_flow": null,
      "grid_auto_rows": null,
      "grid_column": null,
      "grid_gap": null,
      "grid_row": null,
      "grid_template_areas": null,
      "grid_template_columns": null,
      "grid_template_rows": null,
      "height": null,
      "justify_content": null,
      "justify_items": null,
      "left": null,
      "margin": null,
      "max_height": null,
      "max_width": null,
      "min_height": null,
      "min_width": null,
      "object_fit": null,
      "object_position": null,
      "order": null,
      "overflow": null,
      "overflow_x": null,
      "overflow_y": null,
      "padding": null,
      "right": null,
      "top": null,
      "visibility": null,
      "width": null
     }
    },
    "806e5e92b0c643a9b4348455e613ab2d": {
     "model_module": "@jupyter-widgets/controls",
     "model_module_version": "1.5.0",
     "model_name": "HBoxModel",
     "state": {
      "_dom_classes": [],
      "_model_module": "@jupyter-widgets/controls",
      "_model_module_version": "1.5.0",
      "_model_name": "HBoxModel",
      "_view_count": null,
      "_view_module": "@jupyter-widgets/controls",
      "_view_module_version": "1.5.0",
      "_view_name": "HBoxView",
      "box_style": "",
      "children": [
       "IPY_MODEL_5638df8473dc489587ee3ed5b5d25816",
       "IPY_MODEL_5807c067d3194e66b6fcafa0ba76515b",
       "IPY_MODEL_52938269ddd246eab55cd4f5f446405f"
      ],
      "layout": "IPY_MODEL_c78da8188bf94701a86f6812c3b6a748"
     }
    },
    "8163c9d784a74bf68e2d268dc9982319": {
     "model_module": "@jupyter-widgets/base",
     "model_module_version": "1.2.0",
     "model_name": "LayoutModel",
     "state": {
      "_model_module": "@jupyter-widgets/base",
      "_model_module_version": "1.2.0",
      "_model_name": "LayoutModel",
      "_view_count": null,
      "_view_module": "@jupyter-widgets/base",
      "_view_module_version": "1.2.0",
      "_view_name": "LayoutView",
      "align_content": null,
      "align_items": null,
      "align_self": null,
      "border": null,
      "bottom": null,
      "display": null,
      "flex": null,
      "flex_flow": null,
      "grid_area": null,
      "grid_auto_columns": null,
      "grid_auto_flow": null,
      "grid_auto_rows": null,
      "grid_column": null,
      "grid_gap": null,
      "grid_row": null,
      "grid_template_areas": null,
      "grid_template_columns": null,
      "grid_template_rows": null,
      "height": null,
      "justify_content": null,
      "justify_items": null,
      "left": null,
      "margin": null,
      "max_height": null,
      "max_width": null,
      "min_height": null,
      "min_width": null,
      "object_fit": null,
      "object_position": null,
      "order": null,
      "overflow": null,
      "overflow_x": null,
      "overflow_y": null,
      "padding": null,
      "right": null,
      "top": null,
      "visibility": null,
      "width": null
     }
    },
    "81f415dba261467aa0183dd6c852dafa": {
     "model_module": "@jupyter-widgets/controls",
     "model_module_version": "1.5.0",
     "model_name": "DescriptionStyleModel",
     "state": {
      "_model_module": "@jupyter-widgets/controls",
      "_model_module_version": "1.5.0",
      "_model_name": "DescriptionStyleModel",
      "_view_count": null,
      "_view_module": "@jupyter-widgets/base",
      "_view_module_version": "1.2.0",
      "_view_name": "StyleView",
      "description_width": ""
     }
    },
    "8bb3e21ce2504526aae89b49ffa03a86": {
     "model_module": "@jupyter-widgets/controls",
     "model_module_version": "1.5.0",
     "model_name": "HTMLModel",
     "state": {
      "_dom_classes": [],
      "_model_module": "@jupyter-widgets/controls",
      "_model_module_version": "1.5.0",
      "_model_name": "HTMLModel",
      "_view_count": null,
      "_view_module": "@jupyter-widgets/controls",
      "_view_module_version": "1.5.0",
      "_view_name": "HTMLView",
      "description": "",
      "description_tooltip": null,
      "layout": "IPY_MODEL_0a63642a228d4b019435a99c304145bf",
      "placeholder": "​",
      "style": "IPY_MODEL_5aafc886f8cd4eda904251a9abcf5078",
      "value": "  2%"
     }
    },
    "90941d30bb344518bb89410315d1193e": {
     "model_module": "@jupyter-widgets/controls",
     "model_module_version": "1.5.0",
     "model_name": "DescriptionStyleModel",
     "state": {
      "_model_module": "@jupyter-widgets/controls",
      "_model_module_version": "1.5.0",
      "_model_name": "DescriptionStyleModel",
      "_view_count": null,
      "_view_module": "@jupyter-widgets/base",
      "_view_module_version": "1.2.0",
      "_view_name": "StyleView",
      "description_width": ""
     }
    },
    "9282a7521c864e9ea58e62b1e16854c1": {
     "model_module": "@jupyter-widgets/base",
     "model_module_version": "1.2.0",
     "model_name": "LayoutModel",
     "state": {
      "_model_module": "@jupyter-widgets/base",
      "_model_module_version": "1.2.0",
      "_model_name": "LayoutModel",
      "_view_count": null,
      "_view_module": "@jupyter-widgets/base",
      "_view_module_version": "1.2.0",
      "_view_name": "LayoutView",
      "align_content": null,
      "align_items": null,
      "align_self": null,
      "border": null,
      "bottom": null,
      "display": null,
      "flex": null,
      "flex_flow": null,
      "grid_area": null,
      "grid_auto_columns": null,
      "grid_auto_flow": null,
      "grid_auto_rows": null,
      "grid_column": null,
      "grid_gap": null,
      "grid_row": null,
      "grid_template_areas": null,
      "grid_template_columns": null,
      "grid_template_rows": null,
      "height": null,
      "justify_content": null,
      "justify_items": null,
      "left": null,
      "margin": null,
      "max_height": null,
      "max_width": null,
      "min_height": null,
      "min_width": null,
      "object_fit": null,
      "object_position": null,
      "order": null,
      "overflow": null,
      "overflow_x": null,
      "overflow_y": null,
      "padding": null,
      "right": null,
      "top": null,
      "visibility": null,
      "width": null
     }
    },
    "9858883bccca47629537707fc7ba8ee0": {
     "model_module": "@jupyter-widgets/controls",
     "model_module_version": "1.5.0",
     "model_name": "HBoxModel",
     "state": {
      "_dom_classes": [],
      "_model_module": "@jupyter-widgets/controls",
      "_model_module_version": "1.5.0",
      "_model_name": "HBoxModel",
      "_view_count": null,
      "_view_module": "@jupyter-widgets/controls",
      "_view_module_version": "1.5.0",
      "_view_name": "HBoxView",
      "box_style": "",
      "children": [
       "IPY_MODEL_aa1a8bfd98ea46e0bf31a2fdbd2e495f",
       "IPY_MODEL_5d71a6d348b149dca4c48dbff540f47f",
       "IPY_MODEL_5229163b9b424b4c9bbfc872ff0ab69b"
      ],
      "layout": "IPY_MODEL_715dbadf170447698f027ecb5e50ad0f"
     }
    },
    "9dc59a45f37540c4ae65af6997a841b4": {
     "model_module": "@jupyter-widgets/base",
     "model_module_version": "1.2.0",
     "model_name": "LayoutModel",
     "state": {
      "_model_module": "@jupyter-widgets/base",
      "_model_module_version": "1.2.0",
      "_model_name": "LayoutModel",
      "_view_count": null,
      "_view_module": "@jupyter-widgets/base",
      "_view_module_version": "1.2.0",
      "_view_name": "LayoutView",
      "align_content": null,
      "align_items": null,
      "align_self": null,
      "border": null,
      "bottom": null,
      "display": null,
      "flex": null,
      "flex_flow": null,
      "grid_area": null,
      "grid_auto_columns": null,
      "grid_auto_flow": null,
      "grid_auto_rows": null,
      "grid_column": null,
      "grid_gap": null,
      "grid_row": null,
      "grid_template_areas": null,
      "grid_template_columns": null,
      "grid_template_rows": null,
      "height": null,
      "justify_content": null,
      "justify_items": null,
      "left": null,
      "margin": null,
      "max_height": null,
      "max_width": null,
      "min_height": null,
      "min_width": null,
      "object_fit": null,
      "object_position": null,
      "order": null,
      "overflow": null,
      "overflow_x": null,
      "overflow_y": null,
      "padding": null,
      "right": null,
      "top": null,
      "visibility": null,
      "width": null
     }
    },
    "9fabd0bdd8cb4fb5ba9a94465bb63b73": {
     "model_module": "@jupyter-widgets/base",
     "model_module_version": "1.2.0",
     "model_name": "LayoutModel",
     "state": {
      "_model_module": "@jupyter-widgets/base",
      "_model_module_version": "1.2.0",
      "_model_name": "LayoutModel",
      "_view_count": null,
      "_view_module": "@jupyter-widgets/base",
      "_view_module_version": "1.2.0",
      "_view_name": "LayoutView",
      "align_content": null,
      "align_items": null,
      "align_self": null,
      "border": null,
      "bottom": null,
      "display": null,
      "flex": null,
      "flex_flow": null,
      "grid_area": null,
      "grid_auto_columns": null,
      "grid_auto_flow": null,
      "grid_auto_rows": null,
      "grid_column": null,
      "grid_gap": null,
      "grid_row": null,
      "grid_template_areas": null,
      "grid_template_columns": null,
      "grid_template_rows": null,
      "height": null,
      "justify_content": null,
      "justify_items": null,
      "left": null,
      "margin": null,
      "max_height": null,
      "max_width": null,
      "min_height": null,
      "min_width": null,
      "object_fit": null,
      "object_position": null,
      "order": null,
      "overflow": null,
      "overflow_x": null,
      "overflow_y": null,
      "padding": null,
      "right": null,
      "top": null,
      "visibility": null,
      "width": null
     }
    },
    "a08350128bb84859993aeb2f171953bb": {
     "model_module": "@jupyter-widgets/base",
     "model_module_version": "1.2.0",
     "model_name": "LayoutModel",
     "state": {
      "_model_module": "@jupyter-widgets/base",
      "_model_module_version": "1.2.0",
      "_model_name": "LayoutModel",
      "_view_count": null,
      "_view_module": "@jupyter-widgets/base",
      "_view_module_version": "1.2.0",
      "_view_name": "LayoutView",
      "align_content": null,
      "align_items": null,
      "align_self": null,
      "border": null,
      "bottom": null,
      "display": null,
      "flex": null,
      "flex_flow": null,
      "grid_area": null,
      "grid_auto_columns": null,
      "grid_auto_flow": null,
      "grid_auto_rows": null,
      "grid_column": null,
      "grid_gap": null,
      "grid_row": null,
      "grid_template_areas": null,
      "grid_template_columns": null,
      "grid_template_rows": null,
      "height": null,
      "justify_content": null,
      "justify_items": null,
      "left": null,
      "margin": null,
      "max_height": null,
      "max_width": null,
      "min_height": null,
      "min_width": null,
      "object_fit": null,
      "object_position": null,
      "order": null,
      "overflow": null,
      "overflow_x": null,
      "overflow_y": null,
      "padding": null,
      "right": null,
      "top": null,
      "visibility": null,
      "width": null
     }
    },
    "a273030f4cc749c0a8d02af013bd3e5f": {
     "model_module": "@jupyter-widgets/base",
     "model_module_version": "1.2.0",
     "model_name": "LayoutModel",
     "state": {
      "_model_module": "@jupyter-widgets/base",
      "_model_module_version": "1.2.0",
      "_model_name": "LayoutModel",
      "_view_count": null,
      "_view_module": "@jupyter-widgets/base",
      "_view_module_version": "1.2.0",
      "_view_name": "LayoutView",
      "align_content": null,
      "align_items": null,
      "align_self": null,
      "border": null,
      "bottom": null,
      "display": null,
      "flex": null,
      "flex_flow": null,
      "grid_area": null,
      "grid_auto_columns": null,
      "grid_auto_flow": null,
      "grid_auto_rows": null,
      "grid_column": null,
      "grid_gap": null,
      "grid_row": null,
      "grid_template_areas": null,
      "grid_template_columns": null,
      "grid_template_rows": null,
      "height": null,
      "justify_content": null,
      "justify_items": null,
      "left": null,
      "margin": null,
      "max_height": null,
      "max_width": null,
      "min_height": null,
      "min_width": null,
      "object_fit": null,
      "object_position": null,
      "order": null,
      "overflow": null,
      "overflow_x": null,
      "overflow_y": null,
      "padding": null,
      "right": null,
      "top": null,
      "visibility": null,
      "width": null
     }
    },
    "a81c3584f8bd42afb15b0d65501d15dc": {
     "model_module": "@jupyter-widgets/controls",
     "model_module_version": "1.5.0",
     "model_name": "DescriptionStyleModel",
     "state": {
      "_model_module": "@jupyter-widgets/controls",
      "_model_module_version": "1.5.0",
      "_model_name": "DescriptionStyleModel",
      "_view_count": null,
      "_view_module": "@jupyter-widgets/base",
      "_view_module_version": "1.2.0",
      "_view_name": "StyleView",
      "description_width": ""
     }
    },
    "aa1a8bfd98ea46e0bf31a2fdbd2e495f": {
     "model_module": "@jupyter-widgets/controls",
     "model_module_version": "1.5.0",
     "model_name": "HTMLModel",
     "state": {
      "_dom_classes": [],
      "_model_module": "@jupyter-widgets/controls",
      "_model_module_version": "1.5.0",
      "_model_name": "HTMLModel",
      "_view_count": null,
      "_view_module": "@jupyter-widgets/controls",
      "_view_module_version": "1.5.0",
      "_view_name": "HTMLView",
      "description": "",
      "description_tooltip": null,
      "layout": "IPY_MODEL_115221b2647248eb92309aa0b362718b",
      "placeholder": "​",
      "style": "IPY_MODEL_f13f3621b6f04982af3b76cc3dd67e5f",
      "value": " 19%"
     }
    },
    "aa21f91bbe51479a84a97aa1c549b105": {
     "model_module": "@jupyter-widgets/controls",
     "model_module_version": "1.5.0",
     "model_name": "FloatProgressModel",
     "state": {
      "_dom_classes": [],
      "_model_module": "@jupyter-widgets/controls",
      "_model_module_version": "1.5.0",
      "_model_name": "FloatProgressModel",
      "_view_count": null,
      "_view_module": "@jupyter-widgets/controls",
      "_view_module_version": "1.5.0",
      "_view_name": "ProgressView",
      "bar_style": "danger",
      "description": "",
      "description_tooltip": null,
      "layout": "IPY_MODEL_9dc59a45f37540c4ae65af6997a841b4",
      "max": 100000,
      "min": 0,
      "orientation": "horizontal",
      "style": "IPY_MODEL_db9ed3a6c38848d9ace0899960d63685",
      "value": 56065
     }
    },
    "aa5d9495b9dc4a07817b62c5aabd3b60": {
     "model_module": "@jupyter-widgets/controls",
     "model_module_version": "1.5.0",
     "model_name": "HTMLModel",
     "state": {
      "_dom_classes": [],
      "_model_module": "@jupyter-widgets/controls",
      "_model_module_version": "1.5.0",
      "_model_name": "HTMLModel",
      "_view_count": null,
      "_view_module": "@jupyter-widgets/controls",
      "_view_module_version": "1.5.0",
      "_view_name": "HTMLView",
      "description": "",
      "description_tooltip": null,
      "layout": "IPY_MODEL_1428ee6a01d7420cabe16eb4c4e5a365",
      "placeholder": "​",
      "style": "IPY_MODEL_af956ed0bc6a4a2dafb3651efa27feea",
      "value": " 30%"
     }
    },
    "aaacf896c5f44f9eae8ea82b4ca1c769": {
     "model_module": "@jupyter-widgets/base",
     "model_module_version": "1.2.0",
     "model_name": "LayoutModel",
     "state": {
      "_model_module": "@jupyter-widgets/base",
      "_model_module_version": "1.2.0",
      "_model_name": "LayoutModel",
      "_view_count": null,
      "_view_module": "@jupyter-widgets/base",
      "_view_module_version": "1.2.0",
      "_view_name": "LayoutView",
      "align_content": null,
      "align_items": null,
      "align_self": null,
      "border": null,
      "bottom": null,
      "display": null,
      "flex": null,
      "flex_flow": null,
      "grid_area": null,
      "grid_auto_columns": null,
      "grid_auto_flow": null,
      "grid_auto_rows": null,
      "grid_column": null,
      "grid_gap": null,
      "grid_row": null,
      "grid_template_areas": null,
      "grid_template_columns": null,
      "grid_template_rows": null,
      "height": null,
      "justify_content": null,
      "justify_items": null,
      "left": null,
      "margin": null,
      "max_height": null,
      "max_width": null,
      "min_height": null,
      "min_width": null,
      "object_fit": null,
      "object_position": null,
      "order": null,
      "overflow": null,
      "overflow_x": null,
      "overflow_y": null,
      "padding": null,
      "right": null,
      "top": null,
      "visibility": null,
      "width": null
     }
    },
    "ad8637dd1fe2463f9d38fe9690f495d9": {
     "model_module": "@jupyter-widgets/controls",
     "model_module_version": "1.5.0",
     "model_name": "HBoxModel",
     "state": {
      "_dom_classes": [],
      "_model_module": "@jupyter-widgets/controls",
      "_model_module_version": "1.5.0",
      "_model_name": "HBoxModel",
      "_view_count": null,
      "_view_module": "@jupyter-widgets/controls",
      "_view_module_version": "1.5.0",
      "_view_name": "HBoxView",
      "box_style": "",
      "children": [
       "IPY_MODEL_8bb3e21ce2504526aae89b49ffa03a86",
       "IPY_MODEL_c421b3f5c19c444ebed929d58a834fb7",
       "IPY_MODEL_d6eac01f50774eeab2545d88669acaaa"
      ],
      "layout": "IPY_MODEL_1d83f3763f5742a68781f38b71bbc755"
     }
    },
    "af956ed0bc6a4a2dafb3651efa27feea": {
     "model_module": "@jupyter-widgets/controls",
     "model_module_version": "1.5.0",
     "model_name": "DescriptionStyleModel",
     "state": {
      "_model_module": "@jupyter-widgets/controls",
      "_model_module_version": "1.5.0",
      "_model_name": "DescriptionStyleModel",
      "_view_count": null,
      "_view_module": "@jupyter-widgets/base",
      "_view_module_version": "1.2.0",
      "_view_name": "StyleView",
      "description_width": ""
     }
    },
    "affc05792f9d4e81aaea46d4b8556c72": {
     "model_module": "@jupyter-widgets/base",
     "model_module_version": "1.2.0",
     "model_name": "LayoutModel",
     "state": {
      "_model_module": "@jupyter-widgets/base",
      "_model_module_version": "1.2.0",
      "_model_name": "LayoutModel",
      "_view_count": null,
      "_view_module": "@jupyter-widgets/base",
      "_view_module_version": "1.2.0",
      "_view_name": "LayoutView",
      "align_content": null,
      "align_items": null,
      "align_self": null,
      "border": null,
      "bottom": null,
      "display": null,
      "flex": null,
      "flex_flow": null,
      "grid_area": null,
      "grid_auto_columns": null,
      "grid_auto_flow": null,
      "grid_auto_rows": null,
      "grid_column": null,
      "grid_gap": null,
      "grid_row": null,
      "grid_template_areas": null,
      "grid_template_columns": null,
      "grid_template_rows": null,
      "height": null,
      "justify_content": null,
      "justify_items": null,
      "left": null,
      "margin": null,
      "max_height": null,
      "max_width": null,
      "min_height": null,
      "min_width": null,
      "object_fit": null,
      "object_position": null,
      "order": null,
      "overflow": null,
      "overflow_x": null,
      "overflow_y": null,
      "padding": null,
      "right": null,
      "top": null,
      "visibility": null,
      "width": null
     }
    },
    "c19c79e36690405d9b7dcacae5669cb9": {
     "model_module": "@jupyter-widgets/controls",
     "model_module_version": "1.5.0",
     "model_name": "FloatProgressModel",
     "state": {
      "_dom_classes": [],
      "_model_module": "@jupyter-widgets/controls",
      "_model_module_version": "1.5.0",
      "_model_name": "FloatProgressModel",
      "_view_count": null,
      "_view_module": "@jupyter-widgets/controls",
      "_view_module_version": "1.5.0",
      "_view_name": "ProgressView",
      "bar_style": "danger",
      "description": "",
      "description_tooltip": null,
      "layout": "IPY_MODEL_6a37b32086ee4570941edb2b4dd84fd0",
      "max": 100000,
      "min": 0,
      "orientation": "horizontal",
      "style": "IPY_MODEL_da47c945619a4f34b49e25df247c67f7",
      "value": 6255
     }
    },
    "c421b3f5c19c444ebed929d58a834fb7": {
     "model_module": "@jupyter-widgets/controls",
     "model_module_version": "1.5.0",
     "model_name": "FloatProgressModel",
     "state": {
      "_dom_classes": [],
      "_model_module": "@jupyter-widgets/controls",
      "_model_module_version": "1.5.0",
      "_model_name": "FloatProgressModel",
      "_view_count": null,
      "_view_module": "@jupyter-widgets/controls",
      "_view_module_version": "1.5.0",
      "_view_name": "ProgressView",
      "bar_style": "danger",
      "description": "",
      "description_tooltip": null,
      "layout": "IPY_MODEL_79c91ce65c07499eac66c1e6beb0d4e4",
      "max": 100000,
      "min": 0,
      "orientation": "horizontal",
      "style": "IPY_MODEL_3a68c23c214749b99b0b7495d699a928",
      "value": 2189
     }
    },
    "c68554e585f84b71bb039d41be5dd832": {
     "model_module": "@jupyter-widgets/controls",
     "model_module_version": "1.5.0",
     "model_name": "DescriptionStyleModel",
     "state": {
      "_model_module": "@jupyter-widgets/controls",
      "_model_module_version": "1.5.0",
      "_model_name": "DescriptionStyleModel",
      "_view_count": null,
      "_view_module": "@jupyter-widgets/base",
      "_view_module_version": "1.2.0",
      "_view_name": "StyleView",
      "description_width": ""
     }
    },
    "c78da8188bf94701a86f6812c3b6a748": {
     "model_module": "@jupyter-widgets/base",
     "model_module_version": "1.2.0",
     "model_name": "LayoutModel",
     "state": {
      "_model_module": "@jupyter-widgets/base",
      "_model_module_version": "1.2.0",
      "_model_name": "LayoutModel",
      "_view_count": null,
      "_view_module": "@jupyter-widgets/base",
      "_view_module_version": "1.2.0",
      "_view_name": "LayoutView",
      "align_content": null,
      "align_items": null,
      "align_self": null,
      "border": null,
      "bottom": null,
      "display": null,
      "flex": null,
      "flex_flow": null,
      "grid_area": null,
      "grid_auto_columns": null,
      "grid_auto_flow": null,
      "grid_auto_rows": null,
      "grid_column": null,
      "grid_gap": null,
      "grid_row": null,
      "grid_template_areas": null,
      "grid_template_columns": null,
      "grid_template_rows": null,
      "height": null,
      "justify_content": null,
      "justify_items": null,
      "left": null,
      "margin": null,
      "max_height": null,
      "max_width": null,
      "min_height": null,
      "min_width": null,
      "object_fit": null,
      "object_position": null,
      "order": null,
      "overflow": null,
      "overflow_x": null,
      "overflow_y": null,
      "padding": null,
      "right": null,
      "top": null,
      "visibility": null,
      "width": null
     }
    },
    "c9f6c3a71ec74e22b15acce5aa8689a8": {
     "model_module": "@jupyter-widgets/controls",
     "model_module_version": "1.5.0",
     "model_name": "FloatProgressModel",
     "state": {
      "_dom_classes": [],
      "_model_module": "@jupyter-widgets/controls",
      "_model_module_version": "1.5.0",
      "_model_name": "FloatProgressModel",
      "_view_count": null,
      "_view_module": "@jupyter-widgets/controls",
      "_view_module_version": "1.5.0",
      "_view_name": "ProgressView",
      "bar_style": "danger",
      "description": "",
      "description_tooltip": null,
      "layout": "IPY_MODEL_54263dca0ab44774aa6d318c5093d17a",
      "max": 100000,
      "min": 0,
      "orientation": "horizontal",
      "style": "IPY_MODEL_4c2100851bd645dcacf00f385760acd3",
      "value": 1052
     }
    },
    "cc43915f672a4e6e886a65d1bba5dcb7": {
     "model_module": "@jupyter-widgets/controls",
     "model_module_version": "1.5.0",
     "model_name": "DescriptionStyleModel",
     "state": {
      "_model_module": "@jupyter-widgets/controls",
      "_model_module_version": "1.5.0",
      "_model_name": "DescriptionStyleModel",
      "_view_count": null,
      "_view_module": "@jupyter-widgets/base",
      "_view_module_version": "1.2.0",
      "_view_name": "StyleView",
      "description_width": ""
     }
    },
    "cc5db3ae4e5e4621b8d7020cfab8646d": {
     "model_module": "@jupyter-widgets/controls",
     "model_module_version": "1.5.0",
     "model_name": "FloatProgressModel",
     "state": {
      "_dom_classes": [],
      "_model_module": "@jupyter-widgets/controls",
      "_model_module_version": "1.5.0",
      "_model_name": "FloatProgressModel",
      "_view_count": null,
      "_view_module": "@jupyter-widgets/controls",
      "_view_module_version": "1.5.0",
      "_view_name": "ProgressView",
      "bar_style": "danger",
      "description": "",
      "description_tooltip": null,
      "layout": "IPY_MODEL_09b5d1b70688409b8fb81a4f962e819d",
      "max": 100000,
      "min": 0,
      "orientation": "horizontal",
      "style": "IPY_MODEL_1e16d090cdf343958eb4702a07dc9dd1",
      "value": 29767
     }
    },
    "ce83ad25c2094781b9324489ad4f7d10": {
     "model_module": "@jupyter-widgets/controls",
     "model_module_version": "1.5.0",
     "model_name": "DescriptionStyleModel",
     "state": {
      "_model_module": "@jupyter-widgets/controls",
      "_model_module_version": "1.5.0",
      "_model_name": "DescriptionStyleModel",
      "_view_count": null,
      "_view_module": "@jupyter-widgets/base",
      "_view_module_version": "1.2.0",
      "_view_name": "StyleView",
      "description_width": ""
     }
    },
    "d0d2c6b821184073be14d6b27eab2cf3": {
     "model_module": "@jupyter-widgets/base",
     "model_module_version": "1.2.0",
     "model_name": "LayoutModel",
     "state": {
      "_model_module": "@jupyter-widgets/base",
      "_model_module_version": "1.2.0",
      "_model_name": "LayoutModel",
      "_view_count": null,
      "_view_module": "@jupyter-widgets/base",
      "_view_module_version": "1.2.0",
      "_view_name": "LayoutView",
      "align_content": null,
      "align_items": null,
      "align_self": null,
      "border": null,
      "bottom": null,
      "display": null,
      "flex": null,
      "flex_flow": null,
      "grid_area": null,
      "grid_auto_columns": null,
      "grid_auto_flow": null,
      "grid_auto_rows": null,
      "grid_column": null,
      "grid_gap": null,
      "grid_row": null,
      "grid_template_areas": null,
      "grid_template_columns": null,
      "grid_template_rows": null,
      "height": null,
      "justify_content": null,
      "justify_items": null,
      "left": null,
      "margin": null,
      "max_height": null,
      "max_width": null,
      "min_height": null,
      "min_width": null,
      "object_fit": null,
      "object_position": null,
      "order": null,
      "overflow": null,
      "overflow_x": null,
      "overflow_y": null,
      "padding": null,
      "right": null,
      "top": null,
      "visibility": null,
      "width": null
     }
    },
    "d134b99363c64e9898cb0d90920badb7": {
     "model_module": "@jupyter-widgets/controls",
     "model_module_version": "1.5.0",
     "model_name": "FloatProgressModel",
     "state": {
      "_dom_classes": [],
      "_model_module": "@jupyter-widgets/controls",
      "_model_module_version": "1.5.0",
      "_model_name": "FloatProgressModel",
      "_view_count": null,
      "_view_module": "@jupyter-widgets/controls",
      "_view_module_version": "1.5.0",
      "_view_name": "ProgressView",
      "bar_style": "danger",
      "description": "",
      "description_tooltip": null,
      "layout": "IPY_MODEL_f4a1fcd06ca34c1c8858aadf380756ab",
      "max": 100000,
      "min": 0,
      "orientation": "horizontal",
      "style": "IPY_MODEL_031872194f0e4d3b8aa1becc953b9e0e",
      "value": 603
     }
    },
    "d2b49149641b4fc6b3a030bad865a483": {
     "model_module": "@jupyter-widgets/controls",
     "model_module_version": "1.5.0",
     "model_name": "HBoxModel",
     "state": {
      "_dom_classes": [],
      "_model_module": "@jupyter-widgets/controls",
      "_model_module_version": "1.5.0",
      "_model_name": "HBoxModel",
      "_view_count": null,
      "_view_module": "@jupyter-widgets/controls",
      "_view_module_version": "1.5.0",
      "_view_name": "HBoxView",
      "box_style": "",
      "children": [
       "IPY_MODEL_2a6cf9b52dae404aa336609ecf75855a",
       "IPY_MODEL_d134b99363c64e9898cb0d90920badb7",
       "IPY_MODEL_7ccc435609d14ebaa79336c167a603f4"
      ],
      "layout": "IPY_MODEL_034adf2df61d49d1a405c2284a2bcafd"
     }
    },
    "d6eac01f50774eeab2545d88669acaaa": {
     "model_module": "@jupyter-widgets/controls",
     "model_module_version": "1.5.0",
     "model_name": "HTMLModel",
     "state": {
      "_dom_classes": [],
      "_model_module": "@jupyter-widgets/controls",
      "_model_module_version": "1.5.0",
      "_model_name": "HTMLModel",
      "_view_count": null,
      "_view_module": "@jupyter-widgets/controls",
      "_view_module_version": "1.5.0",
      "_view_name": "HTMLView",
      "description": "",
      "description_tooltip": null,
      "layout": "IPY_MODEL_e1682208e3e349738e25ea79b4857576",
      "placeholder": "​",
      "style": "IPY_MODEL_81f415dba261467aa0183dd6c852dafa",
      "value": " 2189/100000 [00:30&lt;22:29, 72.47it/s]"
     }
    },
    "d770147977e143de82373f7fd5a7dbb8": {
     "model_module": "@jupyter-widgets/controls",
     "model_module_version": "1.5.0",
     "model_name": "DescriptionStyleModel",
     "state": {
      "_model_module": "@jupyter-widgets/controls",
      "_model_module_version": "1.5.0",
      "_model_name": "DescriptionStyleModel",
      "_view_count": null,
      "_view_module": "@jupyter-widgets/base",
      "_view_module_version": "1.2.0",
      "_view_name": "StyleView",
      "description_width": ""
     }
    },
    "d852da44006743f8ab234b9fcf999686": {
     "model_module": "@jupyter-widgets/controls",
     "model_module_version": "1.5.0",
     "model_name": "HBoxModel",
     "state": {
      "_dom_classes": [],
      "_model_module": "@jupyter-widgets/controls",
      "_model_module_version": "1.5.0",
      "_model_name": "HBoxModel",
      "_view_count": null,
      "_view_module": "@jupyter-widgets/controls",
      "_view_module_version": "1.5.0",
      "_view_name": "HBoxView",
      "box_style": "",
      "children": [
       "IPY_MODEL_aa5d9495b9dc4a07817b62c5aabd3b60",
       "IPY_MODEL_cc5db3ae4e5e4621b8d7020cfab8646d",
       "IPY_MODEL_3490584e5d14428d81438c5afb9b436a"
      ],
      "layout": "IPY_MODEL_9fabd0bdd8cb4fb5ba9a94465bb63b73"
     }
    },
    "da47c945619a4f34b49e25df247c67f7": {
     "model_module": "@jupyter-widgets/controls",
     "model_module_version": "1.5.0",
     "model_name": "ProgressStyleModel",
     "state": {
      "_model_module": "@jupyter-widgets/controls",
      "_model_module_version": "1.5.0",
      "_model_name": "ProgressStyleModel",
      "_view_count": null,
      "_view_module": "@jupyter-widgets/base",
      "_view_module_version": "1.2.0",
      "_view_name": "StyleView",
      "bar_color": null,
      "description_width": ""
     }
    },
    "db9ed3a6c38848d9ace0899960d63685": {
     "model_module": "@jupyter-widgets/controls",
     "model_module_version": "1.5.0",
     "model_name": "ProgressStyleModel",
     "state": {
      "_model_module": "@jupyter-widgets/controls",
      "_model_module_version": "1.5.0",
      "_model_name": "ProgressStyleModel",
      "_view_count": null,
      "_view_module": "@jupyter-widgets/base",
      "_view_module_version": "1.2.0",
      "_view_name": "StyleView",
      "bar_color": null,
      "description_width": ""
     }
    },
    "e1682208e3e349738e25ea79b4857576": {
     "model_module": "@jupyter-widgets/base",
     "model_module_version": "1.2.0",
     "model_name": "LayoutModel",
     "state": {
      "_model_module": "@jupyter-widgets/base",
      "_model_module_version": "1.2.0",
      "_model_name": "LayoutModel",
      "_view_count": null,
      "_view_module": "@jupyter-widgets/base",
      "_view_module_version": "1.2.0",
      "_view_name": "LayoutView",
      "align_content": null,
      "align_items": null,
      "align_self": null,
      "border": null,
      "bottom": null,
      "display": null,
      "flex": null,
      "flex_flow": null,
      "grid_area": null,
      "grid_auto_columns": null,
      "grid_auto_flow": null,
      "grid_auto_rows": null,
      "grid_column": null,
      "grid_gap": null,
      "grid_row": null,
      "grid_template_areas": null,
      "grid_template_columns": null,
      "grid_template_rows": null,
      "height": null,
      "justify_content": null,
      "justify_items": null,
      "left": null,
      "margin": null,
      "max_height": null,
      "max_width": null,
      "min_height": null,
      "min_width": null,
      "object_fit": null,
      "object_position": null,
      "order": null,
      "overflow": null,
      "overflow_x": null,
      "overflow_y": null,
      "padding": null,
      "right": null,
      "top": null,
      "visibility": null,
      "width": null
     }
    },
    "e93f0c5a2f26494596a4adb9e78f31f7": {
     "model_module": "@jupyter-widgets/base",
     "model_module_version": "1.2.0",
     "model_name": "LayoutModel",
     "state": {
      "_model_module": "@jupyter-widgets/base",
      "_model_module_version": "1.2.0",
      "_model_name": "LayoutModel",
      "_view_count": null,
      "_view_module": "@jupyter-widgets/base",
      "_view_module_version": "1.2.0",
      "_view_name": "LayoutView",
      "align_content": null,
      "align_items": null,
      "align_self": null,
      "border": null,
      "bottom": null,
      "display": null,
      "flex": null,
      "flex_flow": null,
      "grid_area": null,
      "grid_auto_columns": null,
      "grid_auto_flow": null,
      "grid_auto_rows": null,
      "grid_column": null,
      "grid_gap": null,
      "grid_row": null,
      "grid_template_areas": null,
      "grid_template_columns": null,
      "grid_template_rows": null,
      "height": null,
      "justify_content": null,
      "justify_items": null,
      "left": null,
      "margin": null,
      "max_height": null,
      "max_width": null,
      "min_height": null,
      "min_width": null,
      "object_fit": null,
      "object_position": null,
      "order": null,
      "overflow": null,
      "overflow_x": null,
      "overflow_y": null,
      "padding": null,
      "right": null,
      "top": null,
      "visibility": null,
      "width": null
     }
    },
    "e9dbe523fe7b44d5b6816f94c4c7ea2b": {
     "model_module": "@jupyter-widgets/controls",
     "model_module_version": "1.5.0",
     "model_name": "DescriptionStyleModel",
     "state": {
      "_model_module": "@jupyter-widgets/controls",
      "_model_module_version": "1.5.0",
      "_model_name": "DescriptionStyleModel",
      "_view_count": null,
      "_view_module": "@jupyter-widgets/base",
      "_view_module_version": "1.2.0",
      "_view_name": "StyleView",
      "description_width": ""
     }
    },
    "ea820614370a4e9c9b9061dbd512c0d9": {
     "model_module": "@jupyter-widgets/base",
     "model_module_version": "1.2.0",
     "model_name": "LayoutModel",
     "state": {
      "_model_module": "@jupyter-widgets/base",
      "_model_module_version": "1.2.0",
      "_model_name": "LayoutModel",
      "_view_count": null,
      "_view_module": "@jupyter-widgets/base",
      "_view_module_version": "1.2.0",
      "_view_name": "LayoutView",
      "align_content": null,
      "align_items": null,
      "align_self": null,
      "border": null,
      "bottom": null,
      "display": null,
      "flex": null,
      "flex_flow": null,
      "grid_area": null,
      "grid_auto_columns": null,
      "grid_auto_flow": null,
      "grid_auto_rows": null,
      "grid_column": null,
      "grid_gap": null,
      "grid_row": null,
      "grid_template_areas": null,
      "grid_template_columns": null,
      "grid_template_rows": null,
      "height": null,
      "justify_content": null,
      "justify_items": null,
      "left": null,
      "margin": null,
      "max_height": null,
      "max_width": null,
      "min_height": null,
      "min_width": null,
      "object_fit": null,
      "object_position": null,
      "order": null,
      "overflow": null,
      "overflow_x": null,
      "overflow_y": null,
      "padding": null,
      "right": null,
      "top": null,
      "visibility": null,
      "width": null
     }
    },
    "ed713d4cd4c04e288070510c8097a0e5": {
     "model_module": "@jupyter-widgets/controls",
     "model_module_version": "1.5.0",
     "model_name": "HBoxModel",
     "state": {
      "_dom_classes": [],
      "_model_module": "@jupyter-widgets/controls",
      "_model_module_version": "1.5.0",
      "_model_name": "HBoxModel",
      "_view_count": null,
      "_view_module": "@jupyter-widgets/controls",
      "_view_module_version": "1.5.0",
      "_view_name": "HBoxView",
      "box_style": "",
      "children": [
       "IPY_MODEL_0c675f29a5d24d5b819a90e0597671d8",
       "IPY_MODEL_c9f6c3a71ec74e22b15acce5aa8689a8",
       "IPY_MODEL_2127107dea1a40b9a531b55044365fbf"
      ],
      "layout": "IPY_MODEL_9282a7521c864e9ea58e62b1e16854c1"
     }
    },
    "f13f3621b6f04982af3b76cc3dd67e5f": {
     "model_module": "@jupyter-widgets/controls",
     "model_module_version": "1.5.0",
     "model_name": "DescriptionStyleModel",
     "state": {
      "_model_module": "@jupyter-widgets/controls",
      "_model_module_version": "1.5.0",
      "_model_name": "DescriptionStyleModel",
      "_view_count": null,
      "_view_module": "@jupyter-widgets/base",
      "_view_module_version": "1.2.0",
      "_view_name": "StyleView",
      "description_width": ""
     }
    },
    "f3c5883317e74bf1b5a4b866d09914d3": {
     "model_module": "@jupyter-widgets/controls",
     "model_module_version": "1.5.0",
     "model_name": "HBoxModel",
     "state": {
      "_dom_classes": [],
      "_model_module": "@jupyter-widgets/controls",
      "_model_module_version": "1.5.0",
      "_model_name": "HBoxModel",
      "_view_count": null,
      "_view_module": "@jupyter-widgets/controls",
      "_view_module_version": "1.5.0",
      "_view_name": "HBoxView",
      "box_style": "",
      "children": [
       "IPY_MODEL_4f4261b6a2c946e880c8292192460faa",
       "IPY_MODEL_aa21f91bbe51479a84a97aa1c549b105",
       "IPY_MODEL_49cd549d5d5543edb00b51b213e4c04c"
      ],
      "layout": "IPY_MODEL_fe50d785a8ee40aca1216603f1b1af5e"
     }
    },
    "f4a1fcd06ca34c1c8858aadf380756ab": {
     "model_module": "@jupyter-widgets/base",
     "model_module_version": "1.2.0",
     "model_name": "LayoutModel",
     "state": {
      "_model_module": "@jupyter-widgets/base",
      "_model_module_version": "1.2.0",
      "_model_name": "LayoutModel",
      "_view_count": null,
      "_view_module": "@jupyter-widgets/base",
      "_view_module_version": "1.2.0",
      "_view_name": "LayoutView",
      "align_content": null,
      "align_items": null,
      "align_self": null,
      "border": null,
      "bottom": null,
      "display": null,
      "flex": null,
      "flex_flow": null,
      "grid_area": null,
      "grid_auto_columns": null,
      "grid_auto_flow": null,
      "grid_auto_rows": null,
      "grid_column": null,
      "grid_gap": null,
      "grid_row": null,
      "grid_template_areas": null,
      "grid_template_columns": null,
      "grid_template_rows": null,
      "height": null,
      "justify_content": null,
      "justify_items": null,
      "left": null,
      "margin": null,
      "max_height": null,
      "max_width": null,
      "min_height": null,
      "min_width": null,
      "object_fit": null,
      "object_position": null,
      "order": null,
      "overflow": null,
      "overflow_x": null,
      "overflow_y": null,
      "padding": null,
      "right": null,
      "top": null,
      "visibility": null,
      "width": null
     }
    },
    "fe50d785a8ee40aca1216603f1b1af5e": {
     "model_module": "@jupyter-widgets/base",
     "model_module_version": "1.2.0",
     "model_name": "LayoutModel",
     "state": {
      "_model_module": "@jupyter-widgets/base",
      "_model_module_version": "1.2.0",
      "_model_name": "LayoutModel",
      "_view_count": null,
      "_view_module": "@jupyter-widgets/base",
      "_view_module_version": "1.2.0",
      "_view_name": "LayoutView",
      "align_content": null,
      "align_items": null,
      "align_self": null,
      "border": null,
      "bottom": null,
      "display": null,
      "flex": null,
      "flex_flow": null,
      "grid_area": null,
      "grid_auto_columns": null,
      "grid_auto_flow": null,
      "grid_auto_rows": null,
      "grid_column": null,
      "grid_gap": null,
      "grid_row": null,
      "grid_template_areas": null,
      "grid_template_columns": null,
      "grid_template_rows": null,
      "height": null,
      "justify_content": null,
      "justify_items": null,
      "left": null,
      "margin": null,
      "max_height": null,
      "max_width": null,
      "min_height": null,
      "min_width": null,
      "object_fit": null,
      "object_position": null,
      "order": null,
      "overflow": null,
      "overflow_x": null,
      "overflow_y": null,
      "padding": null,
      "right": null,
      "top": null,
      "visibility": null,
      "width": null
     }
    }
   }
  }
 },
 "nbformat": 4,
 "nbformat_minor": 1
}
