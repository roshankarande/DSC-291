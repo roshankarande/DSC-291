{
 "cells": [
  {
   "cell_type": "markdown",
   "metadata": {
    "id": "hjRM13EAuL3g"
   },
   "source": [
    " # HW2 - Q3: Evaluating Robustness of Neural Networks (35 points)\n",
    "\n",
    "**Keywords**: Adversarial Robustness, FGSM/PGD Attack, Certification\n",
    "\n",
    "**About the dataset**: \\\n",
    "The [MNIST](https://en.wikipedia.org/wiki/MNIST_database) database (Modified National Institute of Standards and Technology database) is a large database of handwritten digits that is commonly used for training various image processing systems.\\\n",
    "The MNIST database contains 70,000 labeled images. Each datapoint is a $28\\times 28$ pixels grayscale image.\\\n",
    "Here we will be starting off with a pre-trained 2-hidden-layer model on the full MNIST dataset.\n",
    "\n",
    "**Agenda**:\n",
    "* In this programming challenge, you will implement adversarial attack on an MNIST neural network model as well as visualize those attacks. \n",
    "* You will do this by solving the inner maximization problem using FGSM (Fast Gradient Sign Method) and PGD (Projected Gradient Descent).\n",
    "* You will then perform verification of the model using Interval-Bound -Propagation (IBP).\n",
    "\n",
    "\n",
    "**Note:**\n",
    "* It is important that you use **GPU accelaration** for this Question.\n",
    "* A note on working with GPU:\n",
    "  * Take care that whenever declaring new tensors, set `device=device` in parameters. \n",
    "  * You can also move a declared torch tensor/model to device using `.to(device)`. \n",
    "  * To move a torch model/tensor to cpu, use `.to('cpu')`\n",
    "  * Keep in mind that all the tensors/model involved in a computation have to be on the same device (CPU/GPU).\n",
    "* Run all the cells in order.\n",
    "* **Do not edit** the cells marked with !!DO NOT EDIT!!\n",
    "* Only **add your code** to cells marked with !!!! YOUR CODE HERE !!!!\n",
    "* Do not change variable names, and use the names which are suggested."
   ]
  },
  {
   "cell_type": "markdown",
   "metadata": {
    "id": "ZUJgYttwjmpK"
   },
   "source": [
    "\n",
    "\n",
    "---\n",
    "\n"
   ]
  },
  {
   "cell_type": "markdown",
   "metadata": {
    "id": "mXVzZFpxD8u-"
   },
   "source": [
    "### Preprocessing"
   ]
  },
  {
   "cell_type": "code",
   "execution_count": 1,
   "metadata": {
    "colab": {
     "base_uri": "https://localhost:8080/"
    },
    "execution": {
     "iopub.execute_input": "2022-05-17T00:13:13.66111Z",
     "iopub.status.busy": "2022-05-17T00:13:13.660821Z",
     "iopub.status.idle": "2022-05-17T00:13:42.715188Z",
     "shell.execute_reply": "2022-05-17T00:13:42.71436Z",
     "shell.execute_reply.started": "2022-05-17T00:13:13.661079Z"
    },
    "id": "p8yCdUrCD8u-",
    "outputId": "9f5b390c-21e3-44b9-a730-df6a579231c8"
   },
   "outputs": [
    {
     "name": "stdout",
     "output_type": "stream",
     "text": [
      "Requirement already satisfied: gdown in d:\\programs\\anaconda3\\lib\\site-packages (4.4.0)\n",
      "Requirement already satisfied: tqdm in d:\\programs\\anaconda3\\lib\\site-packages (from gdown) (4.62.3)\n",
      "Requirement already satisfied: beautifulsoup4 in d:\\programs\\anaconda3\\lib\\site-packages (from gdown) (4.10.0)\n",
      "Requirement already satisfied: filelock in d:\\programs\\anaconda3\\lib\\site-packages (from gdown) (3.3.1)\n",
      "Requirement already satisfied: requests[socks] in d:\\programs\\anaconda3\\lib\\site-packages (from gdown) (2.26.0)\n",
      "Requirement already satisfied: six in d:\\programs\\anaconda3\\lib\\site-packages (from gdown) (1.16.0)\n",
      "Requirement already satisfied: soupsieve>1.2 in d:\\programs\\anaconda3\\lib\\site-packages (from beautifulsoup4->gdown) (2.2.1)\n",
      "Requirement already satisfied: certifi>=2017.4.17 in d:\\programs\\anaconda3\\lib\\site-packages (from requests[socks]->gdown) (2021.10.8)\n",
      "Requirement already satisfied: charset-normalizer~=2.0.0 in d:\\programs\\anaconda3\\lib\\site-packages (from requests[socks]->gdown) (2.0.4)\n",
      "Requirement already satisfied: urllib3<1.27,>=1.21.1 in d:\\programs\\anaconda3\\lib\\site-packages (from requests[socks]->gdown) (1.26.7)\n",
      "Requirement already satisfied: idna<4,>=2.5 in d:\\programs\\anaconda3\\lib\\site-packages (from requests[socks]->gdown) (3.2)\n",
      "Requirement already satisfied: PySocks!=1.5.7,>=1.5.6 in d:\\programs\\anaconda3\\lib\\site-packages (from requests[socks]->gdown) (1.7.1)\n",
      "Requirement already satisfied: colorama in d:\\programs\\anaconda3\\lib\\site-packages (from tqdm->gdown) (0.4.4)\n"
     ]
    }
   ],
   "source": [
    "# install this library\n",
    "!pip install gdown"
   ]
  },
  {
   "cell_type": "markdown",
   "metadata": {
    "id": "wGrcOvZu16yi"
   },
   "source": [
    "* We will be using a pre-trained 2-hidden layer neural network model (`nn_model`) that takes as input features vectors of size 784, and ouputs logits vector of size 10. Each of the two hidden layers are of size 1024.\n",
    "\n",
    "* This is a highly accurate model with train accuracy of approx 99.88% and test accuracy of approx 98.14%.\n",
    "\n",
    "* We will also be loading and initializing a dummy model (`test_model`) for unit testing code implementation."
   ]
  },
  {
   "cell_type": "code",
   "execution_count": 2,
   "metadata": {
    "colab": {
     "base_uri": "https://localhost:8080/",
     "height": 770,
     "referenced_widgets": [
      "b7c68fd6fec14f2480a2229cc2fbffa9",
      "0a1894012a7b4849b0b2d0c4b373a6a3",
      "a8730dce43d74f80a9e406c5af2896ff",
      "3503a880c4ab42d4a156f674cbb3ae09",
      "2fa2c43ebaed4a05ada4a00e90397d67",
      "8c2296d38b034f93bf99242abd3a5950",
      "ba4685a1c9bc4f2c91c213ba2242b561",
      "ab25312352084fd3baf68e63e1980aa6",
      "002e727538cb4f22958d71f304ea5a6b",
      "fbc7a349563c4033b5f385ccaa3ab817",
      "6033e3fd6ac74967a1fbaa0252a1d5bf",
      "ea58d1cbf69948c591fb5ac4873ce99a",
      "8077489923fa4d359551c60d8c46f6e0",
      "72b3b5a6b4034c248372ec50418808a9",
      "ec0217da73844a079818d3295746e016",
      "1d90e64adf5640c0a41fdfb949f167e2",
      "7becb54bea9f4a42a22c9a218de7147d",
      "1b71996ec68e4069b09647f4c4ca13bc",
      "e3a12bc740fa4b0c995709248508f88e",
      "626e0cb2f08c40c68212a1f9dafd9d2e",
      "31bc2af9a1d049999b9f400ac19f3a4f",
      "1c310ee410bb433c97f739ae7d919bf1",
      "68fe5afdbf7147e6a2f02a8c50c8dddf",
      "5cd177248ab8476e9d1249a0ce8ea8fa",
      "44bd12606b804003a1ac59406d22307a",
      "3fb29e2c49c84a85a4aba1fe5a4014b1",
      "80a477f5726c4ff092fe539bda2b867e",
      "594970f03dd04ada9edead105a283851",
      "17c515d5462142f189b19009c54df8b7",
      "35856db5d8ca4fb78f636770295b3b13",
      "0b49903079564dbdbf0bd18cc37d453c",
      "833236d5dd8c472b86b372ced6236aa0",
      "d976348b1ff84a36864ce8348aea4c7a",
      "c259880c1fdc49898ba1005cf317ccfb",
      "73e0d826dea941849658cee7b773bf79",
      "5a309603cb4d4540901e0ae5b1bec1ea",
      "7a19059d47e94148ac5f67840df9d8ef",
      "1a0fcb56f81245a2a0e987721e68286a",
      "ab4ae6b386f744c8844a6d05aa30be30",
      "f0f6fcc7b61549878b91341efd05a79e",
      "f260308dc9cd4caab7a834dd676717d8",
      "a79f8e39c32048a191dc543a1602e3a1",
      "7218ac785f1146e9a4bd335f79678c83",
      "acbb020fa4704329b2718004b3960529"
     ]
    },
    "execution": {
     "iopub.execute_input": "2022-05-17T00:13:57.309939Z",
     "iopub.status.busy": "2022-05-17T00:13:57.309615Z",
     "iopub.status.idle": "2022-05-17T00:14:02.322499Z",
     "shell.execute_reply": "2022-05-17T00:14:02.319902Z",
     "shell.execute_reply.started": "2022-05-17T00:13:57.309906Z"
    },
    "id": "qNtGmOhl1I_m",
    "outputId": "2ceb5441-6ae1-4fe2-deb6-9e7cc11e4bd4"
   },
   "outputs": [
    {
     "name": "stdout",
     "output_type": "stream",
     "text": [
      "Pretrained model (nn_model): NN_Model(\n",
      "  (l1): Linear(in_features=784, out_features=1024, bias=True)\n",
      "  (l2): Linear(in_features=1024, out_features=1024, bias=True)\n",
      "  (l3): Linear(in_features=1024, out_features=10, bias=True)\n",
      ")\n",
      "Dummy model (test_model): Test_Model(\n",
      "  (l1): Linear(in_features=2, out_features=3, bias=True)\n",
      "  (l2): Linear(in_features=3, out_features=3, bias=True)\n",
      "  (l3): Linear(in_features=3, out_features=2, bias=True)\n",
      ")\n",
      "Done\n"
     ]
    }
   ],
   "source": [
    "# !!DO NOT EDIT!!\n",
    "# imports\n",
    "import os.path\n",
    "\n",
    "import torch\n",
    "import torch.nn as nn\n",
    "import numpy as np\n",
    "import requests\n",
    "from torchvision import datasets, transforms\n",
    "from torch.utils.data import DataLoader\n",
    "import matplotlib.pyplot as plt\n",
    "from tqdm.notebook import tqdm\n",
    "import gdown\n",
    "from zipfile import ZipFile\n",
    "\n",
    "# set hardware device\n",
    "device = torch.device(\"cuda:0\" if torch.cuda.is_available() else \"cpu\")\n",
    "\n",
    "# loading the dataset full MNIST dataset\n",
    "mnist_train = datasets.MNIST(\"./data\", train=True, download=True, transform=transforms.ToTensor())\n",
    "mnist_test = datasets.MNIST(\"./data\", train=False, download=True, transform=transforms.ToTensor())\n",
    "\n",
    "mnist_train.data = mnist_train.data.to(device)\n",
    "mnist_test.data = mnist_test.data.to(device)\n",
    "\n",
    "mnist_train.targets = mnist_train.targets.to(device)\n",
    "mnist_test.targets = mnist_test.targets.to(device)\n",
    "\n",
    "# number of target classes\n",
    "num_classes = 10\n",
    "num_classes_test = 2 \n",
    "\n",
    "# reshape and min-max scale\n",
    "X_train =  (mnist_train.data.reshape((mnist_train.data.shape[0], -1))/255).to(device)\n",
    "y_train = mnist_train.targets\n",
    "X_test = (mnist_test.data.reshape((mnist_test.data.shape[0], -1))/255).to(device)\n",
    "y_test = mnist_test.targets\n",
    "\n",
    "\n",
    "\n",
    "if not os.path.exists(\"nn_model.pt\"):\n",
    "  # load pretrained and dummy model\n",
    "  print(\"Downloading pretrained model\")\n",
    "  url_nn_model = 'https://bit.ly/3sKvyOs'\n",
    "  url_models   = 'https://bit.ly/3lsVcDn'\n",
    "  gdown.download(url_nn_model, 'nn_model.pt')\n",
    "  gdown.download(url_models, 'models.zip')\n",
    "  ZipFile(\"models.zip\").extractall(\"./\")\n",
    "\n",
    "\n",
    "from model import NN_Model\n",
    "from test_model import Test_Model\n",
    "\n",
    "nn_model = torch.load(\"./nn_model.pt\").to(device)\n",
    "print('Pretrained model (nn_model):', nn_model)\n",
    "\n",
    "test_model = Test_Model()\n",
    "print('Dummy model (test_model):', test_model)\n",
    "\n",
    "print(\"Done\")"
   ]
  },
  {
   "cell_type": "markdown",
   "metadata": {
    "id": "rTj0ezmbD8u_"
   },
   "source": [
    "In this problem set you need to access the individual layers of the neural network. The below piece of code creates a list of ordered layers for each of the neural network models for easy access."
   ]
  },
  {
   "cell_type": "code",
   "execution_count": 3,
   "metadata": {
    "execution": {
     "iopub.execute_input": "2022-05-17T00:14:02.324414Z",
     "iopub.status.busy": "2022-05-17T00:14:02.324138Z",
     "iopub.status.idle": "2022-05-17T00:14:02.329428Z",
     "shell.execute_reply": "2022-05-17T00:14:02.328507Z",
     "shell.execute_reply.started": "2022-05-17T00:14:02.324378Z"
    },
    "id": "xNsFA3dfD8vA"
   },
   "outputs": [],
   "source": [
    "# This will save the linear layers of the neural network model in a ordered list\n",
    "# Eg:\n",
    "# to access weight of first layer: model_layers[0].weight\n",
    "# to access bias of first layer: model_layers[0].bias\n",
    "model_layers = [layer for layer in nn_model.children()] # for nn_model\n",
    "test_model_layers = [layer for layer in test_model.children()] # for dummy model"
   ]
  },
  {
   "cell_type": "code",
   "execution_count": 4,
   "metadata": {
    "execution": {
     "iopub.execute_input": "2022-05-17T00:14:02.33159Z",
     "iopub.status.busy": "2022-05-17T00:14:02.330901Z",
     "iopub.status.idle": "2022-05-17T00:14:02.34155Z",
     "shell.execute_reply": "2022-05-17T00:14:02.340849Z",
     "shell.execute_reply.started": "2022-05-17T00:14:02.331554Z"
    },
    "id": "VdoXqlWbBw0C"
   },
   "outputs": [],
   "source": [
    "# !!DO NOT EDIT!!\n",
    "# utility function to plot the images\n",
    "def plot_images(X,y,yp,M,N):\n",
    "  f,ax = plt.subplots(M,N, sharex=True, sharey=True, figsize=(N,M*1.3))\n",
    "  for i in range(M):\n",
    "    for j in range(N):\n",
    "      ax[i][j].imshow(1-X[i*N+j].cpu().detach().numpy(), cmap=\"gray\")\n",
    "      title = ax[i][j].set_title(\"Pred: {}\".format(yp[i*N+j].max(dim=0)[1]))\n",
    "      plt.setp(title, color=('g' if yp[i*N+j].max(dim=0)[1] == y[i*N+j] else 'r'))\n",
    "      ax[i][j].set_axis_off()\n",
    "    plt.tight_layout()"
   ]
  },
  {
   "cell_type": "code",
   "execution_count": 5,
   "metadata": {
    "colab": {
     "base_uri": "https://localhost:8080/",
     "height": 280
    },
    "execution": {
     "iopub.execute_input": "2022-05-17T00:14:02.345196Z",
     "iopub.status.busy": "2022-05-17T00:14:02.344688Z",
     "iopub.status.idle": "2022-05-17T00:14:04.451211Z",
     "shell.execute_reply": "2022-05-17T00:14:04.450501Z",
     "shell.execute_reply.started": "2022-05-17T00:14:02.34516Z"
    },
    "id": "ulN34Vw2CAMl",
    "outputId": "d4a59ec0-bd23-48c2-ee0a-f3b6cea43b96"
   },
   "outputs": [
    {
     "data": {
      "image/png": "[encoded data removed]",
      "text/plain": [
       "<Figure size 432x280.8 with 18 Axes>"
      ]
     },
     "metadata": {
      "needs_background": "light"
     },
     "output_type": "display_data"
    }
   ],
   "source": [
    "# !!DO NOT EDIT!!\n",
    "# let us visualize a few test examples\n",
    "example_data = mnist_test.data[:18]/255\n",
    "example_data_flattened  = example_data.view((example_data.shape[0], -1)).to(device) # needed for training\n",
    "example_labels = mnist_test.targets[:18].to(device)\n",
    "plot_images(example_data, example_labels, nn_model(example_data_flattened), 3, 6)"
   ]
  },
  {
   "cell_type": "code",
   "execution_count": 6,
   "metadata": {
    "id": "4VK-KEDFhBK5",
    "pycharm": {
     "name": "#%%\n"
    }
   },
   "outputs": [],
   "source": [
    "# device\n",
    "\n",
    "# x = torch.tensor([1.0,-1.0, 4.0])\n",
    "# x.sign()\n",
    "\n",
    "# x.shape\n",
    "#\n",
    "# torch.zeros(x.shape)\n",
    "\n",
    "# X_train.shape\n",
    "# example_data_flattened.shape\n",
    "#\n",
    "# y_train.shape, example_labels.shape"
   ]
  },
  {
   "cell_type": "code",
   "execution_count": 6,
   "metadata": {
    "execution": {
     "iopub.execute_input": "2022-05-17T00:14:04.453109Z",
     "iopub.status.busy": "2022-05-17T00:14:04.452631Z",
     "iopub.status.idle": "2022-05-17T00:14:04.458844Z",
     "shell.execute_reply": "2022-05-17T00:14:04.458133Z",
     "shell.execute_reply.started": "2022-05-17T00:14:04.45307Z"
    },
    "id": "T6BP3I3J1Xog"
   },
   "outputs": [],
   "source": [
    "#######\n",
    "# !!! YOUR CODE HERE !!!\n",
    "\n",
    "loss = nn.CrossEntropyLoss()\n",
    "\n",
    "def fgsm(model, x, y, epsilon = 0.05):\n",
    "\n",
    "  delta = torch.zeros(x.shape, requires_grad=True, device=device)\n",
    "  cost = loss(model(x+ delta), y)\n",
    "  cost.backward()\n",
    "  return epsilon * delta.grad.detach().sign()"
   ]
  },
  {
   "cell_type": "markdown",
   "metadata": {
    "id": "6MhfVmBES_KZ"
   },
   "source": [
    "### **#2.** Now, consider the first few examples from the training dataset which are already defined above as `example_data_flattened` and `example_labels`. Using the function `fgsm`, get the value of `delta` for these examples. Perform prediction on the modified dataset (`example_data_flattened + delta`), and construct a similar plot of images as above. You may reuse the `plot_images` function. Is the attack successful?"
   ]
  },
  {
   "cell_type": "code",
   "execution_count": 7,
   "metadata": {
    "colab": {
     "base_uri": "https://localhost:8080/",
     "height": 332
    },
    "execution": {
     "iopub.execute_input": "2022-05-17T00:14:04.460717Z",
     "iopub.status.busy": "2022-05-17T00:14:04.460257Z",
     "iopub.status.idle": "2022-05-17T00:14:05.786786Z",
     "shell.execute_reply": "2022-05-17T00:14:05.786031Z",
     "shell.execute_reply.started": "2022-05-17T00:14:04.460667Z"
    },
    "id": "unyGm4aDS-qn",
    "outputId": "86bfc508-27c6-4a3b-8694-56e04d916a90"
   },
   "outputs": [
    {
     "name": "stdout",
     "output_type": "stream",
     "text": [
      "------------------Perturbed Images | fsgm_pred---------------------\n",
      "Attack successful!\n",
      "Attack rate - 72.22222089767456 %\n"
     ]
    },
    {
     "data": {
      "image/png": "[encoded data removed]",
      "text/plain": [
       "<Figure size 432x280.8 with 18 Axes>"
      ]
     },
     "metadata": {
      "needs_background": "light"
     },
     "output_type": "display_data"
    }
   ],
   "source": [
    "#######\n",
    "# !!! YOUR CODE HERE !!!\n",
    "\n",
    "# example_data_flattened.shape, example_labels\n",
    "\n",
    "delta = fgsm(nn_model, example_data_flattened, example_labels, 0.05)\n",
    "perturbed_data_flat = example_data_flattened + delta\n",
    "perturbed_images = (example_data_flattened + delta).reshape(example_data.shape)\n",
    "\n",
    "fsgm_y_pred = nn_model(perturbed_data_flat)\n",
    "\n",
    "fsgm_y_pred_labels= torch.argmax(fsgm_y_pred, dim=1)\n",
    "\n",
    "print(\"------------------Perturbed Images | fsgm_pred---------------------\")\n",
    "plot_images(perturbed_images, example_labels, fsgm_y_pred, 3, 6)\n",
    "\n",
    "attack_rate = torch.ne(example_labels, fsgm_y_pred_labels).sum() / len(example_labels)\n",
    "torch.ne(example_labels, fsgm_y_pred_labels)\n",
    "if attack_rate != 0.0:\n",
    "  print(\"Attack successful!\")\n",
    "  print(f\"Attack rate - {float(attack_rate)*100} %\", )\n",
    "else:\n",
    "  print(\"Attack not successful\")\n",
    "\n",
    "#######"
   ]
  },
  {
   "cell_type": "markdown",
   "metadata": {
    "id": "n2DpSB3_-1xB"
   },
   "source": [
    "\n",
    "\n",
    "---\n",
    "\n"
   ]
  },
  {
   "cell_type": "markdown",
   "metadata": {
    "id": "8mSRPCJsWCmQ"
   },
   "source": [
    "### **(b) PGD attack:**  In this part you will create a few adversarial examples using PGD attack. Use an attack budget $\\epsilon=0.05$.  (10 points)\n",
    "\n",
    "**Note:** For the Projected Gradient Descent (PGD) attack, you create an adversarial example by iteratively performing gradient descent with a fixed step size $\\alpha$. The update rule is: $δ:=P(δ+α∇_δ ℓ(h_θ(x+δ),y))$, where $δ$ is the perturbation, $θ$ are the frozen DNN parameters, $x$ and $y$ is the training example and its ground truth label respectively, $h_θ$ is the hypothesis function, $ℓ$ denotes the loss function, and $P$ denotes the projection onto a norm ball ($l_\\infty, l_1, l_2$, etc.) of interest. For $l_\\infty$ ball, this just means clamping the value of $\\delta$ between $-\\epsilon$ and $\\epsilon$.\n",
    "\n",
    "### **#1.** Instead of using FGSM, now use Projected Gradient Descent (PGD) with projection on $l_\\infty$ ball for the attack. Define a function `pgd` that takes as input the neural network model (`model`), training examples (`X`), target labels (`y`), step size (`alpha`), attack budget (`epsilon`), and number of iterations (`num_iter`). Return the perturbation ($\\delta$) after `num_iter` gradient descent steps. "
   ]
  },
  {
   "cell_type": "code",
   "execution_count": 8,
   "metadata": {
    "execution": {
     "iopub.execute_input": "2022-05-17T00:14:05.788125Z",
     "iopub.status.busy": "2022-05-17T00:14:05.787794Z",
     "iopub.status.idle": "2022-05-17T00:14:05.796369Z",
     "shell.execute_reply": "2022-05-17T00:14:05.795611Z",
     "shell.execute_reply.started": "2022-05-17T00:14:05.78808Z"
    },
    "id": "TqSbm39KQ7nv"
   },
   "outputs": [],
   "source": [
    "#######\n",
    "# !!! YOUR CODE HERE !!!\n",
    "\n",
    "def pgd(model, x, y, alpha, epsilon, num_iter):\n",
    "  delta = torch.zeros(x.shape, requires_grad=True, device=device)\n",
    "\n",
    "  for i in range(num_iter):\n",
    "    cost = loss(model(x+ delta), y)\n",
    "    cost.backward()\n",
    "\n",
    "    d = delta + alpha * delta.grad.detach().sign()\n",
    "    d = d.clamp(-epsilon, epsilon)    # as we are using l infity norm hence [-eps,+eps]\n",
    "\n",
    "    delta.data = d\n",
    "    delta.grad.zero_()\n",
    "\n",
    "  return delta.detach()\n",
    "\n",
    "#######"
   ]
  },
  {
   "cell_type": "markdown",
   "metadata": {
    "id": "mAO05kUnYLUF"
   },
   "source": [
    "### **#2.** Now use the PGD attack for the examples from `example_data_flattened`. Use `alpha=1000`, `num_iter=1000`, and create a similar plot as before. Is the attack successful?\n",
    "\n",
    "### The value of `alpha` is large because the neural network model is pretrained and is therefore at the local minima. The value of gradients here is extremely small, and we therefore need a huge value of step size to have any hope of moving out of the local minima."
   ]
  },
  {
   "cell_type": "code",
   "execution_count": 9,
   "metadata": {
    "colab": {
     "base_uri": "https://localhost:8080/",
     "height": 332
    },
    "execution": {
     "iopub.execute_input": "2022-05-17T00:14:05.798692Z",
     "iopub.status.busy": "2022-05-17T00:14:05.79842Z",
     "iopub.status.idle": "2022-05-17T00:14:08.011226Z",
     "shell.execute_reply": "2022-05-17T00:14:08.010579Z",
     "shell.execute_reply.started": "2022-05-17T00:14:05.798642Z"
    },
    "id": "IVapJ4aaYJvW",
    "outputId": "abb7ab76-e2fd-49f8-a7d9-1bb8759137a7"
   },
   "outputs": [
    {
     "name": "stdout",
     "output_type": "stream",
     "text": [
      "------------------Perturbed Images | pgd ---------------------\n",
      "Attack successful!\n",
      "Attack rate - 83.33333134651184 %\n"
     ]
    },
    {
     "data": {
      "image/png": "[encoded data removed]",
      "text/plain": [
       "<Figure size 432x280.8 with 18 Axes>"
      ]
     },
     "metadata": {
      "needs_background": "light"
     },
     "output_type": "display_data"
    }
   ],
   "source": [
    "#######\n",
    "# !!! YOUR CODE HERE !!!\n",
    "\n",
    "delta = pgd(nn_model, example_data_flattened, example_labels, alpha = 1000, epsilon = 0.05, num_iter=1000)\n",
    "perturbed_data_flat = example_data_flattened + delta\n",
    "perturbed_images = (example_data_flattened + delta).reshape(example_data.shape)\n",
    "\n",
    "pgd_y_pred = nn_model(perturbed_data_flat)\n",
    "\n",
    "pgd_y_pred_labels= torch.argmax(pgd_y_pred, dim=1)\n",
    "\n",
    "print(\"------------------Perturbed Images | pgd ---------------------\")\n",
    "plot_images(perturbed_images, example_labels, pgd_y_pred, 3, 6)\n",
    "\n",
    "attack_rate = torch.ne(example_labels, pgd_y_pred_labels).sum() / len(example_labels)\n",
    "torch.ne(example_labels, pgd_y_pred_labels)\n",
    "if attack_rate != 0.0:\n",
    "  print(\"Attack successful!\")\n",
    "  print(f\"Attack rate - {float(attack_rate)*100} %\", )\n",
    "else:\n",
    "  print(\"Attack not successful\")\n",
    "######"
   ]
  },
  {
   "cell_type": "markdown",
   "metadata": {
    "id": "PjC-rDNEaCqC",
    "pycharm": {
     "name": "#%% md\n"
    }
   },
   "source": [
    "### **(c)**  Use FGSM and PGD to create adversarial examples using the complete test dataset. Create the datasets with different values of `epsilon: [0, 0.02, 0.04, 0.06, 0.08, 0.1, 0.12, 0.14, 0.16, 0.18, 0.2]`. For each of the dataset created with different `epsilon` values and attack type, get the model accuracies. Plot a (single) graph of accuracy vs. epsilon for both attack types. Note that `epsilon=0` means no attack, so you can just get accuracy on the original dataset. (10 points)\n",
    "\n",
    "#### <font color=\"red\">It is important that you use **GPU accelaration** for this part.</font>\n"
   ]
  },
  {
   "cell_type": "code",
   "execution_count": 11,
   "metadata": {
    "colab": {
     "base_uri": "https://localhost:8080/"
    },
    "execution": {
     "iopub.execute_input": "2022-05-16T23:02:25.278969Z",
     "iopub.status.busy": "2022-05-16T23:02:25.278575Z",
     "iopub.status.idle": "2022-05-16T23:05:24.825878Z",
     "shell.execute_reply": "2022-05-16T23:05:24.825051Z",
     "shell.execute_reply.started": "2022-05-16T23:02:25.278928Z"
    },
    "id": "kWAQPWwAaCQA",
    "outputId": "113e87ff-ff70-4362-c8d4-adda3ac69fba"
   },
   "outputs": [
    {
     "name": "stdout",
     "output_type": "stream",
     "text": [
      "0.0 -> 99.97666931152344 - 99.97666931152344\n",
      "0.02 -> 91.83999633789062 - 91.17500305175781\n",
      "0.04 -> 62.13333511352539 - 56.61000061035156\n",
      "0.06 -> 27.0049991607666 - 19.648332595825195\n",
      "0.08 -> 13.844999313354492 - 5.563333034515381\n",
      "0.1 -> 9.458333015441895 - 1.4900000095367432\n",
      "0.12 -> 6.644999980926514 - 0.3916666805744171\n",
      "0.14 -> 4.681666374206543 - 0.0833333358168602\n",
      "0.16 -> 3.323333263397217 - 0.011666666716337204\n",
      "0.18 -> 2.4183332920074463 - 0.0\n",
      "0.2 -> 1.746666669845581 - 0.0\n"
     ]
    }
   ],
   "source": [
    "#######\n",
    "# !!! YOUR CODE HERE !!!\n",
    "\n",
    "epsilon = [0.02*i for i in range(11)]\n",
    "accuracy_list_fgsm = []\n",
    "accuracy_list_pgd = []\n",
    "\n",
    "\n",
    "def get_accuracy(attack_method, X_train, y_train, epsilon):\n",
    "\n",
    "    if attack_method == \"fgsm\":\n",
    "        delta = fgsm(nn_model, X_train, y_train, epsilon=epsilon)\n",
    "    else:\n",
    "        delta = pgd(nn_model, X_train, y_train, alpha = 1000, epsilon = epsilon, num_iter=1000)\n",
    "\n",
    "    perturbed_data_flat = X_train + delta\n",
    "    fgsm_y_pred = nn_model(perturbed_data_flat)\n",
    "    fgsm_y_pred_labels= torch.argmax(fgsm_y_pred, dim=1)\n",
    "\n",
    "    accuracy = float(torch.eq(y_train, fgsm_y_pred_labels).sum() / len(y_train) * 100.0)\n",
    "    return accuracy\n",
    "\n",
    "# n = 1000\n",
    "n = len(X_train)\n",
    "\n",
    "for eps in epsilon:\n",
    "    fgsm_acc = get_accuracy(\"fgsm\", X_train[:n], y_train[:n], epsilon=eps)\n",
    "    pgd_acc = get_accuracy(\"pgd\", X_train[:n], y_train[:n], epsilon=eps)\n",
    "    accuracy_list_fgsm.append(fgsm_acc)\n",
    "    accuracy_list_pgd.append(pgd_acc)\n",
    "    print(f\"{eps} -> {fgsm_acc} - {pgd_acc}\")\n"
   ]
  },
  {
   "cell_type": "code",
   "execution_count": 12,
   "metadata": {
    "colab": {
     "base_uri": "https://localhost:8080/",
     "height": 295
    },
    "id": "wPLM_scuhBK_",
    "outputId": "046c08b8-2962-48f7-ac22-a91c3fbf936c",
    "pycharm": {
     "name": "#%%\n"
    }
   },
   "outputs": [
    {
     "data": {
      "image/png": "[encoded data removed]",
      "text/plain": [
       "<Figure size 432x288 with 1 Axes>"
      ]
     },
     "metadata": {
      "needs_background": "light"
     },
     "output_type": "display_data"
    }
   ],
   "source": [
    "plt.title(\"Accuracy vs epsilon\")\n",
    "plt.ylabel(\"accuracy\")\n",
    "plt.xlabel(\"epsilon\")\n",
    "\n",
    "plt.plot(epsilon,accuracy_list_fgsm, label = \"FGSM\")\n",
    "plt.plot(epsilon,accuracy_list_pgd, label = \"PGD\")\n",
    "plt.legend()\n",
    "plt.show()\n",
    "\n",
    "# accuracy_list_fgsm\n",
    "# accuracy_list_pgd"
   ]
  },
  {
   "cell_type": "markdown",
   "metadata": {
    "id": "LCvAljqaj-bR"
   },
   "source": [
    "\n",
    "\n",
    "---\n",
    "\n"
   ]
  },
  {
   "cell_type": "markdown",
   "metadata": {
    "id": "0boUhvoAj_4g"
   },
   "source": [
    "### **(d)** Use the Interval-Bound-Propagation (IBP) technique to certify robustness of the model through lower bound with a given value of epsilon. (10 points)"
   ]
  },
  {
   "cell_type": "markdown",
   "metadata": {
    "id": "6hcmHsRX1pz1"
   },
   "source": [
    "* In this section, you will find the lower and upper bounds for each neuron of each of the linear layers of the neural network model.\n",
    "\n",
    "* Note that the initial bound is the bound of the first layer, which is the input example. For the $l_\\infty$ perturbation, the initial lower bound is simply $max(0, x-\\epsilon)$, and the  initial upper bound is $min(1, x+\\epsilon)$, for an input example $x$ (Note that each value of $x$ must lie in between 0 and 1, thats why the $min$ and $max$).\n",
    "\n",
    "* In the function, propagate the initial bound across all layers of the neural network and return a list of tuples of *pre-activation* lower and upper bound for each layer. The *pre-activation* bounds are the bound before applying ReLU activation. \n",
    "\n",
    "* Let's review a bit of the IBP bounds: let $z=Wx+b$ denote an intermediate linear layer of the model, and suppose $\\hat{l} \\le x \\le \\hat{u}, l \\le z \\le u$, we have:\\\n",
    "$l=W_+\\hat{l}+W_-\\hat{u}+b$\\\n",
    "$u=W_+\\hat{u}+W_-\\hat{l}+b$\\\n",
    "Note $l, u$ here are the *pre-activation* bounds\n",
    "\n",
    "* If a non-linear ReLU activation function $\\sigma(\\cdot)$ is applied to the layer $z=Wx+b$, then the bounds of $\\sigma(z)$ will be: $l=\\sigma(\\hat{l}), u = \\sigma(\\hat{u})$ as $\\sigma$ is a monotonically non-decreasing function. I.e. $l \\leq \\sigma(z) \\leq u$. The $l,u$ here are the *post-activation* bounds. Note, here we use $\\hat{l}$ and $\\hat{u}$ to denote the bounds of the previous layer: $\\hat{l} \\leq z \\leq \\hat{u}$. \n",
    "\n",
    "### **#1.** Define a function `bound_propagation` which takes as input an ordered list of layers of the model (`model_layers`), a feature vector (`x`), and attack budget (`epsilon`). Return a list of tuples of `pre-activation` lower and upper bound tensors for each layer. Verify that your implementation is correct by verifying the results of your function on the unit tests given below."
   ]
  },
  {
   "cell_type": "code",
   "execution_count": 10,
   "metadata": {
    "execution": {
     "iopub.execute_input": "2022-05-17T00:14:09.746273Z",
     "iopub.status.busy": "2022-05-17T00:14:09.745707Z",
     "iopub.status.idle": "2022-05-17T00:14:09.757123Z",
     "shell.execute_reply": "2022-05-17T00:14:09.756385Z",
     "shell.execute_reply.started": "2022-05-17T00:14:09.746233Z"
    },
    "id": "8p4zMIeHj-D2"
   },
   "outputs": [],
   "source": [
    "#######\n",
    "# !!! YOUR CODE HERE !!!\n",
    "\n",
    "import torch.nn.functional as fn\n",
    "\n",
    "def bound_propagation(model_layers, x, epsilon):\n",
    "    initial_bound = ((x - epsilon).clamp(min=0), (x + epsilon).clamp(max=1))\n",
    "    l, u = initial_bound\n",
    "    bounds = []\n",
    "    bounds.append((l, u))\n",
    "    for i,layer in enumerate(model_layers):\n",
    "        layer = layer.to(device)\n",
    "        if isinstance(layer, nn.Linear):\n",
    "            if i < len(model_layers):\n",
    "                l = torch.nn.functional.relu(l)\n",
    "                u = torch.nn.functional.relu(u)\n",
    "                \n",
    "            l_ = (layer.weight.clamp(min=0) @ l.t() + layer.weight.clamp(max=0) @ u.t()\n",
    "                  + layer.bias[:,None]).t()\n",
    "            u_ = (layer.weight.clamp(min=0) @ u.t() + layer.weight.clamp(max=0) @ l.t()\n",
    "                  + layer.bias[:,None]).t()\n",
    "        elif isinstance(layer, fn.relu):\n",
    "        # else:\n",
    "            print(\"Clamping done\")\n",
    "            l_ = l.clamp(min=0)\n",
    "            u_ = u.clamp(min=0)\n",
    "\n",
    "        bounds.append((l_, u_))\n",
    "        l,u = l_, u_\n",
    "    return bounds\n",
    "\n",
    "\n",
    "      #######"
   ]
  },
  {
   "cell_type": "code",
   "execution_count": 11,
   "metadata": {
    "colab": {
     "base_uri": "https://localhost:8080/"
    },
    "execution": {
     "iopub.execute_input": "2022-05-17T00:14:10.195952Z",
     "iopub.status.busy": "2022-05-17T00:14:10.195394Z",
     "iopub.status.idle": "2022-05-17T00:14:10.275105Z",
     "shell.execute_reply": "2022-05-17T00:14:10.274366Z",
     "shell.execute_reply.started": "2022-05-17T00:14:10.195913Z"
    },
    "id": "VkjsOCP0D8vD",
    "outputId": "bd633af9-f575-4235-e29b-af810c22f92a"
   },
   "outputs": [
    {
     "ename": "AssertionError",
     "evalue": "",
     "output_type": "error",
     "traceback": [
      "\u001b[1;31m---------------------------------------------------------------------------\u001b[0m",
      "\u001b[1;31mAssertionError\u001b[0m                            Traceback (most recent call last)",
      "\u001b[1;32m~\\AppData\\Local\\Temp/ipykernel_17884/438765974.py\u001b[0m in \u001b[0;36m<module>\u001b[1;34m\u001b[0m\n\u001b[0;32m     23\u001b[0m \u001b[1;32massert\u001b[0m \u001b[0mtorch\u001b[0m\u001b[1;33m.\u001b[0m\u001b[0mall\u001b[0m\u001b[1;33m(\u001b[0m\u001b[0mtorch\u001b[0m\u001b[1;33m.\u001b[0m\u001b[0meq\u001b[0m\u001b[1;33m(\u001b[0m\u001b[0mtorch\u001b[0m\u001b[1;33m.\u001b[0m\u001b[0mround\u001b[0m\u001b[1;33m(\u001b[0m\u001b[0mtest_bounds_2\u001b[0m\u001b[1;33m[\u001b[0m\u001b[1;36m2\u001b[0m\u001b[1;33m]\u001b[0m\u001b[1;33m[\u001b[0m\u001b[1;36m1\u001b[0m\u001b[1;33m]\u001b[0m\u001b[1;33m,\u001b[0m \u001b[0mdecimals\u001b[0m\u001b[1;33m=\u001b[0m\u001b[1;36m2\u001b[0m\u001b[1;33m)\u001b[0m\u001b[1;33m,\u001b[0m \u001b[0mtorch\u001b[0m\u001b[1;33m.\u001b[0m\u001b[0mtensor\u001b[0m\u001b[1;33m(\u001b[0m\u001b[1;33m[\u001b[0m\u001b[1;33m[\u001b[0m\u001b[1;36m5.2000\u001b[0m\u001b[1;33m,\u001b[0m \u001b[1;36m0.5000\u001b[0m\u001b[1;33m,\u001b[0m \u001b[1;36m3.4000\u001b[0m\u001b[1;33m]\u001b[0m\u001b[1;33m]\u001b[0m\u001b[1;33m,\u001b[0m \u001b[0mdevice\u001b[0m\u001b[1;33m=\u001b[0m\u001b[0mdevice\u001b[0m\u001b[1;33m)\u001b[0m\u001b[1;33m)\u001b[0m\u001b[1;33m)\u001b[0m\u001b[1;33m\u001b[0m\u001b[1;33m\u001b[0m\u001b[0m\n\u001b[0;32m     24\u001b[0m \u001b[1;32massert\u001b[0m \u001b[0mtorch\u001b[0m\u001b[1;33m.\u001b[0m\u001b[0mall\u001b[0m\u001b[1;33m(\u001b[0m\u001b[0mtorch\u001b[0m\u001b[1;33m.\u001b[0m\u001b[0meq\u001b[0m\u001b[1;33m(\u001b[0m\u001b[0mtorch\u001b[0m\u001b[1;33m.\u001b[0m\u001b[0mround\u001b[0m\u001b[1;33m(\u001b[0m\u001b[0mtest_bounds_2\u001b[0m\u001b[1;33m[\u001b[0m\u001b[1;36m3\u001b[0m\u001b[1;33m]\u001b[0m\u001b[1;33m[\u001b[0m\u001b[1;36m0\u001b[0m\u001b[1;33m]\u001b[0m\u001b[1;33m,\u001b[0m \u001b[0mdecimals\u001b[0m\u001b[1;33m=\u001b[0m\u001b[1;36m2\u001b[0m\u001b[1;33m)\u001b[0m\u001b[1;33m,\u001b[0m \u001b[0mtorch\u001b[0m\u001b[1;33m.\u001b[0m\u001b[0mtensor\u001b[0m\u001b[1;33m(\u001b[0m\u001b[1;33m[\u001b[0m\u001b[1;33m[\u001b[0m\u001b[1;36m0.7000\u001b[0m\u001b[1;33m,\u001b[0m \u001b[1;33m-\u001b[0m\u001b[1;36m2.9000\u001b[0m\u001b[1;33m]\u001b[0m\u001b[1;33m]\u001b[0m\u001b[1;33m,\u001b[0m \u001b[0mdevice\u001b[0m\u001b[1;33m=\u001b[0m\u001b[0mdevice\u001b[0m\u001b[1;33m)\u001b[0m\u001b[1;33m)\u001b[0m\u001b[1;33m)\u001b[0m\u001b[1;33m\u001b[0m\u001b[1;33m\u001b[0m\u001b[0m\n\u001b[1;32m---> 25\u001b[1;33m \u001b[1;32massert\u001b[0m \u001b[0mtorch\u001b[0m\u001b[1;33m.\u001b[0m\u001b[0mall\u001b[0m\u001b[1;33m(\u001b[0m\u001b[0mtorch\u001b[0m\u001b[1;33m.\u001b[0m\u001b[0meq\u001b[0m\u001b[1;33m(\u001b[0m\u001b[0mtorch\u001b[0m\u001b[1;33m.\u001b[0m\u001b[0mround\u001b[0m\u001b[1;33m(\u001b[0m\u001b[0mtest_bounds_2\u001b[0m\u001b[1;33m[\u001b[0m\u001b[1;36m3\u001b[0m\u001b[1;33m]\u001b[0m\u001b[1;33m[\u001b[0m\u001b[1;36m1\u001b[0m\u001b[1;33m]\u001b[0m\u001b[1;33m,\u001b[0m \u001b[0mdecimals\u001b[0m\u001b[1;33m=\u001b[0m\u001b[1;36m2\u001b[0m\u001b[1;33m)\u001b[0m\u001b[1;33m,\u001b[0m \u001b[0mtorch\u001b[0m\u001b[1;33m.\u001b[0m\u001b[0mtensor\u001b[0m\u001b[1;33m(\u001b[0m\u001b[1;33m[\u001b[0m\u001b[1;33m[\u001b[0m\u001b[1;36m7.9000\u001b[0m\u001b[1;33m,\u001b[0m \u001b[1;36m11.0000\u001b[0m\u001b[1;33m]\u001b[0m\u001b[1;33m]\u001b[0m\u001b[1;33m,\u001b[0m \u001b[0mdevice\u001b[0m\u001b[1;33m=\u001b[0m\u001b[0mdevice\u001b[0m\u001b[1;33m)\u001b[0m\u001b[1;33m)\u001b[0m\u001b[1;33m)\u001b[0m\u001b[1;33m\u001b[0m\u001b[1;33m\u001b[0m\u001b[0m\n\u001b[0m\u001b[0;32m     26\u001b[0m \u001b[1;33m\u001b[0m\u001b[0m\n\u001b[0;32m     27\u001b[0m \u001b[0mprint\u001b[0m\u001b[1;33m(\u001b[0m\u001b[1;34m\"Unit tests successful\"\u001b[0m\u001b[1;33m)\u001b[0m\u001b[1;33m\u001b[0m\u001b[1;33m\u001b[0m\u001b[0m\n",
      "\u001b[1;31mAssertionError\u001b[0m: "
     ]
    }
   ],
   "source": [
    "# !!DO NOT EDIT!!\n",
    "sample_epsilon = 0.2\n",
    "# unit test - 1\n",
    "x_1 = torch.tensor([[0.1, 0.9]], device=device)\n",
    "test_bounds_1 = bound_propagation(test_model_layers, x_1, sample_epsilon)\n",
    "assert torch.all(torch.eq(torch.round(test_bounds_1[0][0], decimals=2), torch.tensor([[0.0000, 0.7000]], device=device)))\n",
    "assert torch.all(torch.eq(torch.round(test_bounds_1[0][1], decimals=2), torch.tensor([[0.3000, 1.0000]], device=device)))\n",
    "assert torch.all(torch.eq(torch.round(test_bounds_1[1][0], decimals=2), torch.tensor([[0.0000, 1.4000, 1.2000]], device=device)))\n",
    "assert torch.all(torch.eq(torch.round(test_bounds_1[1][1], decimals=2), torch.tensor([[0.4500, 2.6000, 1.5000]], device=device)))\n",
    "assert torch.all(torch.eq(torch.round(test_bounds_1[2][0], decimals=2), torch.tensor([[2.6500, -0.8000, 2.1000]], device=device)))\n",
    "assert torch.all(torch.eq(torch.round(test_bounds_1[2][1], decimals=2), torch.tensor([[6.7000, 0.1000, 4.3500]], device=device)))\n",
    "assert torch.all(torch.eq(torch.round(test_bounds_1[3][0], decimals=2), torch.tensor([[4.2000, 1.4500]], device=device)))\n",
    "assert torch.all(torch.eq(torch.round(test_bounds_1[3][1], decimals=2), torch.tensor([[9.4700, 11.900]], device=device)))\n",
    "\n",
    "# unit test - 2\n",
    "x_2 = torch.tensor([[0.4, 0.5]], device=device)\n",
    "test_bounds_2 = bound_propagation(test_model_layers, x_2, sample_epsilon)\n",
    "assert torch.all(torch.eq(torch.round(test_bounds_2[0][0], decimals=2), torch.tensor([[0.2000, 0.3000]], device=device)))\n",
    "assert torch.all(torch.eq(torch.round(test_bounds_2[0][1], decimals=2), torch.tensor([[0.6000, 0.7000]], device=device)))\n",
    "assert torch.all(torch.eq(torch.round(test_bounds_2[1][0], decimals=2), torch.tensor([[0.4000, 1.0000, 0.8000]], device=device)))\n",
    "assert torch.all(torch.eq(torch.round(test_bounds_2[1][1], decimals=2), torch.tensor([[1.0000, 2.6000, 1.2000]], device=device)))\n",
    "assert torch.all(torch.eq(torch.round(test_bounds_2[2][0], decimals=2), torch.tensor([[-0.2000, -0.7000,  0.4000]], device=device)))\n",
    "assert torch.all(torch.eq(torch.round(test_bounds_2[2][1], decimals=2), torch.tensor([[5.2000, 0.5000, 3.4000]], device=device)))\n",
    "assert torch.all(torch.eq(torch.round(test_bounds_2[3][0], decimals=2), torch.tensor([[0.7000, -2.9000]], device=device)))\n",
    "assert torch.all(torch.eq(torch.round(test_bounds_2[3][1], decimals=2), torch.tensor([[7.9000, 11.0000]], device=device)))\n",
    "\n",
    "print(\"Unit tests successful\")"
   ]
  },
  {
   "cell_type": "code",
   "execution_count": 12,
   "metadata": {},
   "outputs": [
    {
     "data": {
      "text/plain": [
       "tensor([[ 7.9000, 11.0100]], device='cuda:0', grad_fn=<RoundBackward1>)"
      ]
     },
     "execution_count": 12,
     "metadata": {},
     "output_type": "execute_result"
    }
   ],
   "source": [
    "torch.round(test_bounds_2[3][1], decimals=2)"
   ]
  },
  {
   "cell_type": "markdown",
   "metadata": {
    "id": "JoXJUcz226wm"
   },
   "source": [
    "### **#2.** Let the lower and upper bounds of the final layer of the model be $l^{final}$ and $u^{final}$ respectively. Then we say that an input example $x$ has a robutness certificate $\\epsilon$ if the criteria: $l^{final}[c]-u^{final}[i]>0, \\forall i\\ne c$, where $c$ denotes the ground truth class of the input $x$. \n",
    "\n",
    "* We need to determine the maximum value of epsilon for certified robustness against an adversarial attack for a given example. We can do the same using binary search over a few values of epsilon.\n",
    "\n",
    "* Define a function `binary_search` that takes as input a sorted array of epsilon values (`epsilons`), an ordered list of neural network model layers (`model_layers`), examples (`X`), corresponding targets (`y`), the number of target classes (`num_classes`). It should return `certified_epsilons` which is a python list of the final values of epsilon certification for each example in input. You can use `None` when unable to find an epsilon value from epsilons. \n",
    "\n",
    "* Verify that your implementation is correct by verifying the results of your function on the unit tests given below."
   ]
  },
  {
   "cell_type": "code",
   "execution_count": 13,
   "metadata": {
    "execution": {
     "iopub.execute_input": "2022-05-17T00:14:14.918801Z",
     "iopub.status.busy": "2022-05-17T00:14:14.918489Z",
     "iopub.status.idle": "2022-05-17T00:14:14.929109Z",
     "shell.execute_reply": "2022-05-17T00:14:14.928219Z",
     "shell.execute_reply.started": "2022-05-17T00:14:14.918768Z"
    },
    "id": "D4hUeavjD8vD"
   },
   "outputs": [],
   "source": [
    "#######\n",
    "# !!! YOUR CODE HERE !!!\n",
    "def _check(lf, uf, y):\n",
    "    u_js = torch.cat((uf[0][:y], uf[0][y + 1:]))\n",
    "    if torch.all(lf[0][y] > u_js):\n",
    "        return True\n",
    "    else:\n",
    "        return False\n",
    "\n",
    "def binary_search(epsilons, model_layers, X, y, num_classes):\n",
    "    eps_f = []\n",
    "    for i in range(len(y)):\n",
    "        x = X[[i]]\n",
    "        x = torch.reshape(x, (x.shape[0], x.shape[1]))\n",
    "        j = y[i]\n",
    "        if_found = False\n",
    "        low = 0\n",
    "        high = len(epsilons) - 1\n",
    "\n",
    "        while(low <= high and not if_found):\n",
    "            mid = (low + high) // 2\n",
    "            bounds_mid = bound_propagation(model_layers, x, epsilon=epsilons[mid])\n",
    "            lf_mid = bounds_mid[-1][0]\n",
    "            uf_mid = bounds_mid[-1][1]\n",
    "            bounds_hi = bound_propagation(model_layers, x, epsilon=epsilons[high])\n",
    "            lf_hi = bounds_hi[-1][0]\n",
    "            uf_hi = bounds_hi[-1][1]\n",
    "            if _check(lf_hi, uf_hi, j):\n",
    "                if_found = True\n",
    "            else:\n",
    "                if _check(lf_mid, uf_mid, j):\n",
    "                    low = mid + 1\n",
    "                else:\n",
    "                    high = mid - 1\n",
    "        if if_found==True:\n",
    "            eps_f.append(epsilons[high])\n",
    "        else:\n",
    "            eps_f.append(epsilons[mid])\n",
    "\n",
    "    return eps_f\n",
    "\n",
    "#######"
   ]
  },
  {
   "cell_type": "code",
   "execution_count": 14,
   "metadata": {
    "colab": {
     "base_uri": "https://localhost:8080/"
    },
    "id": "TpcsRBWYCJTm",
    "outputId": "22366b94-8d20-4c4b-ecfd-175133addd43"
   },
   "outputs": [
    {
     "ename": "AssertionError",
     "evalue": "",
     "output_type": "error",
     "traceback": [
      "\u001b[1;31m---------------------------------------------------------------------------\u001b[0m",
      "\u001b[1;31mAssertionError\u001b[0m                            Traceback (most recent call last)",
      "\u001b[1;32m~\\AppData\\Local\\Temp/ipykernel_17884/1971591308.py\u001b[0m in \u001b[0;36m<module>\u001b[1;34m\u001b[0m\n\u001b[0;32m      5\u001b[0m \u001b[0msample_y\u001b[0m \u001b[1;33m=\u001b[0m \u001b[0mtorch\u001b[0m\u001b[1;33m.\u001b[0m\u001b[0mtensor\u001b[0m\u001b[1;33m(\u001b[0m\u001b[1;33m[\u001b[0m\u001b[1;36m0\u001b[0m\u001b[1;33m,\u001b[0m\u001b[1;36m0\u001b[0m\u001b[1;33m]\u001b[0m\u001b[1;33m,\u001b[0m \u001b[0mdevice\u001b[0m\u001b[1;33m=\u001b[0m\u001b[0mdevice\u001b[0m\u001b[1;33m)\u001b[0m\u001b[1;33m\u001b[0m\u001b[1;33m\u001b[0m\u001b[0m\n\u001b[0;32m      6\u001b[0m \u001b[0mtest_epsilons\u001b[0m \u001b[1;33m=\u001b[0m \u001b[0mbinary_search\u001b[0m\u001b[1;33m(\u001b[0m\u001b[0mepsilons\u001b[0m\u001b[1;33m,\u001b[0m \u001b[0mtest_model_layers\u001b[0m\u001b[1;33m,\u001b[0m \u001b[0msample_X\u001b[0m\u001b[1;33m,\u001b[0m \u001b[0msample_y\u001b[0m\u001b[1;33m,\u001b[0m \u001b[0mnum_classes_test\u001b[0m\u001b[1;33m)\u001b[0m\u001b[1;33m\u001b[0m\u001b[1;33m\u001b[0m\u001b[0m\n\u001b[1;32m----> 7\u001b[1;33m \u001b[1;32massert\u001b[0m \u001b[0mtest_epsilons\u001b[0m\u001b[1;33m==\u001b[0m\u001b[1;33m[\u001b[0m\u001b[1;36m0.0028\u001b[0m\u001b[1;33m,\u001b[0m \u001b[1;36m0.0067\u001b[0m\u001b[1;33m]\u001b[0m\u001b[1;33m\u001b[0m\u001b[1;33m\u001b[0m\u001b[0m\n\u001b[0m\u001b[0;32m      8\u001b[0m \u001b[0mprint\u001b[0m\u001b[1;33m(\u001b[0m\u001b[1;34m\"Unit tests sucscessful.\"\u001b[0m\u001b[1;33m)\u001b[0m\u001b[1;33m\u001b[0m\u001b[1;33m\u001b[0m\u001b[0m\n",
      "\u001b[1;31mAssertionError\u001b[0m: "
     ]
    }
   ],
   "source": [
    "# !!DO NOT EDIT!!\n",
    "epsilons = [x/10000 for x in range(1, 10000)]\n",
    "# unit test - 1 \n",
    "sample_X = torch.tensor([[0.1, 0.9], [0.4, 0.5]], device=device)\n",
    "sample_y = torch.tensor([0,0], device=device)\n",
    "test_epsilons = binary_search(epsilons, test_model_layers, sample_X, sample_y, num_classes_test)\n",
    "assert test_epsilons==[0.0028, 0.0067]\n",
    "print(\"Unit tests sucscessful.\")"
   ]
  },
  {
   "cell_type": "code",
   "execution_count": 15,
   "metadata": {},
   "outputs": [
    {
     "data": {
      "text/plain": [
       "[0.003, 0.0067]"
      ]
     },
     "execution_count": 15,
     "metadata": {},
     "output_type": "execute_result"
    }
   ],
   "source": [
    "test_epsilons"
   ]
  },
  {
   "cell_type": "markdown",
   "metadata": {
    "id": "c-oAMCniCUl6"
   },
   "source": [
    "### **#3.** Report the certified values of epsilon on the first few examples (simply run the below cell)."
   ]
  },
  {
   "cell_type": "code",
   "execution_count": 18,
   "metadata": {
    "colab": {
     "base_uri": "https://localhost:8080/"
    },
    "execution": {
     "iopub.execute_input": "2022-05-17T00:14:15.587148Z",
     "iopub.status.busy": "2022-05-17T00:14:15.586575Z",
     "iopub.status.idle": "2022-05-17T00:14:15.626283Z",
     "shell.execute_reply": "2022-05-17T00:14:15.62553Z",
     "shell.execute_reply.started": "2022-05-17T00:14:15.587115Z"
    },
    "id": "WBuMbyEpD8vD",
    "outputId": "8704dba4-6e45-4696-907d-c95a98332af6"
   },
   "outputs": [
    {
     "data": {
      "text/plain": [
       "[0.0008, 0.0013]"
      ]
     },
     "execution_count": 18,
     "metadata": {},
     "output_type": "execute_result"
    }
   ],
   "source": [
    "# !!DO NOT EDIT!!\n",
    "# finding epsilon for first few examples of MNIST dataset using IBP\n",
    "epsilons = [x/10000 for x in range(1, 10000)]\n",
    "X = example_data_flattened[0:2]\n",
    "y = example_labels[0:2]\n",
    "binary_search(epsilons, model_layers, X, y, num_classes)"
   ]
  },
  {
   "cell_type": "markdown",
   "metadata": {
    "id": "iq8PfeYWD8vD"
   },
   "source": [
    "---\n",
    "\n",
    "---\n",
    "\n"
   ]
  }
 ],
 "metadata": {
  "accelerator": "GPU",
  "colab": {
   "collapsed_sections": [],
   "name": "HW2_Q3.ipynb",
   "provenance": []
  },
  "kernelspec": {
   "display_name": "Python 3 (ipykernel)",
   "language": "python",
   "name": "python3"
  },
  "language_info": {
   "codemirror_mode": {
    "name": "ipython",
    "version": 3
   },
   "file_extension": ".py",
   "mimetype": "text/x-python",
   "name": "python",
   "nbconvert_exporter": "python",
   "pygments_lexer": "ipython3",
   "version": "3.9.7"
  },
  "widgets": {
   "application/vnd.jupyter.widget-state+json": {
    "002e727538cb4f22958d71f304ea5a6b": {
     "model_module": "@jupyter-widgets/controls",
     "model_module_version": "1.5.0",
     "model_name": "ProgressStyleModel",
     "state": {
      "_model_module": "@jupyter-widgets/controls",
      "_model_module_version": "1.5.0",
      "_model_name": "ProgressStyleModel",
      "_view_count": null,
      "_view_module": "@jupyter-widgets/base",
      "_view_module_version": "1.2.0",
      "_view_name": "StyleView",
      "bar_color": null,
      "description_width": ""
     }
    },
    "0a1894012a7b4849b0b2d0c4b373a6a3": {
     "model_module": "@jupyter-widgets/controls",
     "model_module_version": "1.5.0",
     "model_name": "HTMLModel",
     "state": {
      "_dom_classes": [],
      "_model_module": "@jupyter-widgets/controls",
      "_model_module_version": "1.5.0",
      "_model_name": "HTMLModel",
      "_view_count": null,
      "_view_module": "@jupyter-widgets/controls",
      "_view_module_version": "1.5.0",
      "_view_name": "HTMLView",
      "description": "",
      "description_tooltip": null,
      "layout": "IPY_MODEL_8c2296d38b034f93bf99242abd3a5950",
      "placeholder": "​",
      "style": "IPY_MODEL_ba4685a1c9bc4f2c91c213ba2242b561",
      "value": ""
     }
    },
    "0b49903079564dbdbf0bd18cc37d453c": {
     "model_module": "@jupyter-widgets/controls",
     "model_module_version": "1.5.0",
     "model_name": "ProgressStyleModel",
     "state": {
      "_model_module": "@jupyter-widgets/controls",
      "_model_module_version": "1.5.0",
      "_model_name": "ProgressStyleModel",
      "_view_count": null,
      "_view_module": "@jupyter-widgets/base",
      "_view_module_version": "1.2.0",
      "_view_name": "StyleView",
      "bar_color": null,
      "description_width": ""
     }
    },
    "17c515d5462142f189b19009c54df8b7": {
     "model_module": "@jupyter-widgets/controls",
     "model_module_version": "1.5.0",
     "model_name": "DescriptionStyleModel",
     "state": {
      "_model_module": "@jupyter-widgets/controls",
      "_model_module_version": "1.5.0",
      "_model_name": "DescriptionStyleModel",
      "_view_count": null,
      "_view_module": "@jupyter-widgets/base",
      "_view_module_version": "1.2.0",
      "_view_name": "StyleView",
      "description_width": ""
     }
    },
    "1a0fcb56f81245a2a0e987721e68286a": {
     "model_module": "@jupyter-widgets/base",
     "model_module_version": "1.2.0",
     "model_name": "LayoutModel",
     "state": {
      "_model_module": "@jupyter-widgets/base",
      "_model_module_version": "1.2.0",
      "_model_name": "LayoutModel",
      "_view_count": null,
      "_view_module": "@jupyter-widgets/base",
      "_view_module_version": "1.2.0",
      "_view_name": "LayoutView",
      "align_content": null,
      "align_items": null,
      "align_self": null,
      "border": null,
      "bottom": null,
      "display": null,
      "flex": null,
      "flex_flow": null,
      "grid_area": null,
      "grid_auto_columns": null,
      "grid_auto_flow": null,
      "grid_auto_rows": null,
      "grid_column": null,
      "grid_gap": null,
      "grid_row": null,
      "grid_template_areas": null,
      "grid_template_columns": null,
      "grid_template_rows": null,
      "height": null,
      "justify_content": null,
      "justify_items": null,
      "left": null,
      "margin": null,
      "max_height": null,
      "max_width": null,
      "min_height": null,
      "min_width": null,
      "object_fit": null,
      "object_position": null,
      "order": null,
      "overflow": null,
      "overflow_x": null,
      "overflow_y": null,
      "padding": null,
      "right": null,
      "top": null,
      "visibility": null,
      "width": null
     }
    },
    "1b71996ec68e4069b09647f4c4ca13bc": {
     "model_module": "@jupyter-widgets/controls",
     "model_module_version": "1.5.0",
     "model_name": "DescriptionStyleModel",
     "state": {
      "_model_module": "@jupyter-widgets/controls",
      "_model_module_version": "1.5.0",
      "_model_name": "DescriptionStyleModel",
      "_view_count": null,
      "_view_module": "@jupyter-widgets/base",
      "_view_module_version": "1.2.0",
      "_view_name": "StyleView",
      "description_width": ""
     }
    },
    "1c310ee410bb433c97f739ae7d919bf1": {
     "model_module": "@jupyter-widgets/controls",
     "model_module_version": "1.5.0",
     "model_name": "DescriptionStyleModel",
     "state": {
      "_model_module": "@jupyter-widgets/controls",
      "_model_module_version": "1.5.0",
      "_model_name": "DescriptionStyleModel",
      "_view_count": null,
      "_view_module": "@jupyter-widgets/base",
      "_view_module_version": "1.2.0",
      "_view_name": "StyleView",
      "description_width": ""
     }
    },
    "1d90e64adf5640c0a41fdfb949f167e2": {
     "model_module": "@jupyter-widgets/base",
     "model_module_version": "1.2.0",
     "model_name": "LayoutModel",
     "state": {
      "_model_module": "@jupyter-widgets/base",
      "_model_module_version": "1.2.0",
      "_model_name": "LayoutModel",
      "_view_count": null,
      "_view_module": "@jupyter-widgets/base",
      "_view_module_version": "1.2.0",
      "_view_name": "LayoutView",
      "align_content": null,
      "align_items": null,
      "align_self": null,
      "border": null,
      "bottom": null,
      "display": null,
      "flex": null,
      "flex_flow": null,
      "grid_area": null,
      "grid_auto_columns": null,
      "grid_auto_flow": null,
      "grid_auto_rows": null,
      "grid_column": null,
      "grid_gap": null,
      "grid_row": null,
      "grid_template_areas": null,
      "grid_template_columns": null,
      "grid_template_rows": null,
      "height": null,
      "justify_content": null,
      "justify_items": null,
      "left": null,
      "margin": null,
      "max_height": null,
      "max_width": null,
      "min_height": null,
      "min_width": null,
      "object_fit": null,
      "object_position": null,
      "order": null,
      "overflow": null,
      "overflow_x": null,
      "overflow_y": null,
      "padding": null,
      "right": null,
      "top": null,
      "visibility": null,
      "width": null
     }
    },
    "2fa2c43ebaed4a05ada4a00e90397d67": {
     "model_module": "@jupyter-widgets/base",
     "model_module_version": "1.2.0",
     "model_name": "LayoutModel",
     "state": {
      "_model_module": "@jupyter-widgets/base",
      "_model_module_version": "1.2.0",
      "_model_name": "LayoutModel",
      "_view_count": null,
      "_view_module": "@jupyter-widgets/base",
      "_view_module_version": "1.2.0",
      "_view_name": "LayoutView",
      "align_content": null,
      "align_items": null,
      "align_self": null,
      "border": null,
      "bottom": null,
      "display": null,
      "flex": null,
      "flex_flow": null,
      "grid_area": null,
      "grid_auto_columns": null,
      "grid_auto_flow": null,
      "grid_auto_rows": null,
      "grid_column": null,
      "grid_gap": null,
      "grid_row": null,
      "grid_template_areas": null,
      "grid_template_columns": null,
      "grid_template_rows": null,
      "height": null,
      "justify_content": null,
      "justify_items": null,
      "left": null,
      "margin": null,
      "max_height": null,
      "max_width": null,
      "min_height": null,
      "min_width": null,
      "object_fit": null,
      "object_position": null,
      "order": null,
      "overflow": null,
      "overflow_x": null,
      "overflow_y": null,
      "padding": null,
      "right": null,
      "top": null,
      "visibility": null,
      "width": null
     }
    },
    "31bc2af9a1d049999b9f400ac19f3a4f": {
     "model_module": "@jupyter-widgets/base",
     "model_module_version": "1.2.0",
     "model_name": "LayoutModel",
     "state": {
      "_model_module": "@jupyter-widgets/base",
      "_model_module_version": "1.2.0",
      "_model_name": "LayoutModel",
      "_view_count": null,
      "_view_module": "@jupyter-widgets/base",
      "_view_module_version": "1.2.0",
      "_view_name": "LayoutView",
      "align_content": null,
      "align_items": null,
      "align_self": null,
      "border": null,
      "bottom": null,
      "display": null,
      "flex": null,
      "flex_flow": null,
      "grid_area": null,
      "grid_auto_columns": null,
      "grid_auto_flow": null,
      "grid_auto_rows": null,
      "grid_column": null,
      "grid_gap": null,
      "grid_row": null,
      "grid_template_areas": null,
      "grid_template_columns": null,
      "grid_template_rows": null,
      "height": null,
      "justify_content": null,
      "justify_items": null,
      "left": null,
      "margin": null,
      "max_height": null,
      "max_width": null,
      "min_height": null,
      "min_width": null,
      "object_fit": null,
      "object_position": null,
      "order": null,
      "overflow": null,
      "overflow_x": null,
      "overflow_y": null,
      "padding": null,
      "right": null,
      "top": null,
      "visibility": null,
      "width": null
     }
    },
    "3503a880c4ab42d4a156f674cbb3ae09": {
     "model_module": "@jupyter-widgets/controls",
     "model_module_version": "1.5.0",
     "model_name": "HTMLModel",
     "state": {
      "_dom_classes": [],
      "_model_module": "@jupyter-widgets/controls",
      "_model_module_version": "1.5.0",
      "_model_name": "HTMLModel",
      "_view_count": null,
      "_view_module": "@jupyter-widgets/controls",
      "_view_module_version": "1.5.0",
      "_view_name": "HTMLView",
      "description": "",
      "description_tooltip": null,
      "layout": "IPY_MODEL_fbc7a349563c4033b5f385ccaa3ab817",
      "placeholder": "​",
      "style": "IPY_MODEL_6033e3fd6ac74967a1fbaa0252a1d5bf",
      "value": " 9913344/? [00:00&lt;00:00, 27534346.76it/s]"
     }
    },
    "35856db5d8ca4fb78f636770295b3b13": {
     "model_module": "@jupyter-widgets/base",
     "model_module_version": "1.2.0",
     "model_name": "LayoutModel",
     "state": {
      "_model_module": "@jupyter-widgets/base",
      "_model_module_version": "1.2.0",
      "_model_name": "LayoutModel",
      "_view_count": null,
      "_view_module": "@jupyter-widgets/base",
      "_view_module_version": "1.2.0",
      "_view_name": "LayoutView",
      "align_content": null,
      "align_items": null,
      "align_self": null,
      "border": null,
      "bottom": null,
      "display": null,
      "flex": null,
      "flex_flow": null,
      "grid_area": null,
      "grid_auto_columns": null,
      "grid_auto_flow": null,
      "grid_auto_rows": null,
      "grid_column": null,
      "grid_gap": null,
      "grid_row": null,
      "grid_template_areas": null,
      "grid_template_columns": null,
      "grid_template_rows": null,
      "height": null,
      "justify_content": null,
      "justify_items": null,
      "left": null,
      "margin": null,
      "max_height": null,
      "max_width": null,
      "min_height": null,
      "min_width": null,
      "object_fit": null,
      "object_position": null,
      "order": null,
      "overflow": null,
      "overflow_x": null,
      "overflow_y": null,
      "padding": null,
      "right": null,
      "top": null,
      "visibility": null,
      "width": null
     }
    },
    "3fb29e2c49c84a85a4aba1fe5a4014b1": {
     "model_module": "@jupyter-widgets/controls",
     "model_module_version": "1.5.0",
     "model_name": "HTMLModel",
     "state": {
      "_dom_classes": [],
      "_model_module": "@jupyter-widgets/controls",
      "_model_module_version": "1.5.0",
      "_model_name": "HTMLModel",
      "_view_count": null,
      "_view_module": "@jupyter-widgets/controls",
      "_view_module_version": "1.5.0",
      "_view_name": "HTMLView",
      "description": "",
      "description_tooltip": null,
      "layout": "IPY_MODEL_833236d5dd8c472b86b372ced6236aa0",
      "placeholder": "​",
      "style": "IPY_MODEL_d976348b1ff84a36864ce8348aea4c7a",
      "value": " 1649664/? [00:00&lt;00:00, 2245749.34it/s]"
     }
    },
    "44bd12606b804003a1ac59406d22307a": {
     "model_module": "@jupyter-widgets/controls",
     "model_module_version": "1.5.0",
     "model_name": "FloatProgressModel",
     "state": {
      "_dom_classes": [],
      "_model_module": "@jupyter-widgets/controls",
      "_model_module_version": "1.5.0",
      "_model_name": "FloatProgressModel",
      "_view_count": null,
      "_view_module": "@jupyter-widgets/controls",
      "_view_module_version": "1.5.0",
      "_view_name": "ProgressView",
      "bar_style": "success",
      "description": "",
      "description_tooltip": null,
      "layout": "IPY_MODEL_35856db5d8ca4fb78f636770295b3b13",
      "max": 1648877,
      "min": 0,
      "orientation": "horizontal",
      "style": "IPY_MODEL_0b49903079564dbdbf0bd18cc37d453c",
      "value": 1648877
     }
    },
    "594970f03dd04ada9edead105a283851": {
     "model_module": "@jupyter-widgets/base",
     "model_module_version": "1.2.0",
     "model_name": "LayoutModel",
     "state": {
      "_model_module": "@jupyter-widgets/base",
      "_model_module_version": "1.2.0",
      "_model_name": "LayoutModel",
      "_view_count": null,
      "_view_module": "@jupyter-widgets/base",
      "_view_module_version": "1.2.0",
      "_view_name": "LayoutView",
      "align_content": null,
      "align_items": null,
      "align_self": null,
      "border": null,
      "bottom": null,
      "display": null,
      "flex": null,
      "flex_flow": null,
      "grid_area": null,
      "grid_auto_columns": null,
      "grid_auto_flow": null,
      "grid_auto_rows": null,
      "grid_column": null,
      "grid_gap": null,
      "grid_row": null,
      "grid_template_areas": null,
      "grid_template_columns": null,
      "grid_template_rows": null,
      "height": null,
      "justify_content": null,
      "justify_items": null,
      "left": null,
      "margin": null,
      "max_height": null,
      "max_width": null,
      "min_height": null,
      "min_width": null,
      "object_fit": null,
      "object_position": null,
      "order": null,
      "overflow": null,
      "overflow_x": null,
      "overflow_y": null,
      "padding": null,
      "right": null,
      "top": null,
      "visibility": null,
      "width": null
     }
    },
    "5a309603cb4d4540901e0ae5b1bec1ea": {
     "model_module": "@jupyter-widgets/controls",
     "model_module_version": "1.5.0",
     "model_name": "FloatProgressModel",
     "state": {
      "_dom_classes": [],
      "_model_module": "@jupyter-widgets/controls",
      "_model_module_version": "1.5.0",
      "_model_name": "FloatProgressModel",
      "_view_count": null,
      "_view_module": "@jupyter-widgets/controls",
      "_view_module_version": "1.5.0",
      "_view_name": "ProgressView",
      "bar_style": "success",
      "description": "",
      "description_tooltip": null,
      "layout": "IPY_MODEL_f260308dc9cd4caab7a834dd676717d8",
      "max": 4542,
      "min": 0,
      "orientation": "horizontal",
      "style": "IPY_MODEL_a79f8e39c32048a191dc543a1602e3a1",
      "value": 4542
     }
    },
    "5cd177248ab8476e9d1249a0ce8ea8fa": {
     "model_module": "@jupyter-widgets/controls",
     "model_module_version": "1.5.0",
     "model_name": "HTMLModel",
     "state": {
      "_dom_classes": [],
      "_model_module": "@jupyter-widgets/controls",
      "_model_module_version": "1.5.0",
      "_model_name": "HTMLModel",
      "_view_count": null,
      "_view_module": "@jupyter-widgets/controls",
      "_view_module_version": "1.5.0",
      "_view_name": "HTMLView",
      "description": "",
      "description_tooltip": null,
      "layout": "IPY_MODEL_594970f03dd04ada9edead105a283851",
      "placeholder": "​",
      "style": "IPY_MODEL_17c515d5462142f189b19009c54df8b7",
      "value": ""
     }
    },
    "6033e3fd6ac74967a1fbaa0252a1d5bf": {
     "model_module": "@jupyter-widgets/controls",
     "model_module_version": "1.5.0",
     "model_name": "DescriptionStyleModel",
     "state": {
      "_model_module": "@jupyter-widgets/controls",
      "_model_module_version": "1.5.0",
      "_model_name": "DescriptionStyleModel",
      "_view_count": null,
      "_view_module": "@jupyter-widgets/base",
      "_view_module_version": "1.2.0",
      "_view_name": "StyleView",
      "description_width": ""
     }
    },
    "626e0cb2f08c40c68212a1f9dafd9d2e": {
     "model_module": "@jupyter-widgets/controls",
     "model_module_version": "1.5.0",
     "model_name": "ProgressStyleModel",
     "state": {
      "_model_module": "@jupyter-widgets/controls",
      "_model_module_version": "1.5.0",
      "_model_name": "ProgressStyleModel",
      "_view_count": null,
      "_view_module": "@jupyter-widgets/base",
      "_view_module_version": "1.2.0",
      "_view_name": "StyleView",
      "bar_color": null,
      "description_width": ""
     }
    },
    "68fe5afdbf7147e6a2f02a8c50c8dddf": {
     "model_module": "@jupyter-widgets/controls",
     "model_module_version": "1.5.0",
     "model_name": "HBoxModel",
     "state": {
      "_dom_classes": [],
      "_model_module": "@jupyter-widgets/controls",
      "_model_module_version": "1.5.0",
      "_model_name": "HBoxModel",
      "_view_count": null,
      "_view_module": "@jupyter-widgets/controls",
      "_view_module_version": "1.5.0",
      "_view_name": "HBoxView",
      "box_style": "",
      "children": [
       "IPY_MODEL_5cd177248ab8476e9d1249a0ce8ea8fa",
       "IPY_MODEL_44bd12606b804003a1ac59406d22307a",
       "IPY_MODEL_3fb29e2c49c84a85a4aba1fe5a4014b1"
      ],
      "layout": "IPY_MODEL_80a477f5726c4ff092fe539bda2b867e"
     }
    },
    "7218ac785f1146e9a4bd335f79678c83": {
     "model_module": "@jupyter-widgets/base",
     "model_module_version": "1.2.0",
     "model_name": "LayoutModel",
     "state": {
      "_model_module": "@jupyter-widgets/base",
      "_model_module_version": "1.2.0",
      "_model_name": "LayoutModel",
      "_view_count": null,
      "_view_module": "@jupyter-widgets/base",
      "_view_module_version": "1.2.0",
      "_view_name": "LayoutView",
      "align_content": null,
      "align_items": null,
      "align_self": null,
      "border": null,
      "bottom": null,
      "display": null,
      "flex": null,
      "flex_flow": null,
      "grid_area": null,
      "grid_auto_columns": null,
      "grid_auto_flow": null,
      "grid_auto_rows": null,
      "grid_column": null,
      "grid_gap": null,
      "grid_row": null,
      "grid_template_areas": null,
      "grid_template_columns": null,
      "grid_template_rows": null,
      "height": null,
      "justify_content": null,
      "justify_items": null,
      "left": null,
      "margin": null,
      "max_height": null,
      "max_width": null,
      "min_height": null,
      "min_width": null,
      "object_fit": null,
      "object_position": null,
      "order": null,
      "overflow": null,
      "overflow_x": null,
      "overflow_y": null,
      "padding": null,
      "right": null,
      "top": null,
      "visibility": null,
      "width": null
     }
    },
    "72b3b5a6b4034c248372ec50418808a9": {
     "model_module": "@jupyter-widgets/controls",
     "model_module_version": "1.5.0",
     "model_name": "FloatProgressModel",
     "state": {
      "_dom_classes": [],
      "_model_module": "@jupyter-widgets/controls",
      "_model_module_version": "1.5.0",
      "_model_name": "FloatProgressModel",
      "_view_count": null,
      "_view_module": "@jupyter-widgets/controls",
      "_view_module_version": "1.5.0",
      "_view_name": "ProgressView",
      "bar_style": "success",
      "description": "",
      "description_tooltip": null,
      "layout": "IPY_MODEL_e3a12bc740fa4b0c995709248508f88e",
      "max": 28881,
      "min": 0,
      "orientation": "horizontal",
      "style": "IPY_MODEL_626e0cb2f08c40c68212a1f9dafd9d2e",
      "value": 28881
     }
    },
    "73e0d826dea941849658cee7b773bf79": {
     "model_module": "@jupyter-widgets/controls",
     "model_module_version": "1.5.0",
     "model_name": "HTMLModel",
     "state": {
      "_dom_classes": [],
      "_model_module": "@jupyter-widgets/controls",
      "_model_module_version": "1.5.0",
      "_model_name": "HTMLModel",
      "_view_count": null,
      "_view_module": "@jupyter-widgets/controls",
      "_view_module_version": "1.5.0",
      "_view_name": "HTMLView",
      "description": "",
      "description_tooltip": null,
      "layout": "IPY_MODEL_ab4ae6b386f744c8844a6d05aa30be30",
      "placeholder": "​",
      "style": "IPY_MODEL_f0f6fcc7b61549878b91341efd05a79e",
      "value": ""
     }
    },
    "7a19059d47e94148ac5f67840df9d8ef": {
     "model_module": "@jupyter-widgets/controls",
     "model_module_version": "1.5.0",
     "model_name": "HTMLModel",
     "state": {
      "_dom_classes": [],
      "_model_module": "@jupyter-widgets/controls",
      "_model_module_version": "1.5.0",
      "_model_name": "HTMLModel",
      "_view_count": null,
      "_view_module": "@jupyter-widgets/controls",
      "_view_module_version": "1.5.0",
      "_view_name": "HTMLView",
      "description": "",
      "description_tooltip": null,
      "layout": "IPY_MODEL_7218ac785f1146e9a4bd335f79678c83",
      "placeholder": "​",
      "style": "IPY_MODEL_acbb020fa4704329b2718004b3960529",
      "value": " 5120/? [00:00&lt;00:00, 8100.59it/s]"
     }
    },
    "7becb54bea9f4a42a22c9a218de7147d": {
     "model_module": "@jupyter-widgets/base",
     "model_module_version": "1.2.0",
     "model_name": "LayoutModel",
     "state": {
      "_model_module": "@jupyter-widgets/base",
      "_model_module_version": "1.2.0",
      "_model_name": "LayoutModel",
      "_view_count": null,
      "_view_module": "@jupyter-widgets/base",
      "_view_module_version": "1.2.0",
      "_view_name": "LayoutView",
      "align_content": null,
      "align_items": null,
      "align_self": null,
      "border": null,
      "bottom": null,
      "display": null,
      "flex": null,
      "flex_flow": null,
      "grid_area": null,
      "grid_auto_columns": null,
      "grid_auto_flow": null,
      "grid_auto_rows": null,
      "grid_column": null,
      "grid_gap": null,
      "grid_row": null,
      "grid_template_areas": null,
      "grid_template_columns": null,
      "grid_template_rows": null,
      "height": null,
      "justify_content": null,
      "justify_items": null,
      "left": null,
      "margin": null,
      "max_height": null,
      "max_width": null,
      "min_height": null,
      "min_width": null,
      "object_fit": null,
      "object_position": null,
      "order": null,
      "overflow": null,
      "overflow_x": null,
      "overflow_y": null,
      "padding": null,
      "right": null,
      "top": null,
      "visibility": null,
      "width": null
     }
    },
    "8077489923fa4d359551c60d8c46f6e0": {
     "model_module": "@jupyter-widgets/controls",
     "model_module_version": "1.5.0",
     "model_name": "HTMLModel",
     "state": {
      "_dom_classes": [],
      "_model_module": "@jupyter-widgets/controls",
      "_model_module_version": "1.5.0",
      "_model_name": "HTMLModel",
      "_view_count": null,
      "_view_module": "@jupyter-widgets/controls",
      "_view_module_version": "1.5.0",
      "_view_name": "HTMLView",
      "description": "",
      "description_tooltip": null,
      "layout": "IPY_MODEL_7becb54bea9f4a42a22c9a218de7147d",
      "placeholder": "​",
      "style": "IPY_MODEL_1b71996ec68e4069b09647f4c4ca13bc",
      "value": ""
     }
    },
    "80a477f5726c4ff092fe539bda2b867e": {
     "model_module": "@jupyter-widgets/base",
     "model_module_version": "1.2.0",
     "model_name": "LayoutModel",
     "state": {
      "_model_module": "@jupyter-widgets/base",
      "_model_module_version": "1.2.0",
      "_model_name": "LayoutModel",
      "_view_count": null,
      "_view_module": "@jupyter-widgets/base",
      "_view_module_version": "1.2.0",
      "_view_name": "LayoutView",
      "align_content": null,
      "align_items": null,
      "align_self": null,
      "border": null,
      "bottom": null,
      "display": null,
      "flex": null,
      "flex_flow": null,
      "grid_area": null,
      "grid_auto_columns": null,
      "grid_auto_flow": null,
      "grid_auto_rows": null,
      "grid_column": null,
      "grid_gap": null,
      "grid_row": null,
      "grid_template_areas": null,
      "grid_template_columns": null,
      "grid_template_rows": null,
      "height": null,
      "justify_content": null,
      "justify_items": null,
      "left": null,
      "margin": null,
      "max_height": null,
      "max_width": null,
      "min_height": null,
      "min_width": null,
      "object_fit": null,
      "object_position": null,
      "order": null,
      "overflow": null,
      "overflow_x": null,
      "overflow_y": null,
      "padding": null,
      "right": null,
      "top": null,
      "visibility": null,
      "width": null
     }
    },
    "833236d5dd8c472b86b372ced6236aa0": {
     "model_module": "@jupyter-widgets/base",
     "model_module_version": "1.2.0",
     "model_name": "LayoutModel",
     "state": {
      "_model_module": "@jupyter-widgets/base",
      "_model_module_version": "1.2.0",
      "_model_name": "LayoutModel",
      "_view_count": null,
      "_view_module": "@jupyter-widgets/base",
      "_view_module_version": "1.2.0",
      "_view_name": "LayoutView",
      "align_content": null,
      "align_items": null,
      "align_self": null,
      "border": null,
      "bottom": null,
      "display": null,
      "flex": null,
      "flex_flow": null,
      "grid_area": null,
      "grid_auto_columns": null,
      "grid_auto_flow": null,
      "grid_auto_rows": null,
      "grid_column": null,
      "grid_gap": null,
      "grid_row": null,
      "grid_template_areas": null,
      "grid_template_columns": null,
      "grid_template_rows": null,
      "height": null,
      "justify_content": null,
      "justify_items": null,
      "left": null,
      "margin": null,
      "max_height": null,
      "max_width": null,
      "min_height": null,
      "min_width": null,
      "object_fit": null,
      "object_position": null,
      "order": null,
      "overflow": null,
      "overflow_x": null,
      "overflow_y": null,
      "padding": null,
      "right": null,
      "top": null,
      "visibility": null,
      "width": null
     }
    },
    "8c2296d38b034f93bf99242abd3a5950": {
     "model_module": "@jupyter-widgets/base",
     "model_module_version": "1.2.0",
     "model_name": "LayoutModel",
     "state": {
      "_model_module": "@jupyter-widgets/base",
      "_model_module_version": "1.2.0",
      "_model_name": "LayoutModel",
      "_view_count": null,
      "_view_module": "@jupyter-widgets/base",
      "_view_module_version": "1.2.0",
      "_view_name": "LayoutView",
      "align_content": null,
      "align_items": null,
      "align_self": null,
      "border": null,
      "bottom": null,
      "display": null,
      "flex": null,
      "flex_flow": null,
      "grid_area": null,
      "grid_auto_columns": null,
      "grid_auto_flow": null,
      "grid_auto_rows": null,
      "grid_column": null,
      "grid_gap": null,
      "grid_row": null,
      "grid_template_areas": null,
      "grid_template_columns": null,
      "grid_template_rows": null,
      "height": null,
      "justify_content": null,
      "justify_items": null,
      "left": null,
      "margin": null,
      "max_height": null,
      "max_width": null,
      "min_height": null,
      "min_width": null,
      "object_fit": null,
      "object_position": null,
      "order": null,
      "overflow": null,
      "overflow_x": null,
      "overflow_y": null,
      "padding": null,
      "right": null,
      "top": null,
      "visibility": null,
      "width": null
     }
    },
    "a79f8e39c32048a191dc543a1602e3a1": {
     "model_module": "@jupyter-widgets/controls",
     "model_module_version": "1.5.0",
     "model_name": "ProgressStyleModel",
     "state": {
      "_model_module": "@jupyter-widgets/controls",
      "_model_module_version": "1.5.0",
      "_model_name": "ProgressStyleModel",
      "_view_count": null,
      "_view_module": "@jupyter-widgets/base",
      "_view_module_version": "1.2.0",
      "_view_name": "StyleView",
      "bar_color": null,
      "description_width": ""
     }
    },
    "a8730dce43d74f80a9e406c5af2896ff": {
     "model_module": "@jupyter-widgets/controls",
     "model_module_version": "1.5.0",
     "model_name": "FloatProgressModel",
     "state": {
      "_dom_classes": [],
      "_model_module": "@jupyter-widgets/controls",
      "_model_module_version": "1.5.0",
      "_model_name": "FloatProgressModel",
      "_view_count": null,
      "_view_module": "@jupyter-widgets/controls",
      "_view_module_version": "1.5.0",
      "_view_name": "ProgressView",
      "bar_style": "success",
      "description": "",
      "description_tooltip": null,
      "layout": "IPY_MODEL_ab25312352084fd3baf68e63e1980aa6",
      "max": 9912422,
      "min": 0,
      "orientation": "horizontal",
      "style": "IPY_MODEL_002e727538cb4f22958d71f304ea5a6b",
      "value": 9912422
     }
    },
    "ab25312352084fd3baf68e63e1980aa6": {
     "model_module": "@jupyter-widgets/base",
     "model_module_version": "1.2.0",
     "model_name": "LayoutModel",
     "state": {
      "_model_module": "@jupyter-widgets/base",
      "_model_module_version": "1.2.0",
      "_model_name": "LayoutModel",
      "_view_count": null,
      "_view_module": "@jupyter-widgets/base",
      "_view_module_version": "1.2.0",
      "_view_name": "LayoutView",
      "align_content": null,
      "align_items": null,
      "align_self": null,
      "border": null,
      "bottom": null,
      "display": null,
      "flex": null,
      "flex_flow": null,
      "grid_area": null,
      "grid_auto_columns": null,
      "grid_auto_flow": null,
      "grid_auto_rows": null,
      "grid_column": null,
      "grid_gap": null,
      "grid_row": null,
      "grid_template_areas": null,
      "grid_template_columns": null,
      "grid_template_rows": null,
      "height": null,
      "justify_content": null,
      "justify_items": null,
      "left": null,
      "margin": null,
      "max_height": null,
      "max_width": null,
      "min_height": null,
      "min_width": null,
      "object_fit": null,
      "object_position": null,
      "order": null,
      "overflow": null,
      "overflow_x": null,
      "overflow_y": null,
      "padding": null,
      "right": null,
      "top": null,
      "visibility": null,
      "width": null
     }
    },
    "ab4ae6b386f744c8844a6d05aa30be30": {
     "model_module": "@jupyter-widgets/base",
     "model_module_version": "1.2.0",
     "model_name": "LayoutModel",
     "state": {
      "_model_module": "@jupyter-widgets/base",
      "_model_module_version": "1.2.0",
      "_model_name": "LayoutModel",
      "_view_count": null,
      "_view_module": "@jupyter-widgets/base",
      "_view_module_version": "1.2.0",
      "_view_name": "LayoutView",
      "align_content": null,
      "align_items": null,
      "align_self": null,
      "border": null,
      "bottom": null,
      "display": null,
      "flex": null,
      "flex_flow": null,
      "grid_area": null,
      "grid_auto_columns": null,
      "grid_auto_flow": null,
      "grid_auto_rows": null,
      "grid_column": null,
      "grid_gap": null,
      "grid_row": null,
      "grid_template_areas": null,
      "grid_template_columns": null,
      "grid_template_rows": null,
      "height": null,
      "justify_content": null,
      "justify_items": null,
      "left": null,
      "margin": null,
      "max_height": null,
      "max_width": null,
      "min_height": null,
      "min_width": null,
      "object_fit": null,
      "object_position": null,
      "order": null,
      "overflow": null,
      "overflow_x": null,
      "overflow_y": null,
      "padding": null,
      "right": null,
      "top": null,
      "visibility": null,
      "width": null
     }
    },
    "acbb020fa4704329b2718004b3960529": {
     "model_module": "@jupyter-widgets/controls",
     "model_module_version": "1.5.0",
     "model_name": "DescriptionStyleModel",
     "state": {
      "_model_module": "@jupyter-widgets/controls",
      "_model_module_version": "1.5.0",
      "_model_name": "DescriptionStyleModel",
      "_view_count": null,
      "_view_module": "@jupyter-widgets/base",
      "_view_module_version": "1.2.0",
      "_view_name": "StyleView",
      "description_width": ""
     }
    },
    "b7c68fd6fec14f2480a2229cc2fbffa9": {
     "model_module": "@jupyter-widgets/controls",
     "model_module_version": "1.5.0",
     "model_name": "HBoxModel",
     "state": {
      "_dom_classes": [],
      "_model_module": "@jupyter-widgets/controls",
      "_model_module_version": "1.5.0",
      "_model_name": "HBoxModel",
      "_view_count": null,
      "_view_module": "@jupyter-widgets/controls",
      "_view_module_version": "1.5.0",
      "_view_name": "HBoxView",
      "box_style": "",
      "children": [
       "IPY_MODEL_0a1894012a7b4849b0b2d0c4b373a6a3",
       "IPY_MODEL_a8730dce43d74f80a9e406c5af2896ff",
       "IPY_MODEL_3503a880c4ab42d4a156f674cbb3ae09"
      ],
      "layout": "IPY_MODEL_2fa2c43ebaed4a05ada4a00e90397d67"
     }
    },
    "ba4685a1c9bc4f2c91c213ba2242b561": {
     "model_module": "@jupyter-widgets/controls",
     "model_module_version": "1.5.0",
     "model_name": "DescriptionStyleModel",
     "state": {
      "_model_module": "@jupyter-widgets/controls",
      "_model_module_version": "1.5.0",
      "_model_name": "DescriptionStyleModel",
      "_view_count": null,
      "_view_module": "@jupyter-widgets/base",
      "_view_module_version": "1.2.0",
      "_view_name": "StyleView",
      "description_width": ""
     }
    },
    "c259880c1fdc49898ba1005cf317ccfb": {
     "model_module": "@jupyter-widgets/controls",
     "model_module_version": "1.5.0",
     "model_name": "HBoxModel",
     "state": {
      "_dom_classes": [],
      "_model_module": "@jupyter-widgets/controls",
      "_model_module_version": "1.5.0",
      "_model_name": "HBoxModel",
      "_view_count": null,
      "_view_module": "@jupyter-widgets/controls",
      "_view_module_version": "1.5.0",
      "_view_name": "HBoxView",
      "box_style": "",
      "children": [
       "IPY_MODEL_73e0d826dea941849658cee7b773bf79",
       "IPY_MODEL_5a309603cb4d4540901e0ae5b1bec1ea",
       "IPY_MODEL_7a19059d47e94148ac5f67840df9d8ef"
      ],
      "layout": "IPY_MODEL_1a0fcb56f81245a2a0e987721e68286a"
     }
    },
    "d976348b1ff84a36864ce8348aea4c7a": {
     "model_module": "@jupyter-widgets/controls",
     "model_module_version": "1.5.0",
     "model_name": "DescriptionStyleModel",
     "state": {
      "_model_module": "@jupyter-widgets/controls",
      "_model_module_version": "1.5.0",
      "_model_name": "DescriptionStyleModel",
      "_view_count": null,
      "_view_module": "@jupyter-widgets/base",
      "_view_module_version": "1.2.0",
      "_view_name": "StyleView",
      "description_width": ""
     }
    },
    "e3a12bc740fa4b0c995709248508f88e": {
     "model_module": "@jupyter-widgets/base",
     "model_module_version": "1.2.0",
     "model_name": "LayoutModel",
     "state": {
      "_model_module": "@jupyter-widgets/base",
      "_model_module_version": "1.2.0",
      "_model_name": "LayoutModel",
      "_view_count": null,
      "_view_module": "@jupyter-widgets/base",
      "_view_module_version": "1.2.0",
      "_view_name": "LayoutView",
      "align_content": null,
      "align_items": null,
      "align_self": null,
      "border": null,
      "bottom": null,
      "display": null,
      "flex": null,
      "flex_flow": null,
      "grid_area": null,
      "grid_auto_columns": null,
      "grid_auto_flow": null,
      "grid_auto_rows": null,
      "grid_column": null,
      "grid_gap": null,
      "grid_row": null,
      "grid_template_areas": null,
      "grid_template_columns": null,
      "grid_template_rows": null,
      "height": null,
      "justify_content": null,
      "justify_items": null,
      "left": null,
      "margin": null,
      "max_height": null,
      "max_width": null,
      "min_height": null,
      "min_width": null,
      "object_fit": null,
      "object_position": null,
      "order": null,
      "overflow": null,
      "overflow_x": null,
      "overflow_y": null,
      "padding": null,
      "right": null,
      "top": null,
      "visibility": null,
      "width": null
     }
    },
    "ea58d1cbf69948c591fb5ac4873ce99a": {
     "model_module": "@jupyter-widgets/controls",
     "model_module_version": "1.5.0",
     "model_name": "HBoxModel",
     "state": {
      "_dom_classes": [],
      "_model_module": "@jupyter-widgets/controls",
      "_model_module_version": "1.5.0",
      "_model_name": "HBoxModel",
      "_view_count": null,
      "_view_module": "@jupyter-widgets/controls",
      "_view_module_version": "1.5.0",
      "_view_name": "HBoxView",
      "box_style": "",
      "children": [
       "IPY_MODEL_8077489923fa4d359551c60d8c46f6e0",
       "IPY_MODEL_72b3b5a6b4034c248372ec50418808a9",
       "IPY_MODEL_ec0217da73844a079818d3295746e016"
      ],
      "layout": "IPY_MODEL_1d90e64adf5640c0a41fdfb949f167e2"
     }
    },
    "ec0217da73844a079818d3295746e016": {
     "model_module": "@jupyter-widgets/controls",
     "model_module_version": "1.5.0",
     "model_name": "HTMLModel",
     "state": {
      "_dom_classes": [],
      "_model_module": "@jupyter-widgets/controls",
      "_model_module_version": "1.5.0",
      "_model_name": "HTMLModel",
      "_view_count": null,
      "_view_module": "@jupyter-widgets/controls",
      "_view_module_version": "1.5.0",
      "_view_name": "HTMLView",
      "description": "",
      "description_tooltip": null,
      "layout": "IPY_MODEL_31bc2af9a1d049999b9f400ac19f3a4f",
      "placeholder": "​",
      "style": "IPY_MODEL_1c310ee410bb433c97f739ae7d919bf1",
      "value": " 29696/? [00:00&lt;00:00, 412099.04it/s]"
     }
    },
    "f0f6fcc7b61549878b91341efd05a79e": {
     "model_module": "@jupyter-widgets/controls",
     "model_module_version": "1.5.0",
     "model_name": "DescriptionStyleModel",
     "state": {
      "_model_module": "@jupyter-widgets/controls",
      "_model_module_version": "1.5.0",
      "_model_name": "DescriptionStyleModel",
      "_view_count": null,
      "_view_module": "@jupyter-widgets/base",
      "_view_module_version": "1.2.0",
      "_view_name": "StyleView",
      "description_width": ""
     }
    },
    "f260308dc9cd4caab7a834dd676717d8": {
     "model_module": "@jupyter-widgets/base",
     "model_module_version": "1.2.0",
     "model_name": "LayoutModel",
     "state": {
      "_model_module": "@jupyter-widgets/base",
      "_model_module_version": "1.2.0",
      "_model_name": "LayoutModel",
      "_view_count": null,
      "_view_module": "@jupyter-widgets/base",
      "_view_module_version": "1.2.0",
      "_view_name": "LayoutView",
      "align_content": null,
      "align_items": null,
      "align_self": null,
      "border": null,
      "bottom": null,
      "display": null,
      "flex": null,
      "flex_flow": null,
      "grid_area": null,
      "grid_auto_columns": null,
      "grid_auto_flow": null,
      "grid_auto_rows": null,
      "grid_column": null,
      "grid_gap": null,
      "grid_row": null,
      "grid_template_areas": null,
      "grid_template_columns": null,
      "grid_template_rows": null,
      "height": null,
      "justify_content": null,
      "justify_items": null,
      "left": null,
      "margin": null,
      "max_height": null,
      "max_width": null,
      "min_height": null,
      "min_width": null,
      "object_fit": null,
      "object_position": null,
      "order": null,
      "overflow": null,
      "overflow_x": null,
      "overflow_y": null,
      "padding": null,
      "right": null,
      "top": null,
      "visibility": null,
      "width": null
     }
    },
    "fbc7a349563c4033b5f385ccaa3ab817": {
     "model_module": "@jupyter-widgets/base",
     "model_module_version": "1.2.0",
     "model_name": "LayoutModel",
     "state": {
      "_model_module": "@jupyter-widgets/base",
      "_model_module_version": "1.2.0",
      "_model_name": "LayoutModel",
      "_view_count": null,
      "_view_module": "@jupyter-widgets/base",
      "_view_module_version": "1.2.0",
      "_view_name": "LayoutView",
      "align_content": null,
      "align_items": null,
      "align_self": null,
      "border": null,
      "bottom": null,
      "display": null,
      "flex": null,
      "flex_flow": null,
      "grid_area": null,
      "grid_auto_columns": null,
      "grid_auto_flow": null,
      "grid_auto_rows": null,
      "grid_column": null,
      "grid_gap": null,
      "grid_row": null,
      "grid_template_areas": null,
      "grid_template_columns": null,
      "grid_template_rows": null,
      "height": null,
      "justify_content": null,
      "justify_items": null,
      "left": null,
      "margin": null,
      "max_height": null,
      "max_width": null,
      "min_height": null,
      "min_width": null,
      "object_fit": null,
      "object_position": null,
      "order": null,
      "overflow": null,
      "overflow_x": null,
      "overflow_y": null,
      "padding": null,
      "right": null,
      "top": null,
      "visibility": null,
      "width": null
     }
    }
   }
  }
 },
 "nbformat": 4,
 "nbformat_minor": 1
}
