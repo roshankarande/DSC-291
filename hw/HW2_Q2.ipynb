{
 "cells": [
  {
   "cell_type": "markdown",
   "metadata": {
    "id": "hjRM13EAuL3g"
   },
   "source": [
    "# HW2 - Q2: MNIST (35 points)\n",
    "\n",
    "**Keywords**: Multiclass Classification, Least Squares Regression, PyTorch\n",
    "\n",
    "**About the dataset**: \\\n",
    "*   The [MNIST](https://en.wikipedia.org/wiki/MNIST_database) database (Modified National Institute of Standards and Technology database) is a large database of handwritten digits that is commonly used for training various image processing systems.\n",
    "*   The MNIST database contains 70,000 labeled images. Each datapoint is a $28\\times 28$ pixels grayscale image.\n",
    "*   However because of compute limitations, we will use a much smaller dataset with size $8\\times 8$ images. These images are loaded from `sklearn.datasets`.\n",
    "\n",
    "**Agenda**:\n",
    "* In this programming challenge, you will be performing multiclass classification on the simplified MNIST dataset.\n",
    "* You will be applying Multiclass Logistic Regression from scratch. You will work with both Mean Square Error (L2) loss and Cross Entropy (CE) loss with gradient descent (GD) as well as stochastic/mini-batch gradient descent (SGD). \n",
    "* You will also see how using PyTorch does much of the heavylifting for modeling and training.\n",
    "* Finally, you will train a 2-hidden-layer Neural Network model on the image dataset.\n",
    "* All the predictions will be evaluated on a test set.\n",
    "\n",
    "**Note:**\n",
    "* Hardware accelaration is not needed but is recommended!\n",
    "* A note on working with GPU:\n",
    "  * Take care that whenever declaring new tensors, set `device=device` in parameters. \n",
    "  * You can also move a declared torch tensor/model to device using `.to(device)`. \n",
    "  * To move a torch model/tensor to cpu, use `.to('cpu')`\n",
    "  * Keep in mind that all the tensors/model involved in a computation have to be on the same device (CPU/GPU).\n",
    "* Run all the cells in order.\n",
    "* **Do not edit** the cells marked with !!DO NOT EDIT!!\n",
    "* Only **add your code** to cells marked with !!!! YOUR CODE HERE !!!!\n",
    "* Do not change variable names, and use the names which are suggested."
   ]
  },
  {
   "cell_type": "markdown",
   "metadata": {
    "id": "ZUJgYttwjmpK"
   },
   "source": [
    "\n",
    "\n",
    "---\n",
    "\n"
   ]
  },
  {
   "cell_type": "code",
   "execution_count": 54,
   "metadata": {
    "id": "qNtGmOhl1I_m"
   },
   "outputs": [
    {
     "name": "stdout",
     "output_type": "stream",
     "text": [
      "Number of images: 1797\n",
      "Number of features per image: 64\n"
     ]
    }
   ],
   "source": [
    "# !!DO NOT EDIT!!\n",
    "# imports\n",
    "import torch\n",
    "import numpy as np\n",
    "import math\n",
    "from tqdm.notebook import tqdm\n",
    "import matplotlib.pyplot as plt\n",
    "from sklearn.datasets import load_digits\n",
    "from sklearn.model_selection import train_test_split\n",
    "from sklearn.metrics import accuracy_score\n",
    "\n",
    "# loading the dataset directly from the scikit-learn library\n",
    "dataset = load_digits()\n",
    "X = dataset.data\n",
    "y = dataset.target\n",
    "print('Number of images:', X.shape[0])\n",
    "print('Number of features per image:', X.shape[1])"
   ]
  },
  {
   "cell_type": "code",
   "execution_count": 55,
   "metadata": {
    "id": "qDy8xSdXyJI3"
   },
   "outputs": [
    {
     "data": {
      "image/png": "[encoded data removed]",
      "text/plain": [
       "<Figure size 720x432 with 10 Axes>"
      ]
     },
     "metadata": {},
     "output_type": "display_data"
    }
   ],
   "source": [
    "# !!DO NOT EDIT!!\n",
    "# utility function to plot gallery of images\n",
    "def plot_gallery(images, titles, height, width, n_row=2, n_col=4):\n",
    "    plt.figure(figsize=(2* n_col, 3 * n_row))\n",
    "    plt.subplots_adjust(bottom=0, left=0.01, right=0.99, top=0.90, hspace=0.35)\n",
    "    for i in range(n_row * n_col):\n",
    "        plt.subplot(n_row, n_col, i + 1)\n",
    "        plt.imshow(images[i].reshape((height, width)), cmap=plt.cm.gray)\n",
    "        plt.title(titles[i], size=12)\n",
    "        plt.xticks(())\n",
    "        plt.yticks(())\n",
    "\n",
    "# visualize some of the images of the MNIST dataset\n",
    "plot_gallery(X, y, 8, 8, 2, 5)"
   ]
  },
  {
   "cell_type": "code",
   "execution_count": 56,
   "metadata": {
    "id": "lLRlr0wNOKI1"
   },
   "outputs": [
    {
     "name": "stdout",
     "output_type": "stream",
     "text": [
      "Shape of train dataset: (1437, 64)\n",
      "Shape of evaluation dataset: (360, 64)\n"
     ]
    }
   ],
   "source": [
    "# !!DO NOT EDIT!!\n",
    "# Let us split the dataset into training and test sets in a stratified manner.\n",
    "# Note that we are not creating evaluation datset as we will not be tuning hyper-parameters\n",
    "# The split ratio is 4:1\n",
    "X_train, X_test, y_train, y_test = train_test_split(X, y, test_size=0.2, random_state=42, stratify=y)\n",
    "print('Shape of train dataset:', X_train.shape)\n",
    "print('Shape of evaluation dataset:', X_test.shape)"
   ]
  },
  {
   "cell_type": "code",
   "execution_count": 57,
   "metadata": {
    "id": "T6Jam6RdFeIm"
   },
   "outputs": [],
   "source": [
    "# !!DO NOT EDIT!!\n",
    "# define some constants - useful for later\n",
    "num_classes = len(np.unique(y)) # number of target classes = 10 -- (0,1,2,3,4,5,6,7,8,9)\n",
    "num_features = X.shape[1]       # number of features = 64\n",
    "max_epochs = 100000             # max number of epochs for training\n",
    "lr = 1e-2                       # learning rate\n",
    "tolerance = 1e-6                # tolerance for early stopping during training"
   ]
  },
  {
   "cell_type": "code",
   "execution_count": 58,
   "metadata": {
    "id": "hgMgGeeUUFb-"
   },
   "outputs": [
    {
     "data": {
      "text/plain": [
       "'cuda'"
      ]
     },
     "execution_count": 58,
     "metadata": {},
     "output_type": "execute_result"
    }
   ],
   "source": [
    "# !!DO NOT EDIT!!\n",
    "# Hardware Accelaration: to set device if using GPU.\n",
    "# You can change runtime in colab by naviagting to (Runtime->Change runtime type), and selecting GPU in hardware accelarator.\n",
    "# NOTE that you can run this homework without GPU.\n",
    "device = 'cuda' if torch.cuda.is_available() else 'cpu'\n",
    "device"
   ]
  },
  {
   "cell_type": "markdown",
   "metadata": {
    "id": "BBvXcyFhmLvU"
   },
   "source": [
    "\n",
    "\n",
    "---\n",
    "\n"
   ]
  },
  {
   "cell_type": "markdown",
   "metadata": {
    "id": "nhpUZN-ES_e0"
   },
   "source": [
    "### **(a)** In this section, we will apply multiclass logistic regression from scratch with one-vs-all strategy using gradient descent (GD) as well as stochastic gradient descent (SGD) with Mean Squared Error (MSE) loss. (8 points)\n",
    "### We will be using a linear model $y^{(i)} = W \\mathbf{x}^{(i)},$ where \n",
    "$ W_{p\\times n}= \\begin{bmatrix}\n",
    "\\leftarrow & \\mathbf{w}_1^\\top & \\rightarrow \\\\\n",
    "\\leftarrow & \\mathbf{w}_2^\\top & \\rightarrow\\\\\n",
    " & \\vdots &  \\\\\n",
    "\\leftarrow & \\mathbf{w}_p^\\top & \\rightarrow \\\\\n",
    "\\end{bmatrix}$, and $p$ is the number of target classes. Also, $\\mathbf{x}^{(i)}\\in \\mathbb{R}^n, y^{(i)}\\in \\mathbb{R}$, and\n",
    "### \n",
    "\n",
    "$X = \\begin{bmatrix}\n",
    "\\uparrow &  \\uparrow & \\dotsm &  \\uparrow\\\\\n",
    "\\mathbf{x}^{(1)} & \\mathbf{x}^{(2)} & \\dotsm & \\mathbf{x}^{(m)} \\\\\n",
    "\\downarrow & \\downarrow  & \\dotsm & \\downarrow  \\\\\n",
    "\\end{bmatrix}, Y = \\begin{bmatrix}\n",
    "y^{(1)}\\\\\n",
    "y^{(2)} \\\\\n",
    "\\vdots \\\\\n",
    "y^{(m)} \\\\\n",
    "\\end{bmatrix}$, where $m$ is the number of datapoints.\n",
    "\n",
    "\n",
    "### **#1.** Follow the steps outlined below:"
   ]
  },
  {
   "cell_type": "code",
   "execution_count": 59,
   "metadata": {},
   "outputs": [],
   "source": [
    "from sklearn.preprocessing import MinMaxScaler, OneHotEncoder"
   ]
  },
  {
   "cell_type": "code",
   "execution_count": 60,
   "metadata": {
    "id": "cQGB7Y9cUO2V"
   },
   "outputs": [],
   "source": [
    "# 1. Scale the features between 0 and 1 \n",
    "# To scale, you can directly use the MinMaxScaler from sklearn.\n",
    "#######\n",
    "# !!!! YOUR CODE HERE !!!!\n",
    "\n",
    "scalar = MinMaxScaler()\n",
    "scalar.fit(X_train)\n",
    "\n",
    "X_train = scalar.transform(X_train)\n",
    "X_test = scalar.transform(X_test)\n",
    "\n",
    "# output variable names -  X_train, X_test\n",
    "#######"
   ]
  },
  {
   "cell_type": "code",
   "execution_count": 61,
   "metadata": {},
   "outputs": [
    {
     "data": {
      "text/plain": [
       "(1437, 64)"
      ]
     },
     "execution_count": 61,
     "metadata": {},
     "output_type": "execute_result"
    }
   ],
   "source": [
    "X_train.shape\n",
    "# y_train\n",
    "# y_train.shape"
   ]
  },
  {
   "cell_type": "code",
   "execution_count": 62,
   "metadata": {
    "id": "iZRF8HumUlen"
   },
   "outputs": [
    {
     "name": "stdout",
     "output_type": "stream",
     "text": [
      "Shape of y_train_one: (1437, 10)\n",
      "Shape of y_test_one: (360, 10)\n"
     ]
    }
   ],
   "source": [
    "# 2. One-Hot encode the target labels\n",
    "# To one-hot encode, you can use the OneHotEncoder from sklearn\n",
    "#######\n",
    "# !!!! YOUR CODE HERE !!!!\n",
    "\n",
    "encoder = OneHotEncoder()\n",
    "\n",
    "y_train_one =  encoder.fit_transform(y_train.reshape(-1,1)).toarray()\n",
    "y_test_one =  encoder.fit_transform(y_test.reshape(-1,1)).toarray()\n",
    "\n",
    "# output variable names -  y_train_one, y_test_one\n",
    "#######\n",
    "print('Shape of y_train_one:',y_train_one.shape)\n",
    "print('Shape of y_test_one:',y_test_one.shape)\n",
    "\n",
    "# y_test_one[3].toarray()"
   ]
  },
  {
   "cell_type": "markdown",
   "metadata": {
    "id": "lJN3wY7CXe10"
   },
   "source": [
    "**Note:** Here we need to define the model prediction. The input matrix is $X_{n\\times m}$ where $m$ is the number of examples, and $n$ is the number of features. The linear predictions can be given by: $Y = WX + b$ where $W$ is a $p\\times n$ weight matrix and $\\mathbf{b}$ is a $p$ size bias vector. $p$ is the number of target labels."
   ]
  },
  {
   "cell_type": "markdown",
   "metadata": {
    "id": "AztFFkzUuHW1"
   },
   "source": [
    "### **#2.** Define a function `linear_model` that takes as input a weight matrix (`W`), bias vector (`b`), and input data matrix of size $m\\times n$ (`XT`). This function should return the predictions $\\hat{y}$. "
   ]
  },
  {
   "cell_type": "code",
   "execution_count": 63,
   "metadata": {
    "id": "75DOhP-EVsRs"
   },
   "outputs": [],
   "source": [
    "#######\n",
    "# !!!! YOUR CODE HERE !!!!\n",
    "\n",
    "def linear_model(W, b, XT):\n",
    "    return  XT @ W.T + b\n",
    "#######"
   ]
  },
  {
   "cell_type": "markdown",
   "metadata": {
    "id": "ejbSxyl2du2L"
   },
   "source": [
    "**Note:** The loss function that we would be using is the Mean Square Error (L2) Loss:\\\n",
    "$\\displaystyle MSE = \\frac{1}{m}\\sum_{i=1}^m(\\hat{y}^{(i)}-y^{(i)})^2$, where $m$ is the number of examples, $\\hat{y}^{(i)}$ is the \n",
    "predicted value and $y^{(i)}$ is the ground truth."
   ]
  },
  {
   "cell_type": "markdown",
   "metadata": {
    "id": "8snSDdp4u49o"
   },
   "source": [
    "### **#3.**Define a function `mse_loss` that takes as input prediction (`y_pred`) and actual labels (`y`), and returns the MSE loss."
   ]
  },
  {
   "cell_type": "code",
   "execution_count": 64,
   "metadata": {
    "id": "MGjd_pYPduV0"
   },
   "outputs": [],
   "source": [
    "#######\n",
    "# !!!! YOUR CODE HERE !!!!\n",
    "\n",
    "def mse_loss(y_pred, y):\n",
    "    diff = y - y_pred\n",
    "    return torch.sum(diff*diff) / len(diff)\n",
    "\n",
    "#######"
   ]
  },
  {
   "cell_type": "markdown",
   "metadata": {
    "id": "d27EoDd1vIA7"
   },
   "source": [
    "In the following part, we will do some setup required for training such as initializing weights and biases moving everything to torch tensors.\n",
    "\n",
    "### **#4.** Define a function: `initializeWeightsAndBiases` that returns tuple `(W, b)`, where `W` is a randomly generated torch tensor of size `num_classes x num_features`, and `b` is a randomly generated torch vector of size `num_classes`. For both the tensors, set `requires_grad=True` in parameters."
   ]
  },
  {
   "cell_type": "markdown",
   "metadata": {
    "id": "Rqj4Xy_QwRBs"
   },
   "source": [
    "Move all training and testing data to torch tensors with `dtype=float32`. Remember to set `device=device` in parameters."
   ]
  },
  {
   "cell_type": "code",
   "execution_count": 65,
   "metadata": {
    "id": "B8YiUt1ewQYz"
   },
   "outputs": [],
   "source": [
    "#######\n",
    "# !!!! YOUR CODE HERE !!!!\n",
    "\n",
    "def initializeWeightAndBiases():\n",
    "    W = torch.rand((num_classes, num_features), requires_grad=True, dtype = torch.float32, device=device )\n",
    "    b = torch.rand(num_classes, requires_grad=True, dtype = torch.float32,  device = device)\n",
    "    return W, b\n",
    "\n",
    "\n",
    "X_train_torch = torch.tensor(X_train, dtype = torch.float32, device = device)\n",
    "y_train_one_torch = torch.tensor(y_train_one, dtype = torch.float32, device = device)\n",
    "X_test_torch = torch.tensor(X_test, dtype = torch.float32, device = device)\n",
    "y_test_one_torch = torch.tensor(y_test_one, dtype = torch.float32, device = device)\n",
    "\n",
    "\n",
    "# output variable names -  X_train_torch, X_test_torch, y_train_one_torch, y_test_one_torch\n",
    "#######"
   ]
  },
  {
   "cell_type": "markdown",
   "metadata": {
    "id": "wpiEdcLYg6Vb"
   },
   "source": [
    "### **#5.** In this part we will implement the code for training. Given below is a function: `train_linear_regression_model` that takes as input max number of epochs (`max_epochs`), batch size (`batch_size`), Weights (`W`), Biases (`b`), training data (`X_train, y_train`), learning rate (`lr`), tolerance for stopping (`tolerance`). It return a tuple `(W,b,losses)` where `W,b` are the trained weigths and biases respectively, and `losses` is a list of tuples of loss logged every $100^{th}$  epoch.\n",
    "\n",
    "Complete each of the steps outlines below. You can go through [this](https://towardsdatascience.com/understanding-pytorch-with-an-example-a-step-by-step-tutorial-81fc5f8c4e8e#ea0d) article for reference."
   ]
  },
  {
   "cell_type": "code",
   "execution_count": 66,
   "metadata": {
    "id": "xZrxj7NEJhiw"
   },
   "outputs": [],
   "source": [
    "# Define a function train_linear_regression_model\n",
    "def train_linear_regression_model(max_epochs, batch_size, W, b, X_train, y_train, lr, tolerance):\n",
    "  losses = []\n",
    "  prev_loss = float('inf')\n",
    "  number_of_batches = math.ceil(len(X_train)/batch_size)\n",
    "\n",
    "  # optimizer = torch.optim.SGD(params = [W,b], lr=lr)\n",
    "\n",
    "  for epoch in tqdm(range(max_epochs)):\n",
    "    for i in range(number_of_batches):\n",
    "      X_train_batch = X_train[i*batch_size: (i+1)*batch_size]\n",
    "      y_train_batch = y_train[i*batch_size: (i+1)*batch_size]\n",
    "     \n",
    "      #######\n",
    "      # !!!! YOUR CODE HERE !!!!\n",
    "      # 7. do prediction\n",
    "      y_pred = linear_model(W,b, X_train_batch)\n",
    "\n",
    "      # 8. get the loss\n",
    "      loss = mse_loss(y_pred= y_pred, y = y_train_batch)\n",
    "\n",
    "      # 9. backpropagate loss\n",
    "      loss.backward()\n",
    "\n",
    "      # 10. update the weights and biasees\n",
    "      with torch.no_grad():\n",
    "        W -= lr*W.grad\n",
    "        b -= lr*b.grad\n",
    "\n",
    "        # 11. set the gradients to zero\n",
    "        W.grad.zero_()\n",
    "        b.grad.zero_()\n",
    "      \n",
    "      #######\n",
    "\n",
    "    # log loss every 100th epoch and print every 5000th epoch:\n",
    "    if epoch%100==0:\n",
    "      losses.append((epoch, loss.item()))\n",
    "      if epoch%5000==0:\n",
    "        print('Epoch: {}, Loss: {}'.format(epoch, loss.item()))\n",
    "\n",
    "    # break if decrease in loss is less than threshold\n",
    "    if abs(prev_loss-loss)<=tolerance:\n",
    "      break\n",
    "    else:\n",
    "      prev_loss=loss  \n",
    "\n",
    "  # return updated weights, biases, and logged losses\n",
    "  return W, b, losses"
   ]
  },
  {
   "cell_type": "markdown",
   "metadata": {
    "id": "QFJ-tBGgeOdw"
   },
   "source": [
    "### **#6.** Initialize weights and biases using the `initializeWeightsAndBiases` function that you defined earlier, and train your model using function `train_linear_regression_model` defined above. Use full batch (set `batch_size=len(X_train)` for training (Gradient Descent). Also plot the graph of loss vs number of epochs (Recall that values for learning rate (`lr`) and tolerance (`tolerance`) are already defined above)."
   ]
  },
  {
   "cell_type": "code",
   "execution_count": 67,
   "metadata": {},
   "outputs": [
    {
     "data": {
      "text/plain": [
       "(torch.Size([10, 64]), torch.Size([10]))"
      ]
     },
     "execution_count": 67,
     "metadata": {},
     "output_type": "execute_result"
    }
   ],
   "source": [
    "W, b = initializeWeightAndBiases()\n",
    "W.shape, b.shape"
   ]
  },
  {
   "cell_type": "code",
   "execution_count": 68,
   "metadata": {
    "id": "zHfBioX0K294"
   },
   "outputs": [
    {
     "data": {
      "application/vnd.jupyter.widget-view+json": {
       "model_id": "a5e84303f63b425981c200f16eb03064",
       "version_major": 2,
       "version_minor": 0
      },
      "text/plain": [
       "  0%|          | 0/100000 [00:00<?, ?it/s]"
      ]
     },
     "metadata": {},
     "output_type": "display_data"
    },
    {
     "name": "stdout",
     "output_type": "stream",
     "text": [
      "Epoch: 0, Loss: 1073.1507568359375\n",
      "Epoch: 5000, Loss: 0.39907556772232056\n",
      "Epoch: 10000, Loss: 0.3448902368545532\n"
     ]
    }
   ],
   "source": [
    "#######\n",
    "# !!!! YOUR CODE HERE !!!!\n",
    "\n",
    "W, b = initializeWeightAndBiases()\n",
    "W, b, losses = train_linear_regression_model(max_epochs=max_epochs,batch_size=len(X_train),W = W, b = b, X_train = X_train_torch, y_train = y_train_one_torch, lr = lr, tolerance=tolerance );\n",
    "\n",
    "#######"
   ]
  },
  {
   "cell_type": "code",
   "execution_count": 69,
   "metadata": {
    "pycharm": {
     "name": "#%%\n"
    }
   },
   "outputs": [
    {
     "data": {
      "text/plain": [
       "[<matplotlib.lines.Line2D at 0x203a9c15f10>]"
      ]
     },
     "execution_count": 69,
     "metadata": {},
     "output_type": "execute_result"
    },
    {
     "data": {
      "image/png": "[encoded data removed]",
      "text/plain": [
       "<Figure size 432x288 with 1 Axes>"
      ]
     },
     "metadata": {
      "needs_background": "light"
     },
     "output_type": "display_data"
    }
   ],
   "source": [
    "# Plot loss vs epochs\n",
    "\n",
    "plt.title(\"Loss vs epochs (gradient descent)\")\n",
    "plt.ylabel(\"loss\")\n",
    "plt.xlabel(\"epochs\")\n",
    "\n",
    "x, y = zip(*losses)\n",
    "plt.plot(x,y)\n",
    "# losses"
   ]
  },
  {
   "cell_type": "code",
   "execution_count": 70,
   "metadata": {
    "id": "QIDhQXpTYX9T"
   },
   "outputs": [
    {
     "name": "stdout",
     "output_type": "stream",
     "text": [
      "Train accuracy: 0.9485038274182325\n",
      "Test accuracy: 0.9388888888888889\n"
     ]
    }
   ],
   "source": [
    "# !!DO NOT EDIT!!\n",
    "# print accuracies of model\n",
    "predictions_train = linear_model(W,b,X_train_torch).to('cpu')\n",
    "predictions_test = linear_model(W,b,X_test_torch).to('cpu')\n",
    "y_train_pred = torch.argmax(predictions_train, dim=1).numpy()\n",
    "\n",
    "y_test_pred = torch.argmax(predictions_test, dim=1).numpy()\n",
    "print(\"Train accuracy:\",accuracy_score(y_train_pred, np.asarray(y_train, dtype=np.float32)))\n",
    "print(\"Test accuracy:\",accuracy_score(y_test_pred, np.asarray(y_test, dtype=np.float32)))"
   ]
  },
  {
   "cell_type": "markdown",
   "metadata": {
    "id": "RZprgWslioL7"
   },
   "source": [
    "### **#7.** Now, retrain the above model with `batch_size=64` (Stochastic/Mini-batch Gradient Descent) keeping else everything same. Like before, plot the graph between loss and number of epochs."
   ]
  },
  {
   "cell_type": "code",
   "execution_count": 71,
   "metadata": {
    "pycharm": {
     "name": "#%%\n"
    }
   },
   "outputs": [
    {
     "data": {
      "application/vnd.jupyter.widget-view+json": {
       "model_id": "15fbc8869ea84078aa6b6222ae289aea",
       "version_major": 2,
       "version_minor": 0
      },
      "text/plain": [
       "  0%|          | 0/100000 [00:00<?, ?it/s]"
      ]
     },
     "metadata": {},
     "output_type": "display_data"
    },
    {
     "name": "stdout",
     "output_type": "stream",
     "text": [
      "Epoch: 0, Loss: 4.480053424835205\n"
     ]
    }
   ],
   "source": [
    "W, b = initializeWeightAndBiases()\n",
    "W, b, losses = train_linear_regression_model(max_epochs=max_epochs,batch_size=64,W = W, b = b, X_train = X_train_torch, y_train = y_train_one_torch, lr = lr, tolerance=tolerance );"
   ]
  },
  {
   "cell_type": "code",
   "execution_count": 72,
   "metadata": {
    "pycharm": {
     "name": "#%%\n"
    }
   },
   "outputs": [
    {
     "data": {
      "text/plain": [
       "[<matplotlib.lines.Line2D at 0x203b9691700>]"
      ]
     },
     "execution_count": 72,
     "metadata": {},
     "output_type": "execute_result"
    },
    {
     "data": {
      "image/png": "[encoded data removed]",
      "text/plain": [
       "<Figure size 432x288 with 1 Axes>"
      ]
     },
     "metadata": {
      "needs_background": "light"
     },
     "output_type": "display_data"
    }
   ],
   "source": [
    "# Plot loss vs epochs\n",
    "\n",
    "plt.title(\"Loss vs epochs | SGD (batch-64)\")\n",
    "plt.ylabel(\"loss\")\n",
    "plt.xlabel(\"epochs\")\n",
    "\n",
    "x, y = zip(*losses)\n",
    "plt.plot(x,y)\n",
    "# losses"
   ]
  },
  {
   "cell_type": "code",
   "execution_count": 73,
   "metadata": {
    "id": "y5O3T2zkjy2S"
   },
   "outputs": [
    {
     "name": "stdout",
     "output_type": "stream",
     "text": [
      "Train accuracy: 0.9471120389700766\n",
      "Test accuracy: 0.9388888888888889\n"
     ]
    }
   ],
   "source": [
    "# !!DO NOT EDIT!!\n",
    "# print accuracies of model\n",
    "predictions_train = linear_model(W,b,X_train_torch).to('cpu')\n",
    "predictions_test = linear_model(W,b,X_test_torch).to('cpu')\n",
    "y_train_pred = torch.argmax(predictions_train, dim=1).numpy()\n",
    "\n",
    "y_test_pred = torch.argmax(predictions_test, dim=1).numpy()\n",
    "print(\"Train accuracy:\",accuracy_score(y_train_pred, np.asarray(y_train, dtype=np.float32)))\n",
    "print(\"Test accuracy:\",accuracy_score(y_test_pred, np.asarray(y_test, dtype=np.float32)))"
   ]
  },
  {
   "cell_type": "markdown",
   "metadata": {
    "id": "QHPAmI5BmHkv"
   },
   "source": [
    "\n",
    "\n",
    "---\n",
    "\n"
   ]
  },
  {
   "cell_type": "markdown",
   "metadata": {
    "id": "iz8cNUXR5DOu"
   },
   "source": [
    "### **(b)** In the previous question, we defined the model, loss, and even the gradient update step. We also had to manully set the grad to zero. In this question, we will re-implement the linear model and see how we can directly use Pytorch to do all this for us in a few simple steps. (6 points)"
   ]
  },
  {
   "cell_type": "code",
   "execution_count": 74,
   "metadata": {
    "id": "Lwm9t0K0lbvl"
   },
   "outputs": [],
   "source": [
    "# !! DO NOT EDIT !!\n",
    "# common utility function to print accuracies\n",
    "def print_accuracies_torch(model, X_train_torch, X_test_torch, y_train, y_test):\n",
    "  predictions_train = model(X_train_torch).to('cpu')\n",
    "  predictions_test = model(X_test_torch).to('cpu')\n",
    "  y_train_pred = torch.argmax(predictions_train, dim=1).numpy()\n",
    "  y_test_pred = torch.argmax(predictions_test, dim=1).numpy()\n",
    "  print(\"Train accuracy:\",accuracy_score(y_train_pred, np.asarray(y_train, dtype=np.float32)))\n",
    "  print(\"Test accuracy:\",accuracy_score(y_test_pred, np.asarray(y_test, dtype=np.float32)))"
   ]
  },
  {
   "cell_type": "markdown",
   "metadata": {
    "id": "MSjn0TlT0_X5"
   },
   "source": [
    "### **#1.** Define the linear model using PyTorch"
   ]
  },
  {
   "cell_type": "code",
   "execution_count": 75,
   "metadata": {
    "id": "tAVqYskI4ohI"
   },
   "outputs": [],
   "source": [
    "#######\n",
    "# !!!! YOUR CODE HERE !!!!\n",
    "# Define a model class using torch.nn\n",
    "class Linear_Model(torch.nn.Module):\n",
    "  def __init__(self):\n",
    "    super(Linear_Model, self).__init__()\n",
    "    # Initalize various layers of model as instructed below\n",
    "    # 1. initialze one linear layer: num_features -> num_targets\n",
    "    self.linear = torch.nn.Linear(num_features, num_classes, bias=True)\n",
    "\n",
    "\n",
    "  def forward(self, X):\n",
    "    # 2. define the feedforward algorithm of the model and return the final output\n",
    "    output =  self.linear(X)\n",
    "    return output\n",
    "\n",
    "#######"
   ]
  },
  {
   "cell_type": "markdown",
   "metadata": {
    "id": "9zyx8lVTFq8q"
   },
   "source": [
    "### **#2.** In this part we will implement a general function for training a PyTorch model. Define a general training function: `train_torch_model` that takes as input an initialized torch model (`model`), batch size (`batch_size`), initialized loss (`criterion`), max number of epochs (`max_epochs`), training data (`X_train, y_train`), learning rate (`lr`), tolerance for stopping (`tolerance`). This function will return a tuple `(model, losses)`, where `model` is the trained model, and `losses` is a list of tuples of loss logged every $100^{th}$ epoch. Complete each of the steps outlines below. You can go through [this](https://towardsdatascience.com/understanding-pytorch-with-an-example-a-step-by-step-tutorial-81fc5f8c4e8e#ea0d) article for reference.  You can also refer Q3-(d) from HW1."
   ]
  },
  {
   "cell_type": "code",
   "execution_count": 76,
   "metadata": {
    "id": "4T04zQPE53rS"
   },
   "outputs": [],
   "source": [
    "# Define a function train_torch_model\n",
    "def train_torch_model(model, batch_size, criterion, max_epochs, X_train, y_train, lr, tolerance):\n",
    "    losses = []\n",
    "    prev_loss = float('inf')\n",
    "    number_of_batches = math.ceil(len(X_train)/batch_size)\n",
    "  \n",
    "    #######\n",
    "    # !!!! YOUR CODE HERE !!!!\n",
    "    # 3. move model to device\n",
    "    model = model.to(device)\n",
    "\n",
    "    # 4. define optimizer (use torch.optim.SGD (Stochastic Gradient Descent))\n",
    "    # Set learning rate to lr and also set model parameters\n",
    "    optimizer = torch.optim.SGD(params = model.parameters(), lr=lr)\n",
    "\n",
    "    for epoch in tqdm(range(max_epochs)):\n",
    "        for i in range(number_of_batches):\n",
    "            X_train_batch = X_train[i*batch_size: (i+1)*batch_size]\n",
    "            y_train_batch = y_train[i*batch_size: (i+1)*batch_size]\n",
    "\n",
    "            # 5. reset gradients\n",
    "            optimizer.zero_grad()\n",
    "\n",
    "            # 6. prediction\n",
    "            y_pred = model(X_train_batch)\n",
    "\n",
    "            # 7. calculate loss\n",
    "            loss = criterion(y_pred,y_train_batch)\n",
    "\n",
    "            # 8. backpropagate loss\n",
    "            loss.backward()\n",
    "\n",
    "            # 9. perform a single gradient update step\n",
    "            optimizer.step()\n",
    "\n",
    "    #######\n",
    "\n",
    "        # log loss every 100th epoch and print every 5000th epoch:\n",
    "        if epoch%100==0:\n",
    "            losses.append((epoch, loss.item()))\n",
    "            if epoch%5000==0:\n",
    "                print('Epoch: {}, Loss: {}'.format(epoch, loss.item()))\n",
    "    \n",
    "        # break if decrease in loss is less than threshold\n",
    "        if abs(prev_loss-loss)<=tolerance:\n",
    "            break\n",
    "        else:\n",
    "            prev_loss=loss  \n",
    "\n",
    "    # return updated model and logged losses\n",
    "    return model, losses"
   ]
  },
  {
   "cell_type": "markdown",
   "metadata": {
    "id": "Y7RzDMajj8sc"
   },
   "source": [
    "### **#3.** Initialize your model and loss function. Use `nn.MSELoss`. Use full batch for training (Gradient Descent). Also plot the graph of loss vs number of epochs."
   ]
  },
  {
   "cell_type": "code",
   "execution_count": 77,
   "metadata": {
    "id": "LDm0__pE6edF"
   },
   "outputs": [
    {
     "data": {
      "application/vnd.jupyter.widget-view+json": {
       "model_id": "e91c43c37fea4e5e806b09a0c532296a",
       "version_major": 2,
       "version_minor": 0
      },
      "text/plain": [
       "  0%|          | 0/100000 [00:00<?, ?it/s]"
      ]
     },
     "metadata": {},
     "output_type": "display_data"
    },
    {
     "name": "stdout",
     "output_type": "stream",
     "text": [
      "Epoch: 0, Loss: 0.16528616845607758\n",
      "Epoch: 5000, Loss: 0.03951551765203476\n"
     ]
    }
   ],
   "source": [
    "#######\n",
    "# !!!! YOUR CODE HERE !!!!\n",
    "model = Linear_Model()\n",
    "criterion = torch.nn.MSELoss()\n",
    "\n",
    "model, losses = train_torch_model(model, batch_size=len(X_train), criterion = criterion, max_epochs= max_epochs, X_train = X_train_torch, y_train = y_train_one_torch, lr = lr, tolerance=tolerance )\n",
    "# losses\n",
    "#######"
   ]
  },
  {
   "cell_type": "code",
   "execution_count": 78,
   "metadata": {
    "pycharm": {
     "name": "#%%\n"
    }
   },
   "outputs": [
    {
     "data": {
      "text/plain": [
       "[<matplotlib.lines.Line2D at 0x203c61046d0>]"
      ]
     },
     "execution_count": 78,
     "metadata": {},
     "output_type": "execute_result"
    },
    {
     "data": {
      "image/png": "[encoded data removed]",
      "text/plain": [
       "<Figure size 432x288 with 1 Axes>"
      ]
     },
     "metadata": {
      "needs_background": "light"
     },
     "output_type": "display_data"
    }
   ],
   "source": [
    "plt.title(\"Loss vs epochs | Gradient Descent Linear Model\")\n",
    "plt.ylabel(\"loss\")\n",
    "plt.xlabel(\"epochs\")\n",
    "\n",
    "x, y = zip(*losses)\n",
    "plt.plot(x,y)"
   ]
  },
  {
   "cell_type": "code",
   "execution_count": 79,
   "metadata": {
    "id": "TIMHwStJ8zzl"
   },
   "outputs": [
    {
     "name": "stdout",
     "output_type": "stream",
     "text": [
      "Train accuracy: 0.9137091162143354\n",
      "Test accuracy: 0.8916666666666667\n"
     ]
    }
   ],
   "source": [
    "# !!DO NOT EDIT!!\n",
    "# print accuracies of model\n",
    "print_accuracies_torch(model, X_train_torch, X_test_torch, y_train, y_test)"
   ]
  },
  {
   "cell_type": "markdown",
   "metadata": {
    "id": "eMXOadCpkufn"
   },
   "source": [
    "### **#4.** Now, retrain the above model with `batch_size=64` (Stochastic/Mini-batch Gradient Descent) keeping else everything same. Like before, plot the graph between loss and number of epochs."
   ]
  },
  {
   "cell_type": "code",
   "execution_count": 80,
   "metadata": {
    "id": "xsj_apLOkt17"
   },
   "outputs": [
    {
     "data": {
      "application/vnd.jupyter.widget-view+json": {
       "model_id": "c97124cc672c48b48f2da2c3e535a53d",
       "version_major": 2,
       "version_minor": 0
      },
      "text/plain": [
       "  0%|          | 0/100000 [00:00<?, ?it/s]"
      ]
     },
     "metadata": {},
     "output_type": "display_data"
    },
    {
     "name": "stdout",
     "output_type": "stream",
     "text": [
      "Epoch: 0, Loss: 0.12727196514606476\n"
     ]
    }
   ],
   "source": [
    "#######\n",
    "# !!!! YOUR CODE HERE !!!!\n",
    "\n",
    "model = Linear_Model()\n",
    "criterion = torch.nn.MSELoss()\n",
    "\n",
    "model, losses = train_torch_model(model, batch_size=64, criterion = criterion, max_epochs= max_epochs, X_train = X_train_torch, y_train = y_train_one_torch, lr = lr, tolerance=tolerance )\n",
    "\n",
    "#######"
   ]
  },
  {
   "cell_type": "code",
   "execution_count": 81,
   "metadata": {
    "pycharm": {
     "name": "#%%\n"
    }
   },
   "outputs": [
    {
     "data": {
      "text/plain": [
       "[<matplotlib.lines.Line2D at 0x203cdf9bfa0>]"
      ]
     },
     "execution_count": 81,
     "metadata": {},
     "output_type": "execute_result"
    },
    {
     "data": {
      "image/png": "[encoded data removed]",
      "text/plain": [
       "<Figure size 432x288 with 1 Axes>"
      ]
     },
     "metadata": {
      "needs_background": "light"
     },
     "output_type": "display_data"
    }
   ],
   "source": [
    "plt.title(\"Loss vs epochs | SGD (batch-64)\")\n",
    "plt.ylabel(\"loss\")\n",
    "plt.xlabel(\"epochs\")\n",
    "\n",
    "x, y = zip(*losses)\n",
    "plt.plot(x,y)"
   ]
  },
  {
   "cell_type": "code",
   "execution_count": 82,
   "metadata": {
    "id": "cJHvwtH6k0F6"
   },
   "outputs": [
    {
     "name": "stdout",
     "output_type": "stream",
     "text": [
      "Train accuracy: 0.9345859429366736\n",
      "Test accuracy: 0.9444444444444444\n"
     ]
    }
   ],
   "source": [
    "# !!DO NOT EDIT!!\n",
    "# print accuracies of model\n",
    "print_accuracies_torch(model, X_train_torch, X_test_torch, y_train, y_test)"
   ]
  },
  {
   "cell_type": "markdown",
   "metadata": {
    "id": "nYiv8O3emFgn"
   },
   "source": [
    "\n",
    "\n",
    "---\n",
    "\n"
   ]
  },
  {
   "cell_type": "markdown",
   "metadata": {
    "id": "QMXvLv81HPCM"
   },
   "source": [
    "### **(c)** Now, instead of using MSELoss, we will use a much more natural loss function for logistic regression task which is the Cross Entropy Loss. (8 points)\n",
    "**Note:**\n",
    "The [Cross Entropy Loss](https://ebookreading.net/view/book/EB9781789130331_73.html) for multiclass calssification is the mean of the negative log likelihood of the output logits after softmax:\\\n",
    "$L = \\underbrace{\\frac{1}{m} \\sum_{i=1}^m \\underbrace{-y^{(i)} \\underbrace{log \\underbrace{\\frac{e^{\\hat{y}^{(i)}}}{\\sum_{j=1}^p e^{\\hat{y}^{(j)}}}}_{\\text{Softmax}}}_{\\text{LogSoftmax}}}_{\\text{Negative Log Likelihood (NLL)}}}_{\\text{Cross Entropy (CE) Loss }}$,\n",
    "\n",
    "\n",
    "where $y^{(i)}$ is the ground truth, and $\\hat{y}^{(k)}$ (also called as *logits*) represent the outputs of the last linear layer of the model. "
   ]
  },
  {
   "cell_type": "markdown",
   "metadata": {
    "id": "WQw1h-A3lCPp"
   },
   "source": [
    "### **#1.** Instead of `nn.MSELoss`, train the above model with `nn.CrossEntropyLoss`. Use full-batch. Also plot the graph between loss and number of epochs."
   ]
  },
  {
   "cell_type": "code",
   "execution_count": 83,
   "metadata": {
    "id": "VXmF1XD_9Irh"
   },
   "outputs": [
    {
     "data": {
      "application/vnd.jupyter.widget-view+json": {
       "model_id": "dc0312b38ec94cd2ae3b32db714b2b9e",
       "version_major": 2,
       "version_minor": 0
      },
      "text/plain": [
       "  0%|          | 0/100000 [00:00<?, ?it/s]"
      ]
     },
     "metadata": {},
     "output_type": "display_data"
    },
    {
     "name": "stdout",
     "output_type": "stream",
     "text": [
      "Epoch: 0, Loss: 2.382164478302002\n",
      "Epoch: 5000, Loss: 0.4084785282611847\n",
      "Epoch: 10000, Loss: 0.2739774286746979\n"
     ]
    }
   ],
   "source": [
    "#######\n",
    "# !!!! YOUR CODE HERE !!!!\n",
    "model = Linear_Model()\n",
    "criterion = torch.nn.CrossEntropyLoss()\n",
    "\n",
    "model, losses = train_torch_model(model, batch_size=len(X_train), criterion = criterion, max_epochs= max_epochs, X_train = X_train_torch, y_train = y_train_one_torch, lr = lr, tolerance=tolerance )\n",
    "# losses\n",
    "#######"
   ]
  },
  {
   "cell_type": "code",
   "execution_count": 84,
   "metadata": {
    "pycharm": {
     "name": "#%%\n"
    }
   },
   "outputs": [
    {
     "data": {
      "text/plain": [
       "[<matplotlib.lines.Line2D at 0x203ce013b50>]"
      ]
     },
     "execution_count": 84,
     "metadata": {},
     "output_type": "execute_result"
    },
    {
     "data": {
      "image/png": "[encoded data removed]",
      "text/plain": [
       "<Figure size 432x288 with 1 Axes>"
      ]
     },
     "metadata": {
      "needs_background": "light"
     },
     "output_type": "display_data"
    }
   ],
   "source": [
    "plt.title(\"Loss vs epochs | GD Linear - Cross Entropy\")\n",
    "plt.ylabel(\"loss\")\n",
    "plt.xlabel(\"epochs\")\n",
    "\n",
    "x, y = zip(*losses)\n",
    "plt.plot(x,y)"
   ]
  },
  {
   "cell_type": "code",
   "execution_count": 85,
   "metadata": {
    "id": "gOvC4HdUINQt"
   },
   "outputs": [
    {
     "name": "stdout",
     "output_type": "stream",
     "text": [
      "Train accuracy: 0.9596381350034795\n",
      "Test accuracy: 0.95\n"
     ]
    }
   ],
   "source": [
    "# !!DO NOT EDIT!!\n",
    "# print accuracies of model\n",
    "print_accuracies_torch(model, X_train_torch, X_test_torch, y_train, y_test)"
   ]
  },
  {
   "cell_type": "markdown",
   "metadata": {
    "id": "KGQ_G6tHl8XP"
   },
   "source": [
    "### **#2.** Perform the same task above with `batch_size=64`. Also plot the graph of loss vs epochs."
   ]
  },
  {
   "cell_type": "code",
   "execution_count": 86,
   "metadata": {
    "id": "6fNrbHH6IOiz"
   },
   "outputs": [
    {
     "data": {
      "application/vnd.jupyter.widget-view+json": {
       "model_id": "076364d1baa644fab13056a1f61815eb",
       "version_major": 2,
       "version_minor": 0
      },
      "text/plain": [
       "  0%|          | 0/100000 [00:00<?, ?it/s]"
      ]
     },
     "metadata": {},
     "output_type": "display_data"
    },
    {
     "name": "stdout",
     "output_type": "stream",
     "text": [
      "Epoch: 0, Loss: 2.16865611076355\n"
     ]
    }
   ],
   "source": [
    "#######\n",
    "# !!!! YOUR CODE HERE !!!!\n",
    "model = Linear_Model()\n",
    "criterion = torch.nn.CrossEntropyLoss()\n",
    "\n",
    "model, losses = train_torch_model(model, batch_size=64, criterion = criterion, max_epochs= max_epochs, X_train = X_train_torch, y_train = y_train_one_torch, lr = lr, tolerance=tolerance )\n",
    "# losses\n",
    "#######"
   ]
  },
  {
   "cell_type": "code",
   "execution_count": 87,
   "metadata": {
    "pycharm": {
     "name": "#%%\n"
    }
   },
   "outputs": [
    {
     "data": {
      "text/plain": [
       "[<matplotlib.lines.Line2D at 0x203d2844a60>]"
      ]
     },
     "execution_count": 87,
     "metadata": {},
     "output_type": "execute_result"
    },
    {
     "data": {
      "image/png": "[encoded data removed]",
      "text/plain": [
       "<Figure size 432x288 with 1 Axes>"
      ]
     },
     "metadata": {
      "needs_background": "light"
     },
     "output_type": "display_data"
    }
   ],
   "source": [
    "plt.title(\"Loss vs epochs | SGD-64 Linear - Cross Entropy\")\n",
    "plt.ylabel(\"loss\")\n",
    "plt.xlabel(\"epochs\")\n",
    "\n",
    "x, y = zip(*losses)\n",
    "plt.plot(x,y)"
   ]
  },
  {
   "cell_type": "code",
   "execution_count": 88,
   "metadata": {
    "id": "0o04L-LNmCkp"
   },
   "outputs": [
    {
     "name": "stdout",
     "output_type": "stream",
     "text": [
      "Train accuracy: 0.9679888656924147\n",
      "Test accuracy: 0.9527777777777777\n"
     ]
    }
   ],
   "source": [
    "# !!DO NOT EDIT!!\n",
    "# print accuracies of model\n",
    "print_accuracies_torch(model, X_train_torch, X_test_torch, y_train, y_test)"
   ]
  },
  {
   "cell_type": "markdown",
   "metadata": {
    "id": "2HgoKWSV73xk"
   },
   "source": [
    "\n",
    "\n",
    "---\n",
    "\n"
   ]
  },
  {
   "cell_type": "markdown",
   "metadata": {
    "id": "flKPhgoccRcL"
   },
   "source": [
    "### **(d)** Now, we will train a neural network in pytorch with two hidden layers of sizes 32 and 16 neurons. We will use non-linear ReLU activations thus effectively making this a non-linear model. We will use this neural network model for multi-class classification with Cross Entropy Loss. (6 points)\n",
    "\n",
    "**Note:** The neural network model output can be represented mathematically as below:\\\n",
    "$\\hat{y}^{(i)}_{10\\times1} = W^{(3)}_{10\\times 16}\\sigma(W^{(2)}_{16\\times 32}\\sigma(W^{(1)}_{32\\times 64}\\mathbf{x}^{(i)}_{64\\times1}+\\mathbf{b}^{(1)}_{32\\times1})+\\mathbf{b}^{(2)}_{16\\times1})+\\mathbf{b}^{(3)}_{10\\times1}$, \\\n",
    "where $\\sigma$ represents ReLU activation, $W^{(i)}$ is the weight of the $i^{th}$ linear layer, and $\\mathbf{b}^{(i)}$ is the layer's bias. We use the subscript to denote the dimension for clarity. "
   ]
  },
  {
   "cell_type": "markdown",
   "metadata": {
    "id": "qXYnz6-eI8MG"
   },
   "source": [
    "### **#1.** Define the 2-hidden layer neural network model below."
   ]
  },
  {
   "cell_type": "code",
   "execution_count": 89,
   "metadata": {
    "id": "d3PSTz2jcQ0j"
   },
   "outputs": [],
   "source": [
    "#######\n",
    "# !!!! YOUR CODE HERE !!!!\n",
    "# Define a neural network model class using torch.nn\n",
    "class NN_Model(torch.nn.Module):\n",
    "  def __init__(self):\n",
    "    super(NN_Model, self).__init__()\n",
    "    # Initalize various layers of model as instructed below\n",
    "    # 1. initialize three linear layers: num_features -> 32, 32 -> 16, 16 -> num_targets\n",
    "    self.linear1 = torch.nn.Linear(num_features, 32, bias=True)\n",
    "    self.linear2 = torch.nn.Linear(32, 16, bias=True)\n",
    "    self.linear3 = torch.nn.Linear(16, num_classes, bias=True)\n",
    "    self.relu = torch.nn.ReLU()\n",
    "\n",
    "    # 2. initialize RELU\n",
    "\n",
    "  def forward(self, X):\n",
    "    # 3. define the feedforward algorithm of the model and return the final output\n",
    "    # Apply non-linear ReLU activation between subsequent layers\n",
    "    out1 = self.relu(self.linear1(X))\n",
    "    out2 = self.relu(self.linear2(out1))\n",
    "    out3 = self.linear3(out2)\n",
    "    return out3\n",
    "\n",
    "\n",
    "#######  "
   ]
  },
  {
   "cell_type": "markdown",
   "metadata": {
    "id": "mERRi4Eamze0"
   },
   "source": [
    "### **#2.** Train the newly defined Neural Network two hidden layer model with Cross Entropy Loss. Use full-batch and plot the graph of loss vs number of epochs. Note that you can re-use the training function `train_torch_model` (from part (b))."
   ]
  },
  {
   "cell_type": "code",
   "execution_count": 90,
   "metadata": {
    "id": "pliWaICdmzEB"
   },
   "outputs": [
    {
     "data": {
      "application/vnd.jupyter.widget-view+json": {
       "model_id": "c6ae2fce4b5441e1ab75cb1a2f59dcc1",
       "version_major": 2,
       "version_minor": 0
      },
      "text/plain": [
       "  0%|          | 0/100000 [00:00<?, ?it/s]"
      ]
     },
     "metadata": {},
     "output_type": "display_data"
    },
    {
     "name": "stdout",
     "output_type": "stream",
     "text": [
      "Epoch: 0, Loss: 2.314404010772705\n",
      "Epoch: 5000, Loss: 0.17945140600204468\n"
     ]
    }
   ],
   "source": [
    "#######\n",
    "# !!!! YOUR CODE HERE !!!!\n",
    "model = NN_Model()\n",
    "criterion = torch.nn.CrossEntropyLoss()\n",
    "\n",
    "model, losses = train_torch_model(model, batch_size=len(X_train), criterion = criterion, max_epochs= max_epochs, X_train = X_train_torch, y_train = y_train_one_torch, lr = lr, tolerance=tolerance )\n",
    "#######"
   ]
  },
  {
   "cell_type": "code",
   "execution_count": 91,
   "metadata": {
    "pycharm": {
     "name": "#%%\n"
    }
   },
   "outputs": [
    {
     "data": {
      "text/plain": [
       "[<matplotlib.lines.Line2D at 0x203cdf61b50>]"
      ]
     },
     "execution_count": 91,
     "metadata": {},
     "output_type": "execute_result"
    },
    {
     "data": {
      "image/png": "[encoded data removed]",
      "text/plain": [
       "<Figure size 432x288 with 1 Axes>"
      ]
     },
     "metadata": {
      "needs_background": "light"
     },
     "output_type": "display_data"
    }
   ],
   "source": [
    "plt.title(\"Loss vs epochs | GD-Full-Neural Network - Cross Entropy\")\n",
    "plt.ylabel(\"loss\")\n",
    "plt.xlabel(\"epochs\")\n",
    "\n",
    "x, y = zip(*losses)\n",
    "plt.plot(x,y)"
   ]
  },
  {
   "cell_type": "code",
   "execution_count": 92,
   "metadata": {
    "id": "EoRJpn8QnZrX"
   },
   "outputs": [
    {
     "name": "stdout",
     "output_type": "stream",
     "text": [
      "Train accuracy: 0.9700765483646486\n",
      "Test accuracy: 0.95\n"
     ]
    }
   ],
   "source": [
    "# !!DO NOT EDIT!!\n",
    "# print accuracies of model\n",
    "print_accuracies_torch(model, X_train_torch, X_test_torch, y_train, y_test)"
   ]
  },
  {
   "cell_type": "markdown",
   "metadata": {
    "id": "TP-JX4IznLQL"
   },
   "source": [
    "### **#3.** Re-train the above model with `batch_size=64`. Also plot the graph of loss vs epochs."
   ]
  },
  {
   "cell_type": "code",
   "execution_count": 93,
   "metadata": {
    "id": "Sx8e5dvJnK1n"
   },
   "outputs": [
    {
     "data": {
      "application/vnd.jupyter.widget-view+json": {
       "model_id": "341810fecd5c4506917502d52c24400f",
       "version_major": 2,
       "version_minor": 0
      },
      "text/plain": [
       "  0%|          | 0/100000 [00:00<?, ?it/s]"
      ]
     },
     "metadata": {},
     "output_type": "display_data"
    },
    {
     "name": "stdout",
     "output_type": "stream",
     "text": [
      "Epoch: 0, Loss: 2.3319032192230225\n"
     ]
    }
   ],
   "source": [
    "#######\n",
    "# !!!! YOUR CODE HERE !!!!\n",
    "model = NN_Model()\n",
    "criterion = torch.nn.CrossEntropyLoss()\n",
    "\n",
    "model, losses = train_torch_model(model, batch_size=64, criterion = criterion, max_epochs= max_epochs, X_train = X_train_torch, y_train = y_train_one_torch, lr = lr, tolerance=tolerance )\n",
    "#######"
   ]
  },
  {
   "cell_type": "code",
   "execution_count": 94,
   "metadata": {
    "pycharm": {
     "name": "#%%\n"
    }
   },
   "outputs": [
    {
     "data": {
      "text/plain": [
       "[<matplotlib.lines.Line2D at 0x203c60db6d0>]"
      ]
     },
     "execution_count": 94,
     "metadata": {},
     "output_type": "execute_result"
    },
    {
     "data": {
      "image/png": "[encoded data removed]",
      "text/plain": [
       "<Figure size 432x288 with 1 Axes>"
      ]
     },
     "metadata": {
      "needs_background": "light"
     },
     "output_type": "display_data"
    }
   ],
   "source": [
    "plt.title(\"Loss vs epochs | SGD-64-Neural Network - Cross Entropy\")\n",
    "plt.ylabel(\"loss\")\n",
    "plt.xlabel(\"epochs\")\n",
    "\n",
    "x, y = zip(*losses)\n",
    "plt.plot(x,y)"
   ]
  },
  {
   "cell_type": "code",
   "execution_count": 95,
   "metadata": {
    "id": "mr7M3xyknaLp"
   },
   "outputs": [
    {
     "name": "stdout",
     "output_type": "stream",
     "text": [
      "Train accuracy: 0.9965205288796103\n",
      "Test accuracy: 0.9666666666666667\n"
     ]
    }
   ],
   "source": [
    "# !!DO NOT EDIT!!\n",
    "# print accuracies of model\n",
    "print_accuracies_torch(model, X_train_torch, X_test_torch, y_train, y_test)"
   ]
  },
  {
   "cell_type": "markdown",
   "metadata": {
    "id": "szUeNm2kotqY"
   },
   "source": [
    "\n",
    "\n",
    "---\n",
    "\n"
   ]
  },
  {
   "cell_type": "markdown",
   "metadata": {
    "id": "RJ1HXvh_ovQ_"
   },
   "source": [
    "### **(e)**  In the above few problems, you performed several experiments with different batch size and loss functions. Write down an analysis of your observations from the results. (5 points)\n",
    "Some points that you could cover are:\n",
    "* Effect of using full vs. batch gradient descent.\n",
    "* Effect of different loss strategy on performance.\n",
    "* Effect of using linear vs. non-linear models.\n",
    "* Training time per epoch in different cases.\n",
    "\n",
    "Also, plot a line graph of accuracy vs. model for both train and test sets. Recall that you trained the following models in this question:\n",
    "\n",
    "1.   Linear Model - Scratch + MSE Loss + Full Batch \n",
    "2.   Linear Model - Scratch + MSE Loss + Mini Batch \n",
    "3.   Linear Model - PyTorch + MSE Loss + Full Batch \n",
    "4.   Linear Model - PyTorch + MSE Loss + Mini Batch \n",
    "5.   Linear Model - PyTorch + CE Loss + Full Batch \n",
    "6.   Linear Model - PyTorch + CE Loss + Mini Batch \n",
    "7.   NN Model - PyTorch + CE Loss + Full Batch \n",
    "8.   NN Model - PyTorch + CE Loss + Mini Batch \n"
   ]
  },
  {
   "cell_type": "markdown",
   "metadata": {
    "id": "k6e4sulhvLp5"
   },
   "source": [
    "#### <font color=\"red\">Your answer here:</font>"
   ]
  },
  {
   "cell_type": "markdown",
   "metadata": {
    "id": "obE47rGOvMo-"
   },
   "source": [
    "\n",
    "\n",
    "---\n",
    "\n",
    "\n",
    "\n",
    "---\n",
    "\n"
   ]
  },
  {
   "cell_type": "code",
   "execution_count": null,
   "metadata": {},
   "outputs": [],
   "source": []
  }
 ],
 "metadata": {
  "colab": {
   "collapsed_sections": [],
   "name": "HW2_Q2.ipynb",
   "provenance": []
  },
  "interpreter": {
   "hash": "0d146b57fee91990d15ae8fc1751d37d08a02ef7f56ec35b0f16c4f321b407cd"
  },
  "kernelspec": {
   "display_name": "Python 3 (ipykernel)",
   "language": "python",
   "name": "python3"
  },
  "language_info": {
   "codemirror_mode": {
    "name": "ipython",
    "version": 3
   },
   "file_extension": ".py",
   "mimetype": "text/x-python",
   "name": "python",
   "nbconvert_exporter": "python",
   "pygments_lexer": "ipython3",
   "version": "3.9.7"
  }
 },
 "nbformat": 4,
 "nbformat_minor": 1
}
