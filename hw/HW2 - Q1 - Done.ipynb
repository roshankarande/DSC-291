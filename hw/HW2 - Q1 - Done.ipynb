{
 "cells": [
  {
   "cell_type": "markdown",
   "metadata": {
    "id": "hjRM13EAuL3g"
   },
   "source": [
    "# HW2 - Q1: Least Squares Regression (30 points)\n",
    "Notes:\n",
    "* Question (a) needs to be typewritten.\n",
    "* Questions (b), (c), and (d) need to be programmed.\n",
    "* Important:\n",
    "  * Write all the steps of the solution. \n",
    "  * Use proper LATEX formatting and notation for all mathematical equations, vectors, and matrices. \n",
    "* For programming solution:\n",
    "  * Properly add comments to your code.\n",
    "\n",
    "#### <font color=\"red\">A note about notation:</font>\n",
    "The notations in this homework are slightly different from the lecture notes. In lecture, we use notation for data as: $(t_i, y_i)$ with regressor $\\hat{y}=x^\\top t$, $x$ is a vector of unknown coefficients and solve $Ax=b$.\\\n",
    "In this homework, the notation that we use for data is: $(x_i, y_i)$ with regressor $\\hat{y}=\\beta^\\top x$ and $\\beta$ is a vector of unknown coefficients to be solved.\n"
   ]
  },
  {
   "cell_type": "markdown",
   "metadata": {
    "id": "ZUJgYttwjmpK"
   },
   "source": [
    "\n",
    "\n",
    "---\n",
    "\n"
   ]
  },
  {
   "cell_type": "markdown",
   "metadata": {
    "id": "XUycEdJg6hzY"
   },
   "source": [
    "### **(a)** Consider a dataset with $m$ datapoints: $(x_i, y_i), i=1,...,m$. Perform the multivariate calculus derivation of the least squares regression formula for an estimation function $𝑦̂(𝑥)=𝑎𝑥^2+𝑏𝑥+𝑐$, where $a,b, \\text{and } c$ are the scalar parameters. (6 points)"
   ]
  },
  {
   "cell_type": "markdown",
   "metadata": {
    "id": "Fthrg3347BEr"
   },
   "source": [
    "#### <font color=\"red\">Your answer here:</font>"
   ]
  },
  {
   "cell_type": "markdown",
   "metadata": {},
   "source": [
    "We can write the function in matrix form:\n",
    "$$\n",
    "Y = XB + E\n",
    "$$\n",
    "where\n",
    "$$\n",
    "Y = \n",
    "\\begin{bmatrix}\n",
    " y_1 \\\\ y_2 \\\\ \\vdots \\\\ y_m\n",
    "\\end{bmatrix}\\\\\n",
    "X = \n",
    "\\begin{bmatrix}\n",
    " x_1^2 & x_1 & 1 \\\\\n",
    " x_2^2 & x_2 & 1 \\\\\n",
    " \\vdots & \\vdots & \\vdots \\\\\n",
    " x_m^2 & x_m & 1\n",
    "\\end{bmatrix}\\\\\n",
    "B = \n",
    "\\begin{bmatrix}\n",
    " a \\\\ b \\\\ c\n",
    "\\end{bmatrix}\\\\\n",
    "E = \n",
    "\\begin{bmatrix}\n",
    " e_1 \\\\ e_2 \\\\ \\vdots \\\\ e_m\n",
    "\\end{bmatrix}\\\\\n",
    "$$\n",
    "We have that\n",
    "$$\n",
    "B = (X^TX)^{-1}X^TY\n",
    "$$\n",
    "\n",
    "The estimation function $𝑦̂(𝑥)=𝑎𝑥^2+𝑏𝑥+𝑐$ can be seen as $𝑦̂(𝑥)=𝑎𝑥_1+𝑏𝑥_2+𝑐$. Therefore, we can denote the following:\n",
    "$$\n",
    "S_{xx} = \\sum_{i=1}^{m} x_i^2 - \\frac{(\\sum_{i=1}^{m} x_i)^2}{m} \\\\\n",
    "S_{xy} = \\sum_{i=1}^{m} x_i y_i - \\frac{\\sum_{i=1}^{m} y_i \\sum_{i=1}^{m} x_i}{m} \\\\\n",
    "S_{xx^2} = \\sum_{i=1}^{m} x_i^3 - \\frac{\\sum_{i=1}^{m} x_i \\sum_{i=1}^{m} x_i^2}{m} \\\\\n",
    "S_{x^2y} = \\sum_{i=1}^{m} x_i^2 y_i - \\frac{\\sum_{i=1}^{m} y_i \\sum_{i=1}^{m} x_i^2}{m} \\\\\n",
    "S_{x^2x^2} = \\sum_{i=1}^{m} x_i^4 - \\frac{(\\sum_{i=1}^{m} x_i^2)^2}{m} \\\\\n",
    "S_{x} = \\frac{\\sum_{i=1}^{m} x_i}{m} \\\\\n",
    "S_{x^2} = \\frac{\\sum_{i=1}^{m} x_i^2}{m} \\\\\n",
    "S_{y} = \\frac{\\sum_{i=1}^{m} y_i}{m} \\\\\n",
    "$$\n",
    "\n",
    "The solutions to the unknown coefficients are:\n",
    "\n",
    "$$\n",
    "a = \\frac{S_{x^2y} S_{xx} - S_{xy} S_{xx^2}}{S_{xx} S_{x^2x^2} - (S_{xx^2})^2} \\\\\n",
    "b = \\frac{S_{xy} S_{x^2x^2} - S_{x^2y} S_{xx^2}}{S_{xx} S_{x^2x^2} - (S_{xx^2})^2} \\\\\n",
    "c = S_{y} - bS_{x} - aS_{x^2}\\\\\n",
    "$$\n",
    "\n",
    "Therefore, the coefficient matrix can be written as:\n",
    "$$\n",
    "B = \n",
    "\\begin{bmatrix}  \n",
    "\\frac{S_{x^2y} S_{xx} - S_{xy} S_{xx^2}}{S_{xx} S_{x^2x^2} - (S_{xx^2})^2} \\\\\n",
    "\\frac{S_{xy} S_{x^2x^2} - S_{x^2y} S_{xx^2}}{S_{xx} S_{x^2x^2} - (S_{xx^2})^2} \\\\\n",
    "S_{y} - bS_{x} - aS_{x^2}\\\\\n",
    "\\end{bmatrix}\\\\\n",
    "\\\\\n",
    "$$"
   ]
  },
  {
   "cell_type": "markdown",
   "metadata": {
    "id": "kcWdWt8F68nR"
   },
   "source": [
    "\n",
    "\n",
    "---\n"
   ]
  },
  {
   "cell_type": "markdown",
   "metadata": {
    "id": "ZAjNXSsJuPDn"
   },
   "source": [
    "### **(b)** In this problem, we would like to use a linear regressor to fit the data, where $\\hat{y}(x)=ax+b$ with $a,b,x$ being scalars. Denote $\\beta_{LS} = \\begin{bmatrix} a \\\\ b \\end{bmatrix}$ to contain the regressor coefficients, and recall that the linear algebraic formula for least squares gives $\\beta_{LS} = (A^\\top A)^{-1} A^\\top y$ with $A^\\dagger=(A^\\top A)^{-1} A^\\top$ known as the pseudo-inverse of $A$. \n",
    "\n",
    "### In this problem, we ask you to \n",
    "### **#1.** Use the function `np.linalg.pinv` to find the values of regressor coefficients $\\beta_{LS} $ and match it with your previous result. Note that the following piece of starter code generates a random least squares regression dataset with 500 data-points. \n",
    "\n",
    "\n",
    "### **#2.** Further match your results by directly solving the problem using the builtin numpy function: `np.linalg.lstsq`\n",
    "### **#3.** Plot a graph between $X$ and $y$, and overlay it with the linear regression line. (6 points)"
   ]
  },
  {
   "cell_type": "code",
   "execution_count": 1,
   "metadata": {
    "id": "odrt11XjuEb7"
   },
   "outputs": [
    {
     "name": "stdout",
     "output_type": "stream",
     "text": [
      "Shape of X is: (500, 1)\n",
      "Shape of y is: (500,)\n"
     ]
    }
   ],
   "source": [
    "### !!! DO NOT EDIT !!!\n",
    "# starter code to generate a random least squares regression dataset with 500 points\n",
    "import numpy as np\n",
    "from scipy import optimize\n",
    "import matplotlib.pyplot as plt\n",
    "from sklearn import datasets\n",
    "\n",
    "# generate x and y\n",
    "X, y =  datasets.make_regression(n_samples=500, n_features=1, n_informative=1, n_targets=1, bias=10, noise=25, random_state=42, coef=False)\n",
    "print('Shape of X is:', X.shape)\n",
    "print('Shape of y is:', y.shape)"
   ]
  },
  {
   "cell_type": "code",
   "execution_count": 2,
   "metadata": {
    "id": "RImfs6SU5bAs"
   },
   "outputs": [
    {
     "name": "stdout",
     "output_type": "stream",
     "text": [
      "Normal NumPy matrix operations gives us:  [ 9.02058667 63.18605572]\n"
     ]
    }
   ],
   "source": [
    "#######\n",
    "# !!! YOUR CODE HERE !!!\n",
    "\n",
    "#1\n",
    "\n",
    "# Normal NumPy matrix operations\n",
    "def normal_equation(X, Y):\n",
    "    X = np.insert(X.T, 0, 1, axis=0)\n",
    "    X_cross = np.dot(np.linalg.inv(np.dot(X, X.T)), X)\n",
    "    beta = np.dot(X_cross, y)\n",
    "    return beta\n",
    "beta1 = normal_equation(X, y)\n",
    "print(\"Normal NumPy matrix operations gives us: \", beta1)"
   ]
  },
  {
   "cell_type": "code",
   "execution_count": 45,
   "metadata": {},
   "outputs": [
    {
     "name": "stdout",
     "output_type": "stream",
     "text": [
      "Using function np.linalg.pinv gives us:  [ 9.02058667 63.18605572]\n"
     ]
    }
   ],
   "source": [
    "# Using function np.linalg.pinv\n",
    "def pinv_fit(X, y):\n",
    "    X = np.insert(X.T, 0, 1, axis=0)\n",
    "    X_cross = np.dot(np.linalg.pinv(np.dot(X, X.T)), X)\n",
    "    beta = np.dot(X_cross, y)\n",
    "    return beta\n",
    "beta2 = pinv_fit(X, y)\n",
    "print(\"Using function np.linalg.pinv gives us: \", beta2)"
   ]
  },
  {
   "cell_type": "markdown",
   "metadata": {},
   "source": [
    "We can see that the two operations gives us the same results"
   ]
  },
  {
   "cell_type": "code",
   "execution_count": 48,
   "metadata": {},
   "outputs": [
    {
     "name": "stdout",
     "output_type": "stream",
     "text": [
      "Using function np.linalg.lstsq gives us:  [ 9.02058667 63.18605572]\n"
     ]
    }
   ],
   "source": [
    "#2\n",
    "\n",
    "#Using function np.linalg.lstsq\n",
    "A = np.column_stack([np.ones(len(X), float), X])\n",
    "beta3 = np.linalg.lstsq(A, y, rcond=None)[0]\n",
    "print(\"Using function np.linalg.lstsq gives us: \", beta3)"
   ]
  },
  {
   "cell_type": "markdown",
   "metadata": {},
   "source": [
    "We can see that using function np.linalg.lstsq also gives us the same results."
   ]
  },
  {
   "cell_type": "code",
   "execution_count": 5,
   "metadata": {},
   "outputs": [
    {
     "data": {
      "text/plain": [
       "[<matplotlib.lines.Line2D at 0x1b5db509a00>]"
      ]
     },
     "execution_count": 5,
     "metadata": {},
     "output_type": "execute_result"
    },
    {
     "data": {
      "image/png": "[encoded data removed]",
      "text/plain": [
       "<Figure size 432x288 with 1 Axes>"
      ]
     },
     "metadata": {
      "needs_background": "light"
     },
     "output_type": "display_data"
    }
   ],
   "source": [
    "# Generate predictions\n",
    "def predict(X_test, beta):\n",
    "    X_test = np.insert(X_test.T, 0, 1, axis=0)\n",
    "    predictions = np.dot(beta, X_test)\n",
    "    return predictions\n",
    "predictions = predict(X, beta1)\n",
    "\n",
    "# plot data and predictions\n",
    "plt.scatter(X, y)\n",
    "plt.plot(X, predictions, color='red')\n",
    "\n",
    "#######"
   ]
  },
  {
   "cell_type": "markdown",
   "metadata": {
    "id": "fmPom4m97CH4"
   },
   "source": [
    "\n",
    "\n",
    "---\n",
    "\n"
   ]
  },
  {
   "cell_type": "markdown",
   "metadata": {
    "id": "QjDICRJk7dW3"
   },
   "source": [
    "### **(c)** In this problem, we ask you to \n",
    "### **#1.** Write a function `my_func_fit (X,y)`, where `X` and `y` are column vectors of the same size containing experimental data. The function should return the values for $\\alpha$ and $\\beta$ which are the scalar parameters of the estimation function $𝑦̂ (𝑥)=𝛼𝑥^𝛽$.\n",
    "### **#2.** Test your code on the generated sample dataset and report the coefficients. The given piece of starter code generates a logarithmic dataset. \n",
    "### **#3.** Plot a graph between $X$ vs $y$, and overlay it with the linear regression line. (8 points)\n",
    "\n",
    "**Linear regression for non-linear estimation function:** "
   ]
  },
  {
   "cell_type": "code",
   "execution_count": 3,
   "metadata": {
    "id": "Oua89wUM7Bqr"
   },
   "outputs": [
    {
     "name": "stdout",
     "output_type": "stream",
     "text": [
      "Shape of X is: (101,)\n",
      "Shape of y is: (101,)\n"
     ]
    }
   ],
   "source": [
    "### !!! DO NOT EDIT !!!\n",
    "# starter code to generate a random exponential dataset\n",
    "X = np.linspace(1, 10, 101)\n",
    "y = 2*(X**(0.3)) + 0.3*np.random.random(len(X))\n",
    "print('Shape of X is:', X.shape)\n",
    "print('Shape of y is:', y.shape)"
   ]
  },
  {
   "cell_type": "code",
   "execution_count": 4,
   "metadata": {
    "id": "xM_yXf_B8YRl"
   },
   "outputs": [],
   "source": [
    "#######\n",
    "# !!! YOUR CODE HERE !!!"
   ]
  },
  {
   "cell_type": "markdown",
   "metadata": {},
   "source": [
    "We can model the data using model:\n",
    "$$\n",
    "log(y) = log(\\alpha) + \\beta log(x)\n",
    "\\\\\n",
    "$$\n",
    "This can be seen as a simple linear regression, and the code is similar to the previous question.\n",
    "$$\n",
    "\\\\\n",
    "$$"
   ]
  },
  {
   "cell_type": "code",
   "execution_count": 8,
   "metadata": {},
   "outputs": [
    {
     "name": "stdout",
     "output_type": "stream",
     "text": [
      "The coefficients:  (2.1383591787044627, 0.2864299526632125)\n"
     ]
    }
   ],
   "source": [
    "import math\n",
    "import numpy as np\n",
    "\n",
    "# function for modeling the data\n",
    "def my_func_fit(X, y):\n",
    "    A = np.vstack([np.log(X), np.ones(len(X))]).T\n",
    "    beta, log_alpha = np.linalg.lstsq(A, np.log(y), rcond = None)[0]\n",
    "    alpha = np.exp(log_alpha)\n",
    "    return alpha, beta\n",
    "alpha, beta = my_func_fit(X, y)\n",
    "\n",
    "print(\"The coefficients: \",(alpha, beta))"
   ]
  },
  {
   "cell_type": "code",
   "execution_count": 9,
   "metadata": {},
   "outputs": [
    {
     "data": {
      "text/plain": [
       "[<matplotlib.lines.Line2D at 0x1fb0c412f70>]"
      ]
     },
     "execution_count": 9,
     "metadata": {},
     "output_type": "execute_result"
    },
    {
     "data": {
      "image/png": "[encoded data removed]",
      "text/plain": [
       "<Figure size 432x288 with 1 Axes>"
      ]
     },
     "metadata": {
      "needs_background": "light"
     },
     "output_type": "display_data"
    }
   ],
   "source": [
    "# Generate predictions\n",
    "def predict(X_test, alpha, beta):\n",
    "    return alpha*(X_test**beta)\n",
    "predictions = predict(X, alpha, beta)\n",
    "\n",
    "# plot data and predictions\n",
    "plt.scatter(X, y)\n",
    "plt.plot(X, predictions, color='red')\n",
    "\n",
    "#######"
   ]
  },
  {
   "cell_type": "markdown",
   "metadata": {
    "id": "_Yrz5pPQ8yaY"
   },
   "source": [
    "\n",
    "\n",
    "---\n",
    "\n"
   ]
  },
  {
   "cell_type": "markdown",
   "metadata": {
    "id": "n6bBltHe9wM3"
   },
   "source": [
    "### **(d)** In this problem, we ask you to \n",
    "\n",
    "### **#1.** Write a function `my_lin_regression(f, X, y)`, where `f` is a list containing function objects to basis functions that are pre-defined, and `X` and `y` are arrays containing noisy data. Assume that `X` and `y` are the same size, i.e, $X^{(i)}\\in \\mathbb{R}, y^{(i)}\\in \\mathbb{R}$. Return an array `beta` which represent the coefficients of the solved problem. I.e. we are solving the $\\beta$ which contains the coefficients in the regressor $𝑦̂ (𝑥)=𝛽_1⋅𝑓_1(x)+𝛽_2⋅𝑓_2(x)+⋯+𝛽_n⋅𝑓_n(𝑥)$ with $f_i$ being basis functions. \n",
    "\n",
    "### **#2.** Also write a function `regression_plot(f,X,y,beta)` which plots a graph between `X` and `y`, and overlays it with the regression line. A few test scenarios are given to validate your code. (10 points)"
   ]
  },
  {
   "cell_type": "code",
   "execution_count": 178,
   "metadata": {},
   "outputs": [],
   "source": [
    "#######\n",
    "# !!! YOUR CODE HERE !!!\n",
    "import numpy as np\n",
    "def my_lin_regression(f, X, y):\n",
    "    A = np.ones(len(X))\n",
    "    for i in f:\n",
    "        A = np.vstack([A, i(X)])\n",
    "    A = A[1:]\n",
    "    A_cross = np.dot(np.linalg.pinv(np.dot(A, A.T)), A)\n",
    "    betas = np.dot(A_cross, y)\n",
    "    return betas\n",
    "\n",
    "def regression_plot(f,X,y,beta):\n",
    "    plt.scatter(X, y)\n",
    "    predictions = np.zeros(len(X))\n",
    "    for i in range(len(f)):\n",
    "        predictions += beta[i]*f[i](X)\n",
    "    plt.plot(X, predictions, color='red')\n",
    "    return \n",
    "#######"
   ]
  },
  {
   "cell_type": "code",
   "execution_count": 182,
   "metadata": {
    "id": "DHIs_4zc8yEP"
   },
   "outputs": [
    {
     "data": {
      "image/png": "[encoded data removed]",
      "text/plain": [
       "<Figure size 432x288 with 1 Axes>"
      ]
     },
     "metadata": {
      "needs_background": "light"
     },
     "output_type": "display_data"
    }
   ],
   "source": [
    "### !!! DO NOT EDIT !!!\n",
    "### Test-1\n",
    "X = np.linspace(0, 2*np.pi, 1000)\n",
    "y = 3*np.sin(X) - 2*np.cos(X) + np.random.random(len(X))\n",
    "f = [np.sin, np.cos] # f1 = sin, f2 = cos\n",
    "\n",
    "beta = my_lin_regression(f, X, y)\n",
    "regression_plot(f,X,y,beta)"
   ]
  },
  {
   "cell_type": "code",
   "execution_count": 180,
   "metadata": {
    "id": "m06AxpFKCrCK"
   },
   "outputs": [
    {
     "data": {
      "image/png": "[encoded data removed]",
      "text/plain": [
       "<Figure size 432x288 with 1 Axes>"
      ]
     },
     "metadata": {
      "needs_background": "light"
     },
     "output_type": "display_data"
    }
   ],
   "source": [
    "### !!! DO NOT EDIT !!!\n",
    "### Test-2\n",
    "X = np.linspace(0, 1, 1000)\n",
    "y = 2*np.exp(0.5*X) + 0.25*np.random.random(len(X))\n",
    "f = [np.exp] # f1 = exp\n",
    "\n",
    "beta = my_lin_regression(f, X, y)\n",
    "regression_plot(f,X,y,beta)"
   ]
  },
  {
   "cell_type": "markdown",
   "metadata": {
    "id": "whHiUTe--qKn"
   },
   "source": [
    "\n",
    "\n",
    "---\n",
    "\n",
    "\n",
    "\n",
    "---\n",
    "\n"
   ]
  }
 ],
 "metadata": {
  "colab": {
   "name": "HW2_Q1.ipynb",
   "provenance": []
  },
  "kernelspec": {
   "display_name": "Python 3 (ipykernel)",
   "language": "python",
   "name": "python3"
  },
  "language_info": {
   "codemirror_mode": {
    "name": "ipython",
    "version": 3
   },
   "file_extension": ".py",
   "mimetype": "text/x-python",
   "name": "python",
   "nbconvert_exporter": "python",
   "pygments_lexer": "ipython3",
   "version": "3.9.7"
  }
 },
 "nbformat": 4,
 "nbformat_minor": 1
}
